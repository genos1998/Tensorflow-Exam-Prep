{
 "cells": [
  {
   "cell_type": "code",
   "execution_count": 1,
   "id": "d9c97848",
   "metadata": {},
   "outputs": [],
   "source": [
    "def fib():\n",
    "    fibo=[]\n",
    "    listo=[]\n",
    "    i=1\n",
    "    while len(listo)<26:\n",
    "        if i==1:\n",
    "            fibo.append(1)\n",
    "        elif len(fibo)>2:\n",
    "            fibo.append(fibo[-2]+fibo[-1])\n",
    "            if (fibo[-2]+fibo[-1])>100:\n",
    "                listo.append(fibo[-2]+fibo[-1])\n",
    "        else:\n",
    "            fibo.append(sum(fibo))\n",
    "        i+=1\n",
    "    return listo"
   ]
  },
  {
   "cell_type": "code",
   "execution_count": 7,
   "id": "28885159",
   "metadata": {},
   "outputs": [],
   "source": [
    "def dictyy(listy,a):\n",
    "    alpha='a b c d e f g h i j k l m n o p q r s t u v w x y z'\n",
    "    alpha=alpha.split()\n",
    "    dicto={}\n",
    "    for i in range(len(listy)):\n",
    "        dicto[alpha[i]]=listy[i]\n",
    "    return dicto[a.lower()]"
   ]
  },
  {
   "cell_type": "code",
   "execution_count": 9,
   "id": "bf336495",
   "metadata": {},
   "outputs": [
    {
     "data": {
      "text/plain": [
       "24157817"
      ]
     },
     "execution_count": 9,
     "metadata": {},
     "output_type": "execute_result"
    }
   ],
   "source": [
    "listy=fib()\n",
    "dicto=dictyy(listy,'Z')\n",
    "dicto"
   ]
  },
  {
   "cell_type": "code",
   "execution_count": 10,
   "id": "a9424fff",
   "metadata": {},
   "outputs": [],
   "source": [
    "import tensorflow as tf\n",
    "from tensorflow.keras.layers import Conv2D,Dense\n",
    "from tensorflow.keras.activations import relu,softmax\n",
    "from tensorflow.keras.losses import CategoricalCrossentropy"
   ]
  },
  {
   "cell_type": "code",
   "execution_count": 31,
   "id": "723a1796",
   "metadata": {},
   "outputs": [],
   "source": [
    "from tensorflow.keras.datasets import mnist"
   ]
  },
  {
   "cell_type": "code",
   "execution_count": 34,
   "id": "ed5940c9",
   "metadata": {},
   "outputs": [
    {
     "name": "stdout",
     "output_type": "stream",
     "text": [
      "Downloading data from https://storage.googleapis.com/tensorflow/tf-keras-datasets/mnist.npz\n",
      "11493376/11490434 [==============================] - 4s 0us/step\n",
      "11501568/11490434 [==============================] - 4s 0us/step\n"
     ]
    }
   ],
   "source": [
    "(train_data, train_labels), (test_data, test_labels) =mnist.load_data('mnist')"
   ]
  },
  {
   "cell_type": "code",
   "execution_count": 36,
   "id": "ce1e2a12",
   "metadata": {},
   "outputs": [],
   "source": [
    "train_data = train_data / 255.0\n",
    "test_data = test_data / 255.0"
   ]
  },
  {
   "cell_type": "code",
   "execution_count": 40,
   "id": "047a6b6f",
   "metadata": {},
   "outputs": [
    {
     "data": {
      "text/plain": [
       "(60000, 28, 28)"
      ]
     },
     "execution_count": 40,
     "metadata": {},
     "output_type": "execute_result"
    }
   ],
   "source": [
    "train_data.shape"
   ]
  },
  {
   "cell_type": "code",
   "execution_count": 43,
   "id": "6cd9fc48",
   "metadata": {},
   "outputs": [
    {
     "data": {
      "text/plain": [
       "10"
      ]
     },
     "execution_count": 43,
     "metadata": {},
     "output_type": "execute_result"
    }
   ],
   "source": [
    "len(set(train_labels))"
   ]
  },
  {
   "cell_type": "code",
   "execution_count": 52,
   "id": "0af138c1",
   "metadata": {},
   "outputs": [
    {
     "name": "stdout",
     "output_type": "stream",
     "text": [
      "Epoch 1/100\n",
      "1875/1875 [==============================] - 3s 2ms/step - loss: 1.8776 - accuracy: 0.3320 - val_loss: 1.5620 - val_accuracy: 0.4189\n",
      "Epoch 2/100\n",
      "1875/1875 [==============================] - 3s 1ms/step - loss: 1.3885 - accuracy: 0.4935 - val_loss: 1.2529 - val_accuracy: 0.5707\n",
      "Epoch 3/100\n",
      "1875/1875 [==============================] - 3s 1ms/step - loss: 1.1543 - accuracy: 0.5949 - val_loss: 1.0874 - val_accuracy: 0.6364\n",
      "Epoch 4/100\n",
      "1875/1875 [==============================] - 3s 2ms/step - loss: 1.0267 - accuracy: 0.6466 - val_loss: 0.9827 - val_accuracy: 0.6737\n",
      "Epoch 5/100\n",
      "1875/1875 [==============================] - 3s 2ms/step - loss: 0.9404 - accuracy: 0.6826 - val_loss: 0.9056 - val_accuracy: 0.7042\n",
      "Epoch 6/100\n",
      "1875/1875 [==============================] - 3s 2ms/step - loss: 0.8825 - accuracy: 0.7049 - val_loss: 0.8566 - val_accuracy: 0.7232\n",
      "Epoch 7/100\n",
      "1875/1875 [==============================] - 3s 2ms/step - loss: 0.8441 - accuracy: 0.7224 - val_loss: 0.8279 - val_accuracy: 0.7334\n",
      "Epoch 8/100\n",
      "1875/1875 [==============================] - 3s 2ms/step - loss: 0.8160 - accuracy: 0.7336 - val_loss: 0.7995 - val_accuracy: 0.7445\n",
      "Epoch 9/100\n",
      "1875/1875 [==============================] - 3s 2ms/step - loss: 0.7937 - accuracy: 0.7446 - val_loss: 0.7763 - val_accuracy: 0.7553\n",
      "Epoch 10/100\n",
      "1875/1875 [==============================] - 3s 2ms/step - loss: 0.7728 - accuracy: 0.7543 - val_loss: 0.7538 - val_accuracy: 0.7643\n",
      "Epoch 11/100\n",
      "1875/1875 [==============================] - 3s 2ms/step - loss: 0.7519 - accuracy: 0.7636 - val_loss: 0.7295 - val_accuracy: 0.7756\n",
      "Epoch 12/100\n",
      "1875/1875 [==============================] - 3s 2ms/step - loss: 0.7270 - accuracy: 0.7751 - val_loss: 0.7054 - val_accuracy: 0.7862\n",
      "Epoch 13/100\n",
      "1875/1875 [==============================] - 3s 2ms/step - loss: 0.6973 - accuracy: 0.7865 - val_loss: 0.6700 - val_accuracy: 0.7970\n",
      "Epoch 14/100\n",
      "1875/1875 [==============================] - 3s 2ms/step - loss: 0.6639 - accuracy: 0.7979 - val_loss: 0.6354 - val_accuracy: 0.8074\n",
      "Epoch 15/100\n",
      "1875/1875 [==============================] - 3s 2ms/step - loss: 0.6318 - accuracy: 0.8095 - val_loss: 0.6049 - val_accuracy: 0.8194\n",
      "Epoch 16/100\n",
      "1875/1875 [==============================] - 3s 2ms/step - loss: 0.6054 - accuracy: 0.8186 - val_loss: 0.5830 - val_accuracy: 0.8255\n",
      "Epoch 17/100\n",
      "1875/1875 [==============================] - 3s 2ms/step - loss: 0.5853 - accuracy: 0.8242 - val_loss: 0.5657 - val_accuracy: 0.8309\n",
      "Epoch 18/100\n",
      "1875/1875 [==============================] - 3s 2ms/step - loss: 0.5694 - accuracy: 0.8277 - val_loss: 0.5526 - val_accuracy: 0.8357\n",
      "Epoch 19/100\n",
      "1875/1875 [==============================] - 3s 2ms/step - loss: 0.5570 - accuracy: 0.8321 - val_loss: 0.5422 - val_accuracy: 0.8371\n",
      "Epoch 20/100\n",
      "1875/1875 [==============================] - 3s 2ms/step - loss: 0.5468 - accuracy: 0.8359 - val_loss: 0.5342 - val_accuracy: 0.8399\n",
      "Epoch 21/100\n",
      "1875/1875 [==============================] - 3s 2ms/step - loss: 0.5383 - accuracy: 0.8383 - val_loss: 0.5309 - val_accuracy: 0.8409\n",
      "Epoch 22/100\n",
      "1875/1875 [==============================] - 3s 2ms/step - loss: 0.5311 - accuracy: 0.8414 - val_loss: 0.5187 - val_accuracy: 0.8460\n",
      "Epoch 23/100\n",
      "1875/1875 [==============================] - 3s 2ms/step - loss: 0.5246 - accuracy: 0.8422 - val_loss: 0.5142 - val_accuracy: 0.8486\n",
      "Epoch 24/100\n",
      "1875/1875 [==============================] - 3s 1ms/step - loss: 0.5190 - accuracy: 0.8445 - val_loss: 0.5098 - val_accuracy: 0.8469\n",
      "Epoch 25/100\n",
      "1875/1875 [==============================] - 3s 2ms/step - loss: 0.5138 - accuracy: 0.8461 - val_loss: 0.5050 - val_accuracy: 0.8502\n",
      "Epoch 26/100\n",
      "1875/1875 [==============================] - 3s 2ms/step - loss: 0.5093 - accuracy: 0.8480 - val_loss: 0.5019 - val_accuracy: 0.8507\n",
      "Epoch 27/100\n",
      "1875/1875 [==============================] - 3s 2ms/step - loss: 0.5051 - accuracy: 0.8496 - val_loss: 0.4984 - val_accuracy: 0.8507\n",
      "Epoch 28/100\n",
      "1875/1875 [==============================] - 3s 2ms/step - loss: 0.5011 - accuracy: 0.8506 - val_loss: 0.4931 - val_accuracy: 0.8530\n",
      "Epoch 29/100\n",
      "1875/1875 [==============================] - 3s 2ms/step - loss: 0.4976 - accuracy: 0.8515 - val_loss: 0.4907 - val_accuracy: 0.8545\n",
      "Epoch 30/100\n",
      "1875/1875 [==============================] - 3s 2ms/step - loss: 0.4937 - accuracy: 0.8536 - val_loss: 0.4910 - val_accuracy: 0.8545\n",
      "Epoch 31/100\n",
      "1875/1875 [==============================] - 3s 2ms/step - loss: 0.4908 - accuracy: 0.8540 - val_loss: 0.4876 - val_accuracy: 0.8553\n",
      "Epoch 32/100\n",
      "1875/1875 [==============================] - 3s 2ms/step - loss: 0.4875 - accuracy: 0.8549 - val_loss: 0.4840 - val_accuracy: 0.8564\n",
      "Epoch 33/100\n",
      "1875/1875 [==============================] - 3s 2ms/step - loss: 0.4847 - accuracy: 0.8559 - val_loss: 0.4828 - val_accuracy: 0.8568\n",
      "Epoch 34/100\n",
      "1875/1875 [==============================] - 3s 2ms/step - loss: 0.4819 - accuracy: 0.8564 - val_loss: 0.4799 - val_accuracy: 0.8581\n",
      "Epoch 35/100\n",
      "1875/1875 [==============================] - 3s 2ms/step - loss: 0.4794 - accuracy: 0.8575 - val_loss: 0.4779 - val_accuracy: 0.8567\n",
      "Epoch 36/100\n",
      "1875/1875 [==============================] - 3s 2ms/step - loss: 0.4772 - accuracy: 0.8584 - val_loss: 0.4759 - val_accuracy: 0.8595\n",
      "Epoch 37/100\n",
      "1875/1875 [==============================] - 3s 2ms/step - loss: 0.4746 - accuracy: 0.8590 - val_loss: 0.4726 - val_accuracy: 0.8593\n",
      "Epoch 38/100\n",
      "1875/1875 [==============================] - 3s 2ms/step - loss: 0.4726 - accuracy: 0.8599 - val_loss: 0.4726 - val_accuracy: 0.8615\n",
      "Epoch 39/100\n",
      "1875/1875 [==============================] - 3s 2ms/step - loss: 0.4703 - accuracy: 0.8613 - val_loss: 0.4702 - val_accuracy: 0.8603\n",
      "Epoch 40/100\n",
      "1875/1875 [==============================] - 3s 2ms/step - loss: 0.4682 - accuracy: 0.8619 - val_loss: 0.4691 - val_accuracy: 0.8615\n",
      "Epoch 41/100\n",
      "1875/1875 [==============================] - 3s 2ms/step - loss: 0.4661 - accuracy: 0.8627 - val_loss: 0.4702 - val_accuracy: 0.8614\n",
      "Epoch 42/100\n",
      "1875/1875 [==============================] - 3s 2ms/step - loss: 0.4641 - accuracy: 0.8636 - val_loss: 0.4676 - val_accuracy: 0.8605\n",
      "Epoch 43/100\n",
      "1875/1875 [==============================] - 3s 2ms/step - loss: 0.4629 - accuracy: 0.8641 - val_loss: 0.4635 - val_accuracy: 0.8634\n",
      "Epoch 44/100\n",
      "1875/1875 [==============================] - 3s 2ms/step - loss: 0.4608 - accuracy: 0.8644 - val_loss: 0.4647 - val_accuracy: 0.8625\n",
      "Epoch 45/100\n",
      "1875/1875 [==============================] - 3s 1ms/step - loss: 0.4596 - accuracy: 0.8650 - val_loss: 0.4699 - val_accuracy: 0.8605\n",
      "Epoch 46/100\n",
      "1875/1875 [==============================] - 3s 1ms/step - loss: 0.4580 - accuracy: 0.8660 - val_loss: 0.4619 - val_accuracy: 0.8649\n",
      "Epoch 47/100\n",
      "1875/1875 [==============================] - 3s 2ms/step - loss: 0.4566 - accuracy: 0.8662 - val_loss: 0.4594 - val_accuracy: 0.8648\n",
      "Epoch 48/100\n",
      "1875/1875 [==============================] - 3s 2ms/step - loss: 0.4554 - accuracy: 0.8667 - val_loss: 0.4590 - val_accuracy: 0.8634\n",
      "Epoch 49/100\n",
      "1875/1875 [==============================] - 3s 2ms/step - loss: 0.4543 - accuracy: 0.8667 - val_loss: 0.4596 - val_accuracy: 0.8638\n",
      "Epoch 50/100\n",
      "1875/1875 [==============================] - 3s 2ms/step - loss: 0.4527 - accuracy: 0.8684 - val_loss: 0.4590 - val_accuracy: 0.8649\n",
      "Epoch 51/100\n",
      "1875/1875 [==============================] - 3s 2ms/step - loss: 0.4516 - accuracy: 0.8680 - val_loss: 0.4596 - val_accuracy: 0.8635\n",
      "Epoch 52/100\n",
      "1875/1875 [==============================] - 3s 2ms/step - loss: 0.4504 - accuracy: 0.8694 - val_loss: 0.4583 - val_accuracy: 0.8656\n",
      "Epoch 53/100\n",
      "1875/1875 [==============================] - 3s 2ms/step - loss: 0.4495 - accuracy: 0.8682 - val_loss: 0.4565 - val_accuracy: 0.8670\n",
      "Epoch 54/100\n",
      "1875/1875 [==============================] - 3s 2ms/step - loss: 0.4488 - accuracy: 0.8695 - val_loss: 0.4539 - val_accuracy: 0.8669\n",
      "Epoch 55/100\n",
      "1875/1875 [==============================] - 3s 2ms/step - loss: 0.4476 - accuracy: 0.8702 - val_loss: 0.4542 - val_accuracy: 0.8664\n",
      "Epoch 56/100\n",
      "1875/1875 [==============================] - 3s 2ms/step - loss: 0.4469 - accuracy: 0.8699 - val_loss: 0.4569 - val_accuracy: 0.8670\n",
      "Epoch 57/100\n"
     ]
    },
    {
     "name": "stdout",
     "output_type": "stream",
     "text": [
      "1875/1875 [==============================] - 3s 2ms/step - loss: 0.4459 - accuracy: 0.8699 - val_loss: 0.4545 - val_accuracy: 0.8662\n",
      "Epoch 58/100\n",
      "1875/1875 [==============================] - 3s 2ms/step - loss: 0.4451 - accuracy: 0.8711 - val_loss: 0.4540 - val_accuracy: 0.8675\n",
      "Epoch 59/100\n",
      "1875/1875 [==============================] - 3s 2ms/step - loss: 0.4446 - accuracy: 0.8711 - val_loss: 0.4523 - val_accuracy: 0.8679\n",
      "Epoch 60/100\n",
      "1875/1875 [==============================] - 3s 2ms/step - loss: 0.4436 - accuracy: 0.8719 - val_loss: 0.4513 - val_accuracy: 0.8684\n",
      "Epoch 61/100\n",
      "1875/1875 [==============================] - 3s 2ms/step - loss: 0.4428 - accuracy: 0.8726 - val_loss: 0.4518 - val_accuracy: 0.8684\n",
      "Epoch 62/100\n",
      "1875/1875 [==============================] - 3s 2ms/step - loss: 0.4422 - accuracy: 0.8721 - val_loss: 0.4525 - val_accuracy: 0.8670\n",
      "Epoch 63/100\n",
      "1875/1875 [==============================] - 3s 2ms/step - loss: 0.4415 - accuracy: 0.8726 - val_loss: 0.4546 - val_accuracy: 0.8669\n",
      "Epoch 64/100\n",
      "1875/1875 [==============================] - 3s 2ms/step - loss: 0.4410 - accuracy: 0.8721 - val_loss: 0.4497 - val_accuracy: 0.8697\n",
      "Epoch 65/100\n",
      "1875/1875 [==============================] - 3s 2ms/step - loss: 0.4402 - accuracy: 0.8732 - val_loss: 0.4506 - val_accuracy: 0.8695\n",
      "Epoch 66/100\n",
      "1875/1875 [==============================] - 3s 1ms/step - loss: 0.4399 - accuracy: 0.8738 - val_loss: 0.4514 - val_accuracy: 0.8700\n",
      "Epoch 67/100\n",
      "1875/1875 [==============================] - 3s 1ms/step - loss: 0.4394 - accuracy: 0.8724 - val_loss: 0.4486 - val_accuracy: 0.8721\n",
      "Epoch 68/100\n",
      "1875/1875 [==============================] - 3s 2ms/step - loss: 0.4387 - accuracy: 0.8730 - val_loss: 0.4512 - val_accuracy: 0.8683\n",
      "Epoch 69/100\n",
      "1875/1875 [==============================] - 3s 2ms/step - loss: 0.4382 - accuracy: 0.8741 - val_loss: 0.4483 - val_accuracy: 0.8700\n",
      "Epoch 70/100\n",
      "1875/1875 [==============================] - 3s 2ms/step - loss: 0.4376 - accuracy: 0.8742 - val_loss: 0.4485 - val_accuracy: 0.8695\n",
      "Epoch 71/100\n",
      "1875/1875 [==============================] - 3s 2ms/step - loss: 0.4370 - accuracy: 0.8743 - val_loss: 0.4490 - val_accuracy: 0.8695\n",
      "Epoch 72/100\n",
      "1875/1875 [==============================] - 3s 2ms/step - loss: 0.4365 - accuracy: 0.8752 - val_loss: 0.4494 - val_accuracy: 0.8700\n",
      "Epoch 73/100\n",
      "1875/1875 [==============================] - 3s 2ms/step - loss: 0.4360 - accuracy: 0.8743 - val_loss: 0.4461 - val_accuracy: 0.8720\n",
      "Epoch 74/100\n",
      "1875/1875 [==============================] - 3s 2ms/step - loss: 0.4358 - accuracy: 0.8745 - val_loss: 0.4456 - val_accuracy: 0.8716\n",
      "Epoch 75/100\n",
      "1875/1875 [==============================] - 3s 2ms/step - loss: 0.4353 - accuracy: 0.8748 - val_loss: 0.4470 - val_accuracy: 0.8721\n",
      "Epoch 76/100\n",
      "1875/1875 [==============================] - 3s 2ms/step - loss: 0.4349 - accuracy: 0.8754 - val_loss: 0.4478 - val_accuracy: 0.8720\n",
      "Epoch 77/100\n",
      "1875/1875 [==============================] - 3s 1ms/step - loss: 0.4343 - accuracy: 0.8758 - val_loss: 0.4459 - val_accuracy: 0.8730\n",
      "Epoch 78/100\n",
      "1875/1875 [==============================] - 3s 2ms/step - loss: 0.4340 - accuracy: 0.8754 - val_loss: 0.4471 - val_accuracy: 0.8728\n",
      "Epoch 79/100\n",
      "1875/1875 [==============================] - 3s 2ms/step - loss: 0.4336 - accuracy: 0.8762 - val_loss: 0.4457 - val_accuracy: 0.8723\n",
      "Epoch 80/100\n",
      "1875/1875 [==============================] - 3s 2ms/step - loss: 0.4334 - accuracy: 0.8760 - val_loss: 0.4470 - val_accuracy: 0.8713\n",
      "Epoch 81/100\n",
      "1875/1875 [==============================] - 3s 2ms/step - loss: 0.4329 - accuracy: 0.8763 - val_loss: 0.4448 - val_accuracy: 0.8730\n",
      "Epoch 82/100\n",
      "1875/1875 [==============================] - 3s 2ms/step - loss: 0.4324 - accuracy: 0.8762 - val_loss: 0.4445 - val_accuracy: 0.8739\n",
      "Epoch 83/100\n",
      "1875/1875 [==============================] - 3s 2ms/step - loss: 0.4323 - accuracy: 0.8759 - val_loss: 0.4438 - val_accuracy: 0.8735\n",
      "Epoch 84/100\n",
      "1875/1875 [==============================] - 3s 2ms/step - loss: 0.4319 - accuracy: 0.8764 - val_loss: 0.4443 - val_accuracy: 0.8737\n",
      "Epoch 85/100\n",
      "1875/1875 [==============================] - 2s 1ms/step - loss: 0.4317 - accuracy: 0.8765 - val_loss: 0.4427 - val_accuracy: 0.8725\n",
      "Epoch 86/100\n",
      "1875/1875 [==============================] - 3s 2ms/step - loss: 0.4309 - accuracy: 0.8770 - val_loss: 0.4428 - val_accuracy: 0.8742\n",
      "Epoch 87/100\n",
      "1875/1875 [==============================] - 3s 1ms/step - loss: 0.4308 - accuracy: 0.8764 - val_loss: 0.4456 - val_accuracy: 0.8719\n",
      "Epoch 88/100\n",
      "1875/1875 [==============================] - 3s 2ms/step - loss: 0.4307 - accuracy: 0.8773 - val_loss: 0.4419 - val_accuracy: 0.8770\n",
      "Epoch 89/100\n",
      "1875/1875 [==============================] - 3s 2ms/step - loss: 0.4298 - accuracy: 0.8770 - val_loss: 0.4472 - val_accuracy: 0.8711\n",
      "Epoch 90/100\n",
      "1875/1875 [==============================] - 3s 2ms/step - loss: 0.4297 - accuracy: 0.8775 - val_loss: 0.4452 - val_accuracy: 0.8730\n",
      "Epoch 91/100\n",
      "1875/1875 [==============================] - 3s 2ms/step - loss: 0.4293 - accuracy: 0.8774 - val_loss: 0.4431 - val_accuracy: 0.8732\n",
      "Epoch 92/100\n",
      "1875/1875 [==============================] - 3s 2ms/step - loss: 0.4291 - accuracy: 0.8769 - val_loss: 0.4432 - val_accuracy: 0.8733\n",
      "Epoch 93/100\n",
      "1875/1875 [==============================] - 3s 2ms/step - loss: 0.4291 - accuracy: 0.8776 - val_loss: 0.4434 - val_accuracy: 0.8734\n",
      "Epoch 94/100\n",
      "1875/1875 [==============================] - 3s 2ms/step - loss: 0.4282 - accuracy: 0.8776 - val_loss: 0.4426 - val_accuracy: 0.8726\n",
      "Epoch 95/100\n",
      "1875/1875 [==============================] - 3s 2ms/step - loss: 0.4282 - accuracy: 0.8778 - val_loss: 0.4414 - val_accuracy: 0.8742\n",
      "Epoch 96/100\n",
      "1875/1875 [==============================] - 3s 2ms/step - loss: 0.4280 - accuracy: 0.8775 - val_loss: 0.4408 - val_accuracy: 0.8755\n",
      "Epoch 97/100\n",
      "1875/1875 [==============================] - 3s 2ms/step - loss: 0.4274 - accuracy: 0.8775 - val_loss: 0.4410 - val_accuracy: 0.8749\n",
      "Epoch 98/100\n",
      "1875/1875 [==============================] - 3s 2ms/step - loss: 0.4275 - accuracy: 0.8778 - val_loss: 0.4404 - val_accuracy: 0.8751\n",
      "Epoch 99/100\n",
      "1875/1875 [==============================] - 3s 2ms/step - loss: 0.4271 - accuracy: 0.8778 - val_loss: 0.4422 - val_accuracy: 0.8760\n",
      "Epoch 100/100\n",
      "1875/1875 [==============================] - 3s 2ms/step - loss: 0.4264 - accuracy: 0.8782 - val_loss: 0.4453 - val_accuracy: 0.8735\n"
     ]
    },
    {
     "data": {
      "text/plain": [
       "<keras.callbacks.History at 0x1b86716bc40>"
      ]
     },
     "execution_count": 52,
     "metadata": {},
     "output_type": "execute_result"
    }
   ],
   "source": [
    "model=tf.keras.Sequential([\n",
    "    tf.keras.layers.Flatten(input_shape=(28, 28)), # input layer (we had to reshape 28x28 to 784)\n",
    "    tf.keras.layers.Dense(4, activation=\"relu\"),\n",
    "    tf.keras.layers.Dense(4, activation=\"relu\"),\n",
    "    tf.keras.layers.Dense(10, activation=\"softmax\")\n",
    "],name='basic')\n",
    "model.compile(\n",
    "    loss=tf.keras.losses.SparseCategoricalCrossentropy(),\n",
    "    optimizer=tf.keras.optimizers.Adam(),\n",
    "    metrics=[\"accuracy\"]\n",
    ")\n",
    "model.fit(train_data,train_labels,epochs=100,validation_data=(test_data, test_labels))"
   ]
  },
  {
   "cell_type": "code",
   "execution_count": 54,
   "id": "14852331",
   "metadata": {},
   "outputs": [
    {
     "name": "stdout",
     "output_type": "stream",
     "text": [
      "313/313 [==============================] - 0s 1ms/step - loss: 0.4453 - accuracy: 0.8735\n"
     ]
    },
    {
     "data": {
      "text/plain": [
       "[0.44527530670166016, 0.8734999895095825]"
      ]
     },
     "execution_count": 54,
     "metadata": {},
     "output_type": "execute_result"
    }
   ],
   "source": [
    "model.evaluate(test_data,test_labels)"
   ]
  },
  {
   "cell_type": "code",
   "execution_count": 55,
   "id": "e4c1e193",
   "metadata": {},
   "outputs": [],
   "source": [
    "model.save('mnist.h5')"
   ]
  },
  {
   "cell_type": "code",
   "execution_count": 70,
   "id": "787ae4e9",
   "metadata": {},
   "outputs": [
    {
     "name": "stdout",
     "output_type": "stream",
     "text": [
      "Actual Value: 2\n",
      "Predicted value: 2\n"
     ]
    },
    {
     "data": {
      "image/png": "[encoded data removed]",
      "text/plain": [
       "<Figure size 432x288 with 1 Axes>"
      ]
     },
     "metadata": {
      "needs_background": "light"
     },
     "output_type": "display_data"
    }
   ],
   "source": [
    "plt.imshow(test_data[1])\n",
    "print('Actual Value:',test_labels[1])\n",
    "print('Predicted value:',model.predict(test_data)[1].argmax())"
   ]
  }
 ],
 "metadata": {
  "kernelspec": {
   "display_name": "Python 3 (ipykernel)",
   "language": "python",
   "name": "python3"
  },
  "language_info": {
   "codemirror_mode": {
    "name": "ipython",
    "version": 3
   },
   "file_extension": ".py",
   "mimetype": "text/x-python",
   "name": "python",
   "nbconvert_exporter": "python",
   "pygments_lexer": "ipython3",
   "version": "3.9.7"
  }
 },
 "nbformat": 4,
 "nbformat_minor": 5
}
