{
 "cells": [
  {
   "cell_type": "code",
   "execution_count": 1,
   "id": "cc9dc71a",
   "metadata": {},
   "outputs": [],
   "source": [
    "import tensorflow as tf\n",
    "from sklearn.model_selection import train_test_split\n",
    "from tensorflow.keras import layers,Sequential\n",
    "from tensorflow.keras.layers import Dense, Flatten, Conv2D, MaxPool2D,Dropout\n",
    "from tensorflow.keras.callbacks import EarlyStopping\n",
    "import pandas as pd\n",
    "import matplotlib.pyplot as plt\n",
    "from sklearn.preprocessing import LabelEncoder,MinMaxScaler\n",
    "import numpy as np\n",
    "from sklearn.metrics import accuracy_score\n",
    "import pathlib\n",
    "from tensorflow.keras.preprocessing.image import ImageDataGenerator\n",
    "from tensorflow.keras.optimizers import RMSprop"
   ]
  },
  {
   "cell_type": "code",
   "execution_count": 2,
   "id": "4b6f9ac9",
   "metadata": {},
   "outputs": [],
   "source": [
    "class LearningRateReducerCb(tf.keras.callbacks.Callback):\n",
    "\n",
    "  def on_epoch_end(self, epoch, logs={}):\n",
    "    old_lr = self.model.optimizer.lr.read_value()\n",
    "    new_lr = old_lr * 0.99\n",
    "    print(\"\\nEpoch: {}. Reducing Learning Rate from {} to {}\".format(epoch, old_lr, new_lr))\n",
    "    self.model.optimizer.lr.assign(new_lr)\n",
    "    \n",
    "def create_checkpoint_callback(model_name):\n",
    "  return tf.keras.callbacks.ModelCheckpoint(filepath=f\"{model_name}/checkpoint.ckpt\",\n",
    "                                                          #  monitor=\"val_accuracy\",\n",
    "                                                           save_best_only=True,\n",
    "                                                           save_weights_only=True,\n",
    "                                                           save_freq=\"epoch\")\n",
    "\n",
    "es_cb = EarlyStopping(monitor='val_loss', patience=10)"
   ]
  },
  {
   "cell_type": "code",
   "execution_count": 3,
   "id": "1967fcdd",
   "metadata": {},
   "outputs": [
    {
     "name": "stdout",
     "output_type": "stream",
     "text": [
      "['Cloudy', 'Rain', 'Shine', 'Sunrise']\n"
     ]
    }
   ],
   "source": [
    "base_dir = \"Multi-class Weather Dataset\"\n",
    "data_dir = pathlib.Path(base_dir)\n",
    "class_names = sorted([item.name for item in data_dir.glob(\"*\")])\n",
    "print(class_names)"
   ]
  },
  {
   "cell_type": "code",
   "execution_count": 5,
   "id": "7afcf9c7",
   "metadata": {},
   "outputs": [
    {
     "name": "stdout",
     "output_type": "stream",
     "text": [
      "Found 901 images belonging to 4 classes.\n",
      "Found 224 images belonging to 4 classes.\n"
     ]
    }
   ],
   "source": [
    "datagen = ImageDataGenerator(rescale=1./255,\n",
    "    shear_range=0.2,\n",
    "    zoom_range=0.2,\n",
    "    horizontal_flip=True,\n",
    "    validation_split=0.2)\n",
    "\n",
    "# Flow training images in batches of 20 using train_datagen generator\n",
    "train_generator = datagen.flow_from_directory(\n",
    "        base_dir,  # This is the source directory for training images\n",
    "        target_size=(300, 300),  # All images will be resized to 150x150\n",
    "        batch_size=20,\n",
    "        # Since we use binary_crossentropy loss, we need binary labels\n",
    "        class_mode='categorical',\n",
    "        subset='training')\n",
    "\n",
    "# Flow validation images in batches of 20 using test_datagen generator\n",
    "validation_generator = datagen.flow_from_directory(\n",
    "        base_dir,\n",
    "        target_size=(300, 300),\n",
    "        batch_size=32,\n",
    "        class_mode='categorical',\n",
    "        subset='validation')"
   ]
  },
  {
   "cell_type": "code",
   "execution_count": 8,
   "id": "98c72d0d",
   "metadata": {},
   "outputs": [
    {
     "name": "stdout",
     "output_type": "stream",
     "text": [
      "Epoch 1/10\n",
      "46/46 [==============================] - 50s 1s/step - loss: 0.7125 - accuracy: 0.6837 - val_loss: 0.5119 - val_accuracy: 0.8170\n",
      "Epoch 2/10\n",
      "46/46 [==============================] - 52s 1s/step - loss: 0.3779 - accuracy: 0.8713 - val_loss: 0.5683 - val_accuracy: 0.7768\n",
      "Epoch 3/10\n",
      "46/46 [==============================] - 55s 1s/step - loss: 0.2954 - accuracy: 0.8968 - val_loss: 0.5748 - val_accuracy: 0.7768\n",
      "Epoch 4/10\n",
      "46/46 [==============================] - 55s 1s/step - loss: 0.3038 - accuracy: 0.9023 - val_loss: 0.5669 - val_accuracy: 0.8080\n",
      "Epoch 5/10\n",
      "46/46 [==============================] - 51s 1s/step - loss: 0.2166 - accuracy: 0.9245 - val_loss: 0.5604 - val_accuracy: 0.7991\n",
      "Epoch 6/10\n",
      "46/46 [==============================] - 58s 1s/step - loss: 0.2213 - accuracy: 0.9245 - val_loss: 0.3722 - val_accuracy: 0.8527\n",
      "Epoch 7/10\n",
      "46/46 [==============================] - 51s 1s/step - loss: 0.3355 - accuracy: 0.8757 - val_loss: 0.5803 - val_accuracy: 0.7723\n",
      "Epoch 8/10\n",
      "46/46 [==============================] - 54s 1s/step - loss: 0.3189 - accuracy: 0.8890 - val_loss: 0.4100 - val_accuracy: 0.8482\n",
      "Epoch 9/10\n",
      "46/46 [==============================] - 54s 1s/step - loss: 0.2074 - accuracy: 0.9334 - val_loss: 0.3500 - val_accuracy: 0.8571\n",
      "Epoch 10/10\n",
      "46/46 [==============================] - 52s 1s/step - loss: 0.1569 - accuracy: 0.9423 - val_loss: 0.4483 - val_accuracy: 0.8393\n"
     ]
    }
   ],
   "source": [
    "# Build a model\n",
    "inputs = layers.Input(shape=(300, 300,3), name=\"input_layer\")\n",
    "x = layers.Conv2D(filters=10,\n",
    "                  kernel_size=3,\n",
    "                  activation=\"relu\")(inputs)\n",
    "x = layers.Conv2D(filters=10,\n",
    "                  kernel_size=3,\n",
    "                  activation=\"relu\")(x)\n",
    "x = layers.MaxPool2D()(x)\n",
    "\n",
    "x = layers.Conv2D(filters=10,\n",
    "                  kernel_size=3,\n",
    "                  activation=\"relu\")(x)\n",
    "x = layers.Conv2D(filters=10,\n",
    "                  kernel_size=3,\n",
    "                  activation=\"relu\")(x)\n",
    "x = layers.MaxPool2D()(x)\n",
    "x = layers.Flatten()(x)\n",
    "x = layers.Dense(100, activation='relu')(x)\n",
    "outputs = layers.Dense(len(class_names), activation=\"softmax\")(x)\n",
    "model = tf.keras.Model(inputs, outputs, name=\"model\")\n",
    "\n",
    "# Compile the model\n",
    "model.compile(\n",
    "    loss=tf.keras.losses.CategoricalCrossentropy(),\n",
    "    optimizer=tf.keras.optimizers.Adam(),\n",
    "    metrics=[\"accuracy\"]\n",
    ")\n",
    "# Fit the model\n",
    "model_history = model.fit(train_generator,validation_data=(validation_generator),epochs=10,\n",
    "                              callbacks=[create_checkpoint_callback(model.name)])"
   ]
  },
  {
   "cell_type": "code",
   "execution_count": 10,
   "id": "376e2a5b",
   "metadata": {},
   "outputs": [
    {
     "data": {
      "image/png": "[encoded data removed]",
      "text/plain": [
       "<Figure size 432x288 with 1 Axes>"
      ]
     },
     "metadata": {
      "needs_background": "light"
     },
     "output_type": "display_data"
    },
    {
     "data": {
      "text/plain": [
       "<Figure size 432x288 with 0 Axes>"
      ]
     },
     "metadata": {},
     "output_type": "display_data"
    }
   ],
   "source": [
    "import matplotlib.pyplot as plt\n",
    "acc = model_history.history['accuracy']\n",
    "val_acc = model_history.history['val_accuracy']\n",
    "loss = model_history.history['loss']\n",
    "val_loss = model_history.history['val_loss']\n",
    "\n",
    "epochs = range(len(acc))\n",
    "\n",
    "plt.plot(epochs, acc, 'r', label='Training accuracy')\n",
    "plt.plot(epochs, val_acc, 'b', label='Validation accuracy')\n",
    "plt.title('Training and validation accuracy')\n",
    "plt.legend(loc=0)\n",
    "plt.figure()\n",
    "\n",
    "\n",
    "plt.show()"
   ]
  },
  {
   "cell_type": "code",
   "execution_count": 12,
   "id": "849b06b9",
   "metadata": {},
   "outputs": [
    {
     "name": "stdout",
     "output_type": "stream",
     "text": [
      "Found 901 images belonging to 4 classes.\n",
      "Found 224 images belonging to 4 classes.\n"
     ]
    }
   ],
   "source": [
    "datagen = ImageDataGenerator(rescale=1./255,\n",
    "    shear_range=0.2,\n",
    "    zoom_range=0.2,\n",
    "    horizontal_flip=True,\n",
    "    validation_split=0.2)\n",
    "\n",
    "# Flow training images in batches of 20 using train_datagen generator\n",
    "train_generator = datagen.flow_from_directory(\n",
    "        base_dir,  # This is the source directory for training images\n",
    "        target_size=(224, 224),  # All images will be resized to 150x150\n",
    "        batch_size=20,\n",
    "        # Since we use binary_crossentropy loss, we need binary labels\n",
    "        class_mode='categorical',\n",
    "        subset='training')\n",
    "\n",
    "# Flow validation images in batches of 20 using test_datagen generator\n",
    "validation_generator = datagen.flow_from_directory(\n",
    "        base_dir,\n",
    "        target_size=(224, 224),\n",
    "        batch_size=32,\n",
    "        class_mode='categorical',\n",
    "        subset='validation')"
   ]
  },
  {
   "cell_type": "code",
   "execution_count": 21,
   "id": "1d384e69",
   "metadata": {},
   "outputs": [
    {
     "name": "stdout",
     "output_type": "stream",
     "text": [
      "Epoch 1/10\n",
      "46/46 [==============================] - 54s 1s/step - loss: 2.7779 - accuracy: 0.8024 - val_loss: 0.5815 - val_accuracy: 0.9196\n",
      "Epoch 2/10\n",
      "46/46 [==============================] - 51s 1s/step - loss: 0.5139 - accuracy: 0.9312 - val_loss: 2.0331 - val_accuracy: 0.8393\n",
      "Epoch 3/10\n",
      "46/46 [==============================] - 49s 1s/step - loss: 0.2745 - accuracy: 0.9578 - val_loss: 1.2903 - val_accuracy: 0.8616\n",
      "Epoch 4/10\n",
      "46/46 [==============================] - 49s 1s/step - loss: 0.1064 - accuracy: 0.9734 - val_loss: 0.7012 - val_accuracy: 0.8973\n",
      "Epoch 5/10\n",
      "46/46 [==============================] - 51s 1s/step - loss: 0.0373 - accuracy: 0.9889 - val_loss: 0.4215 - val_accuracy: 0.9330\n",
      "Epoch 6/10\n",
      "46/46 [==============================] - 52s 1s/step - loss: 0.0687 - accuracy: 0.9834 - val_loss: 0.3634 - val_accuracy: 0.9464\n",
      "Epoch 7/10\n",
      "46/46 [==============================] - 50s 1s/step - loss: 0.0883 - accuracy: 0.9834 - val_loss: 0.5813 - val_accuracy: 0.9062\n",
      "Epoch 8/10\n",
      "46/46 [==============================] - 49s 1s/step - loss: 0.0681 - accuracy: 0.9845 - val_loss: 0.4004 - val_accuracy: 0.9241\n",
      "Epoch 9/10\n",
      "46/46 [==============================] - 50s 1s/step - loss: 0.0587 - accuracy: 0.9867 - val_loss: 0.4141 - val_accuracy: 0.9375\n",
      "Epoch 10/10\n",
      "46/46 [==============================] - 52s 1s/step - loss: 0.0842 - accuracy: 0.9834 - val_loss: 0.5869 - val_accuracy: 0.9152\n"
     ]
    }
   ],
   "source": [
    "from tensorflow.keras.applications.inception_v3 import InceptionV3\n",
    "pre_trained_model = InceptionV3(input_shape = (224, 224, 3), \n",
    "                                include_top = False, # Remove dense layer before CONV layers\n",
    "                                weights = None)\n",
    "pre_trained_model.trainable=False\n",
    "pre_trained_model.load_weights('inception_v3_weights_tf_dim_ordering_tf_kernels_notop.h5')\n",
    "last_layer = pre_trained_model.get_layer('mixed7')\n",
    "last_output = last_layer.output\n",
    "# Flatten the output layer to 1 dimension\n",
    "x = layers.Flatten()(last_output)\n",
    "# Add a fully connected layer with 1,024 hidden units and ReLU activation\n",
    "x = layers.Dense(1024, activation='relu')(x)\n",
    "# Add a dropout rate of 0.2\n",
    "x = layers.Dropout(0.2)(x) # Provide fraction of neurons to drop.                 \n",
    "# Add a final sigmoid layer for classification\n",
    "x = layers.Dense(len(class_names), activation='softmax')(x)           \n",
    "model = tf.keras.Model( pre_trained_model.input, x) \n",
    "model.compile(loss=\"categorical_crossentropy\",\n",
    "              optimizer=tf.keras.optimizers.Adam(), # use Adam with default settings\n",
    "              metrics=[\"accuracy\"])\n",
    "model_history = model.fit(train_generator,\n",
    "                              validation_data=validation_generator,\n",
    "                              epochs=10,\n",
    "                              callbacks=[create_checkpoint_callback(model.name),es_cb])"
   ]
  }
 ],
 "metadata": {
  "kernelspec": {
   "display_name": "Python 3 (ipykernel)",
   "language": "python",
   "name": "python3"
  },
  "language_info": {
   "codemirror_mode": {
    "name": "ipython",
    "version": 3
   },
   "file_extension": ".py",
   "mimetype": "text/x-python",
   "name": "python",
   "nbconvert_exporter": "python",
   "pygments_lexer": "ipython3",
   "version": "3.9.7"
  }
 },
 "nbformat": 4,
 "nbformat_minor": 5
}
