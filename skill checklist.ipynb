{
 "cells": [
  {
   "cell_type": "code",
   "execution_count": 3,
   "id": "5659b1d0",
   "metadata": {},
   "outputs": [],
   "source": [
    "import tensorflow as tf\n",
    "from tensorflow.keras import datasets\n",
    "import tensorflow_datasets as tfds"
   ]
  },
  {
   "cell_type": "markdown",
   "id": "8468e1b8",
   "metadata": {},
   "source": [
    "# Regression problem"
   ]
  },
  {
   "cell_type": "code",
   "execution_count": 4,
   "id": "e24d0eb0",
   "metadata": {},
   "outputs": [
    {
     "data": {
      "text/plain": [
       "<tf.Tensor: shape=(100,), dtype=int32, numpy=\n",
       "array([ 0,  1,  2,  3,  4,  5,  6,  7,  8,  9, 10, 11, 12, 13, 14, 15, 16,\n",
       "       17, 18, 19, 20, 21, 22, 23, 24, 25, 26, 27, 28, 29, 30, 31, 32, 33,\n",
       "       34, 35, 36, 37, 38, 39, 40, 41, 42, 43, 44, 45, 46, 47, 48, 49, 50,\n",
       "       51, 52, 53, 54, 55, 56, 57, 58, 59, 60, 61, 62, 63, 64, 65, 66, 67,\n",
       "       68, 69, 70, 71, 72, 73, 74, 75, 76, 77, 78, 79, 80, 81, 82, 83, 84,\n",
       "       85, 86, 87, 88, 89, 90, 91, 92, 93, 94, 95, 96, 97, 98, 99])>"
      ]
     },
     "execution_count": 4,
     "metadata": {},
     "output_type": "execute_result"
    }
   ],
   "source": [
    "import numpy as np\n",
    "X = tf.constant(np.arange(0, 100))\n",
    "X"
   ]
  },
  {
   "cell_type": "code",
   "execution_count": 5,
   "id": "8a93cba7",
   "metadata": {},
   "outputs": [
    {
     "data": {
      "text/plain": [
       "<tf.Tensor: shape=(100,), dtype=int32, numpy=\n",
       "array([ 10,  11,  12,  13,  14,  15,  16,  17,  18,  19,  20,  21,  22,\n",
       "        23,  24,  25,  26,  27,  28,  29,  30,  31,  32,  33,  34,  35,\n",
       "        36,  37,  38,  39,  40,  41,  42,  43,  44,  45,  46,  47,  48,\n",
       "        49,  50,  51,  52,  53,  54,  55,  56,  57,  58,  59,  60,  61,\n",
       "        62,  63,  64,  65,  66,  67,  68,  69,  70,  71,  72,  73,  74,\n",
       "        75,  76,  77,  78,  79,  80,  81,  82,  83,  84,  85,  86,  87,\n",
       "        88,  89,  90,  91,  92,  93,  94,  95,  96,  97,  98,  99, 100,\n",
       "       101, 102, 103, 104, 105, 106, 107, 108, 109])>"
      ]
     },
     "execution_count": 5,
     "metadata": {},
     "output_type": "execute_result"
    }
   ],
   "source": [
    "y = tf.constant(np.arange(0, 100)+10)\n",
    "y"
   ]
  },
  {
   "cell_type": "code",
   "execution_count": 6,
   "id": "39fea8c3",
   "metadata": {},
   "outputs": [
    {
     "data": {
      "text/plain": [
       "(80, 20, 80, 20)"
      ]
     },
     "execution_count": 6,
     "metadata": {},
     "output_type": "execute_result"
    }
   ],
   "source": [
    "split_size = int(0.8 * len(X))\n",
    "X_train = X[:split_size]\n",
    "y_train = y[:split_size]\n",
    "X_test = X[split_size:]\n",
    "y_test = y[split_size:]\n",
    "len(X_train), len(X_test), len(y_train), len(y_test)"
   ]
  },
  {
   "cell_type": "code",
   "execution_count": 10,
   "id": "6a499648",
   "metadata": {},
   "outputs": [
    {
     "name": "stdout",
     "output_type": "stream",
     "text": [
      "Epoch 1/10\n",
      "3/3 [==============================] - 0s 52ms/step - loss: 65.9328 - mae: 65.9328 - val_loss: 123.8437 - val_mae: 123.8437\n",
      "Epoch 2/10\n",
      "3/3 [==============================] - 0s 11ms/step - loss: 57.9076 - mae: 57.9076 - val_loss: 106.1943 - val_mae: 106.1943\n",
      "Epoch 3/10\n",
      "3/3 [==============================] - 0s 10ms/step - loss: 50.2764 - mae: 50.2764 - val_loss: 88.6133 - val_mae: 88.6133\n",
      "Epoch 4/10\n",
      "3/3 [==============================] - 0s 10ms/step - loss: 42.6714 - mae: 42.6714 - val_loss: 71.0806 - val_mae: 71.0806\n",
      "Epoch 5/10\n",
      "3/3 [==============================] - 0s 10ms/step - loss: 34.6504 - mae: 34.6504 - val_loss: 53.5644 - val_mae: 53.5644\n",
      "Epoch 6/10\n",
      "3/3 [==============================] - 0s 12ms/step - loss: 26.9669 - mae: 26.9669 - val_loss: 35.7805 - val_mae: 35.7805\n",
      "Epoch 7/10\n",
      "3/3 [==============================] - 0s 11ms/step - loss: 18.9770 - mae: 18.9770 - val_loss: 17.7394 - val_mae: 17.7394\n",
      "Epoch 8/10\n",
      "3/3 [==============================] - 0s 10ms/step - loss: 10.8528 - mae: 10.8528 - val_loss: 0.7527 - val_mae: 0.7527\n",
      "Epoch 9/10\n",
      "3/3 [==============================] - 0s 11ms/step - loss: 4.5100 - mae: 4.5100 - val_loss: 17.0796 - val_mae: 17.0796\n",
      "Epoch 10/10\n",
      "3/3 [==============================] - 0s 10ms/step - loss: 7.0419 - mae: 7.0419 - val_loss: 25.3154 - val_mae: 25.3154\n"
     ]
    }
   ],
   "source": [
    "from tensorflow.keras import layers\n",
    "# Create a model\n",
    "model_1 = tf.keras.Sequential([\n",
    "  layers.Dense(100),\n",
    "  layers.Dense(10),\n",
    "  layers.Dense(1)\n",
    "], name=\"model_1_dense\")\n",
    "# Compile the model\n",
    "model_1.compile(\n",
    "    loss=\"mae\",\n",
    "    optimizer=tf.keras.optimizers.Adam(),\n",
    "    metrics=[\"mae\"]\n",
    ")\n",
    "# Fit the model\n",
    "model_1_history = model_1.fit(tf.expand_dims(X_train,axis=-1),\n",
    "                              y_train,\n",
    "                              validation_data=(tf.expand_dims(X_test,axis=-1), y_test),\n",
    "                              epochs=10)"
   ]
  },
  {
   "cell_type": "code",
   "execution_count": 11,
   "id": "e1888a22",
   "metadata": {},
   "outputs": [
    {
     "name": "stdout",
     "output_type": "stream",
     "text": [
      "1/1 [==============================] - 0s 63ms/step - loss: 25.3154 - mae: 25.3154\n"
     ]
    },
    {
     "data": {
      "text/plain": [
       "[25.3154296875, 25.3154296875]"
      ]
     },
     "execution_count": 11,
     "metadata": {},
     "output_type": "execute_result"
    }
   ],
   "source": [
    "model_1.evaluate(X_test,y_test)"
   ]
  },
  {
   "cell_type": "code",
   "execution_count": 12,
   "id": "b27159d7",
   "metadata": {},
   "outputs": [
    {
     "data": {
      "image/png": "[encoded data removed]",
      "text/plain": [
       "<Figure size 432x288 with 1 Axes>"
      ]
     },
     "metadata": {
      "needs_background": "light"
     },
     "output_type": "display_data"
    }
   ],
   "source": [
    "import pandas as pd\n",
    "import matplotlib.pyplot as plt\n",
    "pd.DataFrame(model_1_history.history).plot()\n",
    "plt.ylabel(\"loss\")\n",
    "plt.xlabel(\"epochs\");"
   ]
  },
  {
   "cell_type": "code",
   "execution_count": 13,
   "id": "184a7a6b",
   "metadata": {},
   "outputs": [
    {
     "name": "stdout",
     "output_type": "stream",
     "text": [
      "Model: \"model_1_dense\"\n",
      "_________________________________________________________________\n",
      " Layer (type)                Output Shape              Param #   \n",
      "=================================================================\n",
      " dense_9 (Dense)             (None, 100)               200       \n",
      "                                                                 \n",
      " dense_10 (Dense)            (None, 10)                1010      \n",
      "                                                                 \n",
      " dense_11 (Dense)            (None, 1)                 11        \n",
      "                                                                 \n",
      "=================================================================\n",
      "Total params: 1,221\n",
      "Trainable params: 1,221\n",
      "Non-trainable params: 0\n",
      "_________________________________________________________________\n"
     ]
    }
   ],
   "source": [
    "model_1.summary()"
   ]
  },
  {
   "cell_type": "code",
   "execution_count": 10,
   "id": "06d8d99f",
   "metadata": {},
   "outputs": [],
   "source": [
    "y_pred=model_1.predict(X_test)"
   ]
  },
  {
   "cell_type": "code",
   "execution_count": 11,
   "id": "840fabeb",
   "metadata": {},
   "outputs": [
    {
     "data": {
      "text/plain": [
       "(TensorShape([20]), (20, 1))"
      ]
     },
     "execution_count": 11,
     "metadata": {},
     "output_type": "execute_result"
    }
   ],
   "source": [
    "y_test.shape,y_pred.shape"
   ]
  },
  {
   "cell_type": "code",
   "execution_count": 12,
   "id": "cea940f3",
   "metadata": {},
   "outputs": [],
   "source": [
    "def plot_predictions(train_data=X_train,\n",
    "                     train_label=y_train,\n",
    "                     test_data=X_test,\n",
    "                     test_label=y_test,\n",
    "                     predictions=y_pred):\n",
    "  \"\"\"\n",
    "  Plot training data,test data and compares the predictions to ground truth \n",
    "  \"\"\"\n",
    "  plt.figure(figsize=(10,7))\n",
    "  # plot data training in blue\n",
    "  plt.scatter(train_data, train_label, c=\"b\", label=\"Training\")\n",
    "  # plot data testing in green\n",
    "  plt.scatter(test_data, test_label, c=\"g\", label=\"Testing\")\n",
    "  # plt predictions in red\n",
    "  plt.scatter(test_data, predictions, c=\"r\", label=\"Predictions\")\n",
    "\n",
    "  plt.legend()"
   ]
  },
  {
   "cell_type": "code",
   "execution_count": 13,
   "id": "ad248bf3",
   "metadata": {},
   "outputs": [
    {
     "data": {
      "image/png": "[encoded data removed]",
      "text/plain": [
       "<Figure size 720x504 with 1 Axes>"
      ]
     },
     "metadata": {
      "needs_background": "light"
     },
     "output_type": "display_data"
    }
   ],
   "source": [
    "plot_predictions()"
   ]
  },
  {
   "cell_type": "markdown",
   "id": "5a08eedf",
   "metadata": {},
   "source": [
    "# Classification Problems\n",
    "# Binary Classification"
   ]
  },
  {
   "cell_type": "code",
   "execution_count": 14,
   "id": "1eb008d8",
   "metadata": {},
   "outputs": [],
   "source": [
    "from sklearn.datasets import make_circles\n",
    "\n",
    "# make 1000 samples\n",
    "n_samples = 1000\n",
    "# create circles\n",
    "X, y = make_circles(n_samples=n_samples,\n",
    "                    shuffle=True,\n",
    "                    noise=0.03,\n",
    "                    random_state=42)"
   ]
  },
  {
   "cell_type": "code",
   "execution_count": 15,
   "id": "34c0156a",
   "metadata": {},
   "outputs": [
    {
     "data": {
      "text/plain": [
       "((1000, 2), (1000,))"
      ]
     },
     "execution_count": 15,
     "metadata": {},
     "output_type": "execute_result"
    }
   ],
   "source": [
    "X.shape, y.shape"
   ]
  },
  {
   "cell_type": "code",
   "execution_count": 16,
   "id": "f31f475b",
   "metadata": {},
   "outputs": [
    {
     "data": {
      "text/html": [
       "<div>\n",
       "<style scoped>\n",
       "    .dataframe tbody tr th:only-of-type {\n",
       "        vertical-align: middle;\n",
       "    }\n",
       "\n",
       "    .dataframe tbody tr th {\n",
       "        vertical-align: top;\n",
       "    }\n",
       "\n",
       "    .dataframe thead th {\n",
       "        text-align: right;\n",
       "    }\n",
       "</style>\n",
       "<table border=\"1\" class=\"dataframe\">\n",
       "  <thead>\n",
       "    <tr style=\"text-align: right;\">\n",
       "      <th></th>\n",
       "      <th>X1</th>\n",
       "      <th>X2</th>\n",
       "      <th>y</th>\n",
       "    </tr>\n",
       "  </thead>\n",
       "  <tbody>\n",
       "    <tr>\n",
       "      <th>0</th>\n",
       "      <td>0.754246</td>\n",
       "      <td>0.231481</td>\n",
       "      <td>1</td>\n",
       "    </tr>\n",
       "    <tr>\n",
       "      <th>1</th>\n",
       "      <td>-0.756159</td>\n",
       "      <td>0.153259</td>\n",
       "      <td>1</td>\n",
       "    </tr>\n",
       "    <tr>\n",
       "      <th>2</th>\n",
       "      <td>-0.815392</td>\n",
       "      <td>0.173282</td>\n",
       "      <td>1</td>\n",
       "    </tr>\n",
       "    <tr>\n",
       "      <th>3</th>\n",
       "      <td>-0.393731</td>\n",
       "      <td>0.692883</td>\n",
       "      <td>1</td>\n",
       "    </tr>\n",
       "    <tr>\n",
       "      <th>4</th>\n",
       "      <td>0.442208</td>\n",
       "      <td>-0.896723</td>\n",
       "      <td>0</td>\n",
       "    </tr>\n",
       "  </tbody>\n",
       "</table>\n",
       "</div>"
      ],
      "text/plain": [
       "         X1        X2  y\n",
       "0  0.754246  0.231481  1\n",
       "1 -0.756159  0.153259  1\n",
       "2 -0.815392  0.173282  1\n",
       "3 -0.393731  0.692883  1\n",
       "4  0.442208 -0.896723  0"
      ]
     },
     "execution_count": 16,
     "metadata": {},
     "output_type": "execute_result"
    }
   ],
   "source": [
    "df = pd.DataFrame({\"X1\":X[:,0],\n",
    "                  \"X2\":X[:,1],\n",
    "                  \"y\": y})\n",
    "df.head()"
   ]
  },
  {
   "cell_type": "code",
   "execution_count": 17,
   "id": "d61b9a01",
   "metadata": {},
   "outputs": [],
   "source": [
    "df['X1']=df['X1'].astype(dtype='float32')\n",
    "df['X2']=df['X2'].astype(dtype='float32')"
   ]
  },
  {
   "cell_type": "code",
   "execution_count": 18,
   "id": "0ddc28b0",
   "metadata": {},
   "outputs": [
    {
     "data": {
      "text/plain": [
       "((1000,), (1000,))"
      ]
     },
     "execution_count": 18,
     "metadata": {},
     "output_type": "execute_result"
    }
   ],
   "source": [
    "X[:,0].shape, X[:,1].shape"
   ]
  },
  {
   "cell_type": "code",
   "execution_count": 19,
   "id": "1b2f053c",
   "metadata": {},
   "outputs": [
    {
     "data": {
      "text/plain": [
       "<matplotlib.collections.PathCollection at 0x1f3c99464c0>"
      ]
     },
     "execution_count": 19,
     "metadata": {},
     "output_type": "execute_result"
    },
    {
     "data": {
      "image/png": "[encoded data removed]",
      "text/plain": [
       "<Figure size 720x576 with 1 Axes>"
      ]
     },
     "metadata": {
      "needs_background": "light"
     },
     "output_type": "display_data"
    }
   ],
   "source": [
    "plt.figure(figsize=(10,8))\n",
    "plt.scatter(X[:,0], X[:,1], c=y, cmap=plt.cm.RdYlBu)"
   ]
  },
  {
   "cell_type": "code",
   "execution_count": 20,
   "id": "1acebf7b",
   "metadata": {},
   "outputs": [],
   "source": [
    "X=df.drop(['y'],axis=1)\n",
    "y=df.y"
   ]
  },
  {
   "cell_type": "code",
   "execution_count": 21,
   "id": "51085b6a",
   "metadata": {},
   "outputs": [],
   "source": [
    "from sklearn.model_selection import train_test_split\n",
    "X_train, X_test, y_train, y_test = train_test_split(X, \n",
    "                                                    y, \n",
    "                                                    test_size=0.2, \n",
    "                                                    random_state=42)"
   ]
  },
  {
   "cell_type": "code",
   "execution_count": 22,
   "id": "8efdd552",
   "metadata": {},
   "outputs": [
    {
     "data": {
      "text/plain": [
       "<matplotlib.collections.PathCollection at 0x1f3c9a854c0>"
      ]
     },
     "execution_count": 22,
     "metadata": {},
     "output_type": "execute_result"
    },
    {
     "data": {
      "image/png": "[encoded data removed]",
      "text/plain": [
       "<Figure size 432x288 with 2 Axes>"
      ]
     },
     "metadata": {
      "needs_background": "light"
     },
     "output_type": "display_data"
    }
   ],
   "source": [
    "plt.subplot(1,2, 1)\n",
    "plt.scatter(X_train.X1, X_train.X2, c=y_train, cmap=plt.cm.RdYlBu)\n",
    "\n",
    "plt.subplot(1,2 ,2)\n",
    "plt.scatter(X_test.X1, X_test.X2, c=y_test, cmap=plt.cm.RdYlBu)"
   ]
  },
  {
   "cell_type": "code",
   "execution_count": 23,
   "id": "a778a665",
   "metadata": {},
   "outputs": [
    {
     "name": "stdout",
     "output_type": "stream",
     "text": [
      "Epoch 1/10\n",
      "25/25 [==============================] - 0s 4ms/step - loss: 0.6920 - accuracy: 0.5125 - val_loss: 0.6882 - val_accuracy: 0.5000\n",
      "Epoch 2/10\n",
      "25/25 [==============================] - 0s 2ms/step - loss: 0.6866 - accuracy: 0.5000 - val_loss: 0.6850 - val_accuracy: 0.5000\n",
      "Epoch 3/10\n",
      "25/25 [==============================] - 0s 2ms/step - loss: 0.6812 - accuracy: 0.5000 - val_loss: 0.6824 - val_accuracy: 0.5000\n",
      "Epoch 4/10\n",
      "25/25 [==============================] - 0s 2ms/step - loss: 0.6731 - accuracy: 0.5000 - val_loss: 0.6753 - val_accuracy: 0.5000\n",
      "Epoch 5/10\n",
      "25/25 [==============================] - 0s 2ms/step - loss: 0.6631 - accuracy: 0.5263 - val_loss: 0.6629 - val_accuracy: 0.6050\n",
      "Epoch 6/10\n",
      "25/25 [==============================] - 0s 2ms/step - loss: 0.6458 - accuracy: 0.7287 - val_loss: 0.6434 - val_accuracy: 0.5500\n",
      "Epoch 7/10\n",
      "25/25 [==============================] - 0s 1ms/step - loss: 0.6196 - accuracy: 0.7450 - val_loss: 0.6115 - val_accuracy: 0.7550\n",
      "Epoch 8/10\n",
      "25/25 [==============================] - 0s 2ms/step - loss: 0.5829 - accuracy: 0.7825 - val_loss: 0.5770 - val_accuracy: 0.9050\n",
      "Epoch 9/10\n",
      "25/25 [==============================] - 0s 2ms/step - loss: 0.5260 - accuracy: 0.9362 - val_loss: 0.5208 - val_accuracy: 0.9400\n",
      "Epoch 10/10\n",
      "25/25 [==============================] - 0s 2ms/step - loss: 0.4660 - accuracy: 0.9712 - val_loss: 0.4527 - val_accuracy: 0.9150\n"
     ]
    }
   ],
   "source": [
    "# create model\n",
    "model_2 = tf.keras.Sequential([\n",
    "  layers.Dense(100, activation=\"relu\"),\n",
    "  layers.Dense(100, activation=\"relu\"),\n",
    "  layers.Dense(1, activation=\"sigmoid\")\n",
    "],name='binary_class_model')\n",
    "# compile the model\n",
    "model_2.compile(\n",
    "    loss=tf.keras.losses.BinaryCrossentropy(),\n",
    "    optimizer=tf.keras.optimizers.Adam(),\n",
    "    metrics=[\"accuracy\"]\n",
    ")\n",
    "# fit the model\n",
    "model_2_history = model_2.fit(X_train,\n",
    "                              y_train,\n",
    "                              validation_data=(X_test, y_test),\n",
    "                              epochs=10)"
   ]
  },
  {
   "cell_type": "code",
   "execution_count": 24,
   "id": "e659910e",
   "metadata": {},
   "outputs": [
    {
     "name": "stdout",
     "output_type": "stream",
     "text": [
      "7/7 [==============================] - 0s 710us/step - loss: 0.4527 - accuracy: 0.9150\n"
     ]
    },
    {
     "data": {
      "text/plain": [
       "[0.45273274183273315, 0.9150000214576721]"
      ]
     },
     "execution_count": 24,
     "metadata": {},
     "output_type": "execute_result"
    }
   ],
   "source": [
    "y_pred=model_2.predict(X_test)\n",
    "model_2.evaluate(X_test,y_test)"
   ]
  },
  {
   "cell_type": "code",
   "execution_count": 25,
   "id": "a7fe7bb6",
   "metadata": {},
   "outputs": [],
   "source": [
    "def plot_decision_boundary(model, X, y):\n",
    "  \"\"\"\n",
    "  Plots the decision boundary created by a model predicting on X.\n",
    "  This function has been adapted from two phenomenal resources:\n",
    "   1. CS231n - https://cs231n.github.io/neural-networks-case-study/\n",
    "   2. Made with ML basics - https://github.com/GokuMohandas/MadeWithML/blob/main/notebooks/08_Neural_Networks.ipynb\n",
    "  \"\"\"\n",
    "  # Define the axis boundaries of the plot and create a meshgrid\n",
    "  x_min, x_max = X[:,0].min() - 0.1, X[:,0].max()+0.1\n",
    "  y_min, y_max = X[:,1].min() - 0.1, X[:,1].max()+0.1\n",
    "  xx, yy = np.meshgrid(np.linspace(x_min, x_max, 100),\n",
    "                       np.linspace(y_min, y_max, 100))\n",
    "  # Create X value (we're going to predictions on these):\n",
    "  # ravel() is flatten an array\n",
    "  # np.c_ is concat array along the second axis\n",
    "  x_in = np.c_[xx.ravel(), yy.ravel()] # stack 2d array together\n",
    "\n",
    "  # make predictions\n",
    "  y_pred = model.predict(x_in)\n",
    "\n",
    "  # check for multi-class:\n",
    "  if len(y_pred[0]) > 1:\n",
    "    print(\"doing multiclass classification\")\n",
    "    # We have to reshape our predictions to get them ready for plotting\n",
    "    y_pred = np.argmax(y_pred, axis=1).reshape(xx.shape)\n",
    "  else:\n",
    "    print(\"doing binary classificatioon\")\n",
    "    y_pred = np.round(y_pred).reshape(xx.shape)\n",
    "\n",
    "  # plot the decision boundary\n",
    "  plt.contourf(xx, yy, y_pred, cmap=plt.cm.RdYlBu, alpha=0.7)\n",
    "  plt.scatter(X[:,0],X[:,1], c=y, s=40, cmap=plt.cm.RdYlBu)\n",
    "  plt.xlim(xx.min(), xx.max())\n",
    "  plt.ylim(yy.min(), yy.max())"
   ]
  },
  {
   "cell_type": "code",
   "execution_count": 26,
   "id": "0e161d2e",
   "metadata": {},
   "outputs": [
    {
     "name": "stdout",
     "output_type": "stream",
     "text": [
      "doing binary classificatioon\n"
     ]
    },
    {
     "data": {
      "image/png": "[encoded data removed]",
      "text/plain": [
       "<Figure size 432x288 with 1 Axes>"
      ]
     },
     "metadata": {
      "needs_background": "light"
     },
     "output_type": "display_data"
    }
   ],
   "source": [
    "plot_decision_boundary(model_2, X_test.values, y_test)"
   ]
  },
  {
   "cell_type": "markdown",
   "id": "4a138fd8",
   "metadata": {},
   "source": [
    "##### Multiclass classification"
   ]
  },
  {
   "cell_type": "code",
   "execution_count": 27,
   "id": "e7262769",
   "metadata": {},
   "outputs": [
    {
     "data": {
      "text/plain": [
       "((60000, 28, 28), (10000, 28, 28), (60000,), (10000,))"
      ]
     },
     "execution_count": 27,
     "metadata": {},
     "output_type": "execute_result"
    }
   ],
   "source": [
    "(X_train, y_train), (X_test, y_test) = datasets.mnist.load_data()\n",
    "X_train.shape, X_test.shape, y_train.shape, y_test.shape"
   ]
  },
  {
   "cell_type": "code",
   "execution_count": 28,
   "id": "e421329c",
   "metadata": {},
   "outputs": [
    {
     "data": {
      "image/png": "[encoded data removed]",
      "text/plain": [
       "<Figure size 432x288 with 2 Axes>"
      ]
     },
     "metadata": {
      "needs_background": "light"
     },
     "output_type": "display_data"
    }
   ],
   "source": [
    "import matplotlib.pyplot as plt\n",
    "plt.figure()\n",
    "plt.imshow(X_train[0])\n",
    "plt.colorbar()\n",
    "plt.grid(False)\n",
    "plt.show()"
   ]
  },
  {
   "cell_type": "code",
   "execution_count": 29,
   "id": "c3cdce9e",
   "metadata": {},
   "outputs": [
    {
     "data": {
      "text/plain": [
       "(<tf.Tensor: shape=(), dtype=uint8, numpy=255>,\n",
       " <tf.Tensor: shape=(), dtype=uint8, numpy=0>)"
      ]
     },
     "execution_count": 29,
     "metadata": {},
     "output_type": "execute_result"
    }
   ],
   "source": [
    "img = X_train[0]\n",
    "tf.reduce_max(img), tf.reduce_min(img)"
   ]
  },
  {
   "cell_type": "code",
   "execution_count": 30,
   "id": "34e8846f",
   "metadata": {},
   "outputs": [
    {
     "data": {
      "text/plain": [
       "5"
      ]
     },
     "execution_count": 30,
     "metadata": {},
     "output_type": "execute_result"
    }
   ],
   "source": [
    "label = y_train[0]\n",
    "label"
   ]
  },
  {
   "cell_type": "markdown",
   "id": "b7cf46f2",
   "metadata": {},
   "source": [
    "### Normalize data"
   ]
  },
  {
   "cell_type": "code",
   "execution_count": 31,
   "id": "0936b0d4",
   "metadata": {},
   "outputs": [
    {
     "data": {
      "text/plain": [
       "(<tf.Tensor: shape=(), dtype=float64, numpy=1.0>,\n",
       " <tf.Tensor: shape=(), dtype=float64, numpy=0.0>)"
      ]
     },
     "execution_count": 31,
     "metadata": {},
     "output_type": "execute_result"
    }
   ],
   "source": [
    "X_train, X_test = X_train/255., X_test/255.\n",
    "tf.reduce_max(X_train), tf.reduce_min(X_train)"
   ]
  },
  {
   "cell_type": "code",
   "execution_count": 32,
   "id": "40f461e5",
   "metadata": {},
   "outputs": [
    {
     "data": {
      "text/plain": [
       "((60000, 28, 28), (10000, 28, 28))"
      ]
     },
     "execution_count": 32,
     "metadata": {},
     "output_type": "execute_result"
    }
   ],
   "source": [
    "X_train.shape, X_test.shape"
   ]
  },
  {
   "cell_type": "code",
   "execution_count": 33,
   "id": "117adf56",
   "metadata": {},
   "outputs": [
    {
     "data": {
      "text/plain": [
       "((60000,), (10000,))"
      ]
     },
     "execution_count": 33,
     "metadata": {},
     "output_type": "execute_result"
    }
   ],
   "source": [
    "y_train.shape, y_test.shape"
   ]
  },
  {
   "cell_type": "markdown",
   "id": "620a5f1c",
   "metadata": {},
   "source": [
    "# Dense model multiclassification"
   ]
  },
  {
   "cell_type": "code",
   "execution_count": 34,
   "id": "4f509e53",
   "metadata": {},
   "outputs": [
    {
     "name": "stdout",
     "output_type": "stream",
     "text": [
      "Epoch 1/10\n",
      "1875/1875 [==============================] - 3s 1ms/step - loss: 0.2742 - accuracy: 0.9220 - val_loss: 0.1468 - val_accuracy: 0.9566\n",
      "Epoch 2/10\n",
      "1875/1875 [==============================] - 2s 1ms/step - loss: 0.1258 - accuracy: 0.9627 - val_loss: 0.1068 - val_accuracy: 0.9680\n",
      "Epoch 3/10\n",
      "1875/1875 [==============================] - 2s 1ms/step - loss: 0.0884 - accuracy: 0.9734 - val_loss: 0.0877 - val_accuracy: 0.9736\n",
      "Epoch 4/10\n",
      "1875/1875 [==============================] - 3s 1ms/step - loss: 0.0668 - accuracy: 0.9801 - val_loss: 0.0864 - val_accuracy: 0.9732\n",
      "Epoch 5/10\n",
      "1875/1875 [==============================] - 3s 1ms/step - loss: 0.0520 - accuracy: 0.9843 - val_loss: 0.0838 - val_accuracy: 0.9738\n",
      "Epoch 6/10\n",
      "1875/1875 [==============================] - 3s 1ms/step - loss: 0.0420 - accuracy: 0.9866 - val_loss: 0.0789 - val_accuracy: 0.9759\n",
      "Epoch 7/10\n",
      "1875/1875 [==============================] - 3s 1ms/step - loss: 0.0335 - accuracy: 0.9900 - val_loss: 0.0941 - val_accuracy: 0.9740\n",
      "Epoch 8/10\n",
      "1875/1875 [==============================] - 3s 1ms/step - loss: 0.0278 - accuracy: 0.9916 - val_loss: 0.0771 - val_accuracy: 0.9767\n",
      "Epoch 9/10\n",
      "1875/1875 [==============================] - 3s 1ms/step - loss: 0.0236 - accuracy: 0.9925 - val_loss: 0.0836 - val_accuracy: 0.9764\n",
      "Epoch 10/10\n",
      "1875/1875 [==============================] - 3s 1ms/step - loss: 0.0202 - accuracy: 0.9935 - val_loss: 0.0797 - val_accuracy: 0.9772\n"
     ]
    }
   ],
   "source": [
    "from tensorflow.keras import layers\n",
    "# Create a model\n",
    "model_0 = tf.keras.Sequential([\n",
    "  layers.Flatten(),\n",
    "  layers.Dense(100, activation=\"relu\"),\n",
    "  layers.Dense(10, activation=\"softmax\")\n",
    "])\n",
    "# Compile the model\n",
    "model_0.compile(\n",
    "    loss=tf.keras.losses.SparseCategoricalCrossentropy(),\n",
    "    optimizer=tf.keras.optimizers.Adam(),\n",
    "    metrics=[\"accuracy\"]\n",
    ")\n",
    "# Fit the model\n",
    "model_0_history = model_0.fit(x=X_train, \n",
    "                              y=y_train,\n",
    "                              validation_data=(X_test, y_test),\n",
    "                              epochs=10)"
   ]
  },
  {
   "cell_type": "code",
   "execution_count": 35,
   "id": "28326bd1",
   "metadata": {},
   "outputs": [
    {
     "name": "stdout",
     "output_type": "stream",
     "text": [
      "313/313 [==============================] - 0s 946us/step - loss: 0.0797 - accuracy: 0.9772: 0s - loss: 0.1080 - accuracy: \n"
     ]
    },
    {
     "data": {
      "text/plain": [
       "[0.07966041564941406, 0.9771999716758728]"
      ]
     },
     "execution_count": 35,
     "metadata": {},
     "output_type": "execute_result"
    }
   ],
   "source": [
    "model_0.evaluate(X_test, y_test)"
   ]
  },
  {
   "cell_type": "code",
   "execution_count": 36,
   "id": "78ff15eb",
   "metadata": {},
   "outputs": [
    {
     "data": {
      "text/plain": [
       "0.9772"
      ]
     },
     "execution_count": 36,
     "metadata": {},
     "output_type": "execute_result"
    }
   ],
   "source": [
    "from sklearn.metrics import accuracy_score\n",
    "model_0_pred_prob = model_0.predict(X_test)\n",
    "model_0_pred=tf.argmax(model_0_pred_prob, axis=1)\n",
    "model_0_accuracy = accuracy_score(y_true=y_test, y_pred=model_0_pred)\n",
    "model_0_accuracy"
   ]
  },
  {
   "cell_type": "code",
   "execution_count": 37,
   "id": "6785f1f1",
   "metadata": {},
   "outputs": [
    {
     "data": {
      "text/plain": [
       "(0.9772497630007397, 0.9772, 0.9772075157153158)"
      ]
     },
     "execution_count": 37,
     "metadata": {},
     "output_type": "execute_result"
    }
   ],
   "source": [
    "from sklearn.metrics import precision_recall_fscore_support\n",
    "\n",
    "model_0_precision, model_0_recall, model_0_f1, _ = precision_recall_fscore_support(y_true=y_test,\n",
    "                                                                                y_pred=model_0_pred,\n",
    "                                                                                average=\"weighted\")\n",
    "model_0_precision, model_0_recall, model_0_f1"
   ]
  },
  {
   "cell_type": "code",
   "execution_count": 38,
   "id": "8a9b4ce5",
   "metadata": {},
   "outputs": [
    {
     "data": {
      "text/plain": [
       "{'accuracy': 0.9772,\n",
       " 'precision': 0.9772497630007397,\n",
       " 'recall': 0.9772,\n",
       " 'f1': 0.9772075157153158}"
      ]
     },
     "execution_count": 38,
     "metadata": {},
     "output_type": "execute_result"
    }
   ],
   "source": [
    "model_0_results = {\n",
    "    \"accuracy\": model_0_accuracy,\n",
    "    \"precision\": model_0_precision,\n",
    "    \"recall\": model_0_recall,\n",
    "    \"f1\": model_0_f1\n",
    "}\n",
    "\n",
    "model_0_results"
   ]
  },
  {
   "cell_type": "code",
   "execution_count": 39,
   "id": "097671aa",
   "metadata": {},
   "outputs": [
    {
     "data": {
      "text/plain": [
       "<matplotlib.legend.Legend at 0x1f3ce277cd0>"
      ]
     },
     "execution_count": 39,
     "metadata": {},
     "output_type": "execute_result"
    },
    {
     "data": {
      "image/png": "[encoded data removed]",
      "text/plain": [
       "<Figure size 720x576 with 1 Axes>"
      ]
     },
     "metadata": {
      "needs_background": "light"
     },
     "output_type": "display_data"
    }
   ],
   "source": [
    "import pandas as pd\n",
    "# plt.figure()\n",
    "pd.DataFrame(model_0_history.history).plot(figsize=(10,8))\n",
    "plt.xlabel(\"Epochs\")\n",
    "plt.ylabel(\"Accuracy\")\n",
    "plt.legend()"
   ]
  },
  {
   "cell_type": "markdown",
   "id": "75a9c1eb",
   "metadata": {},
   "source": [
    "# image classification"
   ]
  },
  {
   "cell_type": "code",
   "execution_count": 40,
   "id": "1a5bbd7a",
   "metadata": {},
   "outputs": [
    {
     "data": {
      "text/plain": [
       "((60000, 28, 28), (10000, 28, 28), (60000,), (10000,))"
      ]
     },
     "execution_count": 40,
     "metadata": {},
     "output_type": "execute_result"
    }
   ],
   "source": [
    "from tensorflow.keras.datasets import fashion_mnist\n",
    "(X_train, y_train), (X_test, y_test) = fashion_mnist.load_data()\n",
    "X_train.shape, X_test.shape, y_train.shape, y_test.shape"
   ]
  },
  {
   "cell_type": "code",
   "execution_count": 41,
   "id": "4c714770",
   "metadata": {},
   "outputs": [],
   "source": [
    "class_names = ['T-shirt/top', 'Trouser', 'Pullover', 'Dress', 'Coat',\n",
    "               'Sandal', 'Shirt', 'Sneaker', 'Bag', 'Ankle boot']"
   ]
  },
  {
   "cell_type": "code",
   "execution_count": 42,
   "id": "079d6a6c",
   "metadata": {},
   "outputs": [
    {
     "data": {
      "image/png": "[encoded data removed]",
      "text/plain": [
       "<Figure size 432x288 with 2 Axes>"
      ]
     },
     "metadata": {
      "needs_background": "light"
     },
     "output_type": "display_data"
    }
   ],
   "source": [
    "import random \n",
    "random_num = random.randint(0,len(X_train)-1)\n",
    "img = X_train[random_num]\n",
    "label = y_train[random_num]\n",
    "plt.imshow(img)\n",
    "plt.title(class_names[label])\n",
    "plt.colorbar()\n",
    "plt.show()"
   ]
  },
  {
   "cell_type": "markdown",
   "id": "a2d50a63",
   "metadata": {},
   "source": [
    "###### Preprocess data"
   ]
  },
  {
   "cell_type": "code",
   "execution_count": 43,
   "id": "efcba729",
   "metadata": {},
   "outputs": [
    {
     "data": {
      "text/plain": [
       "10"
      ]
     },
     "execution_count": 43,
     "metadata": {},
     "output_type": "execute_result"
    }
   ],
   "source": [
    "len(class_names)"
   ]
  },
  {
   "cell_type": "code",
   "execution_count": 44,
   "id": "ccb65b7c",
   "metadata": {},
   "outputs": [
    {
     "data": {
      "text/plain": [
       "(<tf.Tensor: shape=(), dtype=float64, numpy=1.0>,\n",
       " <tf.Tensor: shape=(), dtype=float64, numpy=0.0>,\n",
       " <tf.Tensor: shape=(10,), dtype=float32, numpy=array([0., 0., 0., 0., 0., 0., 0., 0., 0., 1.], dtype=float32)>)"
      ]
     },
     "execution_count": 44,
     "metadata": {},
     "output_type": "execute_result"
    }
   ],
   "source": [
    "X_train = X_train/255.\n",
    "y_train = tf.one_hot(y_train, depth=len(class_names))\n",
    "\n",
    "X_test = X_test/255.\n",
    "y_test =tf.one_hot(y_test, depth=len(class_names))\n",
    "\n",
    "tf.reduce_max(X_train), tf.reduce_min(X_train), y_train[0]"
   ]
  },
  {
   "cell_type": "markdown",
   "id": "07432c44",
   "metadata": {},
   "source": [
    "# Build and train Conv2D model"
   ]
  },
  {
   "cell_type": "code",
   "execution_count": 26,
   "id": "3ef57eb8",
   "metadata": {},
   "outputs": [],
   "source": [
    "def create_checkpoint_callback(model_name):\n",
    "  return tf.keras.callbacks.ModelCheckpoint(filepath=f\"{model_name}/checkpoint.ckpt\",\n",
    "                                                          #  monitor=\"val_accuracy\",\n",
    "                                                           save_best_only=True,\n",
    "                                                           save_weights_only=True,\n",
    "                                                           save_freq=\"epoch\")"
   ]
  },
  {
   "cell_type": "code",
   "execution_count": 46,
   "id": "e823999c",
   "metadata": {},
   "outputs": [
    {
     "name": "stdout",
     "output_type": "stream",
     "text": [
      "Epoch 1/10\n",
      "1875/1875 [==============================] - 48s 26ms/step - loss: 0.5572 - accuracy: 0.8122 - val_loss: 0.3470 - val_accuracy: 0.8782\n",
      "Epoch 2/10\n",
      "1875/1875 [==============================] - 58s 31ms/step - loss: 0.2752 - accuracy: 0.9007 - val_loss: 0.2725 - val_accuracy: 0.8995\n",
      "Epoch 3/10\n",
      "1875/1875 [==============================] - 50s 27ms/step - loss: 0.2213 - accuracy: 0.9187 - val_loss: 0.2534 - val_accuracy: 0.9086\n",
      "Epoch 4/10\n",
      "1875/1875 [==============================] - 59s 31ms/step - loss: 0.1821 - accuracy: 0.9325 - val_loss: 0.2495 - val_accuracy: 0.9100\n",
      "Epoch 5/10\n",
      "1875/1875 [==============================] - 56s 30ms/step - loss: 0.1496 - accuracy: 0.9450 - val_loss: 0.2417 - val_accuracy: 0.9173\n",
      "Epoch 6/10\n",
      "1875/1875 [==============================] - 54s 29ms/step - loss: 0.1201 - accuracy: 0.9557 - val_loss: 0.2438 - val_accuracy: 0.9188\n",
      "Epoch 7/10\n",
      "1875/1875 [==============================] - 60s 32ms/step - loss: 0.0962 - accuracy: 0.9638 - val_loss: 0.2696 - val_accuracy: 0.9223\n",
      "Epoch 8/10\n",
      "1875/1875 [==============================] - 52s 28ms/step - loss: 0.0766 - accuracy: 0.9722 - val_loss: 0.3061 - val_accuracy: 0.9172\n",
      "Epoch 9/10\n",
      "1875/1875 [==============================] - 59s 31ms/step - loss: 0.0620 - accuracy: 0.9772 - val_loss: 0.3060 - val_accuracy: 0.9150\n",
      "Epoch 10/10\n",
      "1875/1875 [==============================] - 54s 29ms/step - loss: 0.0510 - accuracy: 0.9820 - val_loss: 0.3500 - val_accuracy: 0.9195\n"
     ]
    }
   ],
   "source": [
    "from tensorflow.keras import layers\n",
    "\n",
    "# Build a model\n",
    "inputs = layers.Input(shape=(28, 28,1), name=\"input_layer\")\n",
    "\n",
    "x = layers.Conv2D(filters=32,\n",
    "                 kernel_size=3,\n",
    "                 padding=\"same\",\n",
    "                  activation=\"relu\")(inputs)\n",
    "x = layers.Conv2D(filters=32,\n",
    "                  kernel_size=3,\n",
    "                  padding=\"same\",\n",
    "                  activation=\"relu\")(x)\n",
    "x = layers.MaxPooling2D()(x)\n",
    "\n",
    "x = layers.Flatten()(x)\n",
    "\n",
    "x = layers.Dense(100, activation='relu')(x)\n",
    "x = layers.Dense(10, activation='relu')(x)\n",
    "\n",
    "outputs = layers.Dense(len(class_names), activation=\"softmax\")(x)\n",
    "\n",
    "model_3 = tf.keras.Model(inputs, outputs, name=\"model_3_conv2d\")\n",
    "\n",
    "# Compile the model\n",
    "model_3.compile(\n",
    "    loss=tf.keras.losses.CategoricalCrossentropy(),\n",
    "    optimizer=tf.keras.optimizers.Adam(),\n",
    "    metrics=[\"accuracy\"]\n",
    ")\n",
    "# Fit the model\n",
    "model_3_history = model_3.fit(X_train,\n",
    "                              y_train,\n",
    "                              validation_data=(X_test, y_test),\n",
    "                              epochs=10,\n",
    "                              callbacks=[create_checkpoint_callback(model_3.name)])"
   ]
  },
  {
   "cell_type": "code",
   "execution_count": null,
   "id": "9a0e9cf7",
   "metadata": {},
   "outputs": [],
   "source": [
    "import zipfile\n",
    "import wget\n",
    "url = 'https://storage.googleapis.com/ztm_tf_course/food_vision/10_food_classes_10_percent.zip'\n",
    "myfile = wget.download(url)"
   ]
  },
  {
   "cell_type": "code",
   "execution_count": null,
   "id": "29cba70a",
   "metadata": {},
   "outputs": [],
   "source": [
    "zip_ref = zipfile.ZipFile(myfile)\n",
    "zip_ref.extractall()\n",
    "zip_ref.close()"
   ]
  },
  {
   "cell_type": "code",
   "execution_count": 14,
   "id": "0fb8e2a9",
   "metadata": {},
   "outputs": [
    {
     "name": "stdout",
     "output_type": "stream",
     "text": [
      "There are 2 directories and 0 in 10_food_classes_10_percent\n",
      "There are 10 directories and 0 in 10_food_classes_10_percent\\test\n",
      "There are 0 directories and 250 in 10_food_classes_10_percent\\test\\chicken_curry\n",
      "There are 0 directories and 250 in 10_food_classes_10_percent\\test\\chicken_wings\n",
      "There are 0 directories and 250 in 10_food_classes_10_percent\\test\\fried_rice\n",
      "There are 0 directories and 250 in 10_food_classes_10_percent\\test\\grilled_salmon\n",
      "There are 0 directories and 250 in 10_food_classes_10_percent\\test\\hamburger\n",
      "There are 0 directories and 250 in 10_food_classes_10_percent\\test\\ice_cream\n",
      "There are 0 directories and 250 in 10_food_classes_10_percent\\test\\pizza\n",
      "There are 0 directories and 250 in 10_food_classes_10_percent\\test\\ramen\n",
      "There are 0 directories and 250 in 10_food_classes_10_percent\\test\\steak\n",
      "There are 0 directories and 250 in 10_food_classes_10_percent\\test\\sushi\n",
      "There are 10 directories and 0 in 10_food_classes_10_percent\\train\n",
      "There are 0 directories and 75 in 10_food_classes_10_percent\\train\\chicken_curry\n",
      "There are 0 directories and 75 in 10_food_classes_10_percent\\train\\chicken_wings\n",
      "There are 0 directories and 75 in 10_food_classes_10_percent\\train\\fried_rice\n",
      "There are 0 directories and 75 in 10_food_classes_10_percent\\train\\grilled_salmon\n",
      "There are 0 directories and 75 in 10_food_classes_10_percent\\train\\hamburger\n",
      "There are 0 directories and 75 in 10_food_classes_10_percent\\train\\ice_cream\n",
      "There are 0 directories and 75 in 10_food_classes_10_percent\\train\\pizza\n",
      "There are 0 directories and 75 in 10_food_classes_10_percent\\train\\ramen\n",
      "There are 0 directories and 75 in 10_food_classes_10_percent\\train\\steak\n",
      "There are 0 directories and 75 in 10_food_classes_10_percent\\train\\sushi\n"
     ]
    }
   ],
   "source": [
    "import os\n",
    "for dir_path, dir_names, file_names in os.walk(\"10_food_classes_10_percent\"):\n",
    "  print(f\"There are {len(dir_names)} directories and {len(file_names)} in {dir_path}\")"
   ]
  },
  {
   "cell_type": "code",
   "execution_count": 15,
   "id": "16c8ff8f",
   "metadata": {},
   "outputs": [],
   "source": [
    "train_dir = \"10_food_classes_10_percent/train\"\n",
    "test_dir = \"10_food_classes_10_percent/test\""
   ]
  },
  {
   "cell_type": "code",
   "execution_count": 16,
   "id": "ceea368b",
   "metadata": {},
   "outputs": [
    {
     "name": "stdout",
     "output_type": "stream",
     "text": [
      "['chicken_curry', 'chicken_wings', 'fried_rice', 'grilled_salmon', 'hamburger', 'ice_cream', 'pizza', 'ramen', 'steak', 'sushi']\n"
     ]
    }
   ],
   "source": [
    "import pathlib\n",
    "import numpy as np\n",
    "\n",
    "data_dir = pathlib.Path(train_dir)\n",
    "class_names = sorted([item.name for item in data_dir.glob(\"*\")])\n",
    "print(class_names)"
   ]
  },
  {
   "cell_type": "code",
   "execution_count": 17,
   "id": "d3caa453",
   "metadata": {},
   "outputs": [],
   "source": [
    "import matplotlib.pyplot as plt\n",
    "import matplotlib.image as mpimg\n",
    "import random\n",
    "import os\n",
    "\n",
    "def view_random_image(target_dir, target_class):\n",
    "  # Set the target directory\n",
    "  target_folder = os.path.join(target_dir, target_class)\n",
    "\n",
    "  # Get a random image path\n",
    "  random_image = random.sample(os.listdir(target_folder),1)\n",
    "  print(random_image)\n",
    "  # Read in the image \n",
    "  img = mpimg.imread(target_folder+\"/\"+random_image[0])\n",
    "  plt.imshow(img)\n",
    "  plt.title(target_class)\n",
    "  plt.axis(\"off\");\n",
    "\n",
    "  print(f\"Image shape {img.shape}\")\n",
    "  return img"
   ]
  },
  {
   "cell_type": "code",
   "execution_count": 18,
   "id": "a02a085f",
   "metadata": {},
   "outputs": [
    {
     "name": "stdout",
     "output_type": "stream",
     "text": [
      "['277516.jpg']\n",
      "Image shape (512, 382, 3)\n"
     ]
    },
    {
     "data": {
      "image/png": "[encoded data removed]",
      "text/plain": [
       "<Figure size 432x288 with 1 Axes>"
      ]
     },
     "metadata": {
      "needs_background": "light"
     },
     "output_type": "display_data"
    }
   ],
   "source": [
    "random_class = random.choice(class_names)\n",
    "random_img = view_random_image(train_dir, random_class)"
   ]
  },
  {
   "cell_type": "code",
   "execution_count": 19,
   "id": "a02308df",
   "metadata": {},
   "outputs": [],
   "source": [
    "IMG_SIZE=(224,224)"
   ]
  },
  {
   "cell_type": "code",
   "execution_count": 20,
   "id": "28c4fa21",
   "metadata": {},
   "outputs": [
    {
     "data": {
      "text/plain": [
       "(224, 224, 3)"
      ]
     },
     "execution_count": 20,
     "metadata": {},
     "output_type": "execute_result"
    }
   ],
   "source": [
    "IMG_SIZE+(3,)"
   ]
  },
  {
   "cell_type": "code",
   "execution_count": 21,
   "id": "80227efb",
   "metadata": {},
   "outputs": [
    {
     "name": "stdout",
     "output_type": "stream",
     "text": [
      "Training image:\n",
      "Found 750 files belonging to 10 classes.\n",
      "Testing image:\n",
      "Found 2500 files belonging to 10 classes.\n"
     ]
    }
   ],
   "source": [
    "IMG_SHAPE = (224, 224)\n",
    "BATCH_SIZE = 32\n",
    "EPOCHS = 5\n",
    "\n",
    "# Specify the train and the test directories\n",
    "train_dir = \"10_food_classes_10_percent/train/\"\n",
    "test_dir = \"10_food_classes_10_percent/test/\"\n",
    "\n",
    "print(\"Training image:\")\n",
    "train_data_10_percent = tf.keras.preprocessing.image_dataset_from_directory(train_dir,\n",
    "                                              image_size=IMG_SIZE,\n",
    "                                              batch_size=BATCH_SIZE,\n",
    "                                              label_mode=\"categorical\")\n",
    "print(\"Testing image:\")\n",
    "test_data_10_percent = tf.keras.preprocessing.image_dataset_from_directory(test_dir,\n",
    "                                            image_size=IMG_SIZE,\n",
    "                                            batch_size=BATCH_SIZE,\n",
    "                                            label_mode=\"categorical\")"
   ]
  },
  {
   "cell_type": "code",
   "execution_count": 56,
   "id": "0dd45fbc",
   "metadata": {},
   "outputs": [
    {
     "name": "stdout",
     "output_type": "stream",
     "text": [
      "Epoch 1/5\n",
      "24/24 [==============================] - 29s 1s/step - loss: 5.3116 - accuracy: 0.1067 - val_loss: 2.2950 - val_accuracy: 0.1100\n",
      "Epoch 2/5\n",
      "24/24 [==============================] - 29s 1s/step - loss: 2.0779 - accuracy: 0.3587 - val_loss: 2.2512 - val_accuracy: 0.1556\n",
      "Epoch 3/5\n",
      "24/24 [==============================] - 35s 1s/step - loss: 1.4823 - accuracy: 0.6520 - val_loss: 2.2519 - val_accuracy: 0.1856\n",
      "Epoch 4/5\n",
      "24/24 [==============================] - 34s 1s/step - loss: 0.6885 - accuracy: 0.8787 - val_loss: 2.4266 - val_accuracy: 0.1884\n",
      "Epoch 5/5\n",
      "24/24 [==============================] - 31s 1s/step - loss: 0.2372 - accuracy: 0.9747 - val_loss: 2.6883 - val_accuracy: 0.1680\n"
     ]
    }
   ],
   "source": [
    "inputs = layers.Input(shape=(IMG_SIZE+(3,)), name=\"input_layer\")\n",
    "\n",
    "x = layers.experimental.preprocessing.Rescaling(1./255)(inputs)\n",
    "\n",
    "x = layers.Conv2D(filters=10,\n",
    "                  kernel_size=3,\n",
    "                  activation=\"relu\")(x)\n",
    "x = layers.Conv2D(filters=10,\n",
    "                  kernel_size=3,\n",
    "                  activation=\"relu\")(x)\n",
    "x = layers.MaxPool2D()(x)\n",
    "\n",
    "x = layers.Flatten()(x)\n",
    "\n",
    "outputs = layers.Dense(len(class_names), activation=\"softmax\")(x)\n",
    "\n",
    "model_4 = tf.keras.Model(inputs, outputs, name=\"model_4_Conv2D\")\n",
    "\n",
    "# Compile the model\n",
    "model_4.compile(\n",
    "    loss=tf.keras.losses.CategoricalCrossentropy(),\n",
    "    optimizer=tf.keras.optimizers.Adam(),\n",
    "    metrics=[\"accuracy\"]\n",
    ")\n",
    "\n",
    "# Fit the model\n",
    "model_4_history = model_4.fit(train_data_10_percent,\n",
    "                              validation_data=test_data_10_percent,\n",
    "                              epochs=5,\n",
    "                              callbacks=[create_checkpoint_callback(model_4.name)])\n"
   ]
  },
  {
   "cell_type": "code",
   "execution_count": 57,
   "id": "7de9c9ac",
   "metadata": {},
   "outputs": [
    {
     "name": "stdout",
     "output_type": "stream",
     "text": [
      "79/79 [==============================] - 16s 200ms/step - loss: 2.6883 - accuracy: 0.1680\n"
     ]
    },
    {
     "data": {
      "text/plain": [
       "[2.688333749771118, 0.1679999977350235]"
      ]
     },
     "execution_count": 57,
     "metadata": {},
     "output_type": "execute_result"
    }
   ],
   "source": [
    "model_4.evaluate(test_data_10_percent)"
   ]
  },
  {
   "cell_type": "code",
   "execution_count": 58,
   "id": "d0317fab",
   "metadata": {},
   "outputs": [
    {
     "data": {
      "text/plain": [
       "<AxesSubplot:>"
      ]
     },
     "execution_count": 58,
     "metadata": {},
     "output_type": "execute_result"
    },
    {
     "data": {
      "image/png": "[encoded data removed]",
      "text/plain": [
       "<Figure size 432x288 with 1 Axes>"
      ]
     },
     "metadata": {
      "needs_background": "light"
     },
     "output_type": "display_data"
    }
   ],
   "source": [
    "pd.DataFrame(model_4_history.history).plot()"
   ]
  },
  {
   "cell_type": "code",
   "execution_count": 22,
   "id": "a9480dce",
   "metadata": {},
   "outputs": [
    {
     "name": "stdout",
     "output_type": "stream",
     "text": [
      "Found 750 images belonging to 10 classes.\n",
      "Found 2500 images belonging to 10 classes.\n"
     ]
    }
   ],
   "source": [
    "# Create augmented data generator instance\n",
    "from tensorflow.keras.preprocessing.image import ImageDataGenerator\n",
    "tf.random.set_seed(42)\n",
    "\n",
    "# Prepare dataset\n",
    "train_datagen = ImageDataGenerator(rescale=1./255,\n",
    "                                rotation_range=0.2,\n",
    "                                shear_range=0.2,\n",
    "                                zoom_range=0.2,\n",
    "                                width_shift_range=0.2,\n",
    "                                height_shift_range=0.2,\n",
    "                                horizontal_flip=True)\n",
    "test_datagen = ImageDataGenerator(rescale=1./255)\n",
    "\n",
    "train_ds = train_datagen.flow_from_directory(train_dir,\n",
    "                                             target_size=IMG_SIZE,\n",
    "                                             seed=42,\n",
    "                                             shuffle=False)\n",
    "\n",
    "test_ds = test_datagen.flow_from_directory(test_dir,\n",
    "                                             target_size=IMG_SIZE,\n",
    "                                             seed=42,\n",
    "                                             shuffle=False)"
   ]
  },
  {
   "cell_type": "code",
   "execution_count": 60,
   "id": "d162a791",
   "metadata": {},
   "outputs": [
    {
     "name": "stdout",
     "output_type": "stream",
     "text": [
      "Epoch 1/10\n",
      "24/24 [==============================] - 38s 2s/step - loss: 2.4248 - accuracy: 0.0133 - val_loss: 2.3033 - val_accuracy: 0.1136\n",
      "Epoch 2/10\n",
      "24/24 [==============================] - 39s 2s/step - loss: 2.3040 - accuracy: 0.0613 - val_loss: 2.3028 - val_accuracy: 0.1060\n",
      "Epoch 3/10\n",
      "24/24 [==============================] - 46s 2s/step - loss: 2.3036 - accuracy: 0.0333 - val_loss: 2.3028 - val_accuracy: 0.0896\n",
      "Epoch 4/10\n",
      "24/24 [==============================] - 37s 2s/step - loss: 2.3034 - accuracy: 0.0680 - val_loss: 2.3027 - val_accuracy: 0.0868\n",
      "Epoch 5/10\n",
      "24/24 [==============================] - 43s 2s/step - loss: 2.3034 - accuracy: 0.0667 - val_loss: 2.3027 - val_accuracy: 0.0920\n",
      "Epoch 6/10\n",
      "24/24 [==============================] - 41s 2s/step - loss: 2.3034 - accuracy: 0.0947 - val_loss: 2.3027 - val_accuracy: 0.0968\n",
      "Epoch 7/10\n",
      "24/24 [==============================] - 43s 2s/step - loss: 2.3031 - accuracy: 0.1000 - val_loss: 2.3027 - val_accuracy: 0.0992\n",
      "Epoch 8/10\n",
      "24/24 [==============================] - 41s 2s/step - loss: 2.3031 - accuracy: 0.1000 - val_loss: 2.3027 - val_accuracy: 0.0996\n",
      "Epoch 9/10\n",
      "24/24 [==============================] - 44s 2s/step - loss: 2.3032 - accuracy: 0.1000 - val_loss: 2.3027 - val_accuracy: 0.0996\n",
      "Epoch 10/10\n",
      "24/24 [==============================] - 42s 2s/step - loss: 2.3033 - accuracy: 0.1000 - val_loss: 2.3026 - val_accuracy: 0.1000\n"
     ]
    }
   ],
   "source": [
    "inputs = layers.Input(shape=(IMG_SIZE+(3,)), name=\"input_layer\")\n",
    "\n",
    "x = layers.Conv2D(filters=10,\n",
    "                  kernel_size=3,\n",
    "                  activation=\"relu\")(inputs)\n",
    "x = layers.Conv2D(filters=10,\n",
    "                  kernel_size=3,\n",
    "                  activation=\"relu\")(x)\n",
    "x = layers.MaxPool2D()(x)\n",
    "\n",
    "x = layers.Conv2D(filters=10,\n",
    "                  kernel_size=3,\n",
    "                  activation=\"relu\")(x)\n",
    "x = layers.Conv2D(filters=10,\n",
    "                  kernel_size=3,\n",
    "                  activation=\"relu\")(x)\n",
    "x = layers.MaxPool2D()(x)\n",
    "\n",
    "x = layers.Flatten()(x)\n",
    "\n",
    "outputs = layers.Dense(len(class_names), activation=\"softmax\")(x)\n",
    "\n",
    "model_5 = tf.keras.Model(inputs, outputs, name=\"model_5_Conv2D_data_aug\")\n",
    "\n",
    "# Compile the model\n",
    "model_5.compile(\n",
    "    loss=tf.keras.losses.CategoricalCrossentropy(),\n",
    "    optimizer=tf.keras.optimizers.Adam(),\n",
    "    metrics=[\"accuracy\"]\n",
    ")\n",
    "\n",
    "# Fit the model\n",
    "model_5_history = model_5.fit(train_ds,\n",
    "                              validation_data=test_ds,\n",
    "                              epochs=10,\n",
    "                              callbacks=[create_checkpoint_callback(model_5.name)])"
   ]
  },
  {
   "cell_type": "code",
   "execution_count": 61,
   "id": "69541159",
   "metadata": {},
   "outputs": [
    {
     "name": "stdout",
     "output_type": "stream",
     "text": [
      "79/79 [==============================] - 22s 280ms/step - loss: 2.3026 - accuracy: 0.1000\n"
     ]
    },
    {
     "data": {
      "text/plain": [
       "[2.3026084899902344, 0.10000000149011612]"
      ]
     },
     "execution_count": 61,
     "metadata": {},
     "output_type": "execute_result"
    }
   ],
   "source": [
    "model_5.evaluate(test_ds)"
   ]
  },
  {
   "cell_type": "markdown",
   "id": "338c93fd",
   "metadata": {},
   "source": [
    "# Transfer learning\n",
    "using EfficientNetB0-V2"
   ]
  },
  {
   "cell_type": "code",
   "execution_count": 23,
   "id": "69c0ef34",
   "metadata": {},
   "outputs": [
    {
     "name": "stdout",
     "output_type": "stream",
     "text": [
      "Training image:\n",
      "Found 750 images belonging to 10 classes.\n",
      "Testing image:\n",
      "Found 2500 images belonging to 10 classes.\n"
     ]
    }
   ],
   "source": [
    "IMG_SHAPE = (224, 224)\n",
    "BATCH_SIZE = 32\n",
    "EPOCHS = 5\n",
    "\n",
    "# Specify the train and the test directories\n",
    "train_dir = \"10_food_classes_10_percent/train/\"\n",
    "test_dir = \"10_food_classes_10_percent/test/\"\n",
    "\n",
    "train_datagen = ImageDataGenerator(rescale=1./255)\n",
    "test_datagen = ImageDataGenerator(rescale=1./255)\n",
    "\n",
    "print(\"Training image:\")\n",
    "train_data_10_percent = train_datagen.flow_from_directory(train_dir,\n",
    "                                              target_size=IMG_SHAPE,\n",
    "                                              batch_size=BATCH_SIZE,\n",
    "                                              class_mode=\"categorical\")\n",
    "print(\"Testing image:\")\n",
    "test_data_10_percent = test_datagen.flow_from_directory(test_dir,\n",
    "                                            target_size=IMG_SHAPE,\n",
    "                                            batch_size=BATCH_SIZE,\n",
    "                                            class_mode=\"categorical\")"
   ]
  },
  {
   "cell_type": "code",
   "execution_count": 63,
   "id": "a67f13c8",
   "metadata": {},
   "outputs": [],
   "source": [
    "base_model = tf.keras.applications.EfficientNetB0(include_top=True,input_shape=IMG_SHAPE+(3,))\n",
    "base_model.trainable = False\n",
    "model_6_v2 = tf.keras.Sequential([\n",
    "    base_model, # use the feature extraction layer as the base\n",
    "    layers.Dense(len(class_names), activation='softmax', name='output_layer') # create our own output layer      \n",
    "  ])\n",
    "model_6_v2.compile(loss=\"categorical_crossentropy\",\n",
    "              optimizer=tf.keras.optimizers.Adam(), # use Adam with default settings\n",
    "              metrics=[\"accuracy\"])"
   ]
  },
  {
   "cell_type": "code",
   "execution_count": 64,
   "id": "ac21d700",
   "metadata": {},
   "outputs": [
    {
     "name": "stdout",
     "output_type": "stream",
     "text": [
      "Model: \"efficientnetb0\"\n",
      "__________________________________________________________________________________________________\n",
      "Layer (type)                    Output Shape         Param #     Connected to                     \n",
      "==================================================================================================\n",
      "input_1 (InputLayer)            [(None, 224, 224, 3) 0                                            \n",
      "__________________________________________________________________________________________________\n",
      "rescaling_1 (Rescaling)         (None, 224, 224, 3)  0           input_1[0][0]                    \n",
      "__________________________________________________________________________________________________\n",
      "normalization (Normalization)   (None, 224, 224, 3)  7           rescaling_1[0][0]                \n",
      "__________________________________________________________________________________________________\n",
      "stem_conv_pad (ZeroPadding2D)   (None, 225, 225, 3)  0           normalization[0][0]              \n",
      "__________________________________________________________________________________________________\n",
      "stem_conv (Conv2D)              (None, 112, 112, 32) 864         stem_conv_pad[0][0]              \n",
      "__________________________________________________________________________________________________\n",
      "stem_bn (BatchNormalization)    (None, 112, 112, 32) 128         stem_conv[0][0]                  \n",
      "__________________________________________________________________________________________________\n",
      "stem_activation (Activation)    (None, 112, 112, 32) 0           stem_bn[0][0]                    \n",
      "__________________________________________________________________________________________________\n",
      "block1a_dwconv (DepthwiseConv2D (None, 112, 112, 32) 288         stem_activation[0][0]            \n",
      "__________________________________________________________________________________________________\n",
      "block1a_bn (BatchNormalization) (None, 112, 112, 32) 128         block1a_dwconv[0][0]             \n",
      "__________________________________________________________________________________________________\n",
      "block1a_activation (Activation) (None, 112, 112, 32) 0           block1a_bn[0][0]                 \n",
      "__________________________________________________________________________________________________\n",
      "block1a_se_squeeze (GlobalAvera (None, 32)           0           block1a_activation[0][0]         \n",
      "__________________________________________________________________________________________________\n",
      "block1a_se_reshape (Reshape)    (None, 1, 1, 32)     0           block1a_se_squeeze[0][0]         \n",
      "__________________________________________________________________________________________________\n",
      "block1a_se_reduce (Conv2D)      (None, 1, 1, 8)      264         block1a_se_reshape[0][0]         \n",
      "__________________________________________________________________________________________________\n",
      "block1a_se_expand (Conv2D)      (None, 1, 1, 32)     288         block1a_se_reduce[0][0]          \n",
      "__________________________________________________________________________________________________\n",
      "block1a_se_excite (Multiply)    (None, 112, 112, 32) 0           block1a_activation[0][0]         \n",
      "                                                                 block1a_se_expand[0][0]          \n",
      "__________________________________________________________________________________________________\n",
      "block1a_project_conv (Conv2D)   (None, 112, 112, 16) 512         block1a_se_excite[0][0]          \n",
      "__________________________________________________________________________________________________\n",
      "block1a_project_bn (BatchNormal (None, 112, 112, 16) 64          block1a_project_conv[0][0]       \n",
      "__________________________________________________________________________________________________\n",
      "block2a_expand_conv (Conv2D)    (None, 112, 112, 96) 1536        block1a_project_bn[0][0]         \n",
      "__________________________________________________________________________________________________\n",
      "block2a_expand_bn (BatchNormali (None, 112, 112, 96) 384         block2a_expand_conv[0][0]        \n",
      "__________________________________________________________________________________________________\n",
      "block2a_expand_activation (Acti (None, 112, 112, 96) 0           block2a_expand_bn[0][0]          \n",
      "__________________________________________________________________________________________________\n",
      "block2a_dwconv_pad (ZeroPadding (None, 113, 113, 96) 0           block2a_expand_activation[0][0]  \n",
      "__________________________________________________________________________________________________\n",
      "block2a_dwconv (DepthwiseConv2D (None, 56, 56, 96)   864         block2a_dwconv_pad[0][0]         \n",
      "__________________________________________________________________________________________________\n",
      "block2a_bn (BatchNormalization) (None, 56, 56, 96)   384         block2a_dwconv[0][0]             \n",
      "__________________________________________________________________________________________________\n",
      "block2a_activation (Activation) (None, 56, 56, 96)   0           block2a_bn[0][0]                 \n",
      "__________________________________________________________________________________________________\n",
      "block2a_se_squeeze (GlobalAvera (None, 96)           0           block2a_activation[0][0]         \n",
      "__________________________________________________________________________________________________\n",
      "block2a_se_reshape (Reshape)    (None, 1, 1, 96)     0           block2a_se_squeeze[0][0]         \n",
      "__________________________________________________________________________________________________\n",
      "block2a_se_reduce (Conv2D)      (None, 1, 1, 4)      388         block2a_se_reshape[0][0]         \n",
      "__________________________________________________________________________________________________\n",
      "block2a_se_expand (Conv2D)      (None, 1, 1, 96)     480         block2a_se_reduce[0][0]          \n",
      "__________________________________________________________________________________________________\n",
      "block2a_se_excite (Multiply)    (None, 56, 56, 96)   0           block2a_activation[0][0]         \n",
      "                                                                 block2a_se_expand[0][0]          \n",
      "__________________________________________________________________________________________________\n",
      "block2a_project_conv (Conv2D)   (None, 56, 56, 24)   2304        block2a_se_excite[0][0]          \n",
      "__________________________________________________________________________________________________\n",
      "block2a_project_bn (BatchNormal (None, 56, 56, 24)   96          block2a_project_conv[0][0]       \n",
      "__________________________________________________________________________________________________\n",
      "block2b_expand_conv (Conv2D)    (None, 56, 56, 144)  3456        block2a_project_bn[0][0]         \n",
      "__________________________________________________________________________________________________\n",
      "block2b_expand_bn (BatchNormali (None, 56, 56, 144)  576         block2b_expand_conv[0][0]        \n",
      "__________________________________________________________________________________________________\n",
      "block2b_expand_activation (Acti (None, 56, 56, 144)  0           block2b_expand_bn[0][0]          \n",
      "__________________________________________________________________________________________________\n",
      "block2b_dwconv (DepthwiseConv2D (None, 56, 56, 144)  1296        block2b_expand_activation[0][0]  \n",
      "__________________________________________________________________________________________________\n",
      "block2b_bn (BatchNormalization) (None, 56, 56, 144)  576         block2b_dwconv[0][0]             \n",
      "__________________________________________________________________________________________________\n",
      "block2b_activation (Activation) (None, 56, 56, 144)  0           block2b_bn[0][0]                 \n",
      "__________________________________________________________________________________________________\n",
      "block2b_se_squeeze (GlobalAvera (None, 144)          0           block2b_activation[0][0]         \n",
      "__________________________________________________________________________________________________\n",
      "block2b_se_reshape (Reshape)    (None, 1, 1, 144)    0           block2b_se_squeeze[0][0]         \n",
      "__________________________________________________________________________________________________\n",
      "block2b_se_reduce (Conv2D)      (None, 1, 1, 6)      870         block2b_se_reshape[0][0]         \n",
      "__________________________________________________________________________________________________\n",
      "block2b_se_expand (Conv2D)      (None, 1, 1, 144)    1008        block2b_se_reduce[0][0]          \n",
      "__________________________________________________________________________________________________\n",
      "block2b_se_excite (Multiply)    (None, 56, 56, 144)  0           block2b_activation[0][0]         \n",
      "                                                                 block2b_se_expand[0][0]          \n",
      "__________________________________________________________________________________________________\n",
      "block2b_project_conv (Conv2D)   (None, 56, 56, 24)   3456        block2b_se_excite[0][0]          \n",
      "__________________________________________________________________________________________________\n",
      "block2b_project_bn (BatchNormal (None, 56, 56, 24)   96          block2b_project_conv[0][0]       \n",
      "__________________________________________________________________________________________________\n",
      "block2b_drop (Dropout)          (None, 56, 56, 24)   0           block2b_project_bn[0][0]         \n",
      "__________________________________________________________________________________________________\n",
      "block2b_add (Add)               (None, 56, 56, 24)   0           block2b_drop[0][0]               \n",
      "                                                                 block2a_project_bn[0][0]         \n",
      "__________________________________________________________________________________________________\n",
      "block3a_expand_conv (Conv2D)    (None, 56, 56, 144)  3456        block2b_add[0][0]                \n",
      "__________________________________________________________________________________________________\n",
      "block3a_expand_bn (BatchNormali (None, 56, 56, 144)  576         block3a_expand_conv[0][0]        \n",
      "__________________________________________________________________________________________________\n",
      "block3a_expand_activation (Acti (None, 56, 56, 144)  0           block3a_expand_bn[0][0]          \n",
      "__________________________________________________________________________________________________\n",
      "block3a_dwconv_pad (ZeroPadding (None, 59, 59, 144)  0           block3a_expand_activation[0][0]  \n",
      "__________________________________________________________________________________________________\n",
      "block3a_dwconv (DepthwiseConv2D (None, 28, 28, 144)  3600        block3a_dwconv_pad[0][0]         \n",
      "__________________________________________________________________________________________________\n",
      "block3a_bn (BatchNormalization) (None, 28, 28, 144)  576         block3a_dwconv[0][0]             \n",
      "__________________________________________________________________________________________________\n",
      "block3a_activation (Activation) (None, 28, 28, 144)  0           block3a_bn[0][0]                 \n",
      "__________________________________________________________________________________________________\n",
      "block3a_se_squeeze (GlobalAvera (None, 144)          0           block3a_activation[0][0]         \n",
      "__________________________________________________________________________________________________\n",
      "block3a_se_reshape (Reshape)    (None, 1, 1, 144)    0           block3a_se_squeeze[0][0]         \n",
      "__________________________________________________________________________________________________\n",
      "block3a_se_reduce (Conv2D)      (None, 1, 1, 6)      870         block3a_se_reshape[0][0]         \n",
      "__________________________________________________________________________________________________\n",
      "block3a_se_expand (Conv2D)      (None, 1, 1, 144)    1008        block3a_se_reduce[0][0]          \n",
      "__________________________________________________________________________________________________\n",
      "block3a_se_excite (Multiply)    (None, 28, 28, 144)  0           block3a_activation[0][0]         \n",
      "                                                                 block3a_se_expand[0][0]          \n",
      "__________________________________________________________________________________________________\n",
      "block3a_project_conv (Conv2D)   (None, 28, 28, 40)   5760        block3a_se_excite[0][0]          \n",
      "__________________________________________________________________________________________________\n",
      "block3a_project_bn (BatchNormal (None, 28, 28, 40)   160         block3a_project_conv[0][0]       \n",
      "__________________________________________________________________________________________________\n",
      "block3b_expand_conv (Conv2D)    (None, 28, 28, 240)  9600        block3a_project_bn[0][0]         \n",
      "__________________________________________________________________________________________________\n",
      "block3b_expand_bn (BatchNormali (None, 28, 28, 240)  960         block3b_expand_conv[0][0]        \n",
      "__________________________________________________________________________________________________\n",
      "block3b_expand_activation (Acti (None, 28, 28, 240)  0           block3b_expand_bn[0][0]          \n",
      "__________________________________________________________________________________________________\n",
      "block3b_dwconv (DepthwiseConv2D (None, 28, 28, 240)  6000        block3b_expand_activation[0][0]  \n",
      "__________________________________________________________________________________________________\n",
      "block3b_bn (BatchNormalization) (None, 28, 28, 240)  960         block3b_dwconv[0][0]             \n",
      "__________________________________________________________________________________________________\n",
      "block3b_activation (Activation) (None, 28, 28, 240)  0           block3b_bn[0][0]                 \n",
      "__________________________________________________________________________________________________\n",
      "block3b_se_squeeze (GlobalAvera (None, 240)          0           block3b_activation[0][0]         \n",
      "__________________________________________________________________________________________________\n",
      "block3b_se_reshape (Reshape)    (None, 1, 1, 240)    0           block3b_se_squeeze[0][0]         \n",
      "__________________________________________________________________________________________________\n",
      "block3b_se_reduce (Conv2D)      (None, 1, 1, 10)     2410        block3b_se_reshape[0][0]         \n",
      "__________________________________________________________________________________________________\n",
      "block3b_se_expand (Conv2D)      (None, 1, 1, 240)    2640        block3b_se_reduce[0][0]          \n",
      "__________________________________________________________________________________________________\n",
      "block3b_se_excite (Multiply)    (None, 28, 28, 240)  0           block3b_activation[0][0]         \n",
      "                                                                 block3b_se_expand[0][0]          \n",
      "__________________________________________________________________________________________________\n",
      "block3b_project_conv (Conv2D)   (None, 28, 28, 40)   9600        block3b_se_excite[0][0]          \n",
      "__________________________________________________________________________________________________\n",
      "block3b_project_bn (BatchNormal (None, 28, 28, 40)   160         block3b_project_conv[0][0]       \n",
      "__________________________________________________________________________________________________\n",
      "block3b_drop (Dropout)          (None, 28, 28, 40)   0           block3b_project_bn[0][0]         \n",
      "__________________________________________________________________________________________________\n",
      "block3b_add (Add)               (None, 28, 28, 40)   0           block3b_drop[0][0]               \n",
      "                                                                 block3a_project_bn[0][0]         \n",
      "__________________________________________________________________________________________________\n",
      "block4a_expand_conv (Conv2D)    (None, 28, 28, 240)  9600        block3b_add[0][0]                \n",
      "__________________________________________________________________________________________________\n",
      "block4a_expand_bn (BatchNormali (None, 28, 28, 240)  960         block4a_expand_conv[0][0]        \n",
      "__________________________________________________________________________________________________\n",
      "block4a_expand_activation (Acti (None, 28, 28, 240)  0           block4a_expand_bn[0][0]          \n",
      "__________________________________________________________________________________________________\n",
      "block4a_dwconv_pad (ZeroPadding (None, 29, 29, 240)  0           block4a_expand_activation[0][0]  \n",
      "__________________________________________________________________________________________________\n",
      "block4a_dwconv (DepthwiseConv2D (None, 14, 14, 240)  2160        block4a_dwconv_pad[0][0]         \n",
      "__________________________________________________________________________________________________\n",
      "block4a_bn (BatchNormalization) (None, 14, 14, 240)  960         block4a_dwconv[0][0]             \n",
      "__________________________________________________________________________________________________\n",
      "block4a_activation (Activation) (None, 14, 14, 240)  0           block4a_bn[0][0]                 \n",
      "__________________________________________________________________________________________________\n",
      "block4a_se_squeeze (GlobalAvera (None, 240)          0           block4a_activation[0][0]         \n",
      "__________________________________________________________________________________________________\n",
      "block4a_se_reshape (Reshape)    (None, 1, 1, 240)    0           block4a_se_squeeze[0][0]         \n",
      "__________________________________________________________________________________________________\n",
      "block4a_se_reduce (Conv2D)      (None, 1, 1, 10)     2410        block4a_se_reshape[0][0]         \n",
      "__________________________________________________________________________________________________\n",
      "block4a_se_expand (Conv2D)      (None, 1, 1, 240)    2640        block4a_se_reduce[0][0]          \n",
      "__________________________________________________________________________________________________\n",
      "block4a_se_excite (Multiply)    (None, 14, 14, 240)  0           block4a_activation[0][0]         \n",
      "                                                                 block4a_se_expand[0][0]          \n",
      "__________________________________________________________________________________________________\n",
      "block4a_project_conv (Conv2D)   (None, 14, 14, 80)   19200       block4a_se_excite[0][0]          \n",
      "__________________________________________________________________________________________________\n",
      "block4a_project_bn (BatchNormal (None, 14, 14, 80)   320         block4a_project_conv[0][0]       \n",
      "__________________________________________________________________________________________________\n",
      "block4b_expand_conv (Conv2D)    (None, 14, 14, 480)  38400       block4a_project_bn[0][0]         \n",
      "__________________________________________________________________________________________________\n",
      "block4b_expand_bn (BatchNormali (None, 14, 14, 480)  1920        block4b_expand_conv[0][0]        \n",
      "__________________________________________________________________________________________________\n",
      "block4b_expand_activation (Acti (None, 14, 14, 480)  0           block4b_expand_bn[0][0]          \n",
      "__________________________________________________________________________________________________\n",
      "block4b_dwconv (DepthwiseConv2D (None, 14, 14, 480)  4320        block4b_expand_activation[0][0]  \n",
      "__________________________________________________________________________________________________\n",
      "block4b_bn (BatchNormalization) (None, 14, 14, 480)  1920        block4b_dwconv[0][0]             \n",
      "__________________________________________________________________________________________________\n",
      "block4b_activation (Activation) (None, 14, 14, 480)  0           block4b_bn[0][0]                 \n",
      "__________________________________________________________________________________________________\n",
      "block4b_se_squeeze (GlobalAvera (None, 480)          0           block4b_activation[0][0]         \n",
      "__________________________________________________________________________________________________\n",
      "block4b_se_reshape (Reshape)    (None, 1, 1, 480)    0           block4b_se_squeeze[0][0]         \n",
      "__________________________________________________________________________________________________\n",
      "block4b_se_reduce (Conv2D)      (None, 1, 1, 20)     9620        block4b_se_reshape[0][0]         \n",
      "__________________________________________________________________________________________________\n",
      "block4b_se_expand (Conv2D)      (None, 1, 1, 480)    10080       block4b_se_reduce[0][0]          \n",
      "__________________________________________________________________________________________________\n",
      "block4b_se_excite (Multiply)    (None, 14, 14, 480)  0           block4b_activation[0][0]         \n",
      "                                                                 block4b_se_expand[0][0]          \n",
      "__________________________________________________________________________________________________\n",
      "block4b_project_conv (Conv2D)   (None, 14, 14, 80)   38400       block4b_se_excite[0][0]          \n",
      "__________________________________________________________________________________________________\n",
      "block4b_project_bn (BatchNormal (None, 14, 14, 80)   320         block4b_project_conv[0][0]       \n",
      "__________________________________________________________________________________________________\n",
      "block4b_drop (Dropout)          (None, 14, 14, 80)   0           block4b_project_bn[0][0]         \n",
      "__________________________________________________________________________________________________\n",
      "block4b_add (Add)               (None, 14, 14, 80)   0           block4b_drop[0][0]               \n",
      "                                                                 block4a_project_bn[0][0]         \n",
      "__________________________________________________________________________________________________\n",
      "block4c_expand_conv (Conv2D)    (None, 14, 14, 480)  38400       block4b_add[0][0]                \n",
      "__________________________________________________________________________________________________\n",
      "block4c_expand_bn (BatchNormali (None, 14, 14, 480)  1920        block4c_expand_conv[0][0]        \n",
      "__________________________________________________________________________________________________\n",
      "block4c_expand_activation (Acti (None, 14, 14, 480)  0           block4c_expand_bn[0][0]          \n",
      "__________________________________________________________________________________________________\n",
      "block4c_dwconv (DepthwiseConv2D (None, 14, 14, 480)  4320        block4c_expand_activation[0][0]  \n",
      "__________________________________________________________________________________________________\n",
      "block4c_bn (BatchNormalization) (None, 14, 14, 480)  1920        block4c_dwconv[0][0]             \n",
      "__________________________________________________________________________________________________\n",
      "block4c_activation (Activation) (None, 14, 14, 480)  0           block4c_bn[0][0]                 \n",
      "__________________________________________________________________________________________________\n",
      "block4c_se_squeeze (GlobalAvera (None, 480)          0           block4c_activation[0][0]         \n",
      "__________________________________________________________________________________________________\n",
      "block4c_se_reshape (Reshape)    (None, 1, 1, 480)    0           block4c_se_squeeze[0][0]         \n",
      "__________________________________________________________________________________________________\n",
      "block4c_se_reduce (Conv2D)      (None, 1, 1, 20)     9620        block4c_se_reshape[0][0]         \n",
      "__________________________________________________________________________________________________\n",
      "block4c_se_expand (Conv2D)      (None, 1, 1, 480)    10080       block4c_se_reduce[0][0]          \n",
      "__________________________________________________________________________________________________\n",
      "block4c_se_excite (Multiply)    (None, 14, 14, 480)  0           block4c_activation[0][0]         \n",
      "                                                                 block4c_se_expand[0][0]          \n",
      "__________________________________________________________________________________________________\n",
      "block4c_project_conv (Conv2D)   (None, 14, 14, 80)   38400       block4c_se_excite[0][0]          \n",
      "__________________________________________________________________________________________________\n",
      "block4c_project_bn (BatchNormal (None, 14, 14, 80)   320         block4c_project_conv[0][0]       \n",
      "__________________________________________________________________________________________________\n",
      "block4c_drop (Dropout)          (None, 14, 14, 80)   0           block4c_project_bn[0][0]         \n",
      "__________________________________________________________________________________________________\n",
      "block4c_add (Add)               (None, 14, 14, 80)   0           block4c_drop[0][0]               \n",
      "                                                                 block4b_add[0][0]                \n",
      "__________________________________________________________________________________________________\n",
      "block5a_expand_conv (Conv2D)    (None, 14, 14, 480)  38400       block4c_add[0][0]                \n",
      "__________________________________________________________________________________________________\n",
      "block5a_expand_bn (BatchNormali (None, 14, 14, 480)  1920        block5a_expand_conv[0][0]        \n",
      "__________________________________________________________________________________________________\n",
      "block5a_expand_activation (Acti (None, 14, 14, 480)  0           block5a_expand_bn[0][0]          \n",
      "__________________________________________________________________________________________________\n",
      "block5a_dwconv (DepthwiseConv2D (None, 14, 14, 480)  12000       block5a_expand_activation[0][0]  \n",
      "__________________________________________________________________________________________________\n",
      "block5a_bn (BatchNormalization) (None, 14, 14, 480)  1920        block5a_dwconv[0][0]             \n",
      "__________________________________________________________________________________________________\n",
      "block5a_activation (Activation) (None, 14, 14, 480)  0           block5a_bn[0][0]                 \n",
      "__________________________________________________________________________________________________\n",
      "block5a_se_squeeze (GlobalAvera (None, 480)          0           block5a_activation[0][0]         \n",
      "__________________________________________________________________________________________________\n",
      "block5a_se_reshape (Reshape)    (None, 1, 1, 480)    0           block5a_se_squeeze[0][0]         \n",
      "__________________________________________________________________________________________________\n",
      "block5a_se_reduce (Conv2D)      (None, 1, 1, 20)     9620        block5a_se_reshape[0][0]         \n",
      "__________________________________________________________________________________________________\n",
      "block5a_se_expand (Conv2D)      (None, 1, 1, 480)    10080       block5a_se_reduce[0][0]          \n",
      "__________________________________________________________________________________________________\n",
      "block5a_se_excite (Multiply)    (None, 14, 14, 480)  0           block5a_activation[0][0]         \n",
      "                                                                 block5a_se_expand[0][0]          \n",
      "__________________________________________________________________________________________________\n",
      "block5a_project_conv (Conv2D)   (None, 14, 14, 112)  53760       block5a_se_excite[0][0]          \n",
      "__________________________________________________________________________________________________\n",
      "block5a_project_bn (BatchNormal (None, 14, 14, 112)  448         block5a_project_conv[0][0]       \n",
      "__________________________________________________________________________________________________\n",
      "block5b_expand_conv (Conv2D)    (None, 14, 14, 672)  75264       block5a_project_bn[0][0]         \n",
      "__________________________________________________________________________________________________\n",
      "block5b_expand_bn (BatchNormali (None, 14, 14, 672)  2688        block5b_expand_conv[0][0]        \n",
      "__________________________________________________________________________________________________\n",
      "block5b_expand_activation (Acti (None, 14, 14, 672)  0           block5b_expand_bn[0][0]          \n",
      "__________________________________________________________________________________________________\n",
      "block5b_dwconv (DepthwiseConv2D (None, 14, 14, 672)  16800       block5b_expand_activation[0][0]  \n",
      "__________________________________________________________________________________________________\n",
      "block5b_bn (BatchNormalization) (None, 14, 14, 672)  2688        block5b_dwconv[0][0]             \n",
      "__________________________________________________________________________________________________\n",
      "block5b_activation (Activation) (None, 14, 14, 672)  0           block5b_bn[0][0]                 \n",
      "__________________________________________________________________________________________________\n",
      "block5b_se_squeeze (GlobalAvera (None, 672)          0           block5b_activation[0][0]         \n",
      "__________________________________________________________________________________________________\n",
      "block5b_se_reshape (Reshape)    (None, 1, 1, 672)    0           block5b_se_squeeze[0][0]         \n",
      "__________________________________________________________________________________________________\n",
      "block5b_se_reduce (Conv2D)      (None, 1, 1, 28)     18844       block5b_se_reshape[0][0]         \n",
      "__________________________________________________________________________________________________\n",
      "block5b_se_expand (Conv2D)      (None, 1, 1, 672)    19488       block5b_se_reduce[0][0]          \n",
      "__________________________________________________________________________________________________\n",
      "block5b_se_excite (Multiply)    (None, 14, 14, 672)  0           block5b_activation[0][0]         \n",
      "                                                                 block5b_se_expand[0][0]          \n",
      "__________________________________________________________________________________________________\n",
      "block5b_project_conv (Conv2D)   (None, 14, 14, 112)  75264       block5b_se_excite[0][0]          \n",
      "__________________________________________________________________________________________________\n",
      "block5b_project_bn (BatchNormal (None, 14, 14, 112)  448         block5b_project_conv[0][0]       \n",
      "__________________________________________________________________________________________________\n",
      "block5b_drop (Dropout)          (None, 14, 14, 112)  0           block5b_project_bn[0][0]         \n",
      "__________________________________________________________________________________________________\n",
      "block5b_add (Add)               (None, 14, 14, 112)  0           block5b_drop[0][0]               \n",
      "                                                                 block5a_project_bn[0][0]         \n",
      "__________________________________________________________________________________________________\n",
      "block5c_expand_conv (Conv2D)    (None, 14, 14, 672)  75264       block5b_add[0][0]                \n",
      "__________________________________________________________________________________________________\n",
      "block5c_expand_bn (BatchNormali (None, 14, 14, 672)  2688        block5c_expand_conv[0][0]        \n",
      "__________________________________________________________________________________________________\n",
      "block5c_expand_activation (Acti (None, 14, 14, 672)  0           block5c_expand_bn[0][0]          \n",
      "__________________________________________________________________________________________________\n",
      "block5c_dwconv (DepthwiseConv2D (None, 14, 14, 672)  16800       block5c_expand_activation[0][0]  \n",
      "__________________________________________________________________________________________________\n",
      "block5c_bn (BatchNormalization) (None, 14, 14, 672)  2688        block5c_dwconv[0][0]             \n",
      "__________________________________________________________________________________________________\n",
      "block5c_activation (Activation) (None, 14, 14, 672)  0           block5c_bn[0][0]                 \n",
      "__________________________________________________________________________________________________\n",
      "block5c_se_squeeze (GlobalAvera (None, 672)          0           block5c_activation[0][0]         \n",
      "__________________________________________________________________________________________________\n",
      "block5c_se_reshape (Reshape)    (None, 1, 1, 672)    0           block5c_se_squeeze[0][0]         \n",
      "__________________________________________________________________________________________________\n",
      "block5c_se_reduce (Conv2D)      (None, 1, 1, 28)     18844       block5c_se_reshape[0][0]         \n",
      "__________________________________________________________________________________________________\n",
      "block5c_se_expand (Conv2D)      (None, 1, 1, 672)    19488       block5c_se_reduce[0][0]          \n",
      "__________________________________________________________________________________________________\n",
      "block5c_se_excite (Multiply)    (None, 14, 14, 672)  0           block5c_activation[0][0]         \n",
      "                                                                 block5c_se_expand[0][0]          \n",
      "__________________________________________________________________________________________________\n",
      "block5c_project_conv (Conv2D)   (None, 14, 14, 112)  75264       block5c_se_excite[0][0]          \n",
      "__________________________________________________________________________________________________\n",
      "block5c_project_bn (BatchNormal (None, 14, 14, 112)  448         block5c_project_conv[0][0]       \n",
      "__________________________________________________________________________________________________\n",
      "block5c_drop (Dropout)          (None, 14, 14, 112)  0           block5c_project_bn[0][0]         \n",
      "__________________________________________________________________________________________________\n",
      "block5c_add (Add)               (None, 14, 14, 112)  0           block5c_drop[0][0]               \n",
      "                                                                 block5b_add[0][0]                \n",
      "__________________________________________________________________________________________________\n",
      "block6a_expand_conv (Conv2D)    (None, 14, 14, 672)  75264       block5c_add[0][0]                \n",
      "__________________________________________________________________________________________________\n",
      "block6a_expand_bn (BatchNormali (None, 14, 14, 672)  2688        block6a_expand_conv[0][0]        \n",
      "__________________________________________________________________________________________________\n",
      "block6a_expand_activation (Acti (None, 14, 14, 672)  0           block6a_expand_bn[0][0]          \n",
      "__________________________________________________________________________________________________\n",
      "block6a_dwconv_pad (ZeroPadding (None, 17, 17, 672)  0           block6a_expand_activation[0][0]  \n",
      "__________________________________________________________________________________________________\n",
      "block6a_dwconv (DepthwiseConv2D (None, 7, 7, 672)    16800       block6a_dwconv_pad[0][0]         \n",
      "__________________________________________________________________________________________________\n",
      "block6a_bn (BatchNormalization) (None, 7, 7, 672)    2688        block6a_dwconv[0][0]             \n",
      "__________________________________________________________________________________________________\n",
      "block6a_activation (Activation) (None, 7, 7, 672)    0           block6a_bn[0][0]                 \n",
      "__________________________________________________________________________________________________\n",
      "block6a_se_squeeze (GlobalAvera (None, 672)          0           block6a_activation[0][0]         \n",
      "__________________________________________________________________________________________________\n",
      "block6a_se_reshape (Reshape)    (None, 1, 1, 672)    0           block6a_se_squeeze[0][0]         \n",
      "__________________________________________________________________________________________________\n",
      "block6a_se_reduce (Conv2D)      (None, 1, 1, 28)     18844       block6a_se_reshape[0][0]         \n",
      "__________________________________________________________________________________________________\n",
      "block6a_se_expand (Conv2D)      (None, 1, 1, 672)    19488       block6a_se_reduce[0][0]          \n",
      "__________________________________________________________________________________________________\n",
      "block6a_se_excite (Multiply)    (None, 7, 7, 672)    0           block6a_activation[0][0]         \n",
      "                                                                 block6a_se_expand[0][0]          \n",
      "__________________________________________________________________________________________________\n",
      "block6a_project_conv (Conv2D)   (None, 7, 7, 192)    129024      block6a_se_excite[0][0]          \n",
      "__________________________________________________________________________________________________\n",
      "block6a_project_bn (BatchNormal (None, 7, 7, 192)    768         block6a_project_conv[0][0]       \n",
      "__________________________________________________________________________________________________\n",
      "block6b_expand_conv (Conv2D)    (None, 7, 7, 1152)   221184      block6a_project_bn[0][0]         \n",
      "__________________________________________________________________________________________________\n",
      "block6b_expand_bn (BatchNormali (None, 7, 7, 1152)   4608        block6b_expand_conv[0][0]        \n",
      "__________________________________________________________________________________________________\n",
      "block6b_expand_activation (Acti (None, 7, 7, 1152)   0           block6b_expand_bn[0][0]          \n",
      "__________________________________________________________________________________________________\n",
      "block6b_dwconv (DepthwiseConv2D (None, 7, 7, 1152)   28800       block6b_expand_activation[0][0]  \n",
      "__________________________________________________________________________________________________\n",
      "block6b_bn (BatchNormalization) (None, 7, 7, 1152)   4608        block6b_dwconv[0][0]             \n",
      "__________________________________________________________________________________________________\n",
      "block6b_activation (Activation) (None, 7, 7, 1152)   0           block6b_bn[0][0]                 \n",
      "__________________________________________________________________________________________________\n",
      "block6b_se_squeeze (GlobalAvera (None, 1152)         0           block6b_activation[0][0]         \n",
      "__________________________________________________________________________________________________\n",
      "block6b_se_reshape (Reshape)    (None, 1, 1, 1152)   0           block6b_se_squeeze[0][0]         \n",
      "__________________________________________________________________________________________________\n",
      "block6b_se_reduce (Conv2D)      (None, 1, 1, 48)     55344       block6b_se_reshape[0][0]         \n",
      "__________________________________________________________________________________________________\n",
      "block6b_se_expand (Conv2D)      (None, 1, 1, 1152)   56448       block6b_se_reduce[0][0]          \n",
      "__________________________________________________________________________________________________\n",
      "block6b_se_excite (Multiply)    (None, 7, 7, 1152)   0           block6b_activation[0][0]         \n",
      "                                                                 block6b_se_expand[0][0]          \n",
      "__________________________________________________________________________________________________\n",
      "block6b_project_conv (Conv2D)   (None, 7, 7, 192)    221184      block6b_se_excite[0][0]          \n",
      "__________________________________________________________________________________________________\n",
      "block6b_project_bn (BatchNormal (None, 7, 7, 192)    768         block6b_project_conv[0][0]       \n",
      "__________________________________________________________________________________________________\n",
      "block6b_drop (Dropout)          (None, 7, 7, 192)    0           block6b_project_bn[0][0]         \n",
      "__________________________________________________________________________________________________\n",
      "block6b_add (Add)               (None, 7, 7, 192)    0           block6b_drop[0][0]               \n",
      "                                                                 block6a_project_bn[0][0]         \n",
      "__________________________________________________________________________________________________\n",
      "block6c_expand_conv (Conv2D)    (None, 7, 7, 1152)   221184      block6b_add[0][0]                \n",
      "__________________________________________________________________________________________________\n",
      "block6c_expand_bn (BatchNormali (None, 7, 7, 1152)   4608        block6c_expand_conv[0][0]        \n",
      "__________________________________________________________________________________________________\n",
      "block6c_expand_activation (Acti (None, 7, 7, 1152)   0           block6c_expand_bn[0][0]          \n",
      "__________________________________________________________________________________________________\n",
      "block6c_dwconv (DepthwiseConv2D (None, 7, 7, 1152)   28800       block6c_expand_activation[0][0]  \n",
      "__________________________________________________________________________________________________\n",
      "block6c_bn (BatchNormalization) (None, 7, 7, 1152)   4608        block6c_dwconv[0][0]             \n",
      "__________________________________________________________________________________________________\n",
      "block6c_activation (Activation) (None, 7, 7, 1152)   0           block6c_bn[0][0]                 \n",
      "__________________________________________________________________________________________________\n",
      "block6c_se_squeeze (GlobalAvera (None, 1152)         0           block6c_activation[0][0]         \n",
      "__________________________________________________________________________________________________\n",
      "block6c_se_reshape (Reshape)    (None, 1, 1, 1152)   0           block6c_se_squeeze[0][0]         \n",
      "__________________________________________________________________________________________________\n",
      "block6c_se_reduce (Conv2D)      (None, 1, 1, 48)     55344       block6c_se_reshape[0][0]         \n",
      "__________________________________________________________________________________________________\n",
      "block6c_se_expand (Conv2D)      (None, 1, 1, 1152)   56448       block6c_se_reduce[0][0]          \n",
      "__________________________________________________________________________________________________\n",
      "block6c_se_excite (Multiply)    (None, 7, 7, 1152)   0           block6c_activation[0][0]         \n",
      "                                                                 block6c_se_expand[0][0]          \n",
      "__________________________________________________________________________________________________\n",
      "block6c_project_conv (Conv2D)   (None, 7, 7, 192)    221184      block6c_se_excite[0][0]          \n",
      "__________________________________________________________________________________________________\n",
      "block6c_project_bn (BatchNormal (None, 7, 7, 192)    768         block6c_project_conv[0][0]       \n",
      "__________________________________________________________________________________________________\n",
      "block6c_drop (Dropout)          (None, 7, 7, 192)    0           block6c_project_bn[0][0]         \n",
      "__________________________________________________________________________________________________\n",
      "block6c_add (Add)               (None, 7, 7, 192)    0           block6c_drop[0][0]               \n",
      "                                                                 block6b_add[0][0]                \n",
      "__________________________________________________________________________________________________\n",
      "block6d_expand_conv (Conv2D)    (None, 7, 7, 1152)   221184      block6c_add[0][0]                \n",
      "__________________________________________________________________________________________________\n",
      "block6d_expand_bn (BatchNormali (None, 7, 7, 1152)   4608        block6d_expand_conv[0][0]        \n",
      "__________________________________________________________________________________________________\n",
      "block6d_expand_activation (Acti (None, 7, 7, 1152)   0           block6d_expand_bn[0][0]          \n",
      "__________________________________________________________________________________________________\n",
      "block6d_dwconv (DepthwiseConv2D (None, 7, 7, 1152)   28800       block6d_expand_activation[0][0]  \n",
      "__________________________________________________________________________________________________\n",
      "block6d_bn (BatchNormalization) (None, 7, 7, 1152)   4608        block6d_dwconv[0][0]             \n",
      "__________________________________________________________________________________________________\n",
      "block6d_activation (Activation) (None, 7, 7, 1152)   0           block6d_bn[0][0]                 \n",
      "__________________________________________________________________________________________________\n",
      "block6d_se_squeeze (GlobalAvera (None, 1152)         0           block6d_activation[0][0]         \n",
      "__________________________________________________________________________________________________\n",
      "block6d_se_reshape (Reshape)    (None, 1, 1, 1152)   0           block6d_se_squeeze[0][0]         \n",
      "__________________________________________________________________________________________________\n",
      "block6d_se_reduce (Conv2D)      (None, 1, 1, 48)     55344       block6d_se_reshape[0][0]         \n",
      "__________________________________________________________________________________________________\n",
      "block6d_se_expand (Conv2D)      (None, 1, 1, 1152)   56448       block6d_se_reduce[0][0]          \n",
      "__________________________________________________________________________________________________\n",
      "block6d_se_excite (Multiply)    (None, 7, 7, 1152)   0           block6d_activation[0][0]         \n",
      "                                                                 block6d_se_expand[0][0]          \n",
      "__________________________________________________________________________________________________\n",
      "block6d_project_conv (Conv2D)   (None, 7, 7, 192)    221184      block6d_se_excite[0][0]          \n",
      "__________________________________________________________________________________________________\n",
      "block6d_project_bn (BatchNormal (None, 7, 7, 192)    768         block6d_project_conv[0][0]       \n",
      "__________________________________________________________________________________________________\n",
      "block6d_drop (Dropout)          (None, 7, 7, 192)    0           block6d_project_bn[0][0]         \n",
      "__________________________________________________________________________________________________\n",
      "block6d_add (Add)               (None, 7, 7, 192)    0           block6d_drop[0][0]               \n",
      "                                                                 block6c_add[0][0]                \n",
      "__________________________________________________________________________________________________\n",
      "block7a_expand_conv (Conv2D)    (None, 7, 7, 1152)   221184      block6d_add[0][0]                \n",
      "__________________________________________________________________________________________________\n",
      "block7a_expand_bn (BatchNormali (None, 7, 7, 1152)   4608        block7a_expand_conv[0][0]        \n",
      "__________________________________________________________________________________________________\n",
      "block7a_expand_activation (Acti (None, 7, 7, 1152)   0           block7a_expand_bn[0][0]          \n",
      "__________________________________________________________________________________________________\n",
      "block7a_dwconv (DepthwiseConv2D (None, 7, 7, 1152)   10368       block7a_expand_activation[0][0]  \n",
      "__________________________________________________________________________________________________\n",
      "block7a_bn (BatchNormalization) (None, 7, 7, 1152)   4608        block7a_dwconv[0][0]             \n",
      "__________________________________________________________________________________________________\n",
      "block7a_activation (Activation) (None, 7, 7, 1152)   0           block7a_bn[0][0]                 \n",
      "__________________________________________________________________________________________________\n",
      "block7a_se_squeeze (GlobalAvera (None, 1152)         0           block7a_activation[0][0]         \n",
      "__________________________________________________________________________________________________\n",
      "block7a_se_reshape (Reshape)    (None, 1, 1, 1152)   0           block7a_se_squeeze[0][0]         \n",
      "__________________________________________________________________________________________________\n",
      "block7a_se_reduce (Conv2D)      (None, 1, 1, 48)     55344       block7a_se_reshape[0][0]         \n",
      "__________________________________________________________________________________________________\n",
      "block7a_se_expand (Conv2D)      (None, 1, 1, 1152)   56448       block7a_se_reduce[0][0]          \n",
      "__________________________________________________________________________________________________\n",
      "block7a_se_excite (Multiply)    (None, 7, 7, 1152)   0           block7a_activation[0][0]         \n",
      "                                                                 block7a_se_expand[0][0]          \n",
      "__________________________________________________________________________________________________\n",
      "block7a_project_conv (Conv2D)   (None, 7, 7, 320)    368640      block7a_se_excite[0][0]          \n",
      "__________________________________________________________________________________________________\n",
      "block7a_project_bn (BatchNormal (None, 7, 7, 320)    1280        block7a_project_conv[0][0]       \n",
      "__________________________________________________________________________________________________\n",
      "top_conv (Conv2D)               (None, 7, 7, 1280)   409600      block7a_project_bn[0][0]         \n",
      "__________________________________________________________________________________________________\n",
      "top_bn (BatchNormalization)     (None, 7, 7, 1280)   5120        top_conv[0][0]                   \n",
      "__________________________________________________________________________________________________\n",
      "top_activation (Activation)     (None, 7, 7, 1280)   0           top_bn[0][0]                     \n",
      "__________________________________________________________________________________________________\n",
      "avg_pool (GlobalAveragePooling2 (None, 1280)         0           top_activation[0][0]             \n",
      "__________________________________________________________________________________________________\n",
      "top_dropout (Dropout)           (None, 1280)         0           avg_pool[0][0]                   \n",
      "__________________________________________________________________________________________________\n",
      "predictions (Dense)             (None, 1000)         1281000     top_dropout[0][0]                \n",
      "==================================================================================================\n",
      "Total params: 5,330,571\n",
      "Trainable params: 0\n",
      "Non-trainable params: 5,330,571\n",
      "__________________________________________________________________________________________________\n"
     ]
    }
   ],
   "source": [
    "base_model.summary()"
   ]
  },
  {
   "cell_type": "code",
   "execution_count": 65,
   "id": "5c1a13d8",
   "metadata": {
    "scrolled": true
   },
   "outputs": [
    {
     "name": "stdout",
     "output_type": "stream",
     "text": [
      "Model: \"sequential_1\"\n",
      "_________________________________________________________________\n",
      "Layer (type)                 Output Shape              Param #   \n",
      "=================================================================\n",
      "efficientnetb0 (Functional)  (None, 1000)              5330571   \n",
      "_________________________________________________________________\n",
      "output_layer (Dense)         (None, 10)                10010     \n",
      "=================================================================\n",
      "Total params: 5,340,581\n",
      "Trainable params: 10,010\n",
      "Non-trainable params: 5,330,571\n",
      "_________________________________________________________________\n"
     ]
    }
   ],
   "source": [
    "model_6_v2.summary()"
   ]
  },
  {
   "cell_type": "code",
   "execution_count": 66,
   "id": "881cc7db",
   "metadata": {},
   "outputs": [
    {
     "name": "stdout",
     "output_type": "stream",
     "text": [
      "Epoch 1/5\n",
      "24/24 [==============================] - 108s 5s/step - loss: 2.3031 - accuracy: 0.0867 - val_loss: 2.3026 - val_accuracy: 0.1000\n",
      "Epoch 2/5\n",
      "24/24 [==============================] - 118s 5s/step - loss: 2.3028 - accuracy: 0.0907 - val_loss: 2.3026 - val_accuracy: 0.1000\n",
      "Epoch 3/5\n",
      "24/24 [==============================] - 116s 5s/step - loss: 2.3028 - accuracy: 0.0987 - val_loss: 2.3026 - val_accuracy: 0.1000\n",
      "Epoch 4/5\n",
      "24/24 [==============================] - 118s 5s/step - loss: 2.3030 - accuracy: 0.0773 - val_loss: 2.3026 - val_accuracy: 0.1000\n",
      "Epoch 5/5\n",
      "24/24 [==============================] - 115s 5s/step - loss: 2.3028 - accuracy: 0.0867 - val_loss: 2.3026 - val_accuracy: 0.1000\n"
     ]
    }
   ],
   "source": [
    "model_6_v2_history = model_6_v2.fit(train_data_10_percent,\n",
    "                              validation_data=test_data_10_percent,\n",
    "                              epochs=5,\n",
    "                              callbacks=[create_checkpoint_callback(model_6_v2.name)])"
   ]
  },
  {
   "cell_type": "code",
   "execution_count": 31,
   "id": "3d31f9fa",
   "metadata": {},
   "outputs": [],
   "source": [
    "import tensorflow_hub as hub\n",
    "efficientnetb0_v2_url = \"https://tfhub.dev/google/imagenet/efficientnet_v2_imagenet1k_b0/feature_vector/2\"\n",
    "# efficientnetb0_v1_url = \"https://tfhub.dev/tensorflow/efficientnet/b0/feature-vector/1\"\n",
    "feature_extracter_layer = hub.KerasLayer(efficientnetb0_v2_url,\n",
    "                                         trainable=False,\n",
    "                                         name=\"feature_extractor_layer\")"
   ]
  },
  {
   "cell_type": "code",
   "execution_count": 32,
   "id": "321a8e28",
   "metadata": {},
   "outputs": [
    {
     "name": "stdout",
     "output_type": "stream",
     "text": [
      "Epoch 1/5\n",
      "24/24 [==============================] - 82s 3s/step - loss: 1.9993 - accuracy: 0.3133 - val_loss: 1.5536 - val_accuracy: 0.5944\n",
      "Epoch 2/5\n",
      "24/24 [==============================] - ETA: 0s - loss: 1.3383 - accuracy: 0.6800"
     ]
    },
    {
     "ename": "KeyboardInterrupt",
     "evalue": "",
     "output_type": "error",
     "traceback": [
      "\u001b[1;31m---------------------------------------------------------------------------\u001b[0m",
      "\u001b[1;31mKeyboardInterrupt\u001b[0m                         Traceback (most recent call last)",
      "\u001b[1;32m~\\AppData\\Local\\Temp/ipykernel_27120/734642494.py\u001b[0m in \u001b[0;36m<module>\u001b[1;34m\u001b[0m\n\u001b[0;32m     10\u001b[0m )\n\u001b[0;32m     11\u001b[0m \u001b[1;33m\u001b[0m\u001b[0m\n\u001b[1;32m---> 12\u001b[1;33m model_6_v2_history = model_6_v2.fit(train_data_10_percent,\n\u001b[0m\u001b[0;32m     13\u001b[0m                               \u001b[0mvalidation_data\u001b[0m\u001b[1;33m=\u001b[0m\u001b[0mtest_data_10_percent\u001b[0m\u001b[1;33m,\u001b[0m\u001b[1;33m\u001b[0m\u001b[1;33m\u001b[0m\u001b[0m\n\u001b[0;32m     14\u001b[0m                               \u001b[0mepochs\u001b[0m\u001b[1;33m=\u001b[0m\u001b[1;36m5\u001b[0m\u001b[1;33m,\u001b[0m\u001b[1;33m\u001b[0m\u001b[1;33m\u001b[0m\u001b[0m\n",
      "\u001b[1;32mC:\\ProgramData\\Anaconda3\\lib\\site-packages\\keras\\utils\\traceback_utils.py\u001b[0m in \u001b[0;36merror_handler\u001b[1;34m(*args, **kwargs)\u001b[0m\n\u001b[0;32m     62\u001b[0m     \u001b[0mfiltered_tb\u001b[0m \u001b[1;33m=\u001b[0m \u001b[1;32mNone\u001b[0m\u001b[1;33m\u001b[0m\u001b[1;33m\u001b[0m\u001b[0m\n\u001b[0;32m     63\u001b[0m     \u001b[1;32mtry\u001b[0m\u001b[1;33m:\u001b[0m\u001b[1;33m\u001b[0m\u001b[1;33m\u001b[0m\u001b[0m\n\u001b[1;32m---> 64\u001b[1;33m       \u001b[1;32mreturn\u001b[0m \u001b[0mfn\u001b[0m\u001b[1;33m(\u001b[0m\u001b[1;33m*\u001b[0m\u001b[0margs\u001b[0m\u001b[1;33m,\u001b[0m \u001b[1;33m**\u001b[0m\u001b[0mkwargs\u001b[0m\u001b[1;33m)\u001b[0m\u001b[1;33m\u001b[0m\u001b[1;33m\u001b[0m\u001b[0m\n\u001b[0m\u001b[0;32m     65\u001b[0m     \u001b[1;32mexcept\u001b[0m \u001b[0mException\u001b[0m \u001b[1;32mas\u001b[0m \u001b[0me\u001b[0m\u001b[1;33m:\u001b[0m  \u001b[1;31m# pylint: disable=broad-except\u001b[0m\u001b[1;33m\u001b[0m\u001b[1;33m\u001b[0m\u001b[0m\n\u001b[0;32m     66\u001b[0m       \u001b[0mfiltered_tb\u001b[0m \u001b[1;33m=\u001b[0m \u001b[0m_process_traceback_frames\u001b[0m\u001b[1;33m(\u001b[0m\u001b[0me\u001b[0m\u001b[1;33m.\u001b[0m\u001b[0m__traceback__\u001b[0m\u001b[1;33m)\u001b[0m\u001b[1;33m\u001b[0m\u001b[1;33m\u001b[0m\u001b[0m\n",
      "\u001b[1;32mC:\\ProgramData\\Anaconda3\\lib\\site-packages\\keras\\engine\\training.py\u001b[0m in \u001b[0;36mfit\u001b[1;34m(self, x, y, batch_size, epochs, verbose, callbacks, validation_split, validation_data, shuffle, class_weight, sample_weight, initial_epoch, steps_per_epoch, validation_steps, validation_batch_size, validation_freq, max_queue_size, workers, use_multiprocessing)\u001b[0m\n\u001b[0;32m   1418\u001b[0m                 \u001b[0mmodel\u001b[0m\u001b[1;33m=\u001b[0m\u001b[0mself\u001b[0m\u001b[1;33m,\u001b[0m\u001b[1;33m\u001b[0m\u001b[1;33m\u001b[0m\u001b[0m\n\u001b[0;32m   1419\u001b[0m                 steps_per_execution=self._steps_per_execution)\n\u001b[1;32m-> 1420\u001b[1;33m           val_logs = self.evaluate(\n\u001b[0m\u001b[0;32m   1421\u001b[0m               \u001b[0mx\u001b[0m\u001b[1;33m=\u001b[0m\u001b[0mval_x\u001b[0m\u001b[1;33m,\u001b[0m\u001b[1;33m\u001b[0m\u001b[1;33m\u001b[0m\u001b[0m\n\u001b[0;32m   1422\u001b[0m               \u001b[0my\u001b[0m\u001b[1;33m=\u001b[0m\u001b[0mval_y\u001b[0m\u001b[1;33m,\u001b[0m\u001b[1;33m\u001b[0m\u001b[1;33m\u001b[0m\u001b[0m\n",
      "\u001b[1;32mC:\\ProgramData\\Anaconda3\\lib\\site-packages\\keras\\utils\\traceback_utils.py\u001b[0m in \u001b[0;36merror_handler\u001b[1;34m(*args, **kwargs)\u001b[0m\n\u001b[0;32m     62\u001b[0m     \u001b[0mfiltered_tb\u001b[0m \u001b[1;33m=\u001b[0m \u001b[1;32mNone\u001b[0m\u001b[1;33m\u001b[0m\u001b[1;33m\u001b[0m\u001b[0m\n\u001b[0;32m     63\u001b[0m     \u001b[1;32mtry\u001b[0m\u001b[1;33m:\u001b[0m\u001b[1;33m\u001b[0m\u001b[1;33m\u001b[0m\u001b[0m\n\u001b[1;32m---> 64\u001b[1;33m       \u001b[1;32mreturn\u001b[0m \u001b[0mfn\u001b[0m\u001b[1;33m(\u001b[0m\u001b[1;33m*\u001b[0m\u001b[0margs\u001b[0m\u001b[1;33m,\u001b[0m \u001b[1;33m**\u001b[0m\u001b[0mkwargs\u001b[0m\u001b[1;33m)\u001b[0m\u001b[1;33m\u001b[0m\u001b[1;33m\u001b[0m\u001b[0m\n\u001b[0m\u001b[0;32m     65\u001b[0m     \u001b[1;32mexcept\u001b[0m \u001b[0mException\u001b[0m \u001b[1;32mas\u001b[0m \u001b[0me\u001b[0m\u001b[1;33m:\u001b[0m  \u001b[1;31m# pylint: disable=broad-except\u001b[0m\u001b[1;33m\u001b[0m\u001b[1;33m\u001b[0m\u001b[0m\n\u001b[0;32m     66\u001b[0m       \u001b[0mfiltered_tb\u001b[0m \u001b[1;33m=\u001b[0m \u001b[0m_process_traceback_frames\u001b[0m\u001b[1;33m(\u001b[0m\u001b[0me\u001b[0m\u001b[1;33m.\u001b[0m\u001b[0m__traceback__\u001b[0m\u001b[1;33m)\u001b[0m\u001b[1;33m\u001b[0m\u001b[1;33m\u001b[0m\u001b[0m\n",
      "\u001b[1;32mC:\\ProgramData\\Anaconda3\\lib\\site-packages\\keras\\engine\\training.py\u001b[0m in \u001b[0;36mevaluate\u001b[1;34m(self, x, y, batch_size, verbose, sample_weight, steps, callbacks, max_queue_size, workers, use_multiprocessing, return_dict, **kwargs)\u001b[0m\n\u001b[0;32m   1714\u001b[0m             \u001b[1;32mwith\u001b[0m \u001b[0mtf\u001b[0m\u001b[1;33m.\u001b[0m\u001b[0mprofiler\u001b[0m\u001b[1;33m.\u001b[0m\u001b[0mexperimental\u001b[0m\u001b[1;33m.\u001b[0m\u001b[0mTrace\u001b[0m\u001b[1;33m(\u001b[0m\u001b[1;34m'test'\u001b[0m\u001b[1;33m,\u001b[0m \u001b[0mstep_num\u001b[0m\u001b[1;33m=\u001b[0m\u001b[0mstep\u001b[0m\u001b[1;33m,\u001b[0m \u001b[0m_r\u001b[0m\u001b[1;33m=\u001b[0m\u001b[1;36m1\u001b[0m\u001b[1;33m)\u001b[0m\u001b[1;33m:\u001b[0m\u001b[1;33m\u001b[0m\u001b[1;33m\u001b[0m\u001b[0m\n\u001b[0;32m   1715\u001b[0m               \u001b[0mcallbacks\u001b[0m\u001b[1;33m.\u001b[0m\u001b[0mon_test_batch_begin\u001b[0m\u001b[1;33m(\u001b[0m\u001b[0mstep\u001b[0m\u001b[1;33m)\u001b[0m\u001b[1;33m\u001b[0m\u001b[1;33m\u001b[0m\u001b[0m\n\u001b[1;32m-> 1716\u001b[1;33m               \u001b[0mtmp_logs\u001b[0m \u001b[1;33m=\u001b[0m \u001b[0mself\u001b[0m\u001b[1;33m.\u001b[0m\u001b[0mtest_function\u001b[0m\u001b[1;33m(\u001b[0m\u001b[0miterator\u001b[0m\u001b[1;33m)\u001b[0m\u001b[1;33m\u001b[0m\u001b[1;33m\u001b[0m\u001b[0m\n\u001b[0m\u001b[0;32m   1717\u001b[0m               \u001b[1;32mif\u001b[0m \u001b[0mdata_handler\u001b[0m\u001b[1;33m.\u001b[0m\u001b[0mshould_sync\u001b[0m\u001b[1;33m:\u001b[0m\u001b[1;33m\u001b[0m\u001b[1;33m\u001b[0m\u001b[0m\n\u001b[0;32m   1718\u001b[0m                 \u001b[0mcontext\u001b[0m\u001b[1;33m.\u001b[0m\u001b[0masync_wait\u001b[0m\u001b[1;33m(\u001b[0m\u001b[1;33m)\u001b[0m\u001b[1;33m\u001b[0m\u001b[1;33m\u001b[0m\u001b[0m\n",
      "\u001b[1;32mC:\\ProgramData\\Anaconda3\\lib\\site-packages\\tensorflow\\python\\util\\traceback_utils.py\u001b[0m in \u001b[0;36merror_handler\u001b[1;34m(*args, **kwargs)\u001b[0m\n\u001b[0;32m    148\u001b[0m     \u001b[0mfiltered_tb\u001b[0m \u001b[1;33m=\u001b[0m \u001b[1;32mNone\u001b[0m\u001b[1;33m\u001b[0m\u001b[1;33m\u001b[0m\u001b[0m\n\u001b[0;32m    149\u001b[0m     \u001b[1;32mtry\u001b[0m\u001b[1;33m:\u001b[0m\u001b[1;33m\u001b[0m\u001b[1;33m\u001b[0m\u001b[0m\n\u001b[1;32m--> 150\u001b[1;33m       \u001b[1;32mreturn\u001b[0m \u001b[0mfn\u001b[0m\u001b[1;33m(\u001b[0m\u001b[1;33m*\u001b[0m\u001b[0margs\u001b[0m\u001b[1;33m,\u001b[0m \u001b[1;33m**\u001b[0m\u001b[0mkwargs\u001b[0m\u001b[1;33m)\u001b[0m\u001b[1;33m\u001b[0m\u001b[1;33m\u001b[0m\u001b[0m\n\u001b[0m\u001b[0;32m    151\u001b[0m     \u001b[1;32mexcept\u001b[0m \u001b[0mException\u001b[0m \u001b[1;32mas\u001b[0m \u001b[0me\u001b[0m\u001b[1;33m:\u001b[0m\u001b[1;33m\u001b[0m\u001b[1;33m\u001b[0m\u001b[0m\n\u001b[0;32m    152\u001b[0m       \u001b[0mfiltered_tb\u001b[0m \u001b[1;33m=\u001b[0m \u001b[0m_process_traceback_frames\u001b[0m\u001b[1;33m(\u001b[0m\u001b[0me\u001b[0m\u001b[1;33m.\u001b[0m\u001b[0m__traceback__\u001b[0m\u001b[1;33m)\u001b[0m\u001b[1;33m\u001b[0m\u001b[1;33m\u001b[0m\u001b[0m\n",
      "\u001b[1;32mC:\\ProgramData\\Anaconda3\\lib\\site-packages\\tensorflow\\python\\eager\\def_function.py\u001b[0m in \u001b[0;36m__call__\u001b[1;34m(self, *args, **kwds)\u001b[0m\n\u001b[0;32m    913\u001b[0m \u001b[1;33m\u001b[0m\u001b[0m\n\u001b[0;32m    914\u001b[0m       \u001b[1;32mwith\u001b[0m \u001b[0mOptionalXlaContext\u001b[0m\u001b[1;33m(\u001b[0m\u001b[0mself\u001b[0m\u001b[1;33m.\u001b[0m\u001b[0m_jit_compile\u001b[0m\u001b[1;33m)\u001b[0m\u001b[1;33m:\u001b[0m\u001b[1;33m\u001b[0m\u001b[1;33m\u001b[0m\u001b[0m\n\u001b[1;32m--> 915\u001b[1;33m         \u001b[0mresult\u001b[0m \u001b[1;33m=\u001b[0m \u001b[0mself\u001b[0m\u001b[1;33m.\u001b[0m\u001b[0m_call\u001b[0m\u001b[1;33m(\u001b[0m\u001b[1;33m*\u001b[0m\u001b[0margs\u001b[0m\u001b[1;33m,\u001b[0m \u001b[1;33m**\u001b[0m\u001b[0mkwds\u001b[0m\u001b[1;33m)\u001b[0m\u001b[1;33m\u001b[0m\u001b[1;33m\u001b[0m\u001b[0m\n\u001b[0m\u001b[0;32m    916\u001b[0m \u001b[1;33m\u001b[0m\u001b[0m\n\u001b[0;32m    917\u001b[0m       \u001b[0mnew_tracing_count\u001b[0m \u001b[1;33m=\u001b[0m \u001b[0mself\u001b[0m\u001b[1;33m.\u001b[0m\u001b[0mexperimental_get_tracing_count\u001b[0m\u001b[1;33m(\u001b[0m\u001b[1;33m)\u001b[0m\u001b[1;33m\u001b[0m\u001b[1;33m\u001b[0m\u001b[0m\n",
      "\u001b[1;32mC:\\ProgramData\\Anaconda3\\lib\\site-packages\\tensorflow\\python\\eager\\def_function.py\u001b[0m in \u001b[0;36m_call\u001b[1;34m(self, *args, **kwds)\u001b[0m\n\u001b[0;32m    952\u001b[0m       \u001b[1;31m# In this case we have not created variables on the first call. So we can\u001b[0m\u001b[1;33m\u001b[0m\u001b[1;33m\u001b[0m\u001b[0m\n\u001b[0;32m    953\u001b[0m       \u001b[1;31m# run the first trace but we should fail if variables are created.\u001b[0m\u001b[1;33m\u001b[0m\u001b[1;33m\u001b[0m\u001b[0m\n\u001b[1;32m--> 954\u001b[1;33m       \u001b[0mresults\u001b[0m \u001b[1;33m=\u001b[0m \u001b[0mself\u001b[0m\u001b[1;33m.\u001b[0m\u001b[0m_stateful_fn\u001b[0m\u001b[1;33m(\u001b[0m\u001b[1;33m*\u001b[0m\u001b[0margs\u001b[0m\u001b[1;33m,\u001b[0m \u001b[1;33m**\u001b[0m\u001b[0mkwds\u001b[0m\u001b[1;33m)\u001b[0m\u001b[1;33m\u001b[0m\u001b[1;33m\u001b[0m\u001b[0m\n\u001b[0m\u001b[0;32m    955\u001b[0m       \u001b[1;32mif\u001b[0m \u001b[0mself\u001b[0m\u001b[1;33m.\u001b[0m\u001b[0m_created_variables\u001b[0m \u001b[1;32mand\u001b[0m \u001b[1;32mnot\u001b[0m \u001b[0mALLOW_DYNAMIC_VARIABLE_CREATION\u001b[0m\u001b[1;33m:\u001b[0m\u001b[1;33m\u001b[0m\u001b[1;33m\u001b[0m\u001b[0m\n\u001b[0;32m    956\u001b[0m         raise ValueError(\"Creating variables on a non-first call to a function\"\n",
      "\u001b[1;32mC:\\ProgramData\\Anaconda3\\lib\\site-packages\\tensorflow\\python\\eager\\function.py\u001b[0m in \u001b[0;36m__call__\u001b[1;34m(self, *args, **kwargs)\u001b[0m\n\u001b[0;32m   2954\u001b[0m       (graph_function,\n\u001b[0;32m   2955\u001b[0m        filtered_flat_args) = self._maybe_define_function(args, kwargs)\n\u001b[1;32m-> 2956\u001b[1;33m     return graph_function._call_flat(\n\u001b[0m\u001b[0;32m   2957\u001b[0m         filtered_flat_args, captured_inputs=graph_function.captured_inputs)  # pylint: disable=protected-access\n\u001b[0;32m   2958\u001b[0m \u001b[1;33m\u001b[0m\u001b[0m\n",
      "\u001b[1;32mC:\\ProgramData\\Anaconda3\\lib\\site-packages\\tensorflow\\python\\eager\\function.py\u001b[0m in \u001b[0;36m_call_flat\u001b[1;34m(self, args, captured_inputs, cancellation_manager)\u001b[0m\n\u001b[0;32m   1851\u001b[0m         and executing_eagerly):\n\u001b[0;32m   1852\u001b[0m       \u001b[1;31m# No tape is watching; skip to running the function.\u001b[0m\u001b[1;33m\u001b[0m\u001b[1;33m\u001b[0m\u001b[0m\n\u001b[1;32m-> 1853\u001b[1;33m       return self._build_call_outputs(self._inference_function.call(\n\u001b[0m\u001b[0;32m   1854\u001b[0m           ctx, args, cancellation_manager=cancellation_manager))\n\u001b[0;32m   1855\u001b[0m     forward_backward = self._select_forward_and_backward_functions(\n",
      "\u001b[1;32mC:\\ProgramData\\Anaconda3\\lib\\site-packages\\tensorflow\\python\\eager\\function.py\u001b[0m in \u001b[0;36mcall\u001b[1;34m(self, ctx, args, cancellation_manager)\u001b[0m\n\u001b[0;32m    497\u001b[0m       \u001b[1;32mwith\u001b[0m \u001b[0m_InterpolateFunctionError\u001b[0m\u001b[1;33m(\u001b[0m\u001b[0mself\u001b[0m\u001b[1;33m)\u001b[0m\u001b[1;33m:\u001b[0m\u001b[1;33m\u001b[0m\u001b[1;33m\u001b[0m\u001b[0m\n\u001b[0;32m    498\u001b[0m         \u001b[1;32mif\u001b[0m \u001b[0mcancellation_manager\u001b[0m \u001b[1;32mis\u001b[0m \u001b[1;32mNone\u001b[0m\u001b[1;33m:\u001b[0m\u001b[1;33m\u001b[0m\u001b[1;33m\u001b[0m\u001b[0m\n\u001b[1;32m--> 499\u001b[1;33m           outputs = execute.execute(\n\u001b[0m\u001b[0;32m    500\u001b[0m               \u001b[0mstr\u001b[0m\u001b[1;33m(\u001b[0m\u001b[0mself\u001b[0m\u001b[1;33m.\u001b[0m\u001b[0msignature\u001b[0m\u001b[1;33m.\u001b[0m\u001b[0mname\u001b[0m\u001b[1;33m)\u001b[0m\u001b[1;33m,\u001b[0m\u001b[1;33m\u001b[0m\u001b[1;33m\u001b[0m\u001b[0m\n\u001b[0;32m    501\u001b[0m               \u001b[0mnum_outputs\u001b[0m\u001b[1;33m=\u001b[0m\u001b[0mself\u001b[0m\u001b[1;33m.\u001b[0m\u001b[0m_num_outputs\u001b[0m\u001b[1;33m,\u001b[0m\u001b[1;33m\u001b[0m\u001b[1;33m\u001b[0m\u001b[0m\n",
      "\u001b[1;32mC:\\ProgramData\\Anaconda3\\lib\\site-packages\\tensorflow\\python\\eager\\execute.py\u001b[0m in \u001b[0;36mquick_execute\u001b[1;34m(op_name, num_outputs, inputs, attrs, ctx, name)\u001b[0m\n\u001b[0;32m     52\u001b[0m   \u001b[1;32mtry\u001b[0m\u001b[1;33m:\u001b[0m\u001b[1;33m\u001b[0m\u001b[1;33m\u001b[0m\u001b[0m\n\u001b[0;32m     53\u001b[0m     \u001b[0mctx\u001b[0m\u001b[1;33m.\u001b[0m\u001b[0mensure_initialized\u001b[0m\u001b[1;33m(\u001b[0m\u001b[1;33m)\u001b[0m\u001b[1;33m\u001b[0m\u001b[1;33m\u001b[0m\u001b[0m\n\u001b[1;32m---> 54\u001b[1;33m     tensors = pywrap_tfe.TFE_Py_Execute(ctx._handle, device_name, op_name,\n\u001b[0m\u001b[0;32m     55\u001b[0m                                         inputs, attrs, num_outputs)\n\u001b[0;32m     56\u001b[0m   \u001b[1;32mexcept\u001b[0m \u001b[0mcore\u001b[0m\u001b[1;33m.\u001b[0m\u001b[0m_NotOkStatusException\u001b[0m \u001b[1;32mas\u001b[0m \u001b[0me\u001b[0m\u001b[1;33m:\u001b[0m\u001b[1;33m\u001b[0m\u001b[1;33m\u001b[0m\u001b[0m\n",
      "\u001b[1;31mKeyboardInterrupt\u001b[0m: "
     ]
    }
   ],
   "source": [
    "model_6_v2 = tf.keras.Sequential([\n",
    "      feature_extracter_layer,\n",
    "      layers.Dense(len(class_names), activation=\"softmax\", name=\"output_layer\")\n",
    "])\n",
    "\n",
    "model_6_v2.compile(\n",
    "    loss=\"categorical_crossentropy\",\n",
    "    optimizer=tf.keras.optimizers.Adam(),\n",
    "    metrics=[\"accuracy\"]\n",
    ")\n",
    "\n",
    "model_6_v2_history = model_6_v2.fit(train_data_10_percent,\n",
    "                              validation_data=test_data_10_percent,\n",
    "                              epochs=5,\n",
    "                              callbacks=[create_checkpoint_callback(model_6_v2.name)])"
   ]
  },
  {
   "cell_type": "code",
   "execution_count": 30,
   "id": "eafb40f9",
   "metadata": {},
   "outputs": [
    {
     "name": "stdout",
     "output_type": "stream",
     "text": [
      "Epoch 1/5\n",
      "24/24 [==============================] - 81s 3s/step - loss: 2.3169 - accuracy: 0.0800 - val_loss: 2.3033 - val_accuracy: 0.1000\n",
      "Epoch 2/5\n",
      "24/24 [==============================] - ETA: 0s - loss: 2.3114 - accuracy: 0.0840"
     ]
    },
    {
     "ename": "KeyboardInterrupt",
     "evalue": "",
     "output_type": "error",
     "traceback": [
      "\u001b[1;31m---------------------------------------------------------------------------\u001b[0m",
      "\u001b[1;31mKeyboardInterrupt\u001b[0m                         Traceback (most recent call last)",
      "\u001b[1;32m~\\AppData\\Local\\Temp/ipykernel_27120/2011185592.py\u001b[0m in \u001b[0;36m<module>\u001b[1;34m\u001b[0m\n\u001b[0;32m     17\u001b[0m \u001b[1;33m\u001b[0m\u001b[0m\n\u001b[0;32m     18\u001b[0m \u001b[1;31m# Fit the model\u001b[0m\u001b[1;33m\u001b[0m\u001b[1;33m\u001b[0m\u001b[0m\n\u001b[1;32m---> 19\u001b[1;33m model_7_V2_history = model_7_V2.fit(train_data_10_percent,\n\u001b[0m\u001b[0;32m     20\u001b[0m                               \u001b[0mvalidation_data\u001b[0m\u001b[1;33m=\u001b[0m\u001b[0mtest_data_10_percent\u001b[0m\u001b[1;33m,\u001b[0m\u001b[1;33m\u001b[0m\u001b[1;33m\u001b[0m\u001b[0m\n\u001b[0;32m     21\u001b[0m                               \u001b[0mepochs\u001b[0m\u001b[1;33m=\u001b[0m\u001b[1;36m5\u001b[0m\u001b[1;33m,\u001b[0m\u001b[1;33m\u001b[0m\u001b[1;33m\u001b[0m\u001b[0m\n",
      "\u001b[1;32mC:\\ProgramData\\Anaconda3\\lib\\site-packages\\keras\\utils\\traceback_utils.py\u001b[0m in \u001b[0;36merror_handler\u001b[1;34m(*args, **kwargs)\u001b[0m\n\u001b[0;32m     62\u001b[0m     \u001b[0mfiltered_tb\u001b[0m \u001b[1;33m=\u001b[0m \u001b[1;32mNone\u001b[0m\u001b[1;33m\u001b[0m\u001b[1;33m\u001b[0m\u001b[0m\n\u001b[0;32m     63\u001b[0m     \u001b[1;32mtry\u001b[0m\u001b[1;33m:\u001b[0m\u001b[1;33m\u001b[0m\u001b[1;33m\u001b[0m\u001b[0m\n\u001b[1;32m---> 64\u001b[1;33m       \u001b[1;32mreturn\u001b[0m \u001b[0mfn\u001b[0m\u001b[1;33m(\u001b[0m\u001b[1;33m*\u001b[0m\u001b[0margs\u001b[0m\u001b[1;33m,\u001b[0m \u001b[1;33m**\u001b[0m\u001b[0mkwargs\u001b[0m\u001b[1;33m)\u001b[0m\u001b[1;33m\u001b[0m\u001b[1;33m\u001b[0m\u001b[0m\n\u001b[0m\u001b[0;32m     65\u001b[0m     \u001b[1;32mexcept\u001b[0m \u001b[0mException\u001b[0m \u001b[1;32mas\u001b[0m \u001b[0me\u001b[0m\u001b[1;33m:\u001b[0m  \u001b[1;31m# pylint: disable=broad-except\u001b[0m\u001b[1;33m\u001b[0m\u001b[1;33m\u001b[0m\u001b[0m\n\u001b[0;32m     66\u001b[0m       \u001b[0mfiltered_tb\u001b[0m \u001b[1;33m=\u001b[0m \u001b[0m_process_traceback_frames\u001b[0m\u001b[1;33m(\u001b[0m\u001b[0me\u001b[0m\u001b[1;33m.\u001b[0m\u001b[0m__traceback__\u001b[0m\u001b[1;33m)\u001b[0m\u001b[1;33m\u001b[0m\u001b[1;33m\u001b[0m\u001b[0m\n",
      "\u001b[1;32mC:\\ProgramData\\Anaconda3\\lib\\site-packages\\keras\\engine\\training.py\u001b[0m in \u001b[0;36mfit\u001b[1;34m(self, x, y, batch_size, epochs, verbose, callbacks, validation_split, validation_data, shuffle, class_weight, sample_weight, initial_epoch, steps_per_epoch, validation_steps, validation_batch_size, validation_freq, max_queue_size, workers, use_multiprocessing)\u001b[0m\n\u001b[0;32m   1418\u001b[0m                 \u001b[0mmodel\u001b[0m\u001b[1;33m=\u001b[0m\u001b[0mself\u001b[0m\u001b[1;33m,\u001b[0m\u001b[1;33m\u001b[0m\u001b[1;33m\u001b[0m\u001b[0m\n\u001b[0;32m   1419\u001b[0m                 steps_per_execution=self._steps_per_execution)\n\u001b[1;32m-> 1420\u001b[1;33m           val_logs = self.evaluate(\n\u001b[0m\u001b[0;32m   1421\u001b[0m               \u001b[0mx\u001b[0m\u001b[1;33m=\u001b[0m\u001b[0mval_x\u001b[0m\u001b[1;33m,\u001b[0m\u001b[1;33m\u001b[0m\u001b[1;33m\u001b[0m\u001b[0m\n\u001b[0;32m   1422\u001b[0m               \u001b[0my\u001b[0m\u001b[1;33m=\u001b[0m\u001b[0mval_y\u001b[0m\u001b[1;33m,\u001b[0m\u001b[1;33m\u001b[0m\u001b[1;33m\u001b[0m\u001b[0m\n",
      "\u001b[1;32mC:\\ProgramData\\Anaconda3\\lib\\site-packages\\keras\\utils\\traceback_utils.py\u001b[0m in \u001b[0;36merror_handler\u001b[1;34m(*args, **kwargs)\u001b[0m\n\u001b[0;32m     62\u001b[0m     \u001b[0mfiltered_tb\u001b[0m \u001b[1;33m=\u001b[0m \u001b[1;32mNone\u001b[0m\u001b[1;33m\u001b[0m\u001b[1;33m\u001b[0m\u001b[0m\n\u001b[0;32m     63\u001b[0m     \u001b[1;32mtry\u001b[0m\u001b[1;33m:\u001b[0m\u001b[1;33m\u001b[0m\u001b[1;33m\u001b[0m\u001b[0m\n\u001b[1;32m---> 64\u001b[1;33m       \u001b[1;32mreturn\u001b[0m \u001b[0mfn\u001b[0m\u001b[1;33m(\u001b[0m\u001b[1;33m*\u001b[0m\u001b[0margs\u001b[0m\u001b[1;33m,\u001b[0m \u001b[1;33m**\u001b[0m\u001b[0mkwargs\u001b[0m\u001b[1;33m)\u001b[0m\u001b[1;33m\u001b[0m\u001b[1;33m\u001b[0m\u001b[0m\n\u001b[0m\u001b[0;32m     65\u001b[0m     \u001b[1;32mexcept\u001b[0m \u001b[0mException\u001b[0m \u001b[1;32mas\u001b[0m \u001b[0me\u001b[0m\u001b[1;33m:\u001b[0m  \u001b[1;31m# pylint: disable=broad-except\u001b[0m\u001b[1;33m\u001b[0m\u001b[1;33m\u001b[0m\u001b[0m\n\u001b[0;32m     66\u001b[0m       \u001b[0mfiltered_tb\u001b[0m \u001b[1;33m=\u001b[0m \u001b[0m_process_traceback_frames\u001b[0m\u001b[1;33m(\u001b[0m\u001b[0me\u001b[0m\u001b[1;33m.\u001b[0m\u001b[0m__traceback__\u001b[0m\u001b[1;33m)\u001b[0m\u001b[1;33m\u001b[0m\u001b[1;33m\u001b[0m\u001b[0m\n",
      "\u001b[1;32mC:\\ProgramData\\Anaconda3\\lib\\site-packages\\keras\\engine\\training.py\u001b[0m in \u001b[0;36mevaluate\u001b[1;34m(self, x, y, batch_size, verbose, sample_weight, steps, callbacks, max_queue_size, workers, use_multiprocessing, return_dict, **kwargs)\u001b[0m\n\u001b[0;32m   1714\u001b[0m             \u001b[1;32mwith\u001b[0m \u001b[0mtf\u001b[0m\u001b[1;33m.\u001b[0m\u001b[0mprofiler\u001b[0m\u001b[1;33m.\u001b[0m\u001b[0mexperimental\u001b[0m\u001b[1;33m.\u001b[0m\u001b[0mTrace\u001b[0m\u001b[1;33m(\u001b[0m\u001b[1;34m'test'\u001b[0m\u001b[1;33m,\u001b[0m \u001b[0mstep_num\u001b[0m\u001b[1;33m=\u001b[0m\u001b[0mstep\u001b[0m\u001b[1;33m,\u001b[0m \u001b[0m_r\u001b[0m\u001b[1;33m=\u001b[0m\u001b[1;36m1\u001b[0m\u001b[1;33m)\u001b[0m\u001b[1;33m:\u001b[0m\u001b[1;33m\u001b[0m\u001b[1;33m\u001b[0m\u001b[0m\n\u001b[0;32m   1715\u001b[0m               \u001b[0mcallbacks\u001b[0m\u001b[1;33m.\u001b[0m\u001b[0mon_test_batch_begin\u001b[0m\u001b[1;33m(\u001b[0m\u001b[0mstep\u001b[0m\u001b[1;33m)\u001b[0m\u001b[1;33m\u001b[0m\u001b[1;33m\u001b[0m\u001b[0m\n\u001b[1;32m-> 1716\u001b[1;33m               \u001b[0mtmp_logs\u001b[0m \u001b[1;33m=\u001b[0m \u001b[0mself\u001b[0m\u001b[1;33m.\u001b[0m\u001b[0mtest_function\u001b[0m\u001b[1;33m(\u001b[0m\u001b[0miterator\u001b[0m\u001b[1;33m)\u001b[0m\u001b[1;33m\u001b[0m\u001b[1;33m\u001b[0m\u001b[0m\n\u001b[0m\u001b[0;32m   1717\u001b[0m               \u001b[1;32mif\u001b[0m \u001b[0mdata_handler\u001b[0m\u001b[1;33m.\u001b[0m\u001b[0mshould_sync\u001b[0m\u001b[1;33m:\u001b[0m\u001b[1;33m\u001b[0m\u001b[1;33m\u001b[0m\u001b[0m\n\u001b[0;32m   1718\u001b[0m                 \u001b[0mcontext\u001b[0m\u001b[1;33m.\u001b[0m\u001b[0masync_wait\u001b[0m\u001b[1;33m(\u001b[0m\u001b[1;33m)\u001b[0m\u001b[1;33m\u001b[0m\u001b[1;33m\u001b[0m\u001b[0m\n",
      "\u001b[1;32mC:\\ProgramData\\Anaconda3\\lib\\site-packages\\tensorflow\\python\\util\\traceback_utils.py\u001b[0m in \u001b[0;36merror_handler\u001b[1;34m(*args, **kwargs)\u001b[0m\n\u001b[0;32m    148\u001b[0m     \u001b[0mfiltered_tb\u001b[0m \u001b[1;33m=\u001b[0m \u001b[1;32mNone\u001b[0m\u001b[1;33m\u001b[0m\u001b[1;33m\u001b[0m\u001b[0m\n\u001b[0;32m    149\u001b[0m     \u001b[1;32mtry\u001b[0m\u001b[1;33m:\u001b[0m\u001b[1;33m\u001b[0m\u001b[1;33m\u001b[0m\u001b[0m\n\u001b[1;32m--> 150\u001b[1;33m       \u001b[1;32mreturn\u001b[0m \u001b[0mfn\u001b[0m\u001b[1;33m(\u001b[0m\u001b[1;33m*\u001b[0m\u001b[0margs\u001b[0m\u001b[1;33m,\u001b[0m \u001b[1;33m**\u001b[0m\u001b[0mkwargs\u001b[0m\u001b[1;33m)\u001b[0m\u001b[1;33m\u001b[0m\u001b[1;33m\u001b[0m\u001b[0m\n\u001b[0m\u001b[0;32m    151\u001b[0m     \u001b[1;32mexcept\u001b[0m \u001b[0mException\u001b[0m \u001b[1;32mas\u001b[0m \u001b[0me\u001b[0m\u001b[1;33m:\u001b[0m\u001b[1;33m\u001b[0m\u001b[1;33m\u001b[0m\u001b[0m\n\u001b[0;32m    152\u001b[0m       \u001b[0mfiltered_tb\u001b[0m \u001b[1;33m=\u001b[0m \u001b[0m_process_traceback_frames\u001b[0m\u001b[1;33m(\u001b[0m\u001b[0me\u001b[0m\u001b[1;33m.\u001b[0m\u001b[0m__traceback__\u001b[0m\u001b[1;33m)\u001b[0m\u001b[1;33m\u001b[0m\u001b[1;33m\u001b[0m\u001b[0m\n",
      "\u001b[1;32mC:\\ProgramData\\Anaconda3\\lib\\site-packages\\tensorflow\\python\\eager\\def_function.py\u001b[0m in \u001b[0;36m__call__\u001b[1;34m(self, *args, **kwds)\u001b[0m\n\u001b[0;32m    913\u001b[0m \u001b[1;33m\u001b[0m\u001b[0m\n\u001b[0;32m    914\u001b[0m       \u001b[1;32mwith\u001b[0m \u001b[0mOptionalXlaContext\u001b[0m\u001b[1;33m(\u001b[0m\u001b[0mself\u001b[0m\u001b[1;33m.\u001b[0m\u001b[0m_jit_compile\u001b[0m\u001b[1;33m)\u001b[0m\u001b[1;33m:\u001b[0m\u001b[1;33m\u001b[0m\u001b[1;33m\u001b[0m\u001b[0m\n\u001b[1;32m--> 915\u001b[1;33m         \u001b[0mresult\u001b[0m \u001b[1;33m=\u001b[0m \u001b[0mself\u001b[0m\u001b[1;33m.\u001b[0m\u001b[0m_call\u001b[0m\u001b[1;33m(\u001b[0m\u001b[1;33m*\u001b[0m\u001b[0margs\u001b[0m\u001b[1;33m,\u001b[0m \u001b[1;33m**\u001b[0m\u001b[0mkwds\u001b[0m\u001b[1;33m)\u001b[0m\u001b[1;33m\u001b[0m\u001b[1;33m\u001b[0m\u001b[0m\n\u001b[0m\u001b[0;32m    916\u001b[0m \u001b[1;33m\u001b[0m\u001b[0m\n\u001b[0;32m    917\u001b[0m       \u001b[0mnew_tracing_count\u001b[0m \u001b[1;33m=\u001b[0m \u001b[0mself\u001b[0m\u001b[1;33m.\u001b[0m\u001b[0mexperimental_get_tracing_count\u001b[0m\u001b[1;33m(\u001b[0m\u001b[1;33m)\u001b[0m\u001b[1;33m\u001b[0m\u001b[1;33m\u001b[0m\u001b[0m\n",
      "\u001b[1;32mC:\\ProgramData\\Anaconda3\\lib\\site-packages\\tensorflow\\python\\eager\\def_function.py\u001b[0m in \u001b[0;36m_call\u001b[1;34m(self, *args, **kwds)\u001b[0m\n\u001b[0;32m    952\u001b[0m       \u001b[1;31m# In this case we have not created variables on the first call. So we can\u001b[0m\u001b[1;33m\u001b[0m\u001b[1;33m\u001b[0m\u001b[0m\n\u001b[0;32m    953\u001b[0m       \u001b[1;31m# run the first trace but we should fail if variables are created.\u001b[0m\u001b[1;33m\u001b[0m\u001b[1;33m\u001b[0m\u001b[0m\n\u001b[1;32m--> 954\u001b[1;33m       \u001b[0mresults\u001b[0m \u001b[1;33m=\u001b[0m \u001b[0mself\u001b[0m\u001b[1;33m.\u001b[0m\u001b[0m_stateful_fn\u001b[0m\u001b[1;33m(\u001b[0m\u001b[1;33m*\u001b[0m\u001b[0margs\u001b[0m\u001b[1;33m,\u001b[0m \u001b[1;33m**\u001b[0m\u001b[0mkwds\u001b[0m\u001b[1;33m)\u001b[0m\u001b[1;33m\u001b[0m\u001b[1;33m\u001b[0m\u001b[0m\n\u001b[0m\u001b[0;32m    955\u001b[0m       \u001b[1;32mif\u001b[0m \u001b[0mself\u001b[0m\u001b[1;33m.\u001b[0m\u001b[0m_created_variables\u001b[0m \u001b[1;32mand\u001b[0m \u001b[1;32mnot\u001b[0m \u001b[0mALLOW_DYNAMIC_VARIABLE_CREATION\u001b[0m\u001b[1;33m:\u001b[0m\u001b[1;33m\u001b[0m\u001b[1;33m\u001b[0m\u001b[0m\n\u001b[0;32m    956\u001b[0m         raise ValueError(\"Creating variables on a non-first call to a function\"\n",
      "\u001b[1;32mC:\\ProgramData\\Anaconda3\\lib\\site-packages\\tensorflow\\python\\eager\\function.py\u001b[0m in \u001b[0;36m__call__\u001b[1;34m(self, *args, **kwargs)\u001b[0m\n\u001b[0;32m   2954\u001b[0m       (graph_function,\n\u001b[0;32m   2955\u001b[0m        filtered_flat_args) = self._maybe_define_function(args, kwargs)\n\u001b[1;32m-> 2956\u001b[1;33m     return graph_function._call_flat(\n\u001b[0m\u001b[0;32m   2957\u001b[0m         filtered_flat_args, captured_inputs=graph_function.captured_inputs)  # pylint: disable=protected-access\n\u001b[0;32m   2958\u001b[0m \u001b[1;33m\u001b[0m\u001b[0m\n",
      "\u001b[1;32mC:\\ProgramData\\Anaconda3\\lib\\site-packages\\tensorflow\\python\\eager\\function.py\u001b[0m in \u001b[0;36m_call_flat\u001b[1;34m(self, args, captured_inputs, cancellation_manager)\u001b[0m\n\u001b[0;32m   1851\u001b[0m         and executing_eagerly):\n\u001b[0;32m   1852\u001b[0m       \u001b[1;31m# No tape is watching; skip to running the function.\u001b[0m\u001b[1;33m\u001b[0m\u001b[1;33m\u001b[0m\u001b[0m\n\u001b[1;32m-> 1853\u001b[1;33m       return self._build_call_outputs(self._inference_function.call(\n\u001b[0m\u001b[0;32m   1854\u001b[0m           ctx, args, cancellation_manager=cancellation_manager))\n\u001b[0;32m   1855\u001b[0m     forward_backward = self._select_forward_and_backward_functions(\n",
      "\u001b[1;32mC:\\ProgramData\\Anaconda3\\lib\\site-packages\\tensorflow\\python\\eager\\function.py\u001b[0m in \u001b[0;36mcall\u001b[1;34m(self, ctx, args, cancellation_manager)\u001b[0m\n\u001b[0;32m    497\u001b[0m       \u001b[1;32mwith\u001b[0m \u001b[0m_InterpolateFunctionError\u001b[0m\u001b[1;33m(\u001b[0m\u001b[0mself\u001b[0m\u001b[1;33m)\u001b[0m\u001b[1;33m:\u001b[0m\u001b[1;33m\u001b[0m\u001b[1;33m\u001b[0m\u001b[0m\n\u001b[0;32m    498\u001b[0m         \u001b[1;32mif\u001b[0m \u001b[0mcancellation_manager\u001b[0m \u001b[1;32mis\u001b[0m \u001b[1;32mNone\u001b[0m\u001b[1;33m:\u001b[0m\u001b[1;33m\u001b[0m\u001b[1;33m\u001b[0m\u001b[0m\n\u001b[1;32m--> 499\u001b[1;33m           outputs = execute.execute(\n\u001b[0m\u001b[0;32m    500\u001b[0m               \u001b[0mstr\u001b[0m\u001b[1;33m(\u001b[0m\u001b[0mself\u001b[0m\u001b[1;33m.\u001b[0m\u001b[0msignature\u001b[0m\u001b[1;33m.\u001b[0m\u001b[0mname\u001b[0m\u001b[1;33m)\u001b[0m\u001b[1;33m,\u001b[0m\u001b[1;33m\u001b[0m\u001b[1;33m\u001b[0m\u001b[0m\n\u001b[0;32m    501\u001b[0m               \u001b[0mnum_outputs\u001b[0m\u001b[1;33m=\u001b[0m\u001b[0mself\u001b[0m\u001b[1;33m.\u001b[0m\u001b[0m_num_outputs\u001b[0m\u001b[1;33m,\u001b[0m\u001b[1;33m\u001b[0m\u001b[1;33m\u001b[0m\u001b[0m\n",
      "\u001b[1;32mC:\\ProgramData\\Anaconda3\\lib\\site-packages\\tensorflow\\python\\eager\\execute.py\u001b[0m in \u001b[0;36mquick_execute\u001b[1;34m(op_name, num_outputs, inputs, attrs, ctx, name)\u001b[0m\n\u001b[0;32m     52\u001b[0m   \u001b[1;32mtry\u001b[0m\u001b[1;33m:\u001b[0m\u001b[1;33m\u001b[0m\u001b[1;33m\u001b[0m\u001b[0m\n\u001b[0;32m     53\u001b[0m     \u001b[0mctx\u001b[0m\u001b[1;33m.\u001b[0m\u001b[0mensure_initialized\u001b[0m\u001b[1;33m(\u001b[0m\u001b[1;33m)\u001b[0m\u001b[1;33m\u001b[0m\u001b[1;33m\u001b[0m\u001b[0m\n\u001b[1;32m---> 54\u001b[1;33m     tensors = pywrap_tfe.TFE_Py_Execute(ctx._handle, device_name, op_name,\n\u001b[0m\u001b[0;32m     55\u001b[0m                                         inputs, attrs, num_outputs)\n\u001b[0;32m     56\u001b[0m   \u001b[1;32mexcept\u001b[0m \u001b[0mcore\u001b[0m\u001b[1;33m.\u001b[0m\u001b[0m_NotOkStatusException\u001b[0m \u001b[1;32mas\u001b[0m \u001b[0me\u001b[0m\u001b[1;33m:\u001b[0m\u001b[1;33m\u001b[0m\u001b[1;33m\u001b[0m\u001b[0m\n",
      "\u001b[1;31mKeyboardInterrupt\u001b[0m: "
     ]
    }
   ],
   "source": [
    "inputs = layers.Input(shape=(IMG_SIZE+(3,)), name=\"input_layer\")\n",
    "\n",
    "x = layers.Rescaling(1./255)(inputs)\n",
    "\n",
    "x = feature_extracter_layer(x)\n",
    "\n",
    "outputs = layers.Dense(len(class_names), activation=\"softmax\")(x)\n",
    "\n",
    "model_7_V2 = tf.keras.Model(inputs, outputs, name=\"model_7_V2_transfer_learning_feature_extraction\")\n",
    "\n",
    "# Compile the model\n",
    "model_7_V2.compile(\n",
    "    loss=tf.keras.losses.CategoricalCrossentropy(),\n",
    "    optimizer=tf.keras.optimizers.Adam(),\n",
    "    metrics=[\"accuracy\"]\n",
    ")\n",
    "\n",
    "# Fit the model\n",
    "model_7_V2_history = model_7_V2.fit(train_data_10_percent,\n",
    "                              validation_data=test_data_10_percent,\n",
    "                              epochs=5,\n",
    "                              callbacks=[create_checkpoint_callback(model_7_V2.name)])"
   ]
  },
  {
   "cell_type": "markdown",
   "id": "b0134734",
   "metadata": {},
   "source": [
    "# Natural Languare Processing\n",
    "    Binary Classification\n",
    "    In this problem we'll use the Twitter disaster datasets"
   ]
  },
  {
   "cell_type": "code",
   "execution_count": 35,
   "id": "5b8a76ec",
   "metadata": {},
   "outputs": [
    {
     "name": "stdout",
     "output_type": "stream",
     "text": [
      "\r",
      "  0% [                                                                            ]      0 / 607343\r",
      "  1% [.                                                                           ]   8192 / 607343\r",
      "  2% [..                                                                          ]  16384 / 607343\r",
      "  4% [...                                                                         ]  24576 / 607343\r",
      "  5% [....                                                                        ]  32768 / 607343\r",
      "  6% [.....                                                                       ]  40960 / 607343\r",
      "  8% [......                                                                      ]  49152 / 607343\r",
      "  9% [.......                                                                     ]  57344 / 607343\r",
      " 10% [........                                                                    ]  65536 / 607343\r",
      " 12% [.........                                                                   ]  73728 / 607343\r",
      " 13% [..........                                                                  ]  81920 / 607343\r",
      " 14% [...........                                                                 ]  90112 / 607343\r",
      " 16% [............                                                                ]  98304 / 607343\r",
      " 17% [.............                                                               ] 106496 / 607343\r",
      " 18% [..............                                                              ] 114688 / 607343\r",
      " 20% [...............                                                             ] 122880 / 607343\r",
      " 21% [................                                                            ] 131072 / 607343\r",
      " 22% [.................                                                           ] 139264 / 607343\r",
      " 24% [..................                                                          ] 147456 / 607343\r",
      " 25% [...................                                                         ] 155648 / 607343\r",
      " 26% [....................                                                        ] 163840 / 607343\r",
      " 28% [.....................                                                       ] 172032 / 607343\r",
      " 29% [......................                                                      ] 180224 / 607343\r",
      " 31% [.......................                                                     ] 188416 / 607343\r",
      " 32% [........................                                                    ] 196608 / 607343\r",
      " 33% [.........................                                                   ] 204800 / 607343\r",
      " 35% [..........................                                                  ] 212992 / 607343\r",
      " 36% [...........................                                                 ] 221184 / 607343\r",
      " 37% [............................                                                ] 229376 / 607343\r",
      " 39% [.............................                                               ] 237568 / 607343\r",
      " 40% [..............................                                              ] 245760 / 607343\r",
      " 41% [...............................                                             ] 253952 / 607343\r",
      " 43% [................................                                            ] 262144 / 607343\r",
      " 44% [.................................                                           ] 270336 / 607343\r",
      " 45% [..................................                                          ] 278528 / 607343\r",
      " 47% [...................................                                         ] 286720 / 607343\r",
      " 48% [....................................                                        ] 294912 / 607343\r",
      " 49% [.....................................                                       ] 303104 / 607343\r",
      " 51% [......................................                                      ] 311296 / 607343\r",
      " 52% [.......................................                                     ] 319488 / 607343\r",
      " 53% [.........................................                                   ] 327680 / 607343\r",
      " 55% [..........................................                                  ] 335872 / 607343\r",
      " 56% [...........................................                                 ] 344064 / 607343\r",
      " 57% [............................................                                ] 352256 / 607343\r",
      " 59% [.............................................                               ] 360448 / 607343\r",
      " 60% [..............................................                              ] 368640 / 607343\r",
      " 62% [...............................................                             ] 376832 / 607343\r",
      " 63% [................................................                            ] 385024 / 607343\r",
      " 64% [.................................................                           ] 393216 / 607343\r",
      " 66% [..................................................                          ] 401408 / 607343\r",
      " 67% [...................................................                         ] 409600 / 607343\r",
      " 68% [....................................................                        ] 417792 / 607343\r",
      " 70% [.....................................................                       ] 425984 / 607343\r",
      " 71% [......................................................                      ] 434176 / 607343\r",
      " 72% [.......................................................                     ] 442368 / 607343\r",
      " 74% [........................................................                    ] 450560 / 607343\r",
      " 75% [.........................................................                   ] 458752 / 607343\r",
      " 76% [..........................................................                  ] 466944 / 607343\r",
      " 78% [...........................................................                 ] 475136 / 607343\r",
      " 79% [............................................................                ] 483328 / 607343\r",
      " 80% [.............................................................               ] 491520 / 607343\r",
      " 82% [..............................................................              ] 499712 / 607343\r",
      " 83% [...............................................................             ] 507904 / 607343\r",
      " 84% [................................................................            ] 516096 / 607343\r",
      " 86% [.................................................................           ] 524288 / 607343\r",
      " 87% [..................................................................          ] 532480 / 607343\r",
      " 89% [...................................................................         ] 540672 / 607343\r",
      " 90% [....................................................................        ] 548864 / 607343\r",
      " 91% [.....................................................................       ] 557056 / 607343\r",
      " 93% [......................................................................      ] 565248 / 607343\r",
      " 94% [.......................................................................     ] 573440 / 607343\r",
      " 95% [........................................................................    ] 581632 / 607343\r",
      " 97% [.........................................................................   ] 589824 / 607343\r",
      " 98% [..........................................................................  ] 598016 / 607343\r",
      " 99% [........................................................................... ] 606208 / 607343\r",
      "100% [............................................................................] 607343 / 607343"
     ]
    }
   ],
   "source": [
    "import wget\n",
    "url = 'https://storage.googleapis.com/ztm_tf_course/nlp_getting_started.zip'\n",
    "myfile = wget.download(url)"
   ]
  },
  {
   "cell_type": "code",
   "execution_count": 37,
   "id": "1ed8617f",
   "metadata": {},
   "outputs": [],
   "source": [
    "import zipfile\n",
    "zip_ref = zipfile.ZipFile(myfile)\n",
    "zip_ref.extractall()\n",
    "zip_ref.close()"
   ]
  },
  {
   "cell_type": "code",
   "execution_count": 38,
   "id": "6ac28fb5",
   "metadata": {},
   "outputs": [
    {
     "data": {
      "text/html": [
       "<div>\n",
       "<style scoped>\n",
       "    .dataframe tbody tr th:only-of-type {\n",
       "        vertical-align: middle;\n",
       "    }\n",
       "\n",
       "    .dataframe tbody tr th {\n",
       "        vertical-align: top;\n",
       "    }\n",
       "\n",
       "    .dataframe thead th {\n",
       "        text-align: right;\n",
       "    }\n",
       "</style>\n",
       "<table border=\"1\" class=\"dataframe\">\n",
       "  <thead>\n",
       "    <tr style=\"text-align: right;\">\n",
       "      <th></th>\n",
       "      <th>id</th>\n",
       "      <th>keyword</th>\n",
       "      <th>location</th>\n",
       "      <th>text</th>\n",
       "      <th>target</th>\n",
       "    </tr>\n",
       "  </thead>\n",
       "  <tbody>\n",
       "    <tr>\n",
       "      <th>0</th>\n",
       "      <td>1</td>\n",
       "      <td>NaN</td>\n",
       "      <td>NaN</td>\n",
       "      <td>Our Deeds are the Reason of this #earthquake M...</td>\n",
       "      <td>1</td>\n",
       "    </tr>\n",
       "    <tr>\n",
       "      <th>1</th>\n",
       "      <td>4</td>\n",
       "      <td>NaN</td>\n",
       "      <td>NaN</td>\n",
       "      <td>Forest fire near La Ronge Sask. Canada</td>\n",
       "      <td>1</td>\n",
       "    </tr>\n",
       "    <tr>\n",
       "      <th>2</th>\n",
       "      <td>5</td>\n",
       "      <td>NaN</td>\n",
       "      <td>NaN</td>\n",
       "      <td>All residents asked to 'shelter in place' are ...</td>\n",
       "      <td>1</td>\n",
       "    </tr>\n",
       "    <tr>\n",
       "      <th>3</th>\n",
       "      <td>6</td>\n",
       "      <td>NaN</td>\n",
       "      <td>NaN</td>\n",
       "      <td>13,000 people receive #wildfires evacuation or...</td>\n",
       "      <td>1</td>\n",
       "    </tr>\n",
       "    <tr>\n",
       "      <th>4</th>\n",
       "      <td>7</td>\n",
       "      <td>NaN</td>\n",
       "      <td>NaN</td>\n",
       "      <td>Just got sent this photo from Ruby #Alaska as ...</td>\n",
       "      <td>1</td>\n",
       "    </tr>\n",
       "  </tbody>\n",
       "</table>\n",
       "</div>"
      ],
      "text/plain": [
       "   id keyword location                                               text  \\\n",
       "0   1     NaN      NaN  Our Deeds are the Reason of this #earthquake M...   \n",
       "1   4     NaN      NaN             Forest fire near La Ronge Sask. Canada   \n",
       "2   5     NaN      NaN  All residents asked to 'shelter in place' are ...   \n",
       "3   6     NaN      NaN  13,000 people receive #wildfires evacuation or...   \n",
       "4   7     NaN      NaN  Just got sent this photo from Ruby #Alaska as ...   \n",
       "\n",
       "   target  \n",
       "0       1  \n",
       "1       1  \n",
       "2       1  \n",
       "3       1  \n",
       "4       1  "
      ]
     },
     "execution_count": 38,
     "metadata": {},
     "output_type": "execute_result"
    }
   ],
   "source": [
    "import pandas as pd\n",
    "\n",
    "raw_df = pd.read_csv(\"train.csv\")\n",
    "\n",
    "raw_df.head()"
   ]
  },
  {
   "cell_type": "code",
   "execution_count": 39,
   "id": "b30c7437",
   "metadata": {},
   "outputs": [
    {
     "data": {
      "text/plain": [
       "fatalities               45\n",
       "deluge                   42\n",
       "armageddon               42\n",
       "sinking                  41\n",
       "damage                   41\n",
       "                         ..\n",
       "forest%20fire            19\n",
       "epicentre                12\n",
       "threat                   11\n",
       "inundation               10\n",
       "radiation%20emergency     9\n",
       "Name: keyword, Length: 221, dtype: int64"
      ]
     },
     "execution_count": 39,
     "metadata": {},
     "output_type": "execute_result"
    }
   ],
   "source": [
    "raw_df[\"keyword\"].value_counts()"
   ]
  },
  {
   "cell_type": "code",
   "execution_count": 40,
   "id": "c794b5f6",
   "metadata": {},
   "outputs": [
    {
     "data": {
      "text/plain": [
       "USA                    104\n",
       "New York                71\n",
       "United States           50\n",
       "London                  45\n",
       "Canada                  29\n",
       "                      ... \n",
       "MontrÌ©al, QuÌ©bec       1\n",
       "Montreal                 1\n",
       "ÌÏT: 6.4682,3.18287      1\n",
       "Live4Heed??              1\n",
       "Lincoln                  1\n",
       "Name: location, Length: 3341, dtype: int64"
      ]
     },
     "execution_count": 40,
     "metadata": {},
     "output_type": "execute_result"
    }
   ],
   "source": [
    "raw_df[\"location\"].value_counts()"
   ]
  },
  {
   "cell_type": "code",
   "execution_count": 42,
   "id": "36971e99",
   "metadata": {},
   "outputs": [
    {
     "data": {
      "text/html": [
       "<div>\n",
       "<style scoped>\n",
       "    .dataframe tbody tr th:only-of-type {\n",
       "        vertical-align: middle;\n",
       "    }\n",
       "\n",
       "    .dataframe tbody tr th {\n",
       "        vertical-align: top;\n",
       "    }\n",
       "\n",
       "    .dataframe thead th {\n",
       "        text-align: right;\n",
       "    }\n",
       "</style>\n",
       "<table border=\"1\" class=\"dataframe\">\n",
       "  <thead>\n",
       "    <tr style=\"text-align: right;\">\n",
       "      <th></th>\n",
       "      <th>id</th>\n",
       "      <th>keyword</th>\n",
       "      <th>location</th>\n",
       "      <th>text</th>\n",
       "      <th>target</th>\n",
       "    </tr>\n",
       "  </thead>\n",
       "  <tbody>\n",
       "    <tr>\n",
       "      <th>2644</th>\n",
       "      <td>3796</td>\n",
       "      <td>destruction</td>\n",
       "      <td>NaN</td>\n",
       "      <td>So you have a new weapon that can cause un-ima...</td>\n",
       "      <td>1</td>\n",
       "    </tr>\n",
       "    <tr>\n",
       "      <th>2227</th>\n",
       "      <td>3185</td>\n",
       "      <td>deluge</td>\n",
       "      <td>NaN</td>\n",
       "      <td>The f$&amp;amp;@ing things I do for #GISHWHES Just...</td>\n",
       "      <td>0</td>\n",
       "    </tr>\n",
       "    <tr>\n",
       "      <th>5448</th>\n",
       "      <td>7769</td>\n",
       "      <td>police</td>\n",
       "      <td>UK</td>\n",
       "      <td>DT @georgegalloway: RT @Galloway4Mayor: ÛÏThe...</td>\n",
       "      <td>1</td>\n",
       "    </tr>\n",
       "    <tr>\n",
       "      <th>132</th>\n",
       "      <td>191</td>\n",
       "      <td>aftershock</td>\n",
       "      <td>NaN</td>\n",
       "      <td>Aftershock back to school kick off was great. ...</td>\n",
       "      <td>0</td>\n",
       "    </tr>\n",
       "    <tr>\n",
       "      <th>6845</th>\n",
       "      <td>9810</td>\n",
       "      <td>trauma</td>\n",
       "      <td>Montgomery County, MD</td>\n",
       "      <td>in response to trauma Children of Addicts deve...</td>\n",
       "      <td>0</td>\n",
       "    </tr>\n",
       "  </tbody>\n",
       "</table>\n",
       "</div>"
      ],
      "text/plain": [
       "        id      keyword               location  \\\n",
       "2644  3796  destruction                    NaN   \n",
       "2227  3185       deluge                    NaN   \n",
       "5448  7769       police                     UK   \n",
       "132    191   aftershock                    NaN   \n",
       "6845  9810       trauma  Montgomery County, MD   \n",
       "\n",
       "                                                   text  target  \n",
       "2644  So you have a new weapon that can cause un-ima...       1  \n",
       "2227  The f$&amp;@ing things I do for #GISHWHES Just...       0  \n",
       "5448  DT @georgegalloway: RT @Galloway4Mayor: ÛÏThe...       1  \n",
       "132   Aftershock back to school kick off was great. ...       0  \n",
       "6845  in response to trauma Children of Addicts deve...       0  "
      ]
     },
     "execution_count": 42,
     "metadata": {},
     "output_type": "execute_result"
    }
   ],
   "source": [
    "train_df_shuffled = raw_df.sample(frac=1, random_state=42) # shuffle with random_state=42 for reproducibility\n",
    "train_df_shuffled.head()"
   ]
  },
  {
   "cell_type": "code",
   "execution_count": 43,
   "id": "66a76b16",
   "metadata": {},
   "outputs": [
    {
     "data": {
      "text/html": [
       "<div>\n",
       "<style scoped>\n",
       "    .dataframe tbody tr th:only-of-type {\n",
       "        vertical-align: middle;\n",
       "    }\n",
       "\n",
       "    .dataframe tbody tr th {\n",
       "        vertical-align: top;\n",
       "    }\n",
       "\n",
       "    .dataframe thead th {\n",
       "        text-align: right;\n",
       "    }\n",
       "</style>\n",
       "<table border=\"1\" class=\"dataframe\">\n",
       "  <thead>\n",
       "    <tr style=\"text-align: right;\">\n",
       "      <th></th>\n",
       "      <th>text</th>\n",
       "      <th>target</th>\n",
       "    </tr>\n",
       "  </thead>\n",
       "  <tbody>\n",
       "    <tr>\n",
       "      <th>2644</th>\n",
       "      <td>So you have a new weapon that can cause un-ima...</td>\n",
       "      <td>1</td>\n",
       "    </tr>\n",
       "    <tr>\n",
       "      <th>2227</th>\n",
       "      <td>The f$&amp;amp;@ing things I do for #GISHWHES Just...</td>\n",
       "      <td>0</td>\n",
       "    </tr>\n",
       "    <tr>\n",
       "      <th>5448</th>\n",
       "      <td>DT @georgegalloway: RT @Galloway4Mayor: ÛÏThe...</td>\n",
       "      <td>1</td>\n",
       "    </tr>\n",
       "    <tr>\n",
       "      <th>132</th>\n",
       "      <td>Aftershock back to school kick off was great. ...</td>\n",
       "      <td>0</td>\n",
       "    </tr>\n",
       "    <tr>\n",
       "      <th>6845</th>\n",
       "      <td>in response to trauma Children of Addicts deve...</td>\n",
       "      <td>0</td>\n",
       "    </tr>\n",
       "    <tr>\n",
       "      <th>...</th>\n",
       "      <td>...</td>\n",
       "      <td>...</td>\n",
       "    </tr>\n",
       "    <tr>\n",
       "      <th>5226</th>\n",
       "      <td>@Eganator2000 There aren't many Obliteration s...</td>\n",
       "      <td>0</td>\n",
       "    </tr>\n",
       "    <tr>\n",
       "      <th>5390</th>\n",
       "      <td>just had a panic attack bc I don't have enough...</td>\n",
       "      <td>0</td>\n",
       "    </tr>\n",
       "    <tr>\n",
       "      <th>860</th>\n",
       "      <td>Omron HEM-712C Automatic Blood Pressure Monito...</td>\n",
       "      <td>0</td>\n",
       "    </tr>\n",
       "    <tr>\n",
       "      <th>7603</th>\n",
       "      <td>Officials say a quarantine is in place at an A...</td>\n",
       "      <td>1</td>\n",
       "    </tr>\n",
       "    <tr>\n",
       "      <th>7270</th>\n",
       "      <td>I moved to England five years ago today. What ...</td>\n",
       "      <td>1</td>\n",
       "    </tr>\n",
       "  </tbody>\n",
       "</table>\n",
       "<p>7613 rows × 2 columns</p>\n",
       "</div>"
      ],
      "text/plain": [
       "                                                   text  target\n",
       "2644  So you have a new weapon that can cause un-ima...       1\n",
       "2227  The f$&amp;@ing things I do for #GISHWHES Just...       0\n",
       "5448  DT @georgegalloway: RT @Galloway4Mayor: ÛÏThe...       1\n",
       "132   Aftershock back to school kick off was great. ...       0\n",
       "6845  in response to trauma Children of Addicts deve...       0\n",
       "...                                                 ...     ...\n",
       "5226  @Eganator2000 There aren't many Obliteration s...       0\n",
       "5390  just had a panic attack bc I don't have enough...       0\n",
       "860   Omron HEM-712C Automatic Blood Pressure Monito...       0\n",
       "7603  Officials say a quarantine is in place at an A...       1\n",
       "7270  I moved to England five years ago today. What ...       1\n",
       "\n",
       "[7613 rows x 2 columns]"
      ]
     },
     "execution_count": 43,
     "metadata": {},
     "output_type": "execute_result"
    }
   ],
   "source": [
    "train_df_shuffled=train_df_shuffled.drop(['id','keyword','location'],axis=1)\n",
    "train_df_shuffled"
   ]
  },
  {
   "cell_type": "code",
   "execution_count": 44,
   "id": "499bbf74",
   "metadata": {},
   "outputs": [
    {
     "data": {
      "text/plain": [
       "<AxesSubplot:>"
      ]
     },
     "execution_count": 44,
     "metadata": {},
     "output_type": "execute_result"
    },
    {
     "data": {
      "image/png": "[encoded data removed]",
      "text/plain": [
       "<Figure size 432x288 with 1 Axes>"
      ]
     },
     "metadata": {
      "needs_background": "light"
     },
     "output_type": "display_data"
    }
   ],
   "source": [
    "train_df_shuffled[\"target\"].value_counts().plot(kind=\"barh\")"
   ]
  },
  {
   "cell_type": "code",
   "execution_count": 46,
   "id": "d9c17352",
   "metadata": {},
   "outputs": [
    {
     "data": {
      "text/plain": [
       "(6090, 1523, 6090, 1523)"
      ]
     },
     "execution_count": 46,
     "metadata": {},
     "output_type": "execute_result"
    }
   ],
   "source": [
    "from sklearn.model_selection import train_test_split\n",
    "\n",
    "train_sentences, val_sentences, train_labels, val_labels = train_test_split(train_df_shuffled[\"text\"].to_numpy(),\n",
    "                                                                            train_df_shuffled[\"target\"].to_numpy(),\n",
    "                                                                            test_size=0.2,\n",
    "                                                                            random_state=42)\n",
    "\n",
    "len(train_sentences), len(val_sentences), len(train_labels), len(val_labels)"
   ]
  },
  {
   "cell_type": "code",
   "execution_count": 47,
   "id": "277f0b21",
   "metadata": {},
   "outputs": [
    {
     "data": {
      "text/plain": [
       "(6090,)"
      ]
     },
     "execution_count": 47,
     "metadata": {},
     "output_type": "execute_result"
    }
   ],
   "source": [
    "train_sentences.shape"
   ]
  },
  {
   "cell_type": "code",
   "execution_count": 49,
   "id": "c68aea32",
   "metadata": {},
   "outputs": [],
   "source": [
    "from tensorflow.keras.layers.experimental.preprocessing import TextVectorization\n",
    "# Note: in TensorFlow 2.6+, you no longer need \"layers.experimental.preprocessing\"\n",
    "# you can use: \"tf.keras.layers.TextVectorization\", see https://github.com/tensorflow/tensorflow/releases/tag/v2.6.0 for more\n",
    "\n",
    "# Use the default TextVectorization variables\n",
    "text_vectorizer = TextVectorization(max_tokens=None, # how many words in the vocabulary (all of the different words in your text)\n",
    "                                    standardize=\"lower_and_strip_punctuation\", # how to process text\n",
    "                                    split=\"whitespace\", # how to split tokens\n",
    "                                    ngrams=None, # create groups of n-words?\n",
    "                                    output_mode=\"int\", # how to map tokens to numbers\n",
    "                                    output_sequence_length=None) # how long should the output sequence of tokens be?\n",
    "                                    # pad_to_max_tokens=True) # Not valid if using max_tokens=None"
   ]
  },
  {
   "cell_type": "code",
   "execution_count": 50,
   "id": "0094f0ce",
   "metadata": {},
   "outputs": [
    {
     "data": {
      "text/plain": [
       "15"
      ]
     },
     "execution_count": 50,
     "metadata": {},
     "output_type": "execute_result"
    }
   ],
   "source": [
    "round(sum([len(i.split()) for i in train_sentences])/len(train_sentences))"
   ]
  },
  {
   "cell_type": "code",
   "execution_count": 51,
   "id": "a12955e6",
   "metadata": {},
   "outputs": [],
   "source": [
    "# Setup text vectorization with custom variables\n",
    "max_vocab_length = 10000 # max number of words to have in our vocabulary\n",
    "max_length = 15 # max length our sequences will be (e.g. how many words from a Tweet does our model see?)\n",
    "\n",
    "text_vectorizer = TextVectorization(max_tokens=max_vocab_length,\n",
    "                                    standardize=\"lower_and_strip_punctuation\", # how to process text\n",
    "                                    split=\"whitespace\",\n",
    "                                    output_mode=\"int\",\n",
    "                                    output_sequence_length=max_length)"
   ]
  },
  {
   "cell_type": "code",
   "execution_count": 52,
   "id": "04625e7d",
   "metadata": {},
   "outputs": [],
   "source": [
    "text_vectorizer.adapt(train_sentences)"
   ]
  },
  {
   "cell_type": "code",
   "execution_count": 53,
   "id": "54f1faf5",
   "metadata": {},
   "outputs": [
    {
     "name": "stdout",
     "output_type": "stream",
     "text": [
      "Original text:\n",
      "she keep it wet like tsunami.      \n",
      "\n",
      "Vectorized version:\n"
     ]
    },
    {
     "data": {
      "text/plain": [
       "<tf.Tensor: shape=(1, 15), dtype=int64, numpy=\n",
       "array([[ 208,  397,   15, 2410,   25,  517,    0,    0,    0,    0,    0,\n",
       "           0,    0,    0,    0]], dtype=int64)>"
      ]
     },
     "execution_count": 53,
     "metadata": {},
     "output_type": "execute_result"
    }
   ],
   "source": [
    "random_sentence = random.choice(train_sentences)\n",
    "print(f\"Original text:\\n{random_sentence}\\\n",
    "      \\n\\nVectorized version:\")\n",
    "text_vectorizer([random_sentence])"
   ]
  },
  {
   "cell_type": "code",
   "execution_count": 54,
   "id": "73e2f6be",
   "metadata": {},
   "outputs": [
    {
     "name": "stdout",
     "output_type": "stream",
     "text": [
      "Number of words in vocab: 10000\n",
      "Top 5 most common words: ['', '[UNK]', 'the', 'a', 'in']\n",
      "Bottom 5 least common words: ['minded', 'mindblowing', 'milne', 'milledgeville', 'millcityio']\n"
     ]
    }
   ],
   "source": [
    "words_in_vocab = text_vectorizer.get_vocabulary()\n",
    "top_5_words = words_in_vocab[:5] # most common tokens (notice the [UNK] token for \"unknown\" words)\n",
    "bottom_5_words = words_in_vocab[-5:] # least common tokens\n",
    "print(f\"Number of words in vocab: {len(words_in_vocab)}\")\n",
    "print(f\"Top 5 most common words: {top_5_words}\") \n",
    "print(f\"Bottom 5 least common words: {bottom_5_words}\")"
   ]
  },
  {
   "cell_type": "code",
   "execution_count": 55,
   "id": "2e6e1181",
   "metadata": {},
   "outputs": [
    {
     "data": {
      "text/plain": [
       "<keras.layers.embeddings.Embedding at 0x1c90a6b7640>"
      ]
     },
     "execution_count": 55,
     "metadata": {},
     "output_type": "execute_result"
    }
   ],
   "source": [
    "tf.random.set_seed(42)\n",
    "from tensorflow.keras import layers\n",
    "\n",
    "embedding = layers.Embedding(input_dim=max_vocab_length, # set input shape\n",
    "                             output_dim=128, # set size of embedding vector\n",
    "                             embeddings_initializer=\"uniform\", # default, intialize randomly\n",
    "                             input_length=max_length, # how long is each input\n",
    "                             name=\"embedding_1\") \n",
    "\n",
    "embedding"
   ]
  },
  {
   "cell_type": "code",
   "execution_count": 56,
   "id": "9aca39bf",
   "metadata": {},
   "outputs": [
    {
     "name": "stdout",
     "output_type": "stream",
     "text": [
      "Original text:\n",
      "Jays rocking #MLB @JoeyBats19 just bombed one out of Rogers Centre. Play-offs r ahead for The #BlueJays - Bell Moseby and Barfield r back!      \n",
      "\n",
      "Embedded version:\n"
     ]
    },
    {
     "data": {
      "text/plain": [
       "<tf.Tensor: shape=(1, 15, 128), dtype=float32, numpy=\n",
       "array([[[-0.00477182,  0.03976698,  0.01711961, ..., -0.02275485,\n",
       "          0.01055753, -0.03317962],\n",
       "        [-0.01484648,  0.04340242, -0.03687606, ...,  0.03987407,\n",
       "          0.00476655, -0.04437194],\n",
       "        [-0.00860314,  0.02833365, -0.00076376, ...,  0.01373389,\n",
       "          0.00063994,  0.03162192],\n",
       "        ...,\n",
       "        [ 0.04157963, -0.04516028,  0.04590489, ..., -0.00420184,\n",
       "          0.02172515, -0.03236417],\n",
       "        [-0.02993214,  0.01396969,  0.03798832, ...,  0.0009527 ,\n",
       "          0.00238551,  0.02462022],\n",
       "        [-0.03508195,  0.01448471,  0.00513798, ...,  0.04485155,\n",
       "          0.03976364, -0.03543619]]], dtype=float32)>"
      ]
     },
     "execution_count": 56,
     "metadata": {},
     "output_type": "execute_result"
    }
   ],
   "source": [
    "random_sentence = random.choice(train_sentences)\n",
    "print(f\"Original text:\\n{random_sentence}\\\n",
    "      \\n\\nEmbedded version:\")\n",
    "\n",
    "# Embed the random sentence (turn it into numerical representation)\n",
    "sample_embed = embedding(text_vectorizer([random_sentence]))\n",
    "sample_embed"
   ]
  },
  {
   "cell_type": "code",
   "execution_count": 57,
   "id": "343ee62a",
   "metadata": {},
   "outputs": [
    {
     "name": "stdout",
     "output_type": "stream",
     "text": [
      "Epoch 1/5\n",
      "191/191 [==============================] - 6s 21ms/step - loss: 0.5087 - accuracy: 0.7479 - val_loss: 0.4569 - val_accuracy: 0.7892\n",
      "Epoch 2/5\n",
      "191/191 [==============================] - 4s 19ms/step - loss: 0.3081 - accuracy: 0.8759 - val_loss: 0.5074 - val_accuracy: 0.7814\n",
      "Epoch 3/5\n",
      "191/191 [==============================] - 4s 19ms/step - loss: 0.2091 - accuracy: 0.9240 - val_loss: 0.6027 - val_accuracy: 0.7695\n",
      "Epoch 4/5\n",
      "191/191 [==============================] - 4s 19ms/step - loss: 0.1432 - accuracy: 0.9498 - val_loss: 0.8004 - val_accuracy: 0.7446\n",
      "Epoch 5/5\n",
      "191/191 [==============================] - 4s 20ms/step - loss: 0.0989 - accuracy: 0.9634 - val_loss: 0.8537 - val_accuracy: 0.7814\n"
     ]
    }
   ],
   "source": [
    "inputs = layers.Input(shape=(1,), dtype=tf.string, name=\"input_layer\")\n",
    "x = text_vectorizer(inputs)\n",
    "x = embedding(x)\n",
    "x = layers.LSTM(64, return_sequences=True)(x)\n",
    "x = layers.LSTM(64)(x)\n",
    "outputs = layers.Dense(1, activation=\"sigmoid\")(x)\n",
    "model_8 = tf.keras.Model(inputs, outputs, name=\"model_8_LSTM\")\n",
    "# Compile the model\n",
    "model_8.compile(\n",
    "    loss=tf.keras.losses.BinaryCrossentropy(),\n",
    "    optimizer=tf.keras.optimizers.Adam(),\n",
    "    metrics=[\"accuracy\"]\n",
    ")\n",
    "# Fit the model\n",
    "model_8_history = model_8.fit(train_sentences,\n",
    "                              train_labels,\n",
    "                              validation_data=(val_sentences, val_labels),\n",
    "                              epochs=5,\n",
    "                              callbacks=[create_checkpoint_callback(model_8.name)])"
   ]
  },
  {
   "cell_type": "markdown",
   "id": "29062826",
   "metadata": {},
   "source": [
    "# NlP multi"
   ]
  },
  {
   "cell_type": "code",
   "execution_count": 97,
   "id": "1c7e0355",
   "metadata": {},
   "outputs": [
    {
     "data": {
      "text/html": [
       "<div>\n",
       "<style scoped>\n",
       "    .dataframe tbody tr th:only-of-type {\n",
       "        vertical-align: middle;\n",
       "    }\n",
       "\n",
       "    .dataframe tbody tr th {\n",
       "        vertical-align: top;\n",
       "    }\n",
       "\n",
       "    .dataframe thead th {\n",
       "        text-align: right;\n",
       "    }\n",
       "</style>\n",
       "<table border=\"1\" class=\"dataframe\">\n",
       "  <thead>\n",
       "    <tr style=\"text-align: right;\">\n",
       "      <th></th>\n",
       "      <th>category</th>\n",
       "      <th>headline</th>\n",
       "      <th>authors</th>\n",
       "      <th>link</th>\n",
       "      <th>short_description</th>\n",
       "      <th>date</th>\n",
       "    </tr>\n",
       "  </thead>\n",
       "  <tbody>\n",
       "    <tr>\n",
       "      <th>0</th>\n",
       "      <td>CRIME</td>\n",
       "      <td>There Were 2 Mass Shootings In Texas Last Week...</td>\n",
       "      <td>Melissa Jeltsen</td>\n",
       "      <td>https://www.huffingtonpost.com/entry/texas-ama...</td>\n",
       "      <td>She left her husband. He killed their children...</td>\n",
       "      <td>2018-05-26</td>\n",
       "    </tr>\n",
       "    <tr>\n",
       "      <th>1</th>\n",
       "      <td>ENTERTAINMENT</td>\n",
       "      <td>Will Smith Joins Diplo And Nicky Jam For The 2...</td>\n",
       "      <td>Andy McDonald</td>\n",
       "      <td>https://www.huffingtonpost.com/entry/will-smit...</td>\n",
       "      <td>Of course it has a song.</td>\n",
       "      <td>2018-05-26</td>\n",
       "    </tr>\n",
       "    <tr>\n",
       "      <th>2</th>\n",
       "      <td>ENTERTAINMENT</td>\n",
       "      <td>Hugh Grant Marries For The First Time At Age 57</td>\n",
       "      <td>Ron Dicker</td>\n",
       "      <td>https://www.huffingtonpost.com/entry/hugh-gran...</td>\n",
       "      <td>The actor and his longtime girlfriend Anna Ebe...</td>\n",
       "      <td>2018-05-26</td>\n",
       "    </tr>\n",
       "    <tr>\n",
       "      <th>3</th>\n",
       "      <td>ENTERTAINMENT</td>\n",
       "      <td>Jim Carrey Blasts 'Castrato' Adam Schiff And D...</td>\n",
       "      <td>Ron Dicker</td>\n",
       "      <td>https://www.huffingtonpost.com/entry/jim-carre...</td>\n",
       "      <td>The actor gives Dems an ass-kicking for not fi...</td>\n",
       "      <td>2018-05-26</td>\n",
       "    </tr>\n",
       "    <tr>\n",
       "      <th>4</th>\n",
       "      <td>ENTERTAINMENT</td>\n",
       "      <td>Julianna Margulies Uses Donald Trump Poop Bags...</td>\n",
       "      <td>Ron Dicker</td>\n",
       "      <td>https://www.huffingtonpost.com/entry/julianna-...</td>\n",
       "      <td>The \"Dietland\" actress said using the bags is ...</td>\n",
       "      <td>2018-05-26</td>\n",
       "    </tr>\n",
       "  </tbody>\n",
       "</table>\n",
       "</div>"
      ],
      "text/plain": [
       "        category                                           headline  \\\n",
       "0          CRIME  There Were 2 Mass Shootings In Texas Last Week...   \n",
       "1  ENTERTAINMENT  Will Smith Joins Diplo And Nicky Jam For The 2...   \n",
       "2  ENTERTAINMENT    Hugh Grant Marries For The First Time At Age 57   \n",
       "3  ENTERTAINMENT  Jim Carrey Blasts 'Castrato' Adam Schiff And D...   \n",
       "4  ENTERTAINMENT  Julianna Margulies Uses Donald Trump Poop Bags...   \n",
       "\n",
       "           authors                                               link  \\\n",
       "0  Melissa Jeltsen  https://www.huffingtonpost.com/entry/texas-ama...   \n",
       "1    Andy McDonald  https://www.huffingtonpost.com/entry/will-smit...   \n",
       "2       Ron Dicker  https://www.huffingtonpost.com/entry/hugh-gran...   \n",
       "3       Ron Dicker  https://www.huffingtonpost.com/entry/jim-carre...   \n",
       "4       Ron Dicker  https://www.huffingtonpost.com/entry/julianna-...   \n",
       "\n",
       "                                   short_description       date  \n",
       "0  She left her husband. He killed their children... 2018-05-26  \n",
       "1                           Of course it has a song. 2018-05-26  \n",
       "2  The actor and his longtime girlfriend Anna Ebe... 2018-05-26  \n",
       "3  The actor gives Dems an ass-kicking for not fi... 2018-05-26  \n",
       "4  The \"Dietland\" actress said using the bags is ... 2018-05-26  "
      ]
     },
     "execution_count": 97,
     "metadata": {},
     "output_type": "execute_result"
    }
   ],
   "source": [
    "raw_df = pd.read_json(\"News_Category_Dataset_v2.json\", lines=True)\n",
    "# raw_df.to_csv(\"News_Category_Dataset.csv\")\n",
    "raw_df.head()"
   ]
  },
  {
   "cell_type": "code",
   "execution_count": 98,
   "id": "65365eca",
   "metadata": {},
   "outputs": [],
   "source": [
    "raw_df.drop([\"authors\", \"link\", \"date\"], axis=1, inplace=True)"
   ]
  },
  {
   "cell_type": "code",
   "execution_count": 99,
   "id": "bbbc680d",
   "metadata": {},
   "outputs": [
    {
     "data": {
      "text/plain": [
       "array(['CRIME', 'ENTERTAINMENT', 'WORLD NEWS', 'IMPACT', 'POLITICS',\n",
       "       'WEIRD NEWS', 'BLACK VOICES', 'WOMEN', 'COMEDY', 'QUEER VOICES',\n",
       "       'SPORTS', 'BUSINESS', 'TRAVEL', 'MEDIA', 'TECH', 'RELIGION',\n",
       "       'SCIENCE', 'LATINO VOICES', 'EDUCATION', 'COLLEGE', 'PARENTS',\n",
       "       'ARTS & CULTURE', 'STYLE', 'GREEN', 'TASTE', 'HEALTHY LIVING',\n",
       "       'THE WORLDPOST', 'GOOD NEWS', 'WORLDPOST', 'FIFTY', 'ARTS',\n",
       "       'WELLNESS', 'PARENTING', 'HOME & LIVING', 'STYLE & BEAUTY',\n",
       "       'DIVORCE', 'WEDDINGS', 'FOOD & DRINK', 'MONEY', 'ENVIRONMENT',\n",
       "       'CULTURE & ARTS'], dtype=object)"
      ]
     },
     "execution_count": 99,
     "metadata": {},
     "output_type": "execute_result"
    }
   ],
   "source": [
    "class_names = raw_df[\"category\"].unique()\n",
    "class_names"
   ]
  },
  {
   "cell_type": "code",
   "execution_count": 100,
   "id": "ce5640bf",
   "metadata": {},
   "outputs": [],
   "source": [
    "raw_df[\"category\"] = raw_df[\"category\"].map(lambda x: \"WORLDPOST\" if x==\"THE WORLDPOST\" else x)"
   ]
  },
  {
   "cell_type": "code",
   "execution_count": 101,
   "id": "3571be03",
   "metadata": {},
   "outputs": [],
   "source": [
    "raw_df[\"text\"] = raw_df[\"headline\"] + \" \" + raw_df[\"short_description\"]"
   ]
  },
  {
   "cell_type": "code",
   "execution_count": 102,
   "id": "03542fb8",
   "metadata": {},
   "outputs": [
    {
     "data": {
      "text/plain": [
       "'There Were 2 Mass Shootings In Texas Last Week, But Only 1 On TV She left her husband. He killed their children. Just another day in America.'"
      ]
     },
     "execution_count": 102,
     "metadata": {},
     "output_type": "execute_result"
    }
   ],
   "source": [
    "raw_df[\"text\"][0]"
   ]
  },
  {
   "cell_type": "code",
   "execution_count": 103,
   "id": "f825fd07",
   "metadata": {},
   "outputs": [],
   "source": [
    "import regex as re\n",
    "def clean_text(text):\n",
    "  text = re.sub(r'[^\\w\\s]','',text)\n",
    "  return text"
   ]
  },
  {
   "cell_type": "code",
   "execution_count": 104,
   "id": "b90f5258",
   "metadata": {},
   "outputs": [
    {
     "name": "stdout",
     "output_type": "stream",
     "text": [
      "Text:U.S. Distaste For Turkish Leader Erdogan May Have Reached 'Tipping Point' “If Erdogan is investing in the Trump administration, I can say that he will be disappointed,\" Turkish opposition leader Hişyar Özsoy said.\n",
      " Removed puntuation: US Distaste For Turkish Leader Erdogan May Have Reached Tipping Point If Erdogan is investing in the Trump administration I can say that he will be disappointed Turkish opposition leader Hişyar Özsoy said\n"
     ]
    }
   ],
   "source": [
    "import random \n",
    "\n",
    "random_int = random.randint(0, len(raw_df)-1)\n",
    "random_text = raw_df[\"text\"][random_int]\n",
    "print(f\"Text:{random_text}\\n Removed puntuation: {clean_text(random_text)}\")"
   ]
  },
  {
   "cell_type": "code",
   "execution_count": 105,
   "id": "70d0d0f2",
   "metadata": {},
   "outputs": [
    {
     "data": {
      "text/plain": [
       "0    there were 2 mass shootings in texas last week...\n",
       "1    will smith joins diplo and nicky jam for the 2...\n",
       "2    hugh grant marries for the first time at age 5...\n",
       "3    jim carrey blasts castrato adam schiff and dem...\n",
       "4    julianna margulies uses donald trump poop bags...\n",
       "Name: text, dtype: object"
      ]
     },
     "execution_count": 105,
     "metadata": {},
     "output_type": "execute_result"
    }
   ],
   "source": [
    "raw_df[\"text\"] = raw_df[\"text\"].map(clean_text)\n",
    "raw_df[\"text\"] = raw_df[\"text\"].str.lower()\n",
    "raw_df[\"text\"].head()"
   ]
  },
  {
   "cell_type": "code",
   "execution_count": 106,
   "id": "802261ab",
   "metadata": {},
   "outputs": [
    {
     "data": {
      "text/plain": [
       "array(['ARTS', 'ARTS & CULTURE', 'BLACK VOICES', 'BUSINESS', 'COLLEGE',\n",
       "       'COMEDY', 'CRIME', 'CULTURE & ARTS', 'DIVORCE', 'EDUCATION',\n",
       "       'ENTERTAINMENT', 'ENVIRONMENT', 'FIFTY', 'FOOD & DRINK',\n",
       "       'GOOD NEWS', 'GREEN', 'HEALTHY LIVING', 'HOME & LIVING', 'IMPACT',\n",
       "       'LATINO VOICES', 'MEDIA', 'MONEY', 'PARENTING', 'PARENTS',\n",
       "       'POLITICS', 'QUEER VOICES', 'RELIGION', 'SCIENCE', 'SPORTS',\n",
       "       'STYLE', 'STYLE & BEAUTY', 'TASTE', 'TECH', 'TRAVEL', 'WEDDINGS',\n",
       "       'WEIRD NEWS', 'WELLNESS', 'WOMEN', 'WORLD NEWS', 'WORLDPOST'],\n",
       "      dtype='<U14')"
      ]
     },
     "execution_count": 106,
     "metadata": {},
     "output_type": "execute_result"
    }
   ],
   "source": [
    "# one hot encode labels\n",
    "from sklearn.preprocessing import OneHotEncoder\n",
    "\n",
    "one_hot_encoder = OneHotEncoder(sparse=False)\n",
    "label = one_hot_encoder.fit_transform(raw_df[\"category\"].to_numpy().reshape(-1,1))\n",
    "\n",
    "# raw_df[\"label\"] = label\n",
    "class_names = np.array(one_hot_encoder.categories_, dtype=\"str\")[0]\n",
    "class_names"
   ]
  },
  {
   "cell_type": "code",
   "execution_count": 107,
   "id": "c356ad18",
   "metadata": {},
   "outputs": [],
   "source": [
    "sentences = raw_df[\"text\"]\n",
    "label = one_hot_encoder.fit_transform(raw_df[\"category\"].to_numpy().reshape(-1,1))"
   ]
  },
  {
   "cell_type": "code",
   "execution_count": 108,
   "id": "f041e03a",
   "metadata": {},
   "outputs": [
    {
     "data": {
      "text/plain": [
       "(160682, 40171, 160682, 40171)"
      ]
     },
     "execution_count": 108,
     "metadata": {},
     "output_type": "execute_result"
    }
   ],
   "source": [
    "train_sentences, test_sentences, train_labels, test_labels = train_test_split(sentences.to_numpy(),\n",
    "                                                                              label,\n",
    "                                                                              test_size=0.2)\n",
    "\n",
    "len(train_sentences), len(test_sentences), len(train_labels), len(test_labels)"
   ]
  },
  {
   "cell_type": "code",
   "execution_count": 109,
   "id": "6bcd25f4",
   "metadata": {},
   "outputs": [
    {
     "data": {
      "text/plain": [
       "(160682, 40)"
      ]
     },
     "execution_count": 109,
     "metadata": {},
     "output_type": "execute_result"
    }
   ],
   "source": [
    "train_labels.shape"
   ]
  },
  {
   "cell_type": "code",
   "execution_count": 110,
   "id": "3bf2d957",
   "metadata": {},
   "outputs": [
    {
     "data": {
      "text/plain": [
       "<AxesSubplot:ylabel='Frequency'>"
      ]
     },
     "execution_count": 110,
     "metadata": {},
     "output_type": "execute_result"
    },
    {
     "data": {
      "image/png": "[encoded data removed]",
      "text/plain": [
       "<Figure size 432x288 with 1 Axes>"
      ]
     },
     "metadata": {
      "needs_background": "light"
     },
     "output_type": "display_data"
    }
   ],
   "source": [
    "len_train_sentences = [len(sent.split(\" \")) for sent in train_sentences]\n",
    "\n",
    "len_df = pd.DataFrame({\"len\":len_train_sentences})\n",
    "len_df.value_counts().plot(kind=\"hist\")"
   ]
  },
  {
   "cell_type": "code",
   "execution_count": 111,
   "id": "2da7c8b9",
   "metadata": {},
   "outputs": [
    {
     "data": {
      "text/plain": [
       "56.0"
      ]
     },
     "execution_count": 111,
     "metadata": {},
     "output_type": "execute_result"
    }
   ],
   "source": [
    "import numpy as np\n",
    "\n",
    "np.percentile(len_train_sentences, 95)"
   ]
  },
  {
   "cell_type": "code",
   "execution_count": 112,
   "id": "ae58292f",
   "metadata": {},
   "outputs": [
    {
     "data": {
      "text/plain": [
       "102757"
      ]
     },
     "execution_count": 112,
     "metadata": {},
     "output_type": "execute_result"
    }
   ],
   "source": [
    "vocab = \" \".join(train_sentences)\n",
    "vocab = set(vocab.split(\" \"))\n",
    "vocab_len = len(vocab)\n",
    "vocab_len"
   ]
  },
  {
   "cell_type": "code",
   "execution_count": 113,
   "id": "ae65c9d8",
   "metadata": {},
   "outputs": [
    {
     "data": {
      "text/plain": [
       "29"
      ]
     },
     "execution_count": 113,
     "metadata": {},
     "output_type": "execute_result"
    }
   ],
   "source": [
    "round(sum([len(i.split()) for i in train_sentences])/len(train_sentences))"
   ]
  },
  {
   "cell_type": "code",
   "execution_count": 114,
   "id": "096f4db9",
   "metadata": {},
   "outputs": [],
   "source": [
    "from tensorflow.keras.layers import TextVectorization, Embedding\n",
    "\n",
    "MAX_TOKENS = 105000\n",
    "MAX_LENGTH = 29\n",
    "\n",
    "text_vectorizer = TextVectorization(max_tokens=MAX_TOKENS,\n",
    "                                    output_mode=\"int\",\n",
    "                                    output_sequence_length=MAX_LENGTH)\n",
    "text_vectorizer.adapt(train_sentences)\n",
    "\n",
    "text_embedding = Embedding(input_dim=MAX_TOKENS,\n",
    "                           output_dim=256,\n",
    "                           input_length=MAX_LENGTH,\n",
    "                           embeddings_initializer=\"uniform\")"
   ]
  },
  {
   "cell_type": "code",
   "execution_count": 115,
   "id": "b1db5e33",
   "metadata": {},
   "outputs": [
    {
     "name": "stdout",
     "output_type": "stream",
     "text": [
      "Original text: \n",
      "khloe kardashian takes waist training to the extreme wow\n",
      "\n",
      "Embedded version:\n"
     ]
    },
    {
     "data": {
      "text/plain": [
       "<tf.Tensor: shape=(1, 29, 256), dtype=float32, numpy=\n",
       "array([[[ 0.03154316, -0.02763572, -0.0307281 , ...,  0.02261622,\n",
       "          0.01507845, -0.00240116],\n",
       "        [ 0.04675725, -0.0059393 ,  0.0352183 , ..., -0.03752282,\n",
       "          0.01277334, -0.0469928 ],\n",
       "        [-0.0185409 , -0.02935364, -0.04361112, ...,  0.01178658,\n",
       "         -0.00881414,  0.02531901],\n",
       "        ...,\n",
       "        [ 0.00209948, -0.02022447,  0.04485673, ...,  0.04454786,\n",
       "         -0.04184499,  0.01310783],\n",
       "        [ 0.00209948, -0.02022447,  0.04485673, ...,  0.04454786,\n",
       "         -0.04184499,  0.01310783],\n",
       "        [ 0.00209948, -0.02022447,  0.04485673, ...,  0.04454786,\n",
       "         -0.04184499,  0.01310783]]], dtype=float32)>"
      ]
     },
     "execution_count": 115,
     "metadata": {},
     "output_type": "execute_result"
    }
   ],
   "source": [
    "random_sentence = random.choice(train_sentences)\n",
    "print(f\"Original text: \\n{random_sentence}\\\n",
    "\\n\\nEmbedded version:\")\n",
    "# Embed the ramdon sentence (turn it into dense vector of fixed size)\n",
    "sample_vectorized = text_vectorizer([random_sentence])\n",
    "sample_embedded = text_embedding(sample_vectorized)\n",
    "sample_embedded"
   ]
  },
  {
   "cell_type": "code",
   "execution_count": 117,
   "id": "178d0a49",
   "metadata": {},
   "outputs": [
    {
     "name": "stdout",
     "output_type": "stream",
     "text": [
      "Epoch 1/5\n",
      "5022/5022 [==============================] - 1044s 207ms/step - loss: 1.4953 - accuracy: 0.6023 - val_loss: 1.5288 - val_accuracy: 0.5963\n",
      "Epoch 2/5\n",
      "  23/5022 [..............................] - ETA: 17:29 - loss: 1.0430 - accuracy: 0.7215"
     ]
    },
    {
     "ename": "KeyboardInterrupt",
     "evalue": "",
     "output_type": "error",
     "traceback": [
      "\u001b[1;31m---------------------------------------------------------------------------\u001b[0m",
      "\u001b[1;31mKeyboardInterrupt\u001b[0m                         Traceback (most recent call last)",
      "\u001b[1;32m~\\AppData\\Local\\Temp/ipykernel_27120/3740865447.py\u001b[0m in \u001b[0;36m<module>\u001b[1;34m\u001b[0m\n\u001b[0;32m     19\u001b[0m \u001b[1;33m\u001b[0m\u001b[0m\n\u001b[0;32m     20\u001b[0m \u001b[1;31m# Fit the model\u001b[0m\u001b[1;33m\u001b[0m\u001b[1;33m\u001b[0m\u001b[0m\n\u001b[1;32m---> 21\u001b[1;33m model_9_history = model_9.fit(train_sentences,\n\u001b[0m\u001b[0;32m     22\u001b[0m                               \u001b[0mtrain_labels\u001b[0m\u001b[1;33m,\u001b[0m\u001b[1;33m\u001b[0m\u001b[1;33m\u001b[0m\u001b[0m\n\u001b[0;32m     23\u001b[0m                               \u001b[0mvalidation_data\u001b[0m\u001b[1;33m=\u001b[0m\u001b[1;33m(\u001b[0m\u001b[0mtest_sentences\u001b[0m\u001b[1;33m,\u001b[0m \u001b[0mtest_labels\u001b[0m\u001b[1;33m)\u001b[0m\u001b[1;33m,\u001b[0m\u001b[1;33m\u001b[0m\u001b[1;33m\u001b[0m\u001b[0m\n",
      "\u001b[1;32mC:\\ProgramData\\Anaconda3\\lib\\site-packages\\keras\\utils\\traceback_utils.py\u001b[0m in \u001b[0;36merror_handler\u001b[1;34m(*args, **kwargs)\u001b[0m\n\u001b[0;32m     62\u001b[0m     \u001b[0mfiltered_tb\u001b[0m \u001b[1;33m=\u001b[0m \u001b[1;32mNone\u001b[0m\u001b[1;33m\u001b[0m\u001b[1;33m\u001b[0m\u001b[0m\n\u001b[0;32m     63\u001b[0m     \u001b[1;32mtry\u001b[0m\u001b[1;33m:\u001b[0m\u001b[1;33m\u001b[0m\u001b[1;33m\u001b[0m\u001b[0m\n\u001b[1;32m---> 64\u001b[1;33m       \u001b[1;32mreturn\u001b[0m \u001b[0mfn\u001b[0m\u001b[1;33m(\u001b[0m\u001b[1;33m*\u001b[0m\u001b[0margs\u001b[0m\u001b[1;33m,\u001b[0m \u001b[1;33m**\u001b[0m\u001b[0mkwargs\u001b[0m\u001b[1;33m)\u001b[0m\u001b[1;33m\u001b[0m\u001b[1;33m\u001b[0m\u001b[0m\n\u001b[0m\u001b[0;32m     65\u001b[0m     \u001b[1;32mexcept\u001b[0m \u001b[0mException\u001b[0m \u001b[1;32mas\u001b[0m \u001b[0me\u001b[0m\u001b[1;33m:\u001b[0m  \u001b[1;31m# pylint: disable=broad-except\u001b[0m\u001b[1;33m\u001b[0m\u001b[1;33m\u001b[0m\u001b[0m\n\u001b[0;32m     66\u001b[0m       \u001b[0mfiltered_tb\u001b[0m \u001b[1;33m=\u001b[0m \u001b[0m_process_traceback_frames\u001b[0m\u001b[1;33m(\u001b[0m\u001b[0me\u001b[0m\u001b[1;33m.\u001b[0m\u001b[0m__traceback__\u001b[0m\u001b[1;33m)\u001b[0m\u001b[1;33m\u001b[0m\u001b[1;33m\u001b[0m\u001b[0m\n",
      "\u001b[1;32mC:\\ProgramData\\Anaconda3\\lib\\site-packages\\keras\\engine\\training.py\u001b[0m in \u001b[0;36mfit\u001b[1;34m(self, x, y, batch_size, epochs, verbose, callbacks, validation_split, validation_data, shuffle, class_weight, sample_weight, initial_epoch, steps_per_epoch, validation_steps, validation_batch_size, validation_freq, max_queue_size, workers, use_multiprocessing)\u001b[0m\n\u001b[0;32m   1382\u001b[0m                 _r=1):\n\u001b[0;32m   1383\u001b[0m               \u001b[0mcallbacks\u001b[0m\u001b[1;33m.\u001b[0m\u001b[0mon_train_batch_begin\u001b[0m\u001b[1;33m(\u001b[0m\u001b[0mstep\u001b[0m\u001b[1;33m)\u001b[0m\u001b[1;33m\u001b[0m\u001b[1;33m\u001b[0m\u001b[0m\n\u001b[1;32m-> 1384\u001b[1;33m               \u001b[0mtmp_logs\u001b[0m \u001b[1;33m=\u001b[0m \u001b[0mself\u001b[0m\u001b[1;33m.\u001b[0m\u001b[0mtrain_function\u001b[0m\u001b[1;33m(\u001b[0m\u001b[0miterator\u001b[0m\u001b[1;33m)\u001b[0m\u001b[1;33m\u001b[0m\u001b[1;33m\u001b[0m\u001b[0m\n\u001b[0m\u001b[0;32m   1385\u001b[0m               \u001b[1;32mif\u001b[0m \u001b[0mdata_handler\u001b[0m\u001b[1;33m.\u001b[0m\u001b[0mshould_sync\u001b[0m\u001b[1;33m:\u001b[0m\u001b[1;33m\u001b[0m\u001b[1;33m\u001b[0m\u001b[0m\n\u001b[0;32m   1386\u001b[0m                 \u001b[0mcontext\u001b[0m\u001b[1;33m.\u001b[0m\u001b[0masync_wait\u001b[0m\u001b[1;33m(\u001b[0m\u001b[1;33m)\u001b[0m\u001b[1;33m\u001b[0m\u001b[1;33m\u001b[0m\u001b[0m\n",
      "\u001b[1;32mC:\\ProgramData\\Anaconda3\\lib\\site-packages\\tensorflow\\python\\util\\traceback_utils.py\u001b[0m in \u001b[0;36merror_handler\u001b[1;34m(*args, **kwargs)\u001b[0m\n\u001b[0;32m    148\u001b[0m     \u001b[0mfiltered_tb\u001b[0m \u001b[1;33m=\u001b[0m \u001b[1;32mNone\u001b[0m\u001b[1;33m\u001b[0m\u001b[1;33m\u001b[0m\u001b[0m\n\u001b[0;32m    149\u001b[0m     \u001b[1;32mtry\u001b[0m\u001b[1;33m:\u001b[0m\u001b[1;33m\u001b[0m\u001b[1;33m\u001b[0m\u001b[0m\n\u001b[1;32m--> 150\u001b[1;33m       \u001b[1;32mreturn\u001b[0m \u001b[0mfn\u001b[0m\u001b[1;33m(\u001b[0m\u001b[1;33m*\u001b[0m\u001b[0margs\u001b[0m\u001b[1;33m,\u001b[0m \u001b[1;33m**\u001b[0m\u001b[0mkwargs\u001b[0m\u001b[1;33m)\u001b[0m\u001b[1;33m\u001b[0m\u001b[1;33m\u001b[0m\u001b[0m\n\u001b[0m\u001b[0;32m    151\u001b[0m     \u001b[1;32mexcept\u001b[0m \u001b[0mException\u001b[0m \u001b[1;32mas\u001b[0m \u001b[0me\u001b[0m\u001b[1;33m:\u001b[0m\u001b[1;33m\u001b[0m\u001b[1;33m\u001b[0m\u001b[0m\n\u001b[0;32m    152\u001b[0m       \u001b[0mfiltered_tb\u001b[0m \u001b[1;33m=\u001b[0m \u001b[0m_process_traceback_frames\u001b[0m\u001b[1;33m(\u001b[0m\u001b[0me\u001b[0m\u001b[1;33m.\u001b[0m\u001b[0m__traceback__\u001b[0m\u001b[1;33m)\u001b[0m\u001b[1;33m\u001b[0m\u001b[1;33m\u001b[0m\u001b[0m\n",
      "\u001b[1;32mC:\\ProgramData\\Anaconda3\\lib\\site-packages\\tensorflow\\python\\eager\\def_function.py\u001b[0m in \u001b[0;36m__call__\u001b[1;34m(self, *args, **kwds)\u001b[0m\n\u001b[0;32m    913\u001b[0m \u001b[1;33m\u001b[0m\u001b[0m\n\u001b[0;32m    914\u001b[0m       \u001b[1;32mwith\u001b[0m \u001b[0mOptionalXlaContext\u001b[0m\u001b[1;33m(\u001b[0m\u001b[0mself\u001b[0m\u001b[1;33m.\u001b[0m\u001b[0m_jit_compile\u001b[0m\u001b[1;33m)\u001b[0m\u001b[1;33m:\u001b[0m\u001b[1;33m\u001b[0m\u001b[1;33m\u001b[0m\u001b[0m\n\u001b[1;32m--> 915\u001b[1;33m         \u001b[0mresult\u001b[0m \u001b[1;33m=\u001b[0m \u001b[0mself\u001b[0m\u001b[1;33m.\u001b[0m\u001b[0m_call\u001b[0m\u001b[1;33m(\u001b[0m\u001b[1;33m*\u001b[0m\u001b[0margs\u001b[0m\u001b[1;33m,\u001b[0m \u001b[1;33m**\u001b[0m\u001b[0mkwds\u001b[0m\u001b[1;33m)\u001b[0m\u001b[1;33m\u001b[0m\u001b[1;33m\u001b[0m\u001b[0m\n\u001b[0m\u001b[0;32m    916\u001b[0m \u001b[1;33m\u001b[0m\u001b[0m\n\u001b[0;32m    917\u001b[0m       \u001b[0mnew_tracing_count\u001b[0m \u001b[1;33m=\u001b[0m \u001b[0mself\u001b[0m\u001b[1;33m.\u001b[0m\u001b[0mexperimental_get_tracing_count\u001b[0m\u001b[1;33m(\u001b[0m\u001b[1;33m)\u001b[0m\u001b[1;33m\u001b[0m\u001b[1;33m\u001b[0m\u001b[0m\n",
      "\u001b[1;32mC:\\ProgramData\\Anaconda3\\lib\\site-packages\\tensorflow\\python\\eager\\def_function.py\u001b[0m in \u001b[0;36m_call\u001b[1;34m(self, *args, **kwds)\u001b[0m\n\u001b[0;32m    945\u001b[0m       \u001b[1;31m# In this case we have created variables on the first call, so we run the\u001b[0m\u001b[1;33m\u001b[0m\u001b[1;33m\u001b[0m\u001b[0m\n\u001b[0;32m    946\u001b[0m       \u001b[1;31m# defunned version which is guaranteed to never create variables.\u001b[0m\u001b[1;33m\u001b[0m\u001b[1;33m\u001b[0m\u001b[0m\n\u001b[1;32m--> 947\u001b[1;33m       \u001b[1;32mreturn\u001b[0m \u001b[0mself\u001b[0m\u001b[1;33m.\u001b[0m\u001b[0m_stateless_fn\u001b[0m\u001b[1;33m(\u001b[0m\u001b[1;33m*\u001b[0m\u001b[0margs\u001b[0m\u001b[1;33m,\u001b[0m \u001b[1;33m**\u001b[0m\u001b[0mkwds\u001b[0m\u001b[1;33m)\u001b[0m  \u001b[1;31m# pylint: disable=not-callable\u001b[0m\u001b[1;33m\u001b[0m\u001b[1;33m\u001b[0m\u001b[0m\n\u001b[0m\u001b[0;32m    948\u001b[0m     \u001b[1;32melif\u001b[0m \u001b[0mself\u001b[0m\u001b[1;33m.\u001b[0m\u001b[0m_stateful_fn\u001b[0m \u001b[1;32mis\u001b[0m \u001b[1;32mnot\u001b[0m \u001b[1;32mNone\u001b[0m\u001b[1;33m:\u001b[0m\u001b[1;33m\u001b[0m\u001b[1;33m\u001b[0m\u001b[0m\n\u001b[0;32m    949\u001b[0m       \u001b[1;31m# Release the lock early so that multiple threads can perform the call\u001b[0m\u001b[1;33m\u001b[0m\u001b[1;33m\u001b[0m\u001b[0m\n",
      "\u001b[1;32mC:\\ProgramData\\Anaconda3\\lib\\site-packages\\tensorflow\\python\\eager\\function.py\u001b[0m in \u001b[0;36m__call__\u001b[1;34m(self, *args, **kwargs)\u001b[0m\n\u001b[0;32m   2954\u001b[0m       (graph_function,\n\u001b[0;32m   2955\u001b[0m        filtered_flat_args) = self._maybe_define_function(args, kwargs)\n\u001b[1;32m-> 2956\u001b[1;33m     return graph_function._call_flat(\n\u001b[0m\u001b[0;32m   2957\u001b[0m         filtered_flat_args, captured_inputs=graph_function.captured_inputs)  # pylint: disable=protected-access\n\u001b[0;32m   2958\u001b[0m \u001b[1;33m\u001b[0m\u001b[0m\n",
      "\u001b[1;32mC:\\ProgramData\\Anaconda3\\lib\\site-packages\\tensorflow\\python\\eager\\function.py\u001b[0m in \u001b[0;36m_call_flat\u001b[1;34m(self, args, captured_inputs, cancellation_manager)\u001b[0m\n\u001b[0;32m   1851\u001b[0m         and executing_eagerly):\n\u001b[0;32m   1852\u001b[0m       \u001b[1;31m# No tape is watching; skip to running the function.\u001b[0m\u001b[1;33m\u001b[0m\u001b[1;33m\u001b[0m\u001b[0m\n\u001b[1;32m-> 1853\u001b[1;33m       return self._build_call_outputs(self._inference_function.call(\n\u001b[0m\u001b[0;32m   1854\u001b[0m           ctx, args, cancellation_manager=cancellation_manager))\n\u001b[0;32m   1855\u001b[0m     forward_backward = self._select_forward_and_backward_functions(\n",
      "\u001b[1;32mC:\\ProgramData\\Anaconda3\\lib\\site-packages\\tensorflow\\python\\eager\\function.py\u001b[0m in \u001b[0;36mcall\u001b[1;34m(self, ctx, args, cancellation_manager)\u001b[0m\n\u001b[0;32m    497\u001b[0m       \u001b[1;32mwith\u001b[0m \u001b[0m_InterpolateFunctionError\u001b[0m\u001b[1;33m(\u001b[0m\u001b[0mself\u001b[0m\u001b[1;33m)\u001b[0m\u001b[1;33m:\u001b[0m\u001b[1;33m\u001b[0m\u001b[1;33m\u001b[0m\u001b[0m\n\u001b[0;32m    498\u001b[0m         \u001b[1;32mif\u001b[0m \u001b[0mcancellation_manager\u001b[0m \u001b[1;32mis\u001b[0m \u001b[1;32mNone\u001b[0m\u001b[1;33m:\u001b[0m\u001b[1;33m\u001b[0m\u001b[1;33m\u001b[0m\u001b[0m\n\u001b[1;32m--> 499\u001b[1;33m           outputs = execute.execute(\n\u001b[0m\u001b[0;32m    500\u001b[0m               \u001b[0mstr\u001b[0m\u001b[1;33m(\u001b[0m\u001b[0mself\u001b[0m\u001b[1;33m.\u001b[0m\u001b[0msignature\u001b[0m\u001b[1;33m.\u001b[0m\u001b[0mname\u001b[0m\u001b[1;33m)\u001b[0m\u001b[1;33m,\u001b[0m\u001b[1;33m\u001b[0m\u001b[1;33m\u001b[0m\u001b[0m\n\u001b[0;32m    501\u001b[0m               \u001b[0mnum_outputs\u001b[0m\u001b[1;33m=\u001b[0m\u001b[0mself\u001b[0m\u001b[1;33m.\u001b[0m\u001b[0m_num_outputs\u001b[0m\u001b[1;33m,\u001b[0m\u001b[1;33m\u001b[0m\u001b[1;33m\u001b[0m\u001b[0m\n",
      "\u001b[1;32mC:\\ProgramData\\Anaconda3\\lib\\site-packages\\tensorflow\\python\\eager\\execute.py\u001b[0m in \u001b[0;36mquick_execute\u001b[1;34m(op_name, num_outputs, inputs, attrs, ctx, name)\u001b[0m\n\u001b[0;32m     52\u001b[0m   \u001b[1;32mtry\u001b[0m\u001b[1;33m:\u001b[0m\u001b[1;33m\u001b[0m\u001b[1;33m\u001b[0m\u001b[0m\n\u001b[0;32m     53\u001b[0m     \u001b[0mctx\u001b[0m\u001b[1;33m.\u001b[0m\u001b[0mensure_initialized\u001b[0m\u001b[1;33m(\u001b[0m\u001b[1;33m)\u001b[0m\u001b[1;33m\u001b[0m\u001b[1;33m\u001b[0m\u001b[0m\n\u001b[1;32m---> 54\u001b[1;33m     tensors = pywrap_tfe.TFE_Py_Execute(ctx._handle, device_name, op_name,\n\u001b[0m\u001b[0;32m     55\u001b[0m                                         inputs, attrs, num_outputs)\n\u001b[0;32m     56\u001b[0m   \u001b[1;32mexcept\u001b[0m \u001b[0mcore\u001b[0m\u001b[1;33m.\u001b[0m\u001b[0m_NotOkStatusException\u001b[0m \u001b[1;32mas\u001b[0m \u001b[0me\u001b[0m\u001b[1;33m:\u001b[0m\u001b[1;33m\u001b[0m\u001b[1;33m\u001b[0m\u001b[0m\n",
      "\u001b[1;31mKeyboardInterrupt\u001b[0m: "
     ]
    }
   ],
   "source": [
    "inputs = layers.Input(shape=(1,), dtype=tf.string, name=\"input_layer\")\n",
    "\n",
    "x = text_vectorizer(inputs)\n",
    "x = text_embedding(x)\n",
    "\n",
    "x = layers.LSTM(64, return_sequences=True)(x)\n",
    "x = layers.LSTM(64)(x)\n",
    "\n",
    "outputs = layers.Dense(len(class_names), activation=\"softmax\")(x)\n",
    "\n",
    "model_9 = tf.keras.Model(inputs, outputs, name=\"model_8_LSTM_multiclass\")\n",
    "\n",
    "# Compile the model\n",
    "model_9.compile(\n",
    "    loss=tf.keras.losses.CategoricalCrossentropy(),\n",
    "    optimizer=tf.keras.optimizers.Adam(),\n",
    "    metrics=[\"accuracy\"]\n",
    ")\n",
    "\n",
    "# Fit the model\n",
    "model_9_history = model_9.fit(train_sentences,\n",
    "                              train_labels,\n",
    "                              validation_data=(test_sentences, test_labels),\n",
    "                              epochs=5)"
   ]
  },
  {
   "cell_type": "markdown",
   "id": "3bb4f5c7",
   "metadata": {},
   "source": [
    "# Text Generation"
   ]
  },
  {
   "cell_type": "code",
   "execution_count": 118,
   "id": "eb21709c",
   "metadata": {},
   "outputs": [
    {
     "name": "stdout",
     "output_type": "stream",
     "text": [
      "Downloading data from https://storage.googleapis.com/download.tensorflow.org/data/shakespeare.txt\n",
      "1122304/1115394 [==============================] - 0s 0us/step\n",
      "1130496/1115394 [==============================] - 0s 0us/step\n"
     ]
    }
   ],
   "source": [
    "path_to_file = tf.keras.utils.get_file('shakespeare.txt', 'https://storage.googleapis.com/download.tensorflow.org/data/shakespeare.txt')"
   ]
  },
  {
   "cell_type": "code",
   "execution_count": 119,
   "id": "6e4c9e18",
   "metadata": {},
   "outputs": [
    {
     "name": "stdout",
     "output_type": "stream",
     "text": [
      "Length of text: 1115394 characters\n"
     ]
    }
   ],
   "source": [
    "text = open(path_to_file, \"rb\").read().decode(encoding=\"utf8\")\n",
    "# length of text is the number of characters in it\n",
    "print(f'Length of text: {len(text)} characters')"
   ]
  },
  {
   "cell_type": "code",
   "execution_count": 120,
   "id": "3ac62b5e",
   "metadata": {},
   "outputs": [
    {
     "name": "stdout",
     "output_type": "stream",
     "text": [
      "First Citizen:\n",
      "Before we proceed any further, hear me speak.\n",
      "\n",
      "All:\n",
      "Speak, speak.\n",
      "\n",
      "First Citizen:\n",
      "You are all resolved rather to die than to famish?\n",
      "\n",
      "All:\n",
      "Resolved. resolved.\n",
      "\n",
      "First Citizen:\n",
      "First, you know Caius Marcius is chief enemy to the people.\n",
      "\n"
     ]
    }
   ],
   "source": [
    "print(text[:250])"
   ]
  },
  {
   "cell_type": "code",
   "execution_count": 121,
   "id": "9fc2664e",
   "metadata": {},
   "outputs": [
    {
     "name": "stdout",
     "output_type": "stream",
     "text": [
      "65 unique characters\n"
     ]
    }
   ],
   "source": [
    "vocab = sorted(set(text))\n",
    "print(f'{len(vocab)} unique characters')"
   ]
  },
  {
   "cell_type": "code",
   "execution_count": 122,
   "id": "a27efaa8",
   "metadata": {},
   "outputs": [],
   "source": [
    "char2idx = {u:i for i, u in enumerate(vocab)}\n",
    "idx2char = np.array(vocab) # vocab has been sorted above so the array positions are the indices.\n",
    "\n",
    "text_as_int = np.array([char2idx[c] for c in text])"
   ]
  },
  {
   "cell_type": "code",
   "execution_count": 123,
   "id": "64ad5dc0",
   "metadata": {},
   "outputs": [
    {
     "name": "stdout",
     "output_type": "stream",
     "text": [
      "{\n",
      "  '\\n':   0,\n",
      "  ' ' :   1,\n",
      "  '!' :   2,\n",
      "  '$' :   3,\n",
      "  '&' :   4,\n",
      "  \"'\" :   5,\n",
      "  ',' :   6,\n",
      "  '-' :   7,\n",
      "  '.' :   8,\n",
      "  '3' :   9,\n",
      "  ':' :  10,\n",
      "  ';' :  11,\n",
      "  '?' :  12,\n",
      "  'A' :  13,\n",
      "  'B' :  14,\n",
      "  'C' :  15,\n",
      "  'D' :  16,\n",
      "  'E' :  17,\n",
      "  'F' :  18,\n",
      "  'G' :  19,\n",
      "  ...\n",
      "}\n"
     ]
    }
   ],
   "source": [
    "print('{')\n",
    "for char,_ in zip(char2idx, range(20)):\n",
    "    print('  {:4s}: {:3d},'.format(repr(char), char2idx[char]))\n",
    "print('  ...\\n}')"
   ]
  },
  {
   "cell_type": "code",
   "execution_count": 124,
   "id": "513a0e25",
   "metadata": {},
   "outputs": [
    {
     "name": "stdout",
     "output_type": "stream",
     "text": [
      "F\n",
      "i\n",
      "r\n",
      "s\n",
      "t\n"
     ]
    }
   ],
   "source": [
    "# The maximum length sentence we want for a single input in characters\n",
    "seq_length = 100\n",
    "examples_per_epoch = len(text)//(seq_length+1)\n",
    "\n",
    "# Create training examples / targets\n",
    "char_dataset = tf.data.Dataset.from_tensor_slices(text_as_int)\n",
    "\n",
    "for i in char_dataset.take(5):\n",
    "  print(idx2char[i.numpy()])"
   ]
  },
  {
   "cell_type": "code",
   "execution_count": 125,
   "id": "6fa50a09",
   "metadata": {},
   "outputs": [
    {
     "name": "stdout",
     "output_type": "stream",
     "text": [
      "'First Citizen:\\nBefore we proceed any further, hear me speak.\\n\\nAll:\\nSpeak, speak.\\n\\nFirst Citizen:\\nYou '\n",
      "'are all resolved rather to die than to famish?\\n\\nAll:\\nResolved. resolved.\\n\\nFirst Citizen:\\nFirst, you k'\n",
      "\"now Caius Marcius is chief enemy to the people.\\n\\nAll:\\nWe know't, we know't.\\n\\nFirst Citizen:\\nLet us ki\"\n",
      "\"ll him, and we'll have corn at our own price.\\nIs't a verdict?\\n\\nAll:\\nNo more talking on't; let it be d\"\n",
      "'one: away, away!\\n\\nSecond Citizen:\\nOne word, good citizens.\\n\\nFirst Citizen:\\nWe are accounted poor citi'\n"
     ]
    }
   ],
   "source": [
    "sequences = char_dataset.batch(seq_length+1, drop_remainder=True)\n",
    "\n",
    "for item in sequences.take(5):\n",
    "  print(repr(''.join(idx2char[item.numpy()])))"
   ]
  },
  {
   "cell_type": "code",
   "execution_count": 136,
   "id": "98e1cfbf",
   "metadata": {},
   "outputs": [],
   "source": [
    "def split_input_target(chunk):\n",
    "    input_text = chunk[:-1]\n",
    "    target_text = chunk[1:]\n",
    "    return input_text, target_text\n",
    "\n",
    "dataset = sequences.map(split_input_target)"
   ]
  },
  {
   "cell_type": "code",
   "execution_count": 146,
   "id": "d0bf7af8",
   "metadata": {},
   "outputs": [
    {
     "name": "stdout",
     "output_type": "stream",
     "text": [
      "First Citizen:\n",
      "Before we proceed any further, hear me speak.\n",
      "\n",
      "All:\n",
      "Speak, speak.\n",
      "\n",
      "First Citizen:\n",
      "You \n"
     ]
    }
   ],
   "source": [
    "for i in sequences.take(1):\n",
    "    print(''.join(idx2char[i.numpy()]))"
   ]
  },
  {
   "cell_type": "code",
   "execution_count": 147,
   "id": "c00fda6d",
   "metadata": {},
   "outputs": [
    {
     "name": "stdout",
     "output_type": "stream",
     "text": [
      "Input data:  'First Citizen:\\nBefore we proceed any further, hear me speak.\\n\\nAll:\\nSpeak, speak.\\n\\nFirst Citizen:\\nYou'\n",
      "Target data: 'irst Citizen:\\nBefore we proceed any further, hear me speak.\\n\\nAll:\\nSpeak, speak.\\n\\nFirst Citizen:\\nYou '\n"
     ]
    }
   ],
   "source": [
    "for input_example, target_example in  dataset.take(1):\n",
    "  print ('Input data: ', repr(''.join(idx2char[input_example.numpy()])))\n",
    "  print ('Target data:', repr(''.join(idx2char[target_example.numpy()])))"
   ]
  },
  {
   "cell_type": "code",
   "execution_count": 148,
   "id": "847c275e",
   "metadata": {},
   "outputs": [
    {
     "data": {
      "text/plain": [
       "<BatchDataset element_spec=(TensorSpec(shape=(64, 100), dtype=tf.int32, name=None), TensorSpec(shape=(64, 100), dtype=tf.int32, name=None))>"
      ]
     },
     "execution_count": 148,
     "metadata": {},
     "output_type": "execute_result"
    }
   ],
   "source": [
    "BATCH_SIZE = 64\n",
    "\n",
    "# Buffer size to shuffle the dataset\n",
    "# (TF data is designed to work with possibly infinite sequences,\n",
    "# so it doesn't attempt to shuffle the entire sequence in memory. Instead,\n",
    "# it maintains a buffer in which it shuffles elements).\n",
    "BUFFER_SIZE = 10000\n",
    "\n",
    "dataset = dataset.shuffle(BUFFER_SIZE).batch(BATCH_SIZE, drop_remainder=True)\n",
    "\n",
    "dataset"
   ]
  },
  {
   "cell_type": "code",
   "execution_count": 149,
   "id": "aa7bf823",
   "metadata": {},
   "outputs": [],
   "source": [
    "# Length of the vocabulary in chars\n",
    "vocab_size = len(vocab)\n",
    "\n",
    "# The embedding dimension\n",
    "embedding_dim = 256\n",
    "\n",
    "# Number of RNN units\n",
    "rnn_units = 1024"
   ]
  },
  {
   "cell_type": "code",
   "execution_count": 150,
   "id": "61f37a92",
   "metadata": {},
   "outputs": [],
   "source": [
    "def build_model(vocab_size, embedding_dim, rnn_units, batch_size):\n",
    "  model = tf.keras.Sequential([\n",
    "    tf.keras.layers.Embedding(vocab_size, embedding_dim,\n",
    "                              batch_input_shape=[batch_size, None]),\n",
    "    tf.keras.layers.GRU(rnn_units,\n",
    "                        return_sequences=True,\n",
    "                        stateful=True,\n",
    "                        recurrent_initializer='glorot_uniform'),\n",
    "    tf.keras.layers.Dense(vocab_size)\n",
    "  ])\n",
    "  return model"
   ]
  },
  {
   "cell_type": "code",
   "execution_count": null,
   "id": "c1684f4e",
   "metadata": {},
   "outputs": [],
   "source": [
    "model = build_model(\n",
    "  vocab_size = len(vocab),\n",
    "  embedding_dim=embedding_dim,\n",
    "  rnn_units=rnn_units,\n",
    "  batch_size=BATCH_SIZE)"
   ]
  },
  {
   "cell_type": "code",
   "execution_count": 154,
   "id": "0d556214",
   "metadata": {},
   "outputs": [],
   "source": [
    "model_10 = tf.keras.Sequential([\n",
    "     tf.keras.layers.Embedding(vocab_size, embedding_dim,\n",
    "     batch_input_shape=[BATCH_SIZE, None]),\n",
    "     tf.keras.layers.Dropout(0.2),\n",
    "     tf.keras.layers.LSTM(rnn_units,\n",
    "     return_sequences=True,\n",
    "     stateful=True,\n",
    "     recurrent_initializer=\"glorot_uniform\"),\n",
    "     tf.keras.layers.Dropout(0.2), \n",
    "     tf.keras.layers.LSTM(rnn_units,\n",
    "     return_sequences=True,\n",
    "     stateful=True,\n",
    "     recurrent_initializer=\"glorot_uniform\"),\n",
    "     tf.keras.layers.Dropout(0.2),\n",
    "     tf.keras.layers.Dense(vocab_size)\n",
    " ],name='text-gen')"
   ]
  },
  {
   "cell_type": "code",
   "execution_count": 157,
   "id": "fc1f25e2",
   "metadata": {},
   "outputs": [],
   "source": [
    "model_10.compile(\n",
    "    loss=tf.keras.losses.SparseCategoricalCrossentropy(from_logits=True),\n",
    "    optimizer=tf.keras.optimizers.Adam(),\n",
    "    metrics=[\"accuracy\"]\n",
    ")"
   ]
  },
  {
   "cell_type": "code",
   "execution_count": 158,
   "id": "51f19c89",
   "metadata": {},
   "outputs": [],
   "source": [
    "checkpoint_prefix = model_10.name+\"/checkpoint.ckpt\"\n",
    "checkpoint_callback = tf.keras.callbacks.ModelCheckpoint(\n",
    "    filepath=checkpoint_prefix,\n",
    "    monitor=\"accuracy\",\n",
    "    save_best_only=True,\n",
    "    save_weights_only=True)"
   ]
  },
  {
   "cell_type": "code",
   "execution_count": 159,
   "id": "12184cf5",
   "metadata": {},
   "outputs": [
    {
     "name": "stdout",
     "output_type": "stream",
     "text": [
      "Epoch 1/20\n",
      "172/172 [==============================] - 1486s 9s/step - loss: 2.9060 - accuracy: 0.2230\n",
      "Epoch 2/20\n",
      " 52/172 [========>.....................] - ETA: 21:15 - loss: 2.2323 - accuracy: 0.3599"
     ]
    },
    {
     "ename": "KeyboardInterrupt",
     "evalue": "",
     "output_type": "error",
     "traceback": [
      "\u001b[1;31m---------------------------------------------------------------------------\u001b[0m",
      "\u001b[1;31mKeyboardInterrupt\u001b[0m                         Traceback (most recent call last)",
      "\u001b[1;32m~\\AppData\\Local\\Temp/ipykernel_27120/1964815406.py\u001b[0m in \u001b[0;36m<module>\u001b[1;34m\u001b[0m\n\u001b[0;32m      1\u001b[0m \u001b[0mEPOCHS\u001b[0m\u001b[1;33m=\u001b[0m\u001b[1;36m20\u001b[0m\u001b[1;33m\u001b[0m\u001b[1;33m\u001b[0m\u001b[0m\n\u001b[0;32m      2\u001b[0m \u001b[1;31m# Train the model\u001b[0m\u001b[1;33m\u001b[0m\u001b[1;33m\u001b[0m\u001b[0m\n\u001b[1;32m----> 3\u001b[1;33m \u001b[0mmodel_10_history\u001b[0m \u001b[1;33m=\u001b[0m \u001b[0mmodel_10\u001b[0m\u001b[1;33m.\u001b[0m\u001b[0mfit\u001b[0m\u001b[1;33m(\u001b[0m\u001b[0mdataset\u001b[0m\u001b[1;33m,\u001b[0m \u001b[0mepochs\u001b[0m\u001b[1;33m=\u001b[0m\u001b[0mEPOCHS\u001b[0m\u001b[1;33m,\u001b[0m \u001b[0mcallbacks\u001b[0m\u001b[1;33m=\u001b[0m\u001b[1;33m[\u001b[0m\u001b[0mcheckpoint_callback\u001b[0m\u001b[1;33m]\u001b[0m\u001b[1;33m)\u001b[0m\u001b[1;33m\u001b[0m\u001b[1;33m\u001b[0m\u001b[0m\n\u001b[0m",
      "\u001b[1;32mC:\\ProgramData\\Anaconda3\\lib\\site-packages\\keras\\utils\\traceback_utils.py\u001b[0m in \u001b[0;36merror_handler\u001b[1;34m(*args, **kwargs)\u001b[0m\n\u001b[0;32m     62\u001b[0m     \u001b[0mfiltered_tb\u001b[0m \u001b[1;33m=\u001b[0m \u001b[1;32mNone\u001b[0m\u001b[1;33m\u001b[0m\u001b[1;33m\u001b[0m\u001b[0m\n\u001b[0;32m     63\u001b[0m     \u001b[1;32mtry\u001b[0m\u001b[1;33m:\u001b[0m\u001b[1;33m\u001b[0m\u001b[1;33m\u001b[0m\u001b[0m\n\u001b[1;32m---> 64\u001b[1;33m       \u001b[1;32mreturn\u001b[0m \u001b[0mfn\u001b[0m\u001b[1;33m(\u001b[0m\u001b[1;33m*\u001b[0m\u001b[0margs\u001b[0m\u001b[1;33m,\u001b[0m \u001b[1;33m**\u001b[0m\u001b[0mkwargs\u001b[0m\u001b[1;33m)\u001b[0m\u001b[1;33m\u001b[0m\u001b[1;33m\u001b[0m\u001b[0m\n\u001b[0m\u001b[0;32m     65\u001b[0m     \u001b[1;32mexcept\u001b[0m \u001b[0mException\u001b[0m \u001b[1;32mas\u001b[0m \u001b[0me\u001b[0m\u001b[1;33m:\u001b[0m  \u001b[1;31m# pylint: disable=broad-except\u001b[0m\u001b[1;33m\u001b[0m\u001b[1;33m\u001b[0m\u001b[0m\n\u001b[0;32m     66\u001b[0m       \u001b[0mfiltered_tb\u001b[0m \u001b[1;33m=\u001b[0m \u001b[0m_process_traceback_frames\u001b[0m\u001b[1;33m(\u001b[0m\u001b[0me\u001b[0m\u001b[1;33m.\u001b[0m\u001b[0m__traceback__\u001b[0m\u001b[1;33m)\u001b[0m\u001b[1;33m\u001b[0m\u001b[1;33m\u001b[0m\u001b[0m\n",
      "\u001b[1;32mC:\\ProgramData\\Anaconda3\\lib\\site-packages\\keras\\engine\\training.py\u001b[0m in \u001b[0;36mfit\u001b[1;34m(self, x, y, batch_size, epochs, verbose, callbacks, validation_split, validation_data, shuffle, class_weight, sample_weight, initial_epoch, steps_per_epoch, validation_steps, validation_batch_size, validation_freq, max_queue_size, workers, use_multiprocessing)\u001b[0m\n\u001b[0;32m   1382\u001b[0m                 _r=1):\n\u001b[0;32m   1383\u001b[0m               \u001b[0mcallbacks\u001b[0m\u001b[1;33m.\u001b[0m\u001b[0mon_train_batch_begin\u001b[0m\u001b[1;33m(\u001b[0m\u001b[0mstep\u001b[0m\u001b[1;33m)\u001b[0m\u001b[1;33m\u001b[0m\u001b[1;33m\u001b[0m\u001b[0m\n\u001b[1;32m-> 1384\u001b[1;33m               \u001b[0mtmp_logs\u001b[0m \u001b[1;33m=\u001b[0m \u001b[0mself\u001b[0m\u001b[1;33m.\u001b[0m\u001b[0mtrain_function\u001b[0m\u001b[1;33m(\u001b[0m\u001b[0miterator\u001b[0m\u001b[1;33m)\u001b[0m\u001b[1;33m\u001b[0m\u001b[1;33m\u001b[0m\u001b[0m\n\u001b[0m\u001b[0;32m   1385\u001b[0m               \u001b[1;32mif\u001b[0m \u001b[0mdata_handler\u001b[0m\u001b[1;33m.\u001b[0m\u001b[0mshould_sync\u001b[0m\u001b[1;33m:\u001b[0m\u001b[1;33m\u001b[0m\u001b[1;33m\u001b[0m\u001b[0m\n\u001b[0;32m   1386\u001b[0m                 \u001b[0mcontext\u001b[0m\u001b[1;33m.\u001b[0m\u001b[0masync_wait\u001b[0m\u001b[1;33m(\u001b[0m\u001b[1;33m)\u001b[0m\u001b[1;33m\u001b[0m\u001b[1;33m\u001b[0m\u001b[0m\n",
      "\u001b[1;32mC:\\ProgramData\\Anaconda3\\lib\\site-packages\\tensorflow\\python\\util\\traceback_utils.py\u001b[0m in \u001b[0;36merror_handler\u001b[1;34m(*args, **kwargs)\u001b[0m\n\u001b[0;32m    148\u001b[0m     \u001b[0mfiltered_tb\u001b[0m \u001b[1;33m=\u001b[0m \u001b[1;32mNone\u001b[0m\u001b[1;33m\u001b[0m\u001b[1;33m\u001b[0m\u001b[0m\n\u001b[0;32m    149\u001b[0m     \u001b[1;32mtry\u001b[0m\u001b[1;33m:\u001b[0m\u001b[1;33m\u001b[0m\u001b[1;33m\u001b[0m\u001b[0m\n\u001b[1;32m--> 150\u001b[1;33m       \u001b[1;32mreturn\u001b[0m \u001b[0mfn\u001b[0m\u001b[1;33m(\u001b[0m\u001b[1;33m*\u001b[0m\u001b[0margs\u001b[0m\u001b[1;33m,\u001b[0m \u001b[1;33m**\u001b[0m\u001b[0mkwargs\u001b[0m\u001b[1;33m)\u001b[0m\u001b[1;33m\u001b[0m\u001b[1;33m\u001b[0m\u001b[0m\n\u001b[0m\u001b[0;32m    151\u001b[0m     \u001b[1;32mexcept\u001b[0m \u001b[0mException\u001b[0m \u001b[1;32mas\u001b[0m \u001b[0me\u001b[0m\u001b[1;33m:\u001b[0m\u001b[1;33m\u001b[0m\u001b[1;33m\u001b[0m\u001b[0m\n\u001b[0;32m    152\u001b[0m       \u001b[0mfiltered_tb\u001b[0m \u001b[1;33m=\u001b[0m \u001b[0m_process_traceback_frames\u001b[0m\u001b[1;33m(\u001b[0m\u001b[0me\u001b[0m\u001b[1;33m.\u001b[0m\u001b[0m__traceback__\u001b[0m\u001b[1;33m)\u001b[0m\u001b[1;33m\u001b[0m\u001b[1;33m\u001b[0m\u001b[0m\n",
      "\u001b[1;32mC:\\ProgramData\\Anaconda3\\lib\\site-packages\\tensorflow\\python\\eager\\def_function.py\u001b[0m in \u001b[0;36m__call__\u001b[1;34m(self, *args, **kwds)\u001b[0m\n\u001b[0;32m    913\u001b[0m \u001b[1;33m\u001b[0m\u001b[0m\n\u001b[0;32m    914\u001b[0m       \u001b[1;32mwith\u001b[0m \u001b[0mOptionalXlaContext\u001b[0m\u001b[1;33m(\u001b[0m\u001b[0mself\u001b[0m\u001b[1;33m.\u001b[0m\u001b[0m_jit_compile\u001b[0m\u001b[1;33m)\u001b[0m\u001b[1;33m:\u001b[0m\u001b[1;33m\u001b[0m\u001b[1;33m\u001b[0m\u001b[0m\n\u001b[1;32m--> 915\u001b[1;33m         \u001b[0mresult\u001b[0m \u001b[1;33m=\u001b[0m \u001b[0mself\u001b[0m\u001b[1;33m.\u001b[0m\u001b[0m_call\u001b[0m\u001b[1;33m(\u001b[0m\u001b[1;33m*\u001b[0m\u001b[0margs\u001b[0m\u001b[1;33m,\u001b[0m \u001b[1;33m**\u001b[0m\u001b[0mkwds\u001b[0m\u001b[1;33m)\u001b[0m\u001b[1;33m\u001b[0m\u001b[1;33m\u001b[0m\u001b[0m\n\u001b[0m\u001b[0;32m    916\u001b[0m \u001b[1;33m\u001b[0m\u001b[0m\n\u001b[0;32m    917\u001b[0m       \u001b[0mnew_tracing_count\u001b[0m \u001b[1;33m=\u001b[0m \u001b[0mself\u001b[0m\u001b[1;33m.\u001b[0m\u001b[0mexperimental_get_tracing_count\u001b[0m\u001b[1;33m(\u001b[0m\u001b[1;33m)\u001b[0m\u001b[1;33m\u001b[0m\u001b[1;33m\u001b[0m\u001b[0m\n",
      "\u001b[1;32mC:\\ProgramData\\Anaconda3\\lib\\site-packages\\tensorflow\\python\\eager\\def_function.py\u001b[0m in \u001b[0;36m_call\u001b[1;34m(self, *args, **kwds)\u001b[0m\n\u001b[0;32m    945\u001b[0m       \u001b[1;31m# In this case we have created variables on the first call, so we run the\u001b[0m\u001b[1;33m\u001b[0m\u001b[1;33m\u001b[0m\u001b[0m\n\u001b[0;32m    946\u001b[0m       \u001b[1;31m# defunned version which is guaranteed to never create variables.\u001b[0m\u001b[1;33m\u001b[0m\u001b[1;33m\u001b[0m\u001b[0m\n\u001b[1;32m--> 947\u001b[1;33m       \u001b[1;32mreturn\u001b[0m \u001b[0mself\u001b[0m\u001b[1;33m.\u001b[0m\u001b[0m_stateless_fn\u001b[0m\u001b[1;33m(\u001b[0m\u001b[1;33m*\u001b[0m\u001b[0margs\u001b[0m\u001b[1;33m,\u001b[0m \u001b[1;33m**\u001b[0m\u001b[0mkwds\u001b[0m\u001b[1;33m)\u001b[0m  \u001b[1;31m# pylint: disable=not-callable\u001b[0m\u001b[1;33m\u001b[0m\u001b[1;33m\u001b[0m\u001b[0m\n\u001b[0m\u001b[0;32m    948\u001b[0m     \u001b[1;32melif\u001b[0m \u001b[0mself\u001b[0m\u001b[1;33m.\u001b[0m\u001b[0m_stateful_fn\u001b[0m \u001b[1;32mis\u001b[0m \u001b[1;32mnot\u001b[0m \u001b[1;32mNone\u001b[0m\u001b[1;33m:\u001b[0m\u001b[1;33m\u001b[0m\u001b[1;33m\u001b[0m\u001b[0m\n\u001b[0;32m    949\u001b[0m       \u001b[1;31m# Release the lock early so that multiple threads can perform the call\u001b[0m\u001b[1;33m\u001b[0m\u001b[1;33m\u001b[0m\u001b[0m\n",
      "\u001b[1;32mC:\\ProgramData\\Anaconda3\\lib\\site-packages\\tensorflow\\python\\eager\\function.py\u001b[0m in \u001b[0;36m__call__\u001b[1;34m(self, *args, **kwargs)\u001b[0m\n\u001b[0;32m   2954\u001b[0m       (graph_function,\n\u001b[0;32m   2955\u001b[0m        filtered_flat_args) = self._maybe_define_function(args, kwargs)\n\u001b[1;32m-> 2956\u001b[1;33m     return graph_function._call_flat(\n\u001b[0m\u001b[0;32m   2957\u001b[0m         filtered_flat_args, captured_inputs=graph_function.captured_inputs)  # pylint: disable=protected-access\n\u001b[0;32m   2958\u001b[0m \u001b[1;33m\u001b[0m\u001b[0m\n",
      "\u001b[1;32mC:\\ProgramData\\Anaconda3\\lib\\site-packages\\tensorflow\\python\\eager\\function.py\u001b[0m in \u001b[0;36m_call_flat\u001b[1;34m(self, args, captured_inputs, cancellation_manager)\u001b[0m\n\u001b[0;32m   1851\u001b[0m         and executing_eagerly):\n\u001b[0;32m   1852\u001b[0m       \u001b[1;31m# No tape is watching; skip to running the function.\u001b[0m\u001b[1;33m\u001b[0m\u001b[1;33m\u001b[0m\u001b[0m\n\u001b[1;32m-> 1853\u001b[1;33m       return self._build_call_outputs(self._inference_function.call(\n\u001b[0m\u001b[0;32m   1854\u001b[0m           ctx, args, cancellation_manager=cancellation_manager))\n\u001b[0;32m   1855\u001b[0m     forward_backward = self._select_forward_and_backward_functions(\n",
      "\u001b[1;32mC:\\ProgramData\\Anaconda3\\lib\\site-packages\\tensorflow\\python\\eager\\function.py\u001b[0m in \u001b[0;36mcall\u001b[1;34m(self, ctx, args, cancellation_manager)\u001b[0m\n\u001b[0;32m    497\u001b[0m       \u001b[1;32mwith\u001b[0m \u001b[0m_InterpolateFunctionError\u001b[0m\u001b[1;33m(\u001b[0m\u001b[0mself\u001b[0m\u001b[1;33m)\u001b[0m\u001b[1;33m:\u001b[0m\u001b[1;33m\u001b[0m\u001b[1;33m\u001b[0m\u001b[0m\n\u001b[0;32m    498\u001b[0m         \u001b[1;32mif\u001b[0m \u001b[0mcancellation_manager\u001b[0m \u001b[1;32mis\u001b[0m \u001b[1;32mNone\u001b[0m\u001b[1;33m:\u001b[0m\u001b[1;33m\u001b[0m\u001b[1;33m\u001b[0m\u001b[0m\n\u001b[1;32m--> 499\u001b[1;33m           outputs = execute.execute(\n\u001b[0m\u001b[0;32m    500\u001b[0m               \u001b[0mstr\u001b[0m\u001b[1;33m(\u001b[0m\u001b[0mself\u001b[0m\u001b[1;33m.\u001b[0m\u001b[0msignature\u001b[0m\u001b[1;33m.\u001b[0m\u001b[0mname\u001b[0m\u001b[1;33m)\u001b[0m\u001b[1;33m,\u001b[0m\u001b[1;33m\u001b[0m\u001b[1;33m\u001b[0m\u001b[0m\n\u001b[0;32m    501\u001b[0m               \u001b[0mnum_outputs\u001b[0m\u001b[1;33m=\u001b[0m\u001b[0mself\u001b[0m\u001b[1;33m.\u001b[0m\u001b[0m_num_outputs\u001b[0m\u001b[1;33m,\u001b[0m\u001b[1;33m\u001b[0m\u001b[1;33m\u001b[0m\u001b[0m\n",
      "\u001b[1;32mC:\\ProgramData\\Anaconda3\\lib\\site-packages\\tensorflow\\python\\eager\\execute.py\u001b[0m in \u001b[0;36mquick_execute\u001b[1;34m(op_name, num_outputs, inputs, attrs, ctx, name)\u001b[0m\n\u001b[0;32m     52\u001b[0m   \u001b[1;32mtry\u001b[0m\u001b[1;33m:\u001b[0m\u001b[1;33m\u001b[0m\u001b[1;33m\u001b[0m\u001b[0m\n\u001b[0;32m     53\u001b[0m     \u001b[0mctx\u001b[0m\u001b[1;33m.\u001b[0m\u001b[0mensure_initialized\u001b[0m\u001b[1;33m(\u001b[0m\u001b[1;33m)\u001b[0m\u001b[1;33m\u001b[0m\u001b[1;33m\u001b[0m\u001b[0m\n\u001b[1;32m---> 54\u001b[1;33m     tensors = pywrap_tfe.TFE_Py_Execute(ctx._handle, device_name, op_name,\n\u001b[0m\u001b[0;32m     55\u001b[0m                                         inputs, attrs, num_outputs)\n\u001b[0;32m     56\u001b[0m   \u001b[1;32mexcept\u001b[0m \u001b[0mcore\u001b[0m\u001b[1;33m.\u001b[0m\u001b[0m_NotOkStatusException\u001b[0m \u001b[1;32mas\u001b[0m \u001b[0me\u001b[0m\u001b[1;33m:\u001b[0m\u001b[1;33m\u001b[0m\u001b[1;33m\u001b[0m\u001b[0m\n",
      "\u001b[1;31mKeyboardInterrupt\u001b[0m: "
     ]
    }
   ],
   "source": [
    "EPOCHS=20\n",
    "# Train the model\n",
    "model_10_history = model_10.fit(dataset, epochs=EPOCHS, callbacks=[checkpoint_callback])"
   ]
  },
  {
   "cell_type": "code",
   "execution_count": null,
   "id": "e0ba0770",
   "metadata": {},
   "outputs": [],
   "source": [
    "def generate_text(model, start_string):\n",
    "  # Evaluation step (generating text using the learned model)\n",
    "\n",
    "  # Number of characters to generate\n",
    "  num_generate = 1000\n",
    "\n",
    "  # Converting our start string to numbers (vectorizing)\n",
    "  input_eval = [char2idx[s] for s in start_string]\n",
    "  input_eval = tf.expand_dims(input_eval, 0)\n",
    "\n",
    "  # Empty string to store our results\n",
    "  text_generated = []\n",
    "\n",
    "  # Low temperatures results in more predictable text.\n",
    "  # Higher temperatures results in more surprising text.\n",
    "  # Experiment to find the best setting.\n",
    "  temperature = 1.0\n",
    "\n",
    "  # Here batch size == 1\n",
    "  model.reset_states()\n",
    "  for i in range(num_generate):\n",
    "      predictions = model(input_eval)\n",
    "      # remove the batch dimension\n",
    "      predictions = tf.squeeze(predictions, 0)\n",
    "\n",
    "      # using a categorical distribution to predict the character returned by the model\n",
    "      predictions = predictions / temperature\n",
    "      predicted_id = tf.random.categorical(predictions, num_samples=1)[-1,0].numpy()\n",
    "\n",
    "      # We pass the predicted character as the next input to the model\n",
    "      # along with the previous hidden state\n",
    "      input_eval = tf.expand_dims([predicted_id], 0)\n",
    "\n",
    "      text_generated.append(idx2char[predicted_id])\n",
    "\n",
    "  return (start_string + ''.join(text_generated))"
   ]
  },
  {
   "cell_type": "code",
   "execution_count": null,
   "id": "d058b522",
   "metadata": {},
   "outputs": [],
   "source": [
    "print(generate_text(model, start_string=u\"ROMEO: \"))"
   ]
  },
  {
   "cell_type": "markdown",
   "id": "74877057",
   "metadata": {},
   "source": [
    "# Time series"
   ]
  },
  {
   "cell_type": "code",
   "execution_count": 165,
   "id": "24052ee6",
   "metadata": {},
   "outputs": [
    {
     "data": {
      "text/html": [
       "<div>\n",
       "<style scoped>\n",
       "    .dataframe tbody tr th:only-of-type {\n",
       "        vertical-align: middle;\n",
       "    }\n",
       "\n",
       "    .dataframe tbody tr th {\n",
       "        vertical-align: top;\n",
       "    }\n",
       "\n",
       "    .dataframe thead th {\n",
       "        text-align: right;\n",
       "    }\n",
       "</style>\n",
       "<table border=\"1\" class=\"dataframe\">\n",
       "  <thead>\n",
       "    <tr style=\"text-align: right;\">\n",
       "      <th></th>\n",
       "      <th>Currency</th>\n",
       "      <th>Closing Price (USD)</th>\n",
       "      <th>24h Open (USD)</th>\n",
       "      <th>24h High (USD)</th>\n",
       "      <th>24h Low (USD)</th>\n",
       "    </tr>\n",
       "    <tr>\n",
       "      <th>Date</th>\n",
       "      <th></th>\n",
       "      <th></th>\n",
       "      <th></th>\n",
       "      <th></th>\n",
       "      <th></th>\n",
       "    </tr>\n",
       "  </thead>\n",
       "  <tbody>\n",
       "    <tr>\n",
       "      <th>2013-10-01</th>\n",
       "      <td>BTC</td>\n",
       "      <td>123.65499</td>\n",
       "      <td>124.30466</td>\n",
       "      <td>124.75166</td>\n",
       "      <td>122.56349</td>\n",
       "    </tr>\n",
       "    <tr>\n",
       "      <th>2013-10-02</th>\n",
       "      <td>BTC</td>\n",
       "      <td>125.45500</td>\n",
       "      <td>123.65499</td>\n",
       "      <td>125.75850</td>\n",
       "      <td>123.63383</td>\n",
       "    </tr>\n",
       "    <tr>\n",
       "      <th>2013-10-03</th>\n",
       "      <td>BTC</td>\n",
       "      <td>108.58483</td>\n",
       "      <td>125.45500</td>\n",
       "      <td>125.66566</td>\n",
       "      <td>83.32833</td>\n",
       "    </tr>\n",
       "    <tr>\n",
       "      <th>2013-10-04</th>\n",
       "      <td>BTC</td>\n",
       "      <td>118.67466</td>\n",
       "      <td>108.58483</td>\n",
       "      <td>118.67500</td>\n",
       "      <td>107.05816</td>\n",
       "    </tr>\n",
       "    <tr>\n",
       "      <th>2013-10-05</th>\n",
       "      <td>BTC</td>\n",
       "      <td>121.33866</td>\n",
       "      <td>118.67466</td>\n",
       "      <td>121.93633</td>\n",
       "      <td>118.00566</td>\n",
       "    </tr>\n",
       "  </tbody>\n",
       "</table>\n",
       "</div>"
      ],
      "text/plain": [
       "           Currency  Closing Price (USD)  24h Open (USD)  24h High (USD)  \\\n",
       "Date                                                                       \n",
       "2013-10-01      BTC            123.65499       124.30466       124.75166   \n",
       "2013-10-02      BTC            125.45500       123.65499       125.75850   \n",
       "2013-10-03      BTC            108.58483       125.45500       125.66566   \n",
       "2013-10-04      BTC            118.67466       108.58483       118.67500   \n",
       "2013-10-05      BTC            121.33866       118.67466       121.93633   \n",
       "\n",
       "            24h Low (USD)  \n",
       "Date                       \n",
       "2013-10-01      122.56349  \n",
       "2013-10-02      123.63383  \n",
       "2013-10-03       83.32833  \n",
       "2013-10-04      107.05816  \n",
       "2013-10-05      118.00566  "
      ]
     },
     "execution_count": 165,
     "metadata": {},
     "output_type": "execute_result"
    }
   ],
   "source": [
    "# Import with pandas \n",
    "import pandas as pd\n",
    "# Parse dates and set date column to index\n",
    "df = pd.read_csv(\"extras/BTC_USD_2013-10-01_2021-05-18-CoinDesk.csv\", \n",
    "                 parse_dates=[\"Date\"], \n",
    "                 index_col=[\"Date\"]) # parse the date column (tell pandas column 1 is a datetime)\n",
    "df.head()"
   ]
  },
  {
   "cell_type": "code",
   "execution_count": 166,
   "id": "ea25d7b8",
   "metadata": {},
   "outputs": [
    {
     "data": {
      "text/html": [
       "<div>\n",
       "<style scoped>\n",
       "    .dataframe tbody tr th:only-of-type {\n",
       "        vertical-align: middle;\n",
       "    }\n",
       "\n",
       "    .dataframe tbody tr th {\n",
       "        vertical-align: top;\n",
       "    }\n",
       "\n",
       "    .dataframe thead th {\n",
       "        text-align: right;\n",
       "    }\n",
       "</style>\n",
       "<table border=\"1\" class=\"dataframe\">\n",
       "  <thead>\n",
       "    <tr style=\"text-align: right;\">\n",
       "      <th></th>\n",
       "      <th>Price</th>\n",
       "    </tr>\n",
       "    <tr>\n",
       "      <th>Date</th>\n",
       "      <th></th>\n",
       "    </tr>\n",
       "  </thead>\n",
       "  <tbody>\n",
       "    <tr>\n",
       "      <th>2013-10-01</th>\n",
       "      <td>123.65499</td>\n",
       "    </tr>\n",
       "    <tr>\n",
       "      <th>2013-10-02</th>\n",
       "      <td>125.45500</td>\n",
       "    </tr>\n",
       "    <tr>\n",
       "      <th>2013-10-03</th>\n",
       "      <td>108.58483</td>\n",
       "    </tr>\n",
       "    <tr>\n",
       "      <th>2013-10-04</th>\n",
       "      <td>118.67466</td>\n",
       "    </tr>\n",
       "    <tr>\n",
       "      <th>2013-10-05</th>\n",
       "      <td>121.33866</td>\n",
       "    </tr>\n",
       "  </tbody>\n",
       "</table>\n",
       "</div>"
      ],
      "text/plain": [
       "                Price\n",
       "Date                 \n",
       "2013-10-01  123.65499\n",
       "2013-10-02  125.45500\n",
       "2013-10-03  108.58483\n",
       "2013-10-04  118.67466\n",
       "2013-10-05  121.33866"
      ]
     },
     "execution_count": 166,
     "metadata": {},
     "output_type": "execute_result"
    }
   ],
   "source": [
    "# Only want closing price for each day \n",
    "bitcoin_prices = pd.DataFrame(df[\"Closing Price (USD)\"]).rename(columns={\"Closing Price (USD)\": \"Price\"})\n",
    "bitcoin_prices.head()"
   ]
  },
  {
   "cell_type": "code",
   "execution_count": 167,
   "id": "67712a40",
   "metadata": {},
   "outputs": [
    {
     "data": {
      "image/png": "[encoded data removed]",
      "text/plain": [
       "<Figure size 720x576 with 1 Axes>"
      ]
     },
     "metadata": {
      "needs_background": "light"
     },
     "output_type": "display_data"
    }
   ],
   "source": [
    "# Plot our data\n",
    "import matplotlib.pyplot as plt\n",
    "\n",
    "bitcoin_prices.plot(figsize=(10,8))\n",
    "plt.ylabel(\"Bitcoins price\")\n",
    "plt.title(\"Price of Bitcoin from 1 Otc 2013 to 21 Aug 2021\", fontsize=16)\n",
    "plt.show()"
   ]
  },
  {
   "cell_type": "code",
   "execution_count": 168,
   "id": "44f20f03",
   "metadata": {},
   "outputs": [],
   "source": [
    "# get bitcoins dates and prices array\n",
    "dates = bitcoin_prices.index.to_numpy()\n",
    "prices = bitcoin_prices[\"Price\"].to_numpy()"
   ]
  },
  {
   "cell_type": "code",
   "execution_count": 231,
   "id": "266576a2",
   "metadata": {},
   "outputs": [],
   "source": [
    "split_time = int(0.8 * len(dates))\n",
    "time_train = dates[:split_time]\n",
    "x_train = prices[:split_time]\n",
    "time_valid = dates[split_time:]\n",
    "x_valid = prices[split_time:]\n",
    "\n",
    "window_size = 30\n",
    "batch_size = 32\n",
    "shuffle_buffer_size = 1000\n"
   ]
  },
  {
   "cell_type": "code",
   "execution_count": 232,
   "id": "f1d1e766",
   "metadata": {},
   "outputs": [],
   "source": [
    "def windowed_dataset(series, window_size, batch_size, shuffle_buffer):\n",
    "    series = tf.expand_dims(series, axis=-1)\n",
    "    ds = tf.data.Dataset.from_tensor_slices(series)\n",
    "    ds = ds.window(window_size + 1, shift=1, drop_remainder=True)\n",
    "    ds = ds.flat_map(lambda w: w.batch(window_size + 1))\n",
    "    ds = ds.shuffle(shuffle_buffer)\n",
    "    ds = ds.map(lambda w: (w[:-1], w[1:]))\n",
    "    return ds.batch(batch_size).prefetch(1)"
   ]
  },
  {
   "cell_type": "code",
   "execution_count": 233,
   "id": "fe734a91",
   "metadata": {},
   "outputs": [],
   "source": [
    "def model_forecast(model, series, window_size):\n",
    "    ds = tf.data.Dataset.from_tensor_slices(series)\n",
    "    ds = ds.window(window_size, shift=1, drop_remainder=True)\n",
    "    ds = ds.flat_map(lambda w: w.batch(window_size))\n",
    "    ds = ds.batch(32).prefetch(1)\n",
    "    forecast = model.predict(ds)\n",
    "    return forecast"
   ]
  },
  {
   "cell_type": "code",
   "execution_count": 248,
   "id": "32333bae",
   "metadata": {},
   "outputs": [],
   "source": [
    "import numpy as np\n",
    "import matplotlib.pyplot as plt\n",
    "def plot_series(time, series, format=\"-\", start=0, end=None):\n",
    "    plt.plot(time[start:end], series[start:end], format)\n",
    "    plt.xlabel(\"Time\")\n",
    "    plt.ylabel(\"Value\")\n",
    "    plt.grid(True)"
   ]
  },
  {
   "cell_type": "code",
   "execution_count": 274,
   "id": "8af5d935",
   "metadata": {
    "scrolled": true
   },
   "outputs": [
    {
     "name": "stdout",
     "output_type": "stream",
     "text": [
      "<PrefetchDataset element_spec=(TensorSpec(shape=(None, None, 1), dtype=tf.float64, name=None), TensorSpec(shape=(None, None, 1), dtype=tf.float64, name=None))>\n",
      "(2229,)\n",
      "Epoch 1/100\n",
      "9/9 [==============================] - 1s 39ms/step - loss: 2492.1689 - mae: 2492.6689 - val_loss: 13280.5430 - val_mae: 13281.0430\n",
      "Epoch 2/100\n",
      "9/9 [==============================] - 0s 30ms/step - loss: 1914.3203 - mae: 1914.8203 - val_loss: 9793.1299 - val_mae: 9793.6299\n",
      "Epoch 3/100\n",
      "9/9 [==============================] - 0s 28ms/step - loss: 1306.9696 - mae: 1307.4696 - val_loss: 6139.6709 - val_mae: 6140.1709\n",
      "Epoch 4/100\n",
      "9/9 [==============================] - 0s 27ms/step - loss: 647.7028 - mae: 648.2027 - val_loss: 1895.5559 - val_mae: 1896.0558\n",
      "Epoch 5/100\n",
      "9/9 [==============================] - 0s 27ms/step - loss: 248.1054 - mae: 248.6032 - val_loss: 1482.8042 - val_mae: 1483.3042\n",
      "Epoch 6/100\n",
      "9/9 [==============================] - 0s 28ms/step - loss: 251.2153 - mae: 251.7140 - val_loss: 983.5985 - val_mae: 984.0985\n",
      "Epoch 7/100\n",
      "9/9 [==============================] - 0s 29ms/step - loss: 210.6695 - mae: 211.1649 - val_loss: 1073.5997 - val_mae: 1074.0992\n",
      "Epoch 8/100\n",
      "9/9 [==============================] - 0s 31ms/step - loss: 177.5940 - mae: 178.0883 - val_loss: 860.5699 - val_mae: 861.0699\n",
      "Epoch 9/100\n",
      "9/9 [==============================] - 0s 28ms/step - loss: 168.4223 - mae: 168.9149 - val_loss: 817.0219 - val_mae: 817.5215\n",
      "Epoch 10/100\n",
      "9/9 [==============================] - 0s 28ms/step - loss: 158.7089 - mae: 159.2027 - val_loss: 798.7258 - val_mae: 799.2251\n",
      "Epoch 11/100\n",
      "9/9 [==============================] - 0s 28ms/step - loss: 149.2803 - mae: 149.7718 - val_loss: 726.8859 - val_mae: 727.3859\n",
      "Epoch 12/100\n",
      "9/9 [==============================] - 0s 27ms/step - loss: 142.0743 - mae: 142.5654 - val_loss: 697.8562 - val_mae: 698.3558\n",
      "Epoch 13/100\n",
      "9/9 [==============================] - 0s 26ms/step - loss: 135.3036 - mae: 135.7928 - val_loss: 681.4670 - val_mae: 681.9662\n",
      "Epoch 14/100\n",
      "9/9 [==============================] - 0s 29ms/step - loss: 131.5643 - mae: 132.0532 - val_loss: 661.0524 - val_mae: 661.5515\n",
      "Epoch 15/100\n",
      "9/9 [==============================] - 0s 29ms/step - loss: 128.2930 - mae: 128.7826 - val_loss: 637.7453 - val_mae: 638.2447\n",
      "Epoch 16/100\n",
      "9/9 [==============================] - 0s 28ms/step - loss: 125.3837 - mae: 125.8744 - val_loss: 622.2921 - val_mae: 622.7919\n",
      "Epoch 17/100\n",
      "9/9 [==============================] - 0s 27ms/step - loss: 122.6578 - mae: 123.1484 - val_loss: 608.7493 - val_mae: 609.2489\n",
      "Epoch 18/100\n",
      "9/9 [==============================] - 0s 27ms/step - loss: 120.5519 - mae: 121.0423 - val_loss: 597.9155 - val_mae: 598.4155\n",
      "Epoch 19/100\n",
      "9/9 [==============================] - 0s 28ms/step - loss: 119.6371 - mae: 120.1289 - val_loss: 588.6730 - val_mae: 589.1729\n",
      "Epoch 20/100\n",
      "9/9 [==============================] - 0s 30ms/step - loss: 119.1007 - mae: 119.5935 - val_loss: 580.6534 - val_mae: 581.1534\n",
      "Epoch 21/100\n",
      "9/9 [==============================] - 0s 26ms/step - loss: 120.7296 - mae: 121.2231 - val_loss: 580.9797 - val_mae: 581.4792\n",
      "Epoch 22/100\n",
      "9/9 [==============================] - 0s 26ms/step - loss: 120.1451 - mae: 120.6370 - val_loss: 604.5276 - val_mae: 605.0268\n",
      "Epoch 23/100\n",
      "9/9 [==============================] - 0s 26ms/step - loss: 115.0885 - mae: 115.5787 - val_loss: 586.4478 - val_mae: 586.9477\n",
      "Epoch 24/100\n",
      "9/9 [==============================] - 0s 31ms/step - loss: 112.8290 - mae: 113.3175 - val_loss: 572.2711 - val_mae: 572.7705\n",
      "Epoch 25/100\n",
      "9/9 [==============================] - 0s 30ms/step - loss: 111.8026 - mae: 112.2900 - val_loss: 566.8149 - val_mae: 567.3138\n",
      "Epoch 26/100\n",
      "9/9 [==============================] - 0s 27ms/step - loss: 111.0184 - mae: 111.5054 - val_loss: 562.0424 - val_mae: 562.5424\n",
      "Epoch 27/100\n",
      "9/9 [==============================] - 0s 32ms/step - loss: 110.1766 - mae: 110.6637 - val_loss: 555.3576 - val_mae: 555.8577\n",
      "Epoch 28/100\n",
      "9/9 [==============================] - 0s 30ms/step - loss: 109.2812 - mae: 109.7684 - val_loss: 551.2573 - val_mae: 551.7571\n",
      "Epoch 29/100\n",
      "9/9 [==============================] - 0s 28ms/step - loss: 108.6008 - mae: 109.0882 - val_loss: 548.8051 - val_mae: 549.3042\n",
      "Epoch 30/100\n",
      "9/9 [==============================] - 0s 30ms/step - loss: 107.7798 - mae: 108.2670 - val_loss: 543.0976 - val_mae: 543.5975\n",
      "Epoch 31/100\n",
      "9/9 [==============================] - 0s 29ms/step - loss: 107.2694 - mae: 107.7567 - val_loss: 542.0906 - val_mae: 542.5895\n",
      "Epoch 32/100\n",
      "9/9 [==============================] - 0s 27ms/step - loss: 106.5907 - mae: 107.0777 - val_loss: 538.4904 - val_mae: 538.9899\n",
      "Epoch 33/100\n",
      "9/9 [==============================] - 0s 30ms/step - loss: 106.0754 - mae: 106.5627 - val_loss: 537.2244 - val_mae: 537.7243\n",
      "Epoch 34/100\n",
      "9/9 [==============================] - 0s 29ms/step - loss: 105.6683 - mae: 106.1557 - val_loss: 533.7273 - val_mae: 534.2263\n",
      "Epoch 35/100\n",
      "9/9 [==============================] - 0s 29ms/step - loss: 105.3570 - mae: 105.8437 - val_loss: 531.7381 - val_mae: 532.2380\n",
      "Epoch 36/100\n",
      "9/9 [==============================] - 0s 29ms/step - loss: 104.9915 - mae: 105.4788 - val_loss: 526.6403 - val_mae: 527.1399\n",
      "Epoch 37/100\n",
      "9/9 [==============================] - 0s 29ms/step - loss: 104.9135 - mae: 105.4012 - val_loss: 523.0850 - val_mae: 523.5845\n",
      "Epoch 38/100\n",
      "9/9 [==============================] - 0s 24ms/step - loss: 104.9421 - mae: 105.4298 - val_loss: 523.6889 - val_mae: 524.1888\n",
      "Epoch 39/100\n",
      "9/9 [==============================] - 0s 26ms/step - loss: 104.9103 - mae: 105.3983 - val_loss: 523.5031 - val_mae: 524.0030\n",
      "Epoch 40/100\n",
      "9/9 [==============================] - 0s 27ms/step - loss: 105.0256 - mae: 105.5139 - val_loss: 523.5944 - val_mae: 524.0944\n",
      "Epoch 41/100\n",
      "9/9 [==============================] - 0s 26ms/step - loss: 104.9677 - mae: 105.4554 - val_loss: 522.6769 - val_mae: 523.1765\n",
      "Epoch 42/100\n",
      "9/9 [==============================] - 0s 28ms/step - loss: 104.6167 - mae: 105.1043 - val_loss: 522.1636 - val_mae: 522.6627\n",
      "Epoch 43/100\n",
      "9/9 [==============================] - 0s 29ms/step - loss: 104.5425 - mae: 105.0301 - val_loss: 521.8482 - val_mae: 522.3482\n",
      "Epoch 44/100\n",
      "9/9 [==============================] - 0s 27ms/step - loss: 104.5667 - mae: 105.0541 - val_loss: 522.1979 - val_mae: 522.6973\n",
      "Epoch 45/100\n",
      "9/9 [==============================] - 0s 24ms/step - loss: 104.4803 - mae: 104.9681 - val_loss: 522.0622 - val_mae: 522.5612\n",
      "Epoch 46/100\n",
      "9/9 [==============================] - 0s 27ms/step - loss: 104.3824 - mae: 104.8704 - val_loss: 522.2124 - val_mae: 522.7110\n",
      "Epoch 47/100\n",
      "9/9 [==============================] - 0s 28ms/step - loss: 104.4663 - mae: 104.9541 - val_loss: 521.5334 - val_mae: 522.0333\n",
      "Epoch 48/100\n",
      "9/9 [==============================] - 0s 26ms/step - loss: 104.2853 - mae: 104.7729 - val_loss: 522.7491 - val_mae: 523.2479\n",
      "Epoch 49/100\n",
      "9/9 [==============================] - 0s 27ms/step - loss: 104.4222 - mae: 104.9091 - val_loss: 522.9520 - val_mae: 523.4517\n",
      "Epoch 50/100\n",
      "9/9 [==============================] - 0s 31ms/step - loss: 104.3000 - mae: 104.7877 - val_loss: 521.5293 - val_mae: 522.0292\n",
      "Epoch 51/100\n",
      "9/9 [==============================] - 0s 28ms/step - loss: 104.3564 - mae: 104.8438 - val_loss: 520.6833 - val_mae: 521.1814\n",
      "Epoch 52/100\n",
      "9/9 [==============================] - 0s 27ms/step - loss: 104.1173 - mae: 104.6051 - val_loss: 521.1962 - val_mae: 521.6956\n",
      "Epoch 53/100\n",
      "9/9 [==============================] - 0s 29ms/step - loss: 104.0487 - mae: 104.5369 - val_loss: 520.4714 - val_mae: 520.9711\n",
      "Epoch 54/100\n",
      "9/9 [==============================] - 0s 28ms/step - loss: 104.0582 - mae: 104.5463 - val_loss: 520.4431 - val_mae: 520.9419\n",
      "Epoch 55/100\n",
      "9/9 [==============================] - 0s 27ms/step - loss: 103.9905 - mae: 104.4784 - val_loss: 520.5563 - val_mae: 521.0563\n",
      "Epoch 56/100\n",
      "9/9 [==============================] - 0s 27ms/step - loss: 104.2336 - mae: 104.7212 - val_loss: 522.5847 - val_mae: 523.0847\n",
      "Epoch 57/100\n",
      "9/9 [==============================] - 0s 33ms/step - loss: 104.4952 - mae: 104.9825 - val_loss: 520.6041 - val_mae: 521.1038\n",
      "Epoch 58/100\n",
      "9/9 [==============================] - 0s 31ms/step - loss: 104.3659 - mae: 104.8540 - val_loss: 521.0004 - val_mae: 521.5002\n"
     ]
    },
    {
     "name": "stdout",
     "output_type": "stream",
     "text": [
      "Epoch 59/100\n",
      "9/9 [==============================] - 0s 32ms/step - loss: 103.8680 - mae: 104.3562 - val_loss: 521.1584 - val_mae: 521.6559\n",
      "Epoch 60/100\n",
      "9/9 [==============================] - 0s 36ms/step - loss: 103.8437 - mae: 104.3312 - val_loss: 520.1679 - val_mae: 520.6671\n",
      "Epoch 61/100\n",
      "9/9 [==============================] - 0s 34ms/step - loss: 103.9510 - mae: 104.4394 - val_loss: 520.0585 - val_mae: 520.5577\n",
      "Epoch 62/100\n",
      "9/9 [==============================] - 0s 31ms/step - loss: 104.1242 - mae: 104.6118 - val_loss: 521.4886 - val_mae: 521.9873\n",
      "Epoch 63/100\n",
      "9/9 [==============================] - 0s 31ms/step - loss: 103.9009 - mae: 104.3888 - val_loss: 520.4276 - val_mae: 520.9272\n",
      "Epoch 64/100\n",
      "9/9 [==============================] - 0s 32ms/step - loss: 103.8405 - mae: 104.3281 - val_loss: 520.1365 - val_mae: 520.6359\n",
      "Epoch 65/100\n",
      "9/9 [==============================] - 0s 33ms/step - loss: 103.7479 - mae: 104.2359 - val_loss: 520.5934 - val_mae: 521.0927\n",
      "Epoch 66/100\n",
      "9/9 [==============================] - 0s 34ms/step - loss: 103.8132 - mae: 104.3007 - val_loss: 520.4112 - val_mae: 520.9101\n",
      "Epoch 67/100\n",
      "9/9 [==============================] - 0s 37ms/step - loss: 104.1697 - mae: 104.6582 - val_loss: 519.8544 - val_mae: 520.3543\n",
      "Epoch 68/100\n",
      "9/9 [==============================] - 0s 36ms/step - loss: 104.0162 - mae: 104.5036 - val_loss: 519.5745 - val_mae: 520.0745\n",
      "Epoch 69/100\n",
      "9/9 [==============================] - 0s 30ms/step - loss: 104.2298 - mae: 104.7181 - val_loss: 520.1613 - val_mae: 520.6602\n",
      "Epoch 70/100\n",
      "9/9 [==============================] - 0s 30ms/step - loss: 104.6263 - mae: 105.1151 - val_loss: 526.6074 - val_mae: 527.1067\n",
      "Epoch 71/100\n",
      "9/9 [==============================] - 0s 34ms/step - loss: 104.0051 - mae: 104.4930 - val_loss: 519.5915 - val_mae: 520.0909\n",
      "Epoch 72/100\n",
      "9/9 [==============================] - 0s 32ms/step - loss: 103.7337 - mae: 104.2219 - val_loss: 520.1362 - val_mae: 520.6355\n",
      "Epoch 73/100\n",
      "9/9 [==============================] - 0s 29ms/step - loss: 103.7736 - mae: 104.2616 - val_loss: 520.1855 - val_mae: 520.6846\n",
      "Epoch 74/100\n",
      "9/9 [==============================] - 0s 32ms/step - loss: 103.7935 - mae: 104.2811 - val_loss: 519.5568 - val_mae: 520.0557\n",
      "Epoch 75/100\n",
      "9/9 [==============================] - 0s 30ms/step - loss: 104.0920 - mae: 104.5802 - val_loss: 522.4460 - val_mae: 522.9450\n",
      "Epoch 76/100\n",
      "9/9 [==============================] - 0s 35ms/step - loss: 104.9207 - mae: 105.4100 - val_loss: 520.2150 - val_mae: 520.7150\n",
      "Epoch 77/100\n",
      "9/9 [==============================] - 0s 40ms/step - loss: 105.0408 - mae: 105.5304 - val_loss: 523.3817 - val_mae: 523.8817\n",
      "Epoch 78/100\n",
      "9/9 [==============================] - 0s 36ms/step - loss: 103.6792 - mae: 104.1675 - val_loss: 521.1807 - val_mae: 521.6801\n",
      "Epoch 79/100\n",
      "9/9 [==============================] - 0s 37ms/step - loss: 104.1731 - mae: 104.6610 - val_loss: 519.2838 - val_mae: 519.7836\n",
      "Epoch 80/100\n",
      "9/9 [==============================] - 0s 30ms/step - loss: 104.8059 - mae: 105.2949 - val_loss: 520.0026 - val_mae: 520.5018\n",
      "Epoch 81/100\n",
      "9/9 [==============================] - 0s 31ms/step - loss: 104.5771 - mae: 105.0651 - val_loss: 524.9305 - val_mae: 525.4300\n",
      "Epoch 82/100\n",
      "9/9 [==============================] - 0s 28ms/step - loss: 103.7881 - mae: 104.2755 - val_loss: 520.1456 - val_mae: 520.6443\n",
      "Epoch 83/100\n",
      "9/9 [==============================] - 0s 31ms/step - loss: 103.5818 - mae: 104.0702 - val_loss: 520.7687 - val_mae: 521.2687\n",
      "Epoch 84/100\n",
      "9/9 [==============================] - 0s 33ms/step - loss: 103.5291 - mae: 104.0168 - val_loss: 519.6781 - val_mae: 520.1780\n",
      "Epoch 85/100\n",
      "9/9 [==============================] - 0s 29ms/step - loss: 103.4953 - mae: 103.9832 - val_loss: 519.8624 - val_mae: 520.3623\n",
      "Epoch 86/100\n",
      "9/9 [==============================] - 0s 32ms/step - loss: 103.4459 - mae: 103.9332 - val_loss: 519.8786 - val_mae: 520.3784\n",
      "Epoch 87/100\n",
      "9/9 [==============================] - 0s 31ms/step - loss: 103.5046 - mae: 103.9924 - val_loss: 520.2256 - val_mae: 520.7256\n",
      "Epoch 88/100\n",
      "9/9 [==============================] - 0s 35ms/step - loss: 103.4869 - mae: 103.9745 - val_loss: 519.1047 - val_mae: 519.6047\n",
      "Epoch 89/100\n",
      "9/9 [==============================] - 0s 34ms/step - loss: 103.4995 - mae: 103.9872 - val_loss: 519.7394 - val_mae: 520.2385\n",
      "Epoch 90/100\n",
      "9/9 [==============================] - 0s 32ms/step - loss: 103.4229 - mae: 103.9103 - val_loss: 519.5385 - val_mae: 520.0382\n",
      "Epoch 91/100\n",
      "9/9 [==============================] - 0s 33ms/step - loss: 103.5204 - mae: 104.0083 - val_loss: 519.5012 - val_mae: 520.0003\n",
      "Epoch 92/100\n",
      "9/9 [==============================] - 0s 31ms/step - loss: 103.5631 - mae: 104.0506 - val_loss: 519.3704 - val_mae: 519.8704\n",
      "Epoch 93/100\n",
      "9/9 [==============================] - 0s 29ms/step - loss: 104.1176 - mae: 104.6067 - val_loss: 522.1469 - val_mae: 522.6464\n",
      "Epoch 94/100\n",
      "9/9 [==============================] - 0s 30ms/step - loss: 104.5489 - mae: 105.0379 - val_loss: 519.7873 - val_mae: 520.2872\n",
      "Epoch 95/100\n",
      "9/9 [==============================] - 0s 31ms/step - loss: 104.7920 - mae: 105.2812 - val_loss: 520.5585 - val_mae: 521.0576\n",
      "Epoch 96/100\n",
      "9/9 [==============================] - 0s 41ms/step - loss: 103.7560 - mae: 104.2437 - val_loss: 518.9202 - val_mae: 519.4193\n",
      "Epoch 97/100\n",
      "9/9 [==============================] - 0s 32ms/step - loss: 104.3903 - mae: 104.8786 - val_loss: 519.2677 - val_mae: 519.7676\n",
      "Epoch 98/100\n",
      "9/9 [==============================] - 0s 31ms/step - loss: 104.4994 - mae: 104.9883 - val_loss: 522.3835 - val_mae: 522.8821\n",
      "Epoch 99/100\n",
      "9/9 [==============================] - 0s 30ms/step - loss: 103.5701 - mae: 104.0579 - val_loss: 519.1160 - val_mae: 519.6153\n",
      "Epoch 100/100\n",
      "9/9 [==============================] - 0s 30ms/step - loss: 103.3722 - mae: 103.8596 - val_loss: 519.8564 - val_mae: 520.3561\n"
     ]
    }
   ],
   "source": [
    "tf.keras.backend.clear_session()\n",
    "tf.random.set_seed(51)\n",
    "np.random.seed(51)\n",
    "window_size = 64\n",
    "batch_size = 256\n",
    "train_set = windowed_dataset(x_train, window_size, batch_size, shuffle_buffer_size)\n",
    "test_set=windowed_dataset(x_valid, window_size, batch_size, shuffle_buffer_size)\n",
    "print(train_set)\n",
    "print(x_train.shape)\n",
    "\n",
    "model_15 = tf.keras.models.Sequential([\n",
    "  tf.keras.layers.Conv1D(filters=64, kernel_size=5,\n",
    "                      strides=1, padding=\"causal\",\n",
    "                      activation=\"relu\",\n",
    "                      input_shape=[None, 1]),\n",
    "  tf.keras.layers.Dense(1),\n",
    "],name='model_15')\n",
    "\n",
    "optimizer = tf.keras.optimizers.Adam()\n",
    "model_15.compile(loss=tf.keras.losses.Huber(),\n",
    "              optimizer=optimizer,\n",
    "              metrics=[\"mae\"])\n",
    "history = model_15.fit(train_set, epochs=100,validation_data=test_set,\n",
    "            callbacks=[create_checkpoint_callback(model_name=model_15.name)])"
   ]
  },
  {
   "cell_type": "code",
   "execution_count": 275,
   "id": "5c8d82c5",
   "metadata": {},
   "outputs": [
    {
     "data": {
      "text/plain": [
       "518.9202270507812"
      ]
     },
     "execution_count": 275,
     "metadata": {},
     "output_type": "execute_result"
    }
   ],
   "source": [
    "min(history.history['val_loss'])"
   ]
  },
  {
   "cell_type": "code",
   "execution_count": 276,
   "id": "c401c377",
   "metadata": {},
   "outputs": [],
   "source": [
    "rnn_forecast = model_forecast(model_15, prices[..., np.newaxis], window_size)\n",
    "rnn_forecast = rnn_forecast[split_time - window_size:-1, -1, 0]"
   ]
  },
  {
   "cell_type": "code",
   "execution_count": 277,
   "id": "58c1cf38",
   "metadata": {},
   "outputs": [
    {
     "data": {
      "image/png": "[encoded data removed]",
      "text/plain": [
       "<Figure size 720x432 with 1 Axes>"
      ]
     },
     "metadata": {
      "needs_background": "light"
     },
     "output_type": "display_data"
    }
   ],
   "source": [
    "plt.figure(figsize=(10, 6))\n",
    "plot_series(time_valid, x_valid,format='.')\n",
    "plot_series(time_valid, rnn_forecast,format='.')"
   ]
  },
  {
   "cell_type": "code",
   "execution_count": null,
   "id": "453f5452",
   "metadata": {},
   "outputs": [],
   "source": [
    "tf.keras.metrics.mean_absolute_error(x_valid, rnn_forecast).numpy()"
   ]
  },
  {
   "cell_type": "code",
   "execution_count": 278,
   "id": "9ae83957",
   "metadata": {},
   "outputs": [
    {
     "name": "stdout",
     "output_type": "stream",
     "text": [
      "<PrefetchDataset element_spec=(TensorSpec(shape=(None, None, 1), dtype=tf.float64, name=None), TensorSpec(shape=(None, None, 1), dtype=tf.float64, name=None))>\n",
      "(2229,)\n",
      "Epoch 1/100\n",
      "9/9 [==============================] - 1s 44ms/step - loss: 2858.1548 - mae: 2858.6545 - val_loss: 16145.6904 - val_mae: 16146.1904\n",
      "Epoch 2/100\n",
      "9/9 [==============================] - 0s 29ms/step - loss: 2514.3064 - mae: 2514.8064 - val_loss: 14075.6543 - val_mae: 14076.1543\n",
      "Epoch 3/100\n",
      "9/9 [==============================] - 0s 30ms/step - loss: 2162.4697 - mae: 2162.9697 - val_loss: 12019.6260 - val_mae: 12020.1260\n",
      "Epoch 4/100\n",
      "9/9 [==============================] - 0s 31ms/step - loss: 1817.4191 - mae: 1817.9191 - val_loss: 9905.4775 - val_mae: 9905.9775\n",
      "Epoch 5/100\n",
      "9/9 [==============================] - 0s 30ms/step - loss: 1458.9110 - mae: 1459.4110 - val_loss: 7736.4038 - val_mae: 7736.9038\n",
      "Epoch 6/100\n",
      "9/9 [==============================] - 0s 35ms/step - loss: 1087.0900 - mae: 1087.5900 - val_loss: 5458.0308 - val_mae: 5458.5308\n",
      "Epoch 7/100\n",
      "9/9 [==============================] - 0s 32ms/step - loss: 694.9282 - mae: 695.4282 - val_loss: 3072.4038 - val_mae: 3072.9038\n",
      "Epoch 8/100\n",
      "9/9 [==============================] - 0s 35ms/step - loss: 294.8796 - mae: 295.3795 - val_loss: 762.6738 - val_mae: 763.1738\n",
      "Epoch 9/100\n",
      "9/9 [==============================] - 0s 31ms/step - loss: 137.7555 - mae: 138.2510 - val_loss: 865.5222 - val_mae: 866.0222\n",
      "Epoch 10/100\n",
      "9/9 [==============================] - 0s 30ms/step - loss: 141.8446 - mae: 142.3425 - val_loss: 532.5886 - val_mae: 533.0881\n",
      "Epoch 11/100\n",
      "9/9 [==============================] - 0s 28ms/step - loss: 114.2834 - mae: 114.7750 - val_loss: 597.3755 - val_mae: 597.8755\n",
      "Epoch 12/100\n",
      "9/9 [==============================] - 0s 29ms/step - loss: 107.0663 - mae: 107.5572 - val_loss: 523.3227 - val_mae: 523.8220\n",
      "Epoch 13/100\n",
      "9/9 [==============================] - 0s 30ms/step - loss: 108.2271 - mae: 108.7204 - val_loss: 521.0539 - val_mae: 521.5539\n",
      "Epoch 14/100\n",
      "9/9 [==============================] - 0s 28ms/step - loss: 105.6762 - mae: 106.1645 - val_loss: 527.7751 - val_mae: 528.2750\n",
      "Epoch 15/100\n",
      "9/9 [==============================] - 0s 33ms/step - loss: 104.8360 - mae: 105.3244 - val_loss: 521.1116 - val_mae: 521.6115\n",
      "Epoch 16/100\n",
      "9/9 [==============================] - 0s 27ms/step - loss: 104.7321 - mae: 105.2211 - val_loss: 523.1509 - val_mae: 523.6507\n",
      "Epoch 17/100\n",
      "9/9 [==============================] - 0s 27ms/step - loss: 104.7533 - mae: 105.2415 - val_loss: 522.1948 - val_mae: 522.6941\n",
      "Epoch 18/100\n",
      "9/9 [==============================] - 0s 27ms/step - loss: 104.7240 - mae: 105.2137 - val_loss: 521.8500 - val_mae: 522.3487\n",
      "Epoch 19/100\n",
      "9/9 [==============================] - 0s 28ms/step - loss: 104.7098 - mae: 105.1997 - val_loss: 522.4963 - val_mae: 522.9950\n",
      "Epoch 20/100\n",
      "9/9 [==============================] - 0s 29ms/step - loss: 104.7033 - mae: 105.1936 - val_loss: 522.0843 - val_mae: 522.5835\n",
      "Epoch 21/100\n",
      "9/9 [==============================] - 0s 29ms/step - loss: 104.7040 - mae: 105.1935 - val_loss: 522.2424 - val_mae: 522.7414\n",
      "Epoch 22/100\n",
      "9/9 [==============================] - 0s 27ms/step - loss: 104.7053 - mae: 105.1954 - val_loss: 522.4105 - val_mae: 522.9091\n",
      "Epoch 23/100\n",
      "9/9 [==============================] - 0s 27ms/step - loss: 104.7020 - mae: 105.1917 - val_loss: 522.0827 - val_mae: 522.5820\n",
      "Epoch 24/100\n",
      "9/9 [==============================] - 0s 29ms/step - loss: 104.7043 - mae: 105.1940 - val_loss: 522.2847 - val_mae: 522.7833\n",
      "Epoch 25/100\n",
      "9/9 [==============================] - 0s 28ms/step - loss: 104.7053 - mae: 105.1955 - val_loss: 522.2531 - val_mae: 522.7520\n",
      "Epoch 26/100\n",
      "9/9 [==============================] - 0s 28ms/step - loss: 104.7034 - mae: 105.1933 - val_loss: 522.2018 - val_mae: 522.7009\n",
      "Epoch 27/100\n",
      "9/9 [==============================] - 0s 30ms/step - loss: 104.7035 - mae: 105.1939 - val_loss: 522.2505 - val_mae: 522.7495\n",
      "Epoch 28/100\n",
      "9/9 [==============================] - 0s 28ms/step - loss: 104.7014 - mae: 105.1911 - val_loss: 522.2017 - val_mae: 522.7006\n",
      "Epoch 29/100\n",
      "9/9 [==============================] - 0s 28ms/step - loss: 104.7086 - mae: 105.1985 - val_loss: 522.2367 - val_mae: 522.7357\n",
      "Epoch 30/100\n",
      "9/9 [==============================] - 0s 29ms/step - loss: 104.6997 - mae: 105.1898 - val_loss: 522.0887 - val_mae: 522.5882\n",
      "Epoch 31/100\n",
      "9/9 [==============================] - 0s 28ms/step - loss: 104.7036 - mae: 105.1935 - val_loss: 522.2424 - val_mae: 522.7414\n",
      "Epoch 32/100\n",
      "9/9 [==============================] - 0s 28ms/step - loss: 104.7054 - mae: 105.1953 - val_loss: 522.1705 - val_mae: 522.6702\n",
      "Epoch 33/100\n",
      "9/9 [==============================] - 0s 28ms/step - loss: 104.7006 - mae: 105.1906 - val_loss: 522.1887 - val_mae: 522.6879\n",
      "Epoch 34/100\n",
      "9/9 [==============================] - 0s 31ms/step - loss: 104.7078 - mae: 105.1974 - val_loss: 522.1483 - val_mae: 522.6482\n",
      "Epoch 35/100\n",
      "9/9 [==============================] - 0s 28ms/step - loss: 104.7048 - mae: 105.1946 - val_loss: 522.1471 - val_mae: 522.6470\n",
      "Epoch 36/100\n",
      "9/9 [==============================] - 0s 28ms/step - loss: 104.7122 - mae: 105.2018 - val_loss: 522.1772 - val_mae: 522.6767\n",
      "Epoch 37/100\n",
      "9/9 [==============================] - 0s 27ms/step - loss: 104.7065 - mae: 105.1964 - val_loss: 522.3339 - val_mae: 522.8322\n",
      "Epoch 38/100\n",
      "9/9 [==============================] - 0s 28ms/step - loss: 104.7006 - mae: 105.1905 - val_loss: 522.0865 - val_mae: 522.5861\n",
      "Epoch 39/100\n",
      "9/9 [==============================] - 0s 28ms/step - loss: 104.7106 - mae: 105.2006 - val_loss: 522.2844 - val_mae: 522.7830\n",
      "Epoch 40/100\n",
      "9/9 [==============================] - 0s 28ms/step - loss: 104.7016 - mae: 105.1913 - val_loss: 522.0096 - val_mae: 522.5088\n",
      "Epoch 41/100\n",
      "9/9 [==============================] - 0s 27ms/step - loss: 104.7020 - mae: 105.1918 - val_loss: 522.3029 - val_mae: 522.8013\n",
      "Epoch 42/100\n",
      "9/9 [==============================] - 0s 28ms/step - loss: 104.7043 - mae: 105.1937 - val_loss: 522.0500 - val_mae: 522.5491\n",
      "Epoch 43/100\n",
      "9/9 [==============================] - 0s 31ms/step - loss: 104.7033 - mae: 105.1932 - val_loss: 522.2337 - val_mae: 522.7326\n",
      "Epoch 44/100\n",
      "9/9 [==============================] - 0s 30ms/step - loss: 104.7059 - mae: 105.1952 - val_loss: 522.1479 - val_mae: 522.6478\n",
      "Epoch 45/100\n",
      "9/9 [==============================] - 0s 28ms/step - loss: 104.6987 - mae: 105.1885 - val_loss: 522.2631 - val_mae: 522.7618\n",
      "Epoch 46/100\n",
      "9/9 [==============================] - 0s 29ms/step - loss: 104.7094 - mae: 105.1986 - val_loss: 522.0366 - val_mae: 522.5358\n",
      "Epoch 47/100\n",
      "9/9 [==============================] - 0s 28ms/step - loss: 104.7001 - mae: 105.1901 - val_loss: 522.4730 - val_mae: 522.9717\n",
      "Epoch 48/100\n",
      "9/9 [==============================] - 0s 29ms/step - loss: 104.7063 - mae: 105.1954 - val_loss: 521.9185 - val_mae: 522.4182\n",
      "Epoch 49/100\n",
      "9/9 [==============================] - 0s 29ms/step - loss: 104.6945 - mae: 105.1844 - val_loss: 522.3087 - val_mae: 522.8068\n",
      "Epoch 50/100\n",
      "9/9 [==============================] - 0s 27ms/step - loss: 104.7028 - mae: 105.1923 - val_loss: 522.1974 - val_mae: 522.6962\n",
      "Epoch 51/100\n",
      "9/9 [==============================] - 0s 27ms/step - loss: 104.6964 - mae: 105.1861 - val_loss: 522.1833 - val_mae: 522.6825\n",
      "Epoch 52/100\n",
      "9/9 [==============================] - 0s 28ms/step - loss: 104.6960 - mae: 105.1853 - val_loss: 522.0309 - val_mae: 522.5302\n",
      "Epoch 53/100\n",
      "9/9 [==============================] - 0s 29ms/step - loss: 104.6950 - mae: 105.1849 - val_loss: 522.1831 - val_mae: 522.6823\n",
      "Epoch 54/100\n",
      "9/9 [==============================] - 0s 32ms/step - loss: 104.6956 - mae: 105.1854 - val_loss: 522.2759 - val_mae: 522.7745\n",
      "Epoch 55/100\n",
      "9/9 [==============================] - 0s 29ms/step - loss: 104.6966 - mae: 105.1859 - val_loss: 522.0709 - val_mae: 522.5700\n",
      "Epoch 56/100\n",
      "9/9 [==============================] - 0s 29ms/step - loss: 104.7141 - mae: 105.2040 - val_loss: 522.3751 - val_mae: 522.8734\n",
      "Epoch 57/100\n",
      "9/9 [==============================] - 0s 27ms/step - loss: 104.7549 - mae: 105.2432 - val_loss: 521.4571 - val_mae: 521.9553\n",
      "Epoch 58/100\n"
     ]
    },
    {
     "name": "stdout",
     "output_type": "stream",
     "text": [
      "9/9 [==============================] - 0s 28ms/step - loss: 104.7485 - mae: 105.2380 - val_loss: 523.9500 - val_mae: 524.4496\n",
      "Epoch 59/100\n",
      "9/9 [==============================] - 0s 27ms/step - loss: 104.7814 - mae: 105.2693 - val_loss: 521.3153 - val_mae: 521.8153\n",
      "Epoch 60/100\n",
      "9/9 [==============================] - 0s 29ms/step - loss: 104.7178 - mae: 105.2077 - val_loss: 523.3511 - val_mae: 523.8501\n",
      "Epoch 61/100\n",
      "9/9 [==============================] - 0s 34ms/step - loss: 104.7239 - mae: 105.2118 - val_loss: 521.3059 - val_mae: 521.8059\n",
      "Epoch 62/100\n",
      "9/9 [==============================] - 0s 33ms/step - loss: 104.7354 - mae: 105.2247 - val_loss: 523.8447 - val_mae: 524.3439\n",
      "Epoch 63/100\n",
      "9/9 [==============================] - 0s 34ms/step - loss: 104.8075 - mae: 105.2953 - val_loss: 521.2853 - val_mae: 521.7850\n",
      "Epoch 64/100\n",
      "9/9 [==============================] - 0s 34ms/step - loss: 104.7098 - mae: 105.1997 - val_loss: 523.1933 - val_mae: 523.6927\n",
      "Epoch 65/100\n",
      "9/9 [==============================] - 0s 35ms/step - loss: 104.7483 - mae: 105.2365 - val_loss: 521.5901 - val_mae: 522.0895\n",
      "Epoch 66/100\n",
      "9/9 [==============================] - 0s 34ms/step - loss: 104.6926 - mae: 105.1823 - val_loss: 522.7229 - val_mae: 523.2224\n",
      "Epoch 67/100\n",
      "9/9 [==============================] - 0s 35ms/step - loss: 104.6968 - mae: 105.1856 - val_loss: 521.9893 - val_mae: 522.4885\n",
      "Epoch 68/100\n",
      "9/9 [==============================] - 0s 33ms/step - loss: 104.6917 - mae: 105.1814 - val_loss: 522.4458 - val_mae: 522.9447\n",
      "Epoch 69/100\n",
      "9/9 [==============================] - 0s 34ms/step - loss: 104.7026 - mae: 105.1913 - val_loss: 521.6727 - val_mae: 522.1726\n",
      "Epoch 70/100\n",
      "9/9 [==============================] - 0s 33ms/step - loss: 104.6908 - mae: 105.1807 - val_loss: 522.5399 - val_mae: 523.0381\n",
      "Epoch 71/100\n",
      "9/9 [==============================] - 0s 34ms/step - loss: 104.7237 - mae: 105.2120 - val_loss: 521.5681 - val_mae: 522.0670\n",
      "Epoch 72/100\n",
      "9/9 [==============================] - 0s 35ms/step - loss: 104.6976 - mae: 105.1876 - val_loss: 522.7883 - val_mae: 523.2877\n",
      "Epoch 73/100\n",
      "9/9 [==============================] - 0s 33ms/step - loss: 104.7383 - mae: 105.2264 - val_loss: 521.5644 - val_mae: 522.0633\n",
      "Epoch 74/100\n",
      "9/9 [==============================] - 0s 34ms/step - loss: 104.6961 - mae: 105.1861 - val_loss: 522.6403 - val_mae: 523.1401\n",
      "Epoch 75/100\n",
      "9/9 [==============================] - 0s 34ms/step - loss: 104.6991 - mae: 105.1879 - val_loss: 521.8776 - val_mae: 522.3773\n",
      "Epoch 76/100\n",
      "9/9 [==============================] - 0s 35ms/step - loss: 104.6964 - mae: 105.1859 - val_loss: 522.1039 - val_mae: 522.6039\n",
      "Epoch 77/100\n",
      "9/9 [==============================] - 0s 35ms/step - loss: 104.6911 - mae: 105.1808 - val_loss: 522.3530 - val_mae: 522.8513\n",
      "Epoch 78/100\n",
      "9/9 [==============================] - 0s 34ms/step - loss: 104.6959 - mae: 105.1848 - val_loss: 521.7823 - val_mae: 522.2807\n",
      "Epoch 79/100\n",
      "9/9 [==============================] - 0s 37ms/step - loss: 104.6950 - mae: 105.1849 - val_loss: 522.7186 - val_mae: 523.2180\n",
      "Epoch 80/100\n",
      "9/9 [==============================] - 0s 39ms/step - loss: 104.7367 - mae: 105.2248 - val_loss: 521.3408 - val_mae: 521.8408\n",
      "Epoch 81/100\n",
      "9/9 [==============================] - 0s 37ms/step - loss: 104.7052 - mae: 105.1952 - val_loss: 523.3693 - val_mae: 523.8683\n",
      "Epoch 82/100\n",
      "9/9 [==============================] - 0s 36ms/step - loss: 104.7610 - mae: 105.2490 - val_loss: 521.4073 - val_mae: 521.9060\n",
      "Epoch 83/100\n",
      "9/9 [==============================] - 0s 34ms/step - loss: 104.6897 - mae: 105.1795 - val_loss: 522.7692 - val_mae: 523.2684\n",
      "Epoch 84/100\n",
      "9/9 [==============================] - 0s 33ms/step - loss: 104.7049 - mae: 105.1936 - val_loss: 521.7999 - val_mae: 522.2984\n",
      "Epoch 85/100\n",
      "9/9 [==============================] - 0s 34ms/step - loss: 104.6881 - mae: 105.1777 - val_loss: 522.0334 - val_mae: 522.5328\n",
      "Epoch 86/100\n",
      "9/9 [==============================] - 0s 33ms/step - loss: 104.6883 - mae: 105.1780 - val_loss: 522.3330 - val_mae: 522.8310\n",
      "Epoch 87/100\n",
      "9/9 [==============================] - 0s 33ms/step - loss: 104.7035 - mae: 105.1923 - val_loss: 521.8716 - val_mae: 522.3713\n",
      "Epoch 88/100\n",
      "9/9 [==============================] - 0s 32ms/step - loss: 104.6879 - mae: 105.1773 - val_loss: 522.0994 - val_mae: 522.5994\n",
      "Epoch 89/100\n",
      "9/9 [==============================] - 0s 34ms/step - loss: 104.6962 - mae: 105.1859 - val_loss: 522.3438 - val_mae: 522.8419\n",
      "Epoch 90/100\n",
      "9/9 [==============================] - 0s 36ms/step - loss: 104.6953 - mae: 105.1838 - val_loss: 521.7781 - val_mae: 522.2765\n",
      "Epoch 91/100\n",
      "9/9 [==============================] - 0s 33ms/step - loss: 104.7026 - mae: 105.1923 - val_loss: 522.8457 - val_mae: 523.3454\n",
      "Epoch 92/100\n",
      "9/9 [==============================] - 0s 34ms/step - loss: 104.7185 - mae: 105.2069 - val_loss: 521.6815 - val_mae: 522.1813\n",
      "Epoch 93/100\n",
      "9/9 [==============================] - 0s 34ms/step - loss: 104.6918 - mae: 105.1818 - val_loss: 522.7017 - val_mae: 523.2012\n",
      "Epoch 94/100\n",
      "9/9 [==============================] - 0s 33ms/step - loss: 104.7230 - mae: 105.2107 - val_loss: 521.1394 - val_mae: 521.6392\n",
      "Epoch 95/100\n",
      "9/9 [==============================] - 0s 33ms/step - loss: 104.7657 - mae: 105.2549 - val_loss: 523.4514 - val_mae: 523.9504\n",
      "Epoch 96/100\n",
      "9/9 [==============================] - 0s 35ms/step - loss: 104.7031 - mae: 105.1920 - val_loss: 522.0042 - val_mae: 522.5039\n",
      "Epoch 97/100\n",
      "9/9 [==============================] - 0s 33ms/step - loss: 104.7007 - mae: 105.1895 - val_loss: 521.7277 - val_mae: 522.2268\n",
      "Epoch 98/100\n",
      "9/9 [==============================] - 0s 37ms/step - loss: 104.6865 - mae: 105.1760 - val_loss: 522.2775 - val_mae: 522.7757\n",
      "Epoch 99/100\n",
      "9/9 [==============================] - 1s 42ms/step - loss: 104.7047 - mae: 105.1935 - val_loss: 521.9545 - val_mae: 522.4536\n",
      "Epoch 100/100\n",
      "9/9 [==============================] - 0s 35ms/step - loss: 104.6950 - mae: 105.1838 - val_loss: 521.9954 - val_mae: 522.4950\n"
     ]
    }
   ],
   "source": [
    "tf.keras.backend.clear_session()\n",
    "tf.random.set_seed(51)\n",
    "np.random.seed(51)\n",
    "window_size = 64\n",
    "batch_size = 256\n",
    "train_set = windowed_dataset(x_train, window_size, batch_size, shuffle_buffer_size)\n",
    "test_set=windowed_dataset(x_valid, window_size, batch_size, shuffle_buffer_size)\n",
    "print(train_set)\n",
    "print(x_train.shape)\n",
    "\n",
    "model_16 = tf.keras.models.Sequential([\n",
    "  tf.keras.layers.Dense(128,activation=\"relu\"),\n",
    "  tf.keras.layers.Dense(1,activation=\"linear\"),\n",
    "],name='model_16')\n",
    "\n",
    "optimizer = tf.keras.optimizers.Adam()\n",
    "model_16.compile(loss=tf.keras.losses.Huber(),\n",
    "              optimizer=optimizer,\n",
    "              metrics=[\"mae\"])\n",
    "history = model_16.fit(train_set, epochs=100,validation_data=test_set,\n",
    "            callbacks=[create_checkpoint_callback(model_name=model_16.name)])"
   ]
  },
  {
   "cell_type": "code",
   "execution_count": 279,
   "id": "72ba60e1",
   "metadata": {},
   "outputs": [
    {
     "data": {
      "image/png": "[encoded data removed]",
      "text/plain": [
       "<Figure size 720x432 with 1 Axes>"
      ]
     },
     "metadata": {
      "needs_background": "light"
     },
     "output_type": "display_data"
    }
   ],
   "source": [
    "rnn_forecast = model_forecast(model_15, prices[..., np.newaxis], window_size)\n",
    "rnn_forecast = rnn_forecast[split_time - window_size:-1, -1, 0]\n",
    "plt.figure(figsize=(10, 6))\n",
    "plot_series(time_valid, x_valid,format='.')\n",
    "plot_series(time_valid, rnn_forecast,format='.')"
   ]
  },
  {
   "cell_type": "markdown",
   "id": "04bf2d53",
   "metadata": {},
   "source": [
    "# Time series multivariate"
   ]
  },
  {
   "cell_type": "code",
   "execution_count": 281,
   "id": "7f1cf094",
   "metadata": {},
   "outputs": [],
   "source": [
    "block_reward_1 = 50 # 3 January 2009 (2009-01-03) - this block reward isn't in our dataset (it starts from 01 October 2013)\n",
    "block_reward_2 = 25 # 28 November 2012 \n",
    "block_reward_3 = 12.5 # 9 July 2016\n",
    "block_reward_4 = 6.25 # 11 May 2020\n",
    "\n",
    "# Block reward dates (datetime form of the above date stamps)\n",
    "block_reward_2_datetime = np.datetime64(\"2012-11-28\")\n",
    "block_reward_3_datetime = np.datetime64(\"2016-07-09\")\n",
    "block_reward_4_datetime = np.datetime64(\"2020-05-11\")"
   ]
  },
  {
   "cell_type": "code",
   "execution_count": 293,
   "id": "f9335fdf",
   "metadata": {},
   "outputs": [
    {
     "data": {
      "text/plain": [
       "(1012, 2414)"
      ]
     },
     "execution_count": 293,
     "metadata": {},
     "output_type": "execute_result"
    }
   ],
   "source": [
    "block_reward_2_days = (block_reward_3_datetime - bitcoin_prices.index[0]).days\n",
    "block_reward_3_days = (block_reward_4_datetime - bitcoin_prices.index[0]).days\n",
    "block_reward_2_days, block_reward_3_days"
   ]
  },
  {
   "cell_type": "code",
   "execution_count": 321,
   "id": "0616830f",
   "metadata": {},
   "outputs": [
    {
     "data": {
      "text/html": [
       "<div>\n",
       "<style scoped>\n",
       "    .dataframe tbody tr th:only-of-type {\n",
       "        vertical-align: middle;\n",
       "    }\n",
       "\n",
       "    .dataframe tbody tr th {\n",
       "        vertical-align: top;\n",
       "    }\n",
       "\n",
       "    .dataframe thead th {\n",
       "        text-align: right;\n",
       "    }\n",
       "</style>\n",
       "<table border=\"1\" class=\"dataframe\">\n",
       "  <thead>\n",
       "    <tr style=\"text-align: right;\">\n",
       "      <th></th>\n",
       "      <th>Price</th>\n",
       "      <th>block_reward</th>\n",
       "    </tr>\n",
       "    <tr>\n",
       "      <th>Date</th>\n",
       "      <th></th>\n",
       "      <th></th>\n",
       "    </tr>\n",
       "  </thead>\n",
       "  <tbody>\n",
       "    <tr>\n",
       "      <th>2013-10-01</th>\n",
       "      <td>123.65499</td>\n",
       "      <td>25.0</td>\n",
       "    </tr>\n",
       "    <tr>\n",
       "      <th>2013-10-02</th>\n",
       "      <td>125.45500</td>\n",
       "      <td>25.0</td>\n",
       "    </tr>\n",
       "    <tr>\n",
       "      <th>2013-10-03</th>\n",
       "      <td>108.58483</td>\n",
       "      <td>25.0</td>\n",
       "    </tr>\n",
       "    <tr>\n",
       "      <th>2013-10-04</th>\n",
       "      <td>118.67466</td>\n",
       "      <td>25.0</td>\n",
       "    </tr>\n",
       "    <tr>\n",
       "      <th>2013-10-05</th>\n",
       "      <td>121.33866</td>\n",
       "      <td>25.0</td>\n",
       "    </tr>\n",
       "  </tbody>\n",
       "</table>\n",
       "</div>"
      ],
      "text/plain": [
       "                Price block_reward\n",
       "Date                              \n",
       "2013-10-01  123.65499         25.0\n",
       "2013-10-02  125.45500         25.0\n",
       "2013-10-03  108.58483         25.0\n",
       "2013-10-04  118.67466         25.0\n",
       "2013-10-05  121.33866         25.0"
      ]
     },
     "execution_count": 321,
     "metadata": {},
     "output_type": "execute_result"
    }
   ],
   "source": [
    "bitcoin_prices_block = bitcoin_prices.copy()\n",
    "bitcoin_prices_block[\"block_reward\"] = None\n",
    "\n",
    "# Set values of block_reward column (it's the last column hence -1 indexing on iloc)\n",
    "bitcoin_prices_block.iloc[:block_reward_2_days, -1] = float(block_reward_2)\n",
    "bitcoin_prices_block.iloc[block_reward_2_days:block_reward_3_days, -1] = float(block_reward_3)\n",
    "bitcoin_prices_block.iloc[block_reward_3_days:, -1] = float(block_reward_4)\n",
    "bitcoin_prices_block.head()"
   ]
  },
  {
   "cell_type": "code",
   "execution_count": 298,
   "id": "cfc3b7f2",
   "metadata": {},
   "outputs": [
    {
     "data": {
      "image/png": "[encoded data removed]",
      "text/plain": [
       "<Figure size 720x504 with 1 Axes>"
      ]
     },
     "metadata": {
      "needs_background": "light"
     },
     "output_type": "display_data"
    }
   ],
   "source": [
    "from sklearn.preprocessing import minmax_scale\n",
    "scaled_price_block_df = pd.DataFrame(minmax_scale(bitcoin_prices_block[[\"Price\", \"block_reward\"]]), # we need to scale the data first\n",
    "                                     columns=bitcoin_prices_block.columns,\n",
    "                                     index=bitcoin_prices_block.index)\n",
    "scaled_price_block_df.plot(figsize=(10, 7));"
   ]
  },
  {
   "cell_type": "code",
   "execution_count": 322,
   "id": "408317a4",
   "metadata": {
    "scrolled": true
   },
   "outputs": [
    {
     "name": "stdout",
     "output_type": "stream",
     "text": [
      "<class 'pandas.core.frame.DataFrame'>\n",
      "DatetimeIndex: 2787 entries, 2013-10-01 to 2021-05-18\n",
      "Data columns (total 2 columns):\n",
      " #   Column        Non-Null Count  Dtype  \n",
      "---  ------        --------------  -----  \n",
      " 0   Price         2787 non-null   float64\n",
      " 1   block_reward  2787 non-null   object \n",
      "dtypes: float64(1), object(1)\n",
      "memory usage: 129.9+ KB\n"
     ]
    }
   ],
   "source": [
    "bitcoin_prices_block.info()"
   ]
  },
  {
   "cell_type": "code",
   "execution_count": 333,
   "id": "76349582",
   "metadata": {},
   "outputs": [],
   "source": [
    "bitcoin_prices_block['block_reward']=bitcoin_prices_block['block_reward'].astype('float32')"
   ]
  },
  {
   "cell_type": "code",
   "execution_count": 336,
   "id": "c7d88a59",
   "metadata": {},
   "outputs": [],
   "source": [
    "split_time = int(0.8 * len(dates))\n",
    "time_train = dates[:split_time]\n",
    "x_train = bitcoin_prices_block[:split_time].values\n",
    "time_valid = dates[split_time:]\n",
    "x_valid = bitcoin_prices_block[split_time:].values\n",
    "shuffle_buffer_size = 1000"
   ]
  },
  {
   "cell_type": "code",
   "execution_count": 337,
   "id": "7b52573e",
   "metadata": {},
   "outputs": [
    {
     "name": "stdout",
     "output_type": "stream",
     "text": [
      "<PrefetchDataset element_spec=(TensorSpec(shape=(None, None, 2, 1), dtype=tf.float64, name=None), TensorSpec(shape=(None, None, 2, 1), dtype=tf.float64, name=None))>\n",
      "(2229, 2)\n",
      "Epoch 1/100\n",
      "9/9 [==============================] - 1s 73ms/step - loss: 1437.1310 - mae: 1437.6310 - val_loss: 8074.2671 - val_mae: 8074.7671\n",
      "Epoch 2/100\n",
      "9/9 [==============================] - 1s 57ms/step - loss: 1263.8793 - mae: 1264.3793 - val_loss: 7037.3359 - val_mae: 7037.8359\n",
      "Epoch 3/100\n",
      "9/9 [==============================] - 1s 56ms/step - loss: 1086.6741 - mae: 1087.1741 - val_loss: 6007.3779 - val_mae: 6007.8779\n",
      "Epoch 4/100\n",
      "9/9 [==============================] - 1s 58ms/step - loss: 912.8528 - mae: 913.3528 - val_loss: 4948.2935 - val_mae: 4948.7935\n",
      "Epoch 5/100\n",
      "9/9 [==============================] - 1s 62ms/step - loss: 732.2490 - mae: 732.7490 - val_loss: 3861.5449 - val_mae: 3862.0449\n",
      "Epoch 6/100\n",
      "9/9 [==============================] - 1s 61ms/step - loss: 544.9204 - mae: 545.4204 - val_loss: 2719.9814 - val_mae: 2720.4814\n",
      "Epoch 7/100\n",
      "9/9 [==============================] - 1s 57ms/step - loss: 347.3371 - mae: 347.8370 - val_loss: 1524.6344 - val_mae: 1525.0879\n",
      "Epoch 8/100\n",
      "9/9 [==============================] - 1s 55ms/step - loss: 146.0102 - mae: 146.4698 - val_loss: 372.4620 - val_mae: 372.8667\n",
      "Epoch 9/100\n",
      "9/9 [==============================] - 1s 54ms/step - loss: 69.5764 - mae: 70.0331 - val_loss: 433.4118 - val_mae: 433.9106\n",
      "Epoch 10/100\n",
      "9/9 [==============================] - 1s 55ms/step - loss: 70.7755 - mae: 71.2738 - val_loss: 264.7609 - val_mae: 265.2346\n",
      "Epoch 11/100\n",
      "9/9 [==============================] - 1s 55ms/step - loss: 57.5680 - mae: 57.9842 - val_loss: 300.3879 - val_mae: 300.8127\n",
      "Epoch 12/100\n",
      "9/9 [==============================] - 1s 57ms/step - loss: 53.6326 - mae: 54.0480 - val_loss: 261.8488 - val_mae: 262.3102\n",
      "Epoch 13/100\n",
      "9/9 [==============================] - 1s 59ms/step - loss: 54.2393 - mae: 54.7146 - val_loss: 260.6049 - val_mae: 261.0552\n",
      "Epoch 14/100\n",
      "9/9 [==============================] - 1s 53ms/step - loss: 52.9388 - mae: 53.3687 - val_loss: 264.1241 - val_mae: 264.5540\n",
      "Epoch 15/100\n",
      "9/9 [==============================] - 1s 52ms/step - loss: 52.4805 - mae: 52.9139 - val_loss: 260.6199 - val_mae: 261.0547\n",
      "Epoch 16/100\n",
      "9/9 [==============================] - 1s 53ms/step - loss: 52.4245 - mae: 52.8556 - val_loss: 261.6488 - val_mae: 262.0691\n",
      "Epoch 17/100\n",
      "9/9 [==============================] - 1s 54ms/step - loss: 52.4266 - mae: 52.8404 - val_loss: 261.1319 - val_mae: 261.5460\n",
      "Epoch 18/100\n",
      "9/9 [==============================] - 1s 53ms/step - loss: 52.4055 - mae: 52.8197 - val_loss: 260.9677 - val_mae: 261.3741\n",
      "Epoch 19/100\n",
      "9/9 [==============================] - 1s 52ms/step - loss: 52.3921 - mae: 52.7951 - val_loss: 261.2856 - val_mae: 261.6814\n",
      "Epoch 20/100\n",
      "9/9 [==============================] - 1s 51ms/step - loss: 52.3831 - mae: 52.7779 - val_loss: 261.0583 - val_mae: 261.4473\n",
      "Epoch 21/100\n",
      "9/9 [==============================] - 1s 46ms/step - loss: 52.3784 - mae: 52.7666 - val_loss: 261.1350 - val_mae: 261.5150\n",
      "Epoch 22/100\n",
      "9/9 [==============================] - 1s 49ms/step - loss: 52.3747 - mae: 52.7525 - val_loss: 261.1950 - val_mae: 261.5660\n",
      "Epoch 23/100\n",
      "9/9 [==============================] - 1s 51ms/step - loss: 52.3695 - mae: 52.7407 - val_loss: 261.0528 - val_mae: 261.4169\n",
      "Epoch 24/100\n",
      "9/9 [==============================] - 1s 54ms/step - loss: 52.3674 - mae: 52.7312 - val_loss: 261.1315 - val_mae: 261.4870\n",
      "Epoch 25/100\n",
      "9/9 [==============================] - 1s 49ms/step - loss: 52.3648 - mae: 52.7192 - val_loss: 261.0995 - val_mae: 261.4476\n",
      "Epoch 26/100\n",
      "9/9 [==============================] - 1s 49ms/step - loss: 52.3614 - mae: 52.7096 - val_loss: 261.1045 - val_mae: 261.4448\n",
      "Epoch 27/100\n",
      "9/9 [==============================] - 1s 52ms/step - loss: 52.3594 - mae: 52.6993 - val_loss: 261.0874 - val_mae: 261.4208\n",
      "Epoch 28/100\n",
      "9/9 [==============================] - 1s 55ms/step - loss: 52.3571 - mae: 52.6922 - val_loss: 261.0491 - val_mae: 261.3755\n",
      "Epoch 29/100\n",
      "9/9 [==============================] - 1s 53ms/step - loss: 52.3580 - mae: 52.6830 - val_loss: 261.0970 - val_mae: 261.4160\n",
      "Epoch 30/100\n",
      "9/9 [==============================] - 1s 53ms/step - loss: 52.3522 - mae: 52.6730 - val_loss: 261.0358 - val_mae: 261.3488\n",
      "Epoch 31/100\n",
      "9/9 [==============================] - 1s 55ms/step - loss: 52.3536 - mae: 52.6680 - val_loss: 261.0694 - val_mae: 261.3763\n",
      "Epoch 32/100\n",
      "9/9 [==============================] - 1s 54ms/step - loss: 52.3522 - mae: 52.6592 - val_loss: 261.0456 - val_mae: 261.3466\n",
      "Epoch 33/100\n",
      "9/9 [==============================] - 1s 54ms/step - loss: 52.3499 - mae: 52.6533 - val_loss: 261.0440 - val_mae: 261.3395\n",
      "Epoch 34/100\n",
      "9/9 [==============================] - 1s 55ms/step - loss: 52.3519 - mae: 52.6468 - val_loss: 261.0305 - val_mae: 261.3208\n",
      "Epoch 35/100\n",
      "9/9 [==============================] - 1s 52ms/step - loss: 52.3515 - mae: 52.6473 - val_loss: 260.9714 - val_mae: 261.2571\n",
      "Epoch 36/100\n",
      "9/9 [==============================] - 1s 53ms/step - loss: 52.3514 - mae: 52.6367 - val_loss: 261.0648 - val_mae: 261.3454\n",
      "Epoch 37/100\n",
      "9/9 [==============================] - 1s 57ms/step - loss: 52.3503 - mae: 52.6352 - val_loss: 261.0711 - val_mae: 261.3472\n",
      "Epoch 38/100\n",
      "9/9 [==============================] - 1s 52ms/step - loss: 52.3467 - mae: 52.6251 - val_loss: 261.0119 - val_mae: 261.2841\n",
      "Epoch 39/100\n",
      "9/9 [==============================] - 1s 53ms/step - loss: 52.3510 - mae: 52.6281 - val_loss: 261.0656 - val_mae: 261.3337\n",
      "Epoch 40/100\n",
      "9/9 [==============================] - 1s 55ms/step - loss: 52.3460 - mae: 52.6164 - val_loss: 260.9767 - val_mae: 261.2415\n",
      "Epoch 41/100\n",
      "9/9 [==============================] - 1s 55ms/step - loss: 52.3460 - mae: 52.6162 - val_loss: 261.0708 - val_mae: 261.3317\n",
      "Epoch 42/100\n",
      "9/9 [==============================] - 1s 54ms/step - loss: 52.3470 - mae: 52.6095 - val_loss: 261.0085 - val_mae: 261.2668\n",
      "Epoch 43/100\n",
      "9/9 [==============================] - 1s 51ms/step - loss: 52.3479 - mae: 52.6129 - val_loss: 261.0134 - val_mae: 261.2688\n",
      "Epoch 44/100\n",
      "9/9 [==============================] - 1s 54ms/step - loss: 52.3473 - mae: 52.6049 - val_loss: 261.0413 - val_mae: 261.2939\n",
      "Epoch 45/100\n",
      "9/9 [==============================] - 1s 53ms/step - loss: 52.3466 - mae: 52.6053 - val_loss: 261.0219 - val_mae: 261.2750\n",
      "Epoch 46/100\n",
      "9/9 [==============================] - 1s 53ms/step - loss: 52.3484 - mae: 52.6008 - val_loss: 261.0146 - val_mae: 261.2687\n",
      "Epoch 47/100\n",
      "9/9 [==============================] - 1s 54ms/step - loss: 52.3463 - mae: 52.5999 - val_loss: 261.1319 - val_mae: 261.3865\n",
      "Epoch 48/100\n",
      "9/9 [==============================] - 1s 54ms/step - loss: 52.3485 - mae: 52.5986 - val_loss: 260.9500 - val_mae: 261.2053\n",
      "Epoch 49/100\n",
      "9/9 [==============================] - 1s 53ms/step - loss: 52.3443 - mae: 52.5958 - val_loss: 261.1017 - val_mae: 261.3591\n",
      "Epoch 50/100\n",
      "9/9 [==============================] - 1s 53ms/step - loss: 52.3496 - mae: 52.6003 - val_loss: 261.0464 - val_mae: 261.3051\n",
      "Epoch 51/100\n",
      "9/9 [==============================] - 1s 56ms/step - loss: 52.3460 - mae: 52.5972 - val_loss: 261.0322 - val_mae: 261.2916\n",
      "Epoch 52/100\n",
      "9/9 [==============================] - 1s 49ms/step - loss: 52.3450 - mae: 52.5960 - val_loss: 260.9752 - val_mae: 261.2350\n",
      "Epoch 53/100\n",
      "9/9 [==============================] - 1s 55ms/step - loss: 52.3446 - mae: 52.5969 - val_loss: 261.0057 - val_mae: 261.2673\n",
      "Epoch 54/100\n",
      "9/9 [==============================] - 1s 56ms/step - loss: 52.3455 - mae: 52.5973 - val_loss: 261.1215 - val_mae: 261.3846\n",
      "Epoch 55/100\n",
      "9/9 [==============================] - 1s 55ms/step - loss: 52.3463 - mae: 52.5971 - val_loss: 260.9404 - val_mae: 261.2033\n",
      "Epoch 56/100\n",
      "9/9 [==============================] - 1s 53ms/step - loss: 52.3548 - mae: 52.6077 - val_loss: 261.2035 - val_mae: 261.4691\n",
      "Epoch 57/100\n",
      "9/9 [==============================] - 1s 53ms/step - loss: 52.3799 - mae: 52.6359 - val_loss: 260.6990 - val_mae: 260.9600\n",
      "Epoch 58/100\n",
      "9/9 [==============================] - 1s 56ms/step - loss: 52.3749 - mae: 52.6304 - val_loss: 261.9623 - val_mae: 262.2338\n",
      "Epoch 59/100\n"
     ]
    },
    {
     "name": "stdout",
     "output_type": "stream",
     "text": [
      "9/9 [==============================] - 1s 54ms/step - loss: 52.3937 - mae: 52.6527 - val_loss: 260.6330 - val_mae: 260.8936\n",
      "Epoch 60/100\n",
      "9/9 [==============================] - 1s 54ms/step - loss: 52.3555 - mae: 52.6110 - val_loss: 261.6377 - val_mae: 261.9080\n",
      "Epoch 61/100\n",
      "9/9 [==============================] - 1s 54ms/step - loss: 52.3611 - mae: 52.6188 - val_loss: 260.6670 - val_mae: 260.9294\n",
      "Epoch 62/100\n",
      "9/9 [==============================] - 1s 55ms/step - loss: 52.3623 - mae: 52.6182 - val_loss: 261.7531 - val_mae: 262.0251\n",
      "Epoch 63/100\n",
      "9/9 [==============================] - 1s 58ms/step - loss: 52.3946 - mae: 52.6537 - val_loss: 260.6533 - val_mae: 260.9162\n",
      "Epoch 64/100\n",
      "9/9 [==============================] - 1s 55ms/step - loss: 52.3487 - mae: 52.6043 - val_loss: 261.4446 - val_mae: 261.7154\n",
      "Epoch 65/100\n",
      "9/9 [==============================] - 1s 54ms/step - loss: 52.3684 - mae: 52.6245 - val_loss: 260.7948 - val_mae: 261.0606\n",
      "Epoch 66/100\n",
      "9/9 [==============================] - 1s 55ms/step - loss: 52.3453 - mae: 52.5989 - val_loss: 261.2569 - val_mae: 261.5262\n",
      "Epoch 67/100\n",
      "9/9 [==============================] - 1s 58ms/step - loss: 52.3478 - mae: 52.6015 - val_loss: 260.9911 - val_mae: 261.2593\n",
      "Epoch 68/100\n",
      "9/9 [==============================] - 1s 54ms/step - loss: 52.3463 - mae: 52.5989 - val_loss: 261.1549 - val_mae: 261.4238\n",
      "Epoch 69/100\n",
      "9/9 [==============================] - 1s 53ms/step - loss: 52.3513 - mae: 52.6066 - val_loss: 260.8092 - val_mae: 261.0758\n",
      "Epoch 70/100\n",
      "9/9 [==============================] - 1s 50ms/step - loss: 52.3456 - mae: 52.5996 - val_loss: 261.1981 - val_mae: 261.4681\n",
      "Epoch 71/100\n",
      "9/9 [==============================] - 1s 58ms/step - loss: 52.3623 - mae: 52.6196 - val_loss: 260.7657 - val_mae: 261.0319\n",
      "Epoch 72/100\n",
      "9/9 [==============================] - 1s 53ms/step - loss: 52.3489 - mae: 52.6035 - val_loss: 261.3984 - val_mae: 261.6703\n",
      "Epoch 73/100\n",
      "9/9 [==============================] - 1s 53ms/step - loss: 52.3720 - mae: 52.6301 - val_loss: 260.7532 - val_mae: 261.0197\n",
      "Epoch 74/100\n",
      "9/9 [==============================] - 1s 54ms/step - loss: 52.3483 - mae: 52.6031 - val_loss: 261.2855 - val_mae: 261.5567\n",
      "Epoch 75/100\n",
      "9/9 [==============================] - 1s 55ms/step - loss: 52.3512 - mae: 52.6065 - val_loss: 260.8943 - val_mae: 261.1622\n",
      "Epoch 76/100\n",
      "9/9 [==============================] - 1s 54ms/step - loss: 52.3479 - mae: 52.6017 - val_loss: 261.0874 - val_mae: 261.3572\n",
      "Epoch 77/100\n",
      "9/9 [==============================] - 1s 57ms/step - loss: 52.3470 - mae: 52.6003 - val_loss: 261.0864 - val_mae: 261.3562\n",
      "Epoch 78/100\n",
      "9/9 [==============================] - 1s 56ms/step - loss: 52.3475 - mae: 52.6024 - val_loss: 260.9064 - val_mae: 261.1743\n",
      "Epoch 79/100\n",
      "9/9 [==============================] - 1s 57ms/step - loss: 52.3486 - mae: 52.6018 - val_loss: 261.3142 - val_mae: 261.5858\n",
      "Epoch 80/100\n",
      "9/9 [==============================] - 1s 54ms/step - loss: 52.3686 - mae: 52.6278 - val_loss: 260.6728 - val_mae: 260.9379\n",
      "Epoch 81/100\n",
      "9/9 [==============================] - 1s 52ms/step - loss: 52.3527 - mae: 52.6085 - val_loss: 261.6555 - val_mae: 261.9289\n",
      "Epoch 82/100\n",
      "9/9 [==============================] - 1s 50ms/step - loss: 52.3820 - mae: 52.6417 - val_loss: 260.7023 - val_mae: 260.9677\n",
      "Epoch 83/100\n",
      "9/9 [==============================] - 1s 53ms/step - loss: 52.3454 - mae: 52.6006 - val_loss: 261.3259 - val_mae: 261.5981\n",
      "Epoch 84/100\n",
      "9/9 [==============================] - 1s 53ms/step - loss: 52.3538 - mae: 52.6095 - val_loss: 260.8880 - val_mae: 261.1562\n",
      "Epoch 85/100\n",
      "9/9 [==============================] - 1s 54ms/step - loss: 52.3452 - mae: 52.5997 - val_loss: 261.0281 - val_mae: 261.2977\n",
      "Epoch 86/100\n",
      "9/9 [==============================] - 1s 52ms/step - loss: 52.3458 - mae: 52.5989 - val_loss: 261.1147 - val_mae: 261.3848\n",
      "Epoch 87/100\n",
      "9/9 [==============================] - 1s 50ms/step - loss: 52.3519 - mae: 52.6069 - val_loss: 260.9515 - val_mae: 261.2206\n",
      "Epoch 88/100\n",
      "9/9 [==============================] - 1s 54ms/step - loss: 52.3459 - mae: 52.5995 - val_loss: 261.0400 - val_mae: 261.3098\n",
      "Epoch 89/100\n",
      "9/9 [==============================] - 1s 51ms/step - loss: 52.3502 - mae: 52.6036 - val_loss: 261.1477 - val_mae: 261.4176\n",
      "Epoch 90/100\n",
      "9/9 [==============================] - 1s 50ms/step - loss: 52.3496 - mae: 52.6051 - val_loss: 260.8828 - val_mae: 261.1505\n",
      "Epoch 91/100\n",
      "9/9 [==============================] - 1s 51ms/step - loss: 52.3536 - mae: 52.6074 - val_loss: 261.4200 - val_mae: 261.6922\n",
      "Epoch 92/100\n",
      "9/9 [==============================] - 1s 55ms/step - loss: 52.3624 - mae: 52.6184 - val_loss: 260.8305 - val_mae: 261.0981\n",
      "Epoch 93/100\n",
      "9/9 [==============================] - 1s 50ms/step - loss: 52.3479 - mae: 52.6014 - val_loss: 261.3421 - val_mae: 261.6140\n",
      "Epoch 94/100\n",
      "9/9 [==============================] - 1s 59ms/step - loss: 52.3641 - mae: 52.6237 - val_loss: 260.5733 - val_mae: 260.8359\n",
      "Epoch 95/100\n",
      "9/9 [==============================] - 1s 49ms/step - loss: 52.3849 - mae: 52.6440 - val_loss: 261.7370 - val_mae: 262.0113\n",
      "Epoch 96/100\n",
      "9/9 [==============================] - 1s 50ms/step - loss: 52.3546 - mae: 52.6103 - val_loss: 260.9923 - val_mae: 261.2623\n",
      "Epoch 97/100\n",
      "9/9 [==============================] - 1s 50ms/step - loss: 52.3522 - mae: 52.6077 - val_loss: 260.8711 - val_mae: 261.1398\n",
      "Epoch 98/100\n",
      "9/9 [==============================] - 1s 53ms/step - loss: 52.3457 - mae: 52.5998 - val_loss: 261.1457 - val_mae: 261.4162\n",
      "Epoch 99/100\n",
      "9/9 [==============================] - 1s 52ms/step - loss: 52.3555 - mae: 52.6108 - val_loss: 260.9619 - val_mae: 261.2312\n",
      "Epoch 100/100\n",
      "9/9 [==============================] - 1s 55ms/step - loss: 52.3493 - mae: 52.6039 - val_loss: 261.0197 - val_mae: 261.2894\n"
     ]
    }
   ],
   "source": [
    "tf.keras.backend.clear_session()\n",
    "tf.random.set_seed(51)\n",
    "np.random.seed(51)\n",
    "window_size = 64\n",
    "batch_size = 256\n",
    "train_set = windowed_dataset(x_train, window_size, batch_size, shuffle_buffer_size)\n",
    "test_set=windowed_dataset(x_valid, window_size, batch_size, shuffle_buffer_size)\n",
    "print(train_set)\n",
    "print(x_train.shape)\n",
    "\n",
    "model_16 = tf.keras.models.Sequential([\n",
    "  tf.keras.layers.Dense(128,activation=\"relu\"),\n",
    "  tf.keras.layers.Dense(1,activation=\"linear\"),\n",
    "],name='model_16')\n",
    "\n",
    "optimizer = tf.keras.optimizers.Adam()\n",
    "model_16.compile(loss=tf.keras.losses.Huber(),\n",
    "              optimizer=optimizer,\n",
    "              metrics=[\"mae\"])\n",
    "history = model_16.fit(train_set, epochs=100,validation_data=test_set,\n",
    "            callbacks=[create_checkpoint_callback(model_name=model_16.name)])"
   ]
  },
  {
   "cell_type": "code",
   "execution_count": 348,
   "id": "aa7315cf",
   "metadata": {},
   "outputs": [],
   "source": [
    "class LearningRateReducerCb(tf.keras.callbacks.Callback):\n",
    "\n",
    "  def on_epoch_end(self, epoch, logs={}):\n",
    "    old_lr = self.model.optimizer.lr.read_value()\n",
    "    new_lr = old_lr * 0.99\n",
    "    print(\"\\nEpoch: {}. Reducing Learning Rate from {} to {}\".format(epoch, old_lr, new_lr))\n",
    "    self.model.optimizer.lr.assign(new_lr)"
   ]
  },
  {
   "cell_type": "code",
   "execution_count": 349,
   "id": "54337d57",
   "metadata": {},
   "outputs": [
    {
     "name": "stdout",
     "output_type": "stream",
     "text": [
      "<PrefetchDataset element_spec=(TensorSpec(shape=(None, None, 2, 1), dtype=tf.float64, name=None), TensorSpec(shape=(None, None, 2, 1), dtype=tf.float64, name=None))>\n",
      "(2229, 2)\n",
      "Epoch 1/100\n",
      "      8/Unknown - 2s 37ms/step - loss: 1397.7426 - mae: 1398.2426\n",
      "Epoch: 0. Reducing Learning Rate from 0.0010000000474974513 to 0.0009900000877678394\n",
      "9/9 [==============================] - 2s 69ms/step - loss: 1444.0438 - mae: 1444.5438 - val_loss: 8069.7222 - val_mae: 8070.2124\n",
      "Epoch 2/100\n",
      "7/9 [======================>.......] - ETA: 0s - loss: 1244.1536 - mae: 1244.6530\n",
      "Epoch: 1. Reducing Learning Rate from 0.0009900000877678394 to 0.000980100128799677\n",
      "9/9 [==============================] - 1s 54ms/step - loss: 1318.2025 - mae: 1318.7019 - val_loss: 7599.1523 - val_mae: 7599.6523\n",
      "Epoch 3/100\n",
      "7/9 [======================>.......] - ETA: 0s - loss: 1109.3829 - mae: 1109.8800\n",
      "Epoch: 2. Reducing Learning Rate from 0.000980100128799677 to 0.0009702991228550673\n",
      "9/9 [==============================] - 1s 51ms/step - loss: 1198.5016 - mae: 1198.9988 - val_loss: 6843.7227 - val_mae: 6844.2227\n",
      "Epoch 4/100\n",
      "7/9 [======================>.......] - ETA: 0s - loss: 1029.7855 - mae: 1030.2855\n",
      "Epoch: 3. Reducing Learning Rate from 0.0009702991228550673 to 0.0009605961386114359\n",
      "9/9 [==============================] - 1s 54ms/step - loss: 1097.9714 - mae: 1098.4714 - val_loss: 6229.6758 - val_mae: 6230.1753\n",
      "Epoch 5/100\n",
      "7/9 [======================>.......] - ETA: 0s - loss: 916.7518 - mae: 917.2497\n",
      "Epoch: 4. Reducing Learning Rate from 0.0009605961386114359 to 0.0009509901865385473\n",
      "9/9 [==============================] - 1s 56ms/step - loss: 995.8345 - mae: 996.3326 - val_loss: 5657.2183 - val_mae: 5657.7183\n",
      "Epoch 6/100\n",
      "7/9 [======================>.......] - ETA: 0s - loss: 819.2486 - mae: 819.7460\n",
      "Epoch: 5. Reducing Learning Rate from 0.0009509901865385473 to 0.0009414802771061659\n",
      "9/9 [==============================] - 1s 53ms/step - loss: 876.9875 - mae: 877.4854 - val_loss: 4931.0200 - val_mae: 4931.5200\n",
      "Epoch 7/100\n",
      "7/9 [======================>.......] - ETA: 0s - loss: 708.1874 - mae: 708.6864\n",
      "Epoch: 6. Reducing Learning Rate from 0.0009414802771061659 to 0.0009320654789917171\n",
      "9/9 [==============================] - 1s 56ms/step - loss: 762.8159 - mae: 763.3135 - val_loss: 4236.6426 - val_mae: 4237.1426\n",
      "Epoch 8/100\n",
      "7/9 [======================>.......] - ETA: 0s - loss: 591.9062 - mae: 592.4061\n",
      "Epoch: 7. Reducing Learning Rate from 0.0009320654789917171 to 0.0009227448608726263\n",
      "9/9 [==============================] - 1s 57ms/step - loss: 648.1511 - mae: 648.6510 - val_loss: 3569.6721 - val_mae: 3570.1721\n",
      "Epoch 9/100\n",
      "7/9 [======================>.......] - ETA: 0s - loss: 492.8646 - mae: 493.3624\n",
      "Epoch: 8. Reducing Learning Rate from 0.0009227448608726263 to 0.000913517433218658\n",
      "9/9 [==============================] - 1s 52ms/step - loss: 527.6990 - mae: 528.1971 - val_loss: 2821.5220 - val_mae: 2822.0220\n",
      "Epoch 10/100\n",
      "9/9 [==============================] - ETA: 0s - loss: 404.9679 - mae: 405.4647\n",
      "Epoch: 9. Reducing Learning Rate from 0.000913517433218658 to 0.0009043822647072375\n",
      "9/9 [==============================] - 1s 53ms/step - loss: 404.9679 - mae: 405.4647 - val_loss: 2062.9224 - val_mae: 2063.4224\n",
      "Epoch 11/100\n",
      "8/9 [=========================>....] - ETA: 0s - loss: 275.3280 - mae: 275.8266\n",
      "Epoch: 10. Reducing Learning Rate from 0.0009043822647072375 to 0.0008953384240157902\n",
      "9/9 [==============================] - 1s 54ms/step - loss: 276.7734 - mae: 277.2720 - val_loss: 1305.6976 - val_mae: 1306.1976\n",
      "Epoch 12/100\n",
      "9/9 [==============================] - ETA: 0s - loss: 149.4824 - mae: 149.9772\n",
      "Epoch: 11. Reducing Learning Rate from 0.0008953384240157902 to 0.0008863850380294025\n",
      "9/9 [==============================] - 1s 62ms/step - loss: 149.4824 - mae: 149.9772 - val_loss: 534.6618 - val_mae: 535.1618\n",
      "Epoch 13/100\n",
      "7/9 [======================>.......] - ETA: 0s - loss: 60.9667 - mae: 61.4624\n",
      "Epoch: 12. Reducing Learning Rate from 0.0008863850380294025 to 0.0008775211754254997\n",
      "9/9 [==============================] - 1s 56ms/step - loss: 64.2459 - mae: 64.7408 - val_loss: 337.2023 - val_mae: 337.7023\n",
      "Epoch 14/100\n",
      "8/9 [=========================>....] - ETA: 0s - loss: 70.4658 - mae: 70.9591\n",
      "Epoch: 13. Reducing Learning Rate from 0.0008775211754254997 to 0.0008687459630891681\n",
      "9/9 [==============================] - 1s 50ms/step - loss: 71.6232 - mae: 72.1168 - val_loss: 347.2549 - val_mae: 347.7549\n",
      "Epoch 15/100\n",
      "8/9 [=========================>....] - ETA: 0s - loss: 57.9380 - mae: 58.4315\n",
      "Epoch: 14. Reducing Learning Rate from 0.0008687459630891681 to 0.000860058527905494\n",
      "9/9 [==============================] - 1s 52ms/step - loss: 58.0124 - mae: 58.5060 - val_loss: 265.1454 - val_mae: 265.6451\n",
      "Epoch 16/100\n",
      "9/9 [==============================] - ETA: 0s - loss: 55.9400 - mae: 56.4275\n",
      "Epoch: 15. Reducing Learning Rate from 0.000860058527905494 to 0.0008514579385519028\n",
      "9/9 [==============================] - 1s 47ms/step - loss: 55.9400 - mae: 56.4275 - val_loss: 277.4084 - val_mae: 277.8703\n",
      "Epoch 17/100\n",
      "7/9 [======================>.......] - ETA: 0s - loss: 49.4552 - mae: 49.9415\n",
      "Epoch: 16. Reducing Learning Rate from 0.0008514579385519028 to 0.0008429433801211417\n",
      "9/9 [==============================] - 1s 46ms/step - loss: 54.4735 - mae: 54.9615 - val_loss: 265.2083 - val_mae: 265.7076\n",
      "Epoch 18/100\n",
      "7/9 [======================>.......] - ETA: 0s - loss: 51.4990 - mae: 51.9838\n",
      "Epoch: 17. Reducing Learning Rate from 0.0008429433801211417 to 0.000834513979498297\n",
      "9/9 [==============================] - 1s 49ms/step - loss: 55.7009 - mae: 56.1877 - val_loss: 263.8194 - val_mae: 264.2993\n",
      "Epoch 19/100\n",
      "7/9 [======================>.......] - ETA: 0s - loss: 52.3579 - mae: 52.8403\n",
      "Epoch: 18. Reducing Learning Rate from 0.000834513979498297 to 0.000826168863568455\n",
      "9/9 [==============================] - 1s 50ms/step - loss: 55.6929 - mae: 56.1776 - val_loss: 286.2596 - val_mae: 286.7588\n",
      "Epoch 20/100\n",
      "8/9 [=========================>....] - ETA: 0s - loss: 54.5075 - mae: 54.9988\n",
      "Epoch: 19. Reducing Learning Rate from 0.000826168863568455 to 0.000817907159216702\n",
      "9/9 [==============================] - 1s 52ms/step - loss: 55.8411 - mae: 56.3319 - val_loss: 267.5047 - val_mae: 268.0046\n",
      "Epoch 21/100\n",
      "8/9 [=========================>....] - ETA: 0s - loss: 54.3273 - mae: 54.8188\n",
      "Epoch: 20. Reducing Learning Rate from 0.000817907159216702 to 0.0008097281097434461\n",
      "9/9 [==============================] - 1s 52ms/step - loss: 55.4256 - mae: 55.9171 - val_loss: 280.4391 - val_mae: 280.9390\n",
      "Epoch 22/100\n",
      "8/9 [=========================>....] - ETA: 0s - loss: 52.0056 - mae: 52.4806\n",
      "Epoch: 21. Reducing Learning Rate from 0.0008097281097434461 to 0.0008016308420337737\n",
      "9/9 [==============================] - 1s 52ms/step - loss: 53.0983 - mae: 53.5743 - val_loss: 272.9055 - val_mae: 273.4054\n",
      "Epoch 23/100\n",
      "8/9 [=========================>....] - ETA: 0s - loss: 55.3990 - mae: 55.8654\n",
      "Epoch: 22. Reducing Learning Rate from 0.0008016308420337737 to 0.0007936145411804318\n",
      "9/9 [==============================] - 1s 58ms/step - loss: 55.4217 - mae: 55.8898 - val_loss: 262.4476 - val_mae: 262.9475\n",
      "Epoch 24/100\n",
      "7/9 [======================>.......] - ETA: 0s - loss: 50.5333 - mae: 51.0081\n",
      "Epoch: 23. Reducing Learning Rate from 0.0007936145411804318 to 0.0007856783922761679\n",
      "9/9 [==============================] - 1s 51ms/step - loss: 53.6656 - mae: 54.1401 - val_loss: 278.7695 - val_mae: 279.2693\n",
      "Epoch 25/100\n",
      "7/9 [======================>.......] - ETA: 0s - loss: 50.3486 - mae: 50.7960\n",
      "Epoch: 24. Reducing Learning Rate from 0.0007856783922761679 to 0.0007778216386213899\n",
      "9/9 [==============================] - 1s 54ms/step - loss: 54.0179 - mae: 54.4725 - val_loss: 271.2807 - val_mae: 271.7799\n",
      "Epoch 26/100\n",
      "8/9 [=========================>....] - ETA: 0s - loss: 52.0768 - mae: 52.5389\n",
      "Epoch: 25. Reducing Learning Rate from 0.0007778216386213899 to 0.0007700434071011841\n",
      "9/9 [==============================] - 1s 52ms/step - loss: 53.6634 - mae: 54.1257 - val_loss: 277.1288 - val_mae: 277.6284\n",
      "Epoch 27/100\n",
      "7/9 [======================>.......] - ETA: 0s - loss: 50.2793 - mae: 50.7196\n",
      "Epoch: 26. Reducing Learning Rate from 0.0007700434071011841 to 0.0007623429992236197\n",
      "9/9 [==============================] - 1s 49ms/step - loss: 53.9476 - mae: 54.3952 - val_loss: 272.8251 - val_mae: 273.3243\n"
     ]
    },
    {
     "name": "stdout",
     "output_type": "stream",
     "text": [
      "Epoch 28/100\n",
      "7/9 [======================>.......] - ETA: 0s - loss: 50.6971 - mae: 51.1402\n",
      "Epoch: 27. Reducing Learning Rate from 0.0007623429992236197 to 0.0007547196000814438\n",
      "9/9 [==============================] - 1s 52ms/step - loss: 54.0719 - mae: 54.5229 - val_loss: 279.4163 - val_mae: 279.9163\n",
      "Epoch 29/100\n",
      "7/9 [======================>.......] - ETA: 0s - loss: 55.5981 - mae: 56.0604\n",
      "Epoch: 28. Reducing Learning Rate from 0.0007547196000814438 to 0.0007471723947674036\n",
      "9/9 [==============================] - 1s 53ms/step - loss: 58.2696 - mae: 58.7339 - val_loss: 296.0476 - val_mae: 296.5473\n",
      "Epoch 30/100\n",
      "7/9 [======================>.......] - ETA: 0s - loss: 56.0578 - mae: 56.5517\n",
      "Epoch: 29. Reducing Learning Rate from 0.0007471723947674036 to 0.0007397006847895682\n",
      "9/9 [==============================] - 1s 50ms/step - loss: 59.9004 - mae: 60.3917 - val_loss: 291.0426 - val_mae: 291.5423\n",
      "Epoch 31/100\n",
      "8/9 [=========================>....] - ETA: 0s - loss: 58.6676 - mae: 59.1462\n",
      "Epoch: 30. Reducing Learning Rate from 0.0007397006847895682 to 0.0007323037134483457\n",
      "9/9 [==============================] - 1s 59ms/step - loss: 59.5441 - mae: 60.0236 - val_loss: 285.9448 - val_mae: 286.4443\n",
      "Epoch 32/100\n",
      "7/9 [======================>.......] - ETA: 0s - loss: 55.3959 - mae: 55.8892\n",
      "Epoch: 31. Reducing Learning Rate from 0.0007323037134483457 to 0.0007249806658364832\n",
      "9/9 [==============================] - 1s 54ms/step - loss: 58.3050 - mae: 58.7960 - val_loss: 301.0429 - val_mae: 301.5427\n",
      "Epoch 33/100\n",
      "7/9 [======================>.......] - ETA: 0s - loss: 56.9788 - mae: 57.4708\n",
      "Epoch: 32. Reducing Learning Rate from 0.0007249806658364832 to 0.00071773084346205\n",
      "9/9 [==============================] - 1s 54ms/step - loss: 61.0381 - mae: 61.5266 - val_loss: 287.9143 - val_mae: 288.4138\n",
      "Epoch 34/100\n",
      "9/9 [==============================] - ETA: 0s - loss: 67.2708 - mae: 67.7647\n",
      "Epoch: 33. Reducing Learning Rate from 0.00071773084346205 to 0.0007105535478331149\n",
      "9/9 [==============================] - 1s 51ms/step - loss: 67.2708 - mae: 67.7647 - val_loss: 297.5080 - val_mae: 298.0077\n",
      "Epoch 35/100\n",
      "8/9 [=========================>....] - ETA: 0s - loss: 55.0654 - mae: 55.5322\n",
      "Epoch: 34. Reducing Learning Rate from 0.0007105535478331149 to 0.0007034480222500861\n",
      "9/9 [==============================] - 1s 54ms/step - loss: 55.9483 - mae: 56.4160 - val_loss: 274.3120 - val_mae: 274.8117\n",
      "Epoch 36/100\n",
      "8/9 [=========================>....] - ETA: 0s - loss: 54.6710 - mae: 55.1509\n",
      "Epoch: 35. Reducing Learning Rate from 0.0007034480222500861 to 0.0006964135682210326\n",
      "9/9 [==============================] - 1s 54ms/step - loss: 55.4206 - mae: 55.8984 - val_loss: 271.7354 - val_mae: 272.2352\n",
      "Epoch 37/100\n",
      "7/9 [======================>.......] - ETA: 0s - loss: 48.5632 - mae: 48.9829\n",
      "Epoch: 36. Reducing Learning Rate from 0.0006964135682210326 to 0.0006894494290463626\n",
      "9/9 [==============================] - 1s 58ms/step - loss: 52.8108 - mae: 53.2376 - val_loss: 262.9995 - val_mae: 263.4907\n",
      "Epoch 38/100\n",
      "7/9 [======================>.......] - ETA: 0s - loss: 49.3839 - mae: 49.8185\n",
      "Epoch: 37. Reducing Learning Rate from 0.0006894494290463626 to 0.0006825549644418061\n",
      "9/9 [==============================] - 1s 47ms/step - loss: 52.9423 - mae: 53.3760 - val_loss: 266.7696 - val_mae: 267.2687\n",
      "Epoch 39/100\n",
      "9/9 [==============================] - ETA: 0s - loss: 54.6422 - mae: 55.1184\n",
      "Epoch: 38. Reducing Learning Rate from 0.0006825549644418061 to 0.0006757294177077711\n",
      "9/9 [==============================] - 1s 50ms/step - loss: 54.6422 - mae: 55.1184 - val_loss: 269.7715 - val_mae: 270.2711\n",
      "Epoch 40/100\n",
      "7/9 [======================>.......] - ETA: 0s - loss: 47.7760 - mae: 48.1791\n",
      "Epoch: 39. Reducing Learning Rate from 0.0006757294177077711 to 0.0006689721485599875\n",
      "9/9 [==============================] - 1s 55ms/step - loss: 52.8709 - mae: 53.2776 - val_loss: 263.3285 - val_mae: 263.8231\n",
      "Epoch 41/100\n",
      "8/9 [=========================>....] - ETA: 0s - loss: 51.1775 - mae: 51.5621\n",
      "Epoch: 40. Reducing Learning Rate from 0.0006689721485599875 to 0.0006622824585065246\n",
      "9/9 [==============================] - 1s 53ms/step - loss: 52.7837 - mae: 53.1718 - val_loss: 262.5618 - val_mae: 263.0103\n",
      "Epoch 42/100\n",
      "7/9 [======================>.......] - ETA: 0s - loss: 49.5746 - mae: 49.9365\n",
      "Epoch: 41. Reducing Learning Rate from 0.0006622824585065246 to 0.0006556596490554512\n",
      "9/9 [==============================] - 1s 48ms/step - loss: 52.6844 - mae: 53.0551 - val_loss: 267.0262 - val_mae: 267.5252\n",
      "Epoch 43/100\n",
      "7/9 [======================>.......] - ETA: 0s - loss: 50.6088 - mae: 51.0387\n",
      "Epoch: 42. Reducing Learning Rate from 0.0006556596490554512 to 0.0006491030799224973\n",
      "9/9 [==============================] - 1s 45ms/step - loss: 53.2413 - mae: 53.6804 - val_loss: 269.4722 - val_mae: 269.9714\n",
      "Epoch 44/100\n",
      "9/9 [==============================] - ETA: 0s - loss: 52.7323 - mae: 53.1488\n",
      "Epoch: 43. Reducing Learning Rate from 0.0006491030799224973 to 0.000642612052615732\n",
      "9/9 [==============================] - 1s 47ms/step - loss: 52.7323 - mae: 53.1488 - val_loss: 262.6419 - val_mae: 263.1097\n",
      "Epoch 45/100\n",
      "7/9 [======================>.......] - ETA: 0s - loss: 49.6069 - mae: 49.9961\n",
      "Epoch: 44. Reducing Learning Rate from 0.000642612052615732 to 0.0006361859268508852\n",
      "9/9 [==============================] - 1s 46ms/step - loss: 53.0225 - mae: 53.4235 - val_loss: 265.0854 - val_mae: 265.5844\n",
      "Epoch 46/100\n",
      "7/9 [======================>.......] - ETA: 0s - loss: 48.7913 - mae: 49.1736\n",
      "Epoch: 45. Reducing Learning Rate from 0.0006361859268508852 to 0.0006298240623436868\n",
      "9/9 [==============================] - 1s 44ms/step - loss: 52.7798 - mae: 53.1688 - val_loss: 262.6884 - val_mae: 263.1879\n",
      "Epoch 47/100\n",
      "9/9 [==============================] - ETA: 0s - loss: 53.2207 - mae: 53.6333\n",
      "Epoch: 46. Reducing Learning Rate from 0.0006298240623436868 to 0.0006235258188098669\n",
      "9/9 [==============================] - 1s 46ms/step - loss: 53.2207 - mae: 53.6333 - val_loss: 267.0710 - val_mae: 267.5702\n",
      "Epoch 48/100\n",
      "8/9 [=========================>....] - ETA: 0s - loss: 51.4743 - mae: 51.8640\n",
      "Epoch: 47. Reducing Learning Rate from 0.0006235258188098669 to 0.0006172905559651554\n",
      "9/9 [==============================] - 1s 49ms/step - loss: 52.6880 - mae: 53.0790 - val_loss: 262.3831 - val_mae: 262.8826\n",
      "Epoch 49/100\n",
      "8/9 [=========================>....] - ETA: 0s - loss: 52.8005 - mae: 53.2168\n",
      "Epoch: 48. Reducing Learning Rate from 0.0006172905559651554 to 0.0006111176335252821\n",
      "9/9 [==============================] - 1s 46ms/step - loss: 53.3130 - mae: 53.7294 - val_loss: 265.8976 - val_mae: 266.3966\n",
      "Epoch 50/100\n",
      "7/9 [======================>.......] - ETA: 0s - loss: 50.6762 - mae: 51.0875\n",
      "Epoch: 49. Reducing Learning Rate from 0.0006111176335252821 to 0.0006050064694136381\n",
      "9/9 [==============================] - 0s 41ms/step - loss: 53.5266 - mae: 53.9452 - val_loss: 269.6097 - val_mae: 270.1091\n",
      "Epoch 51/100\n",
      "8/9 [=========================>....] - ETA: 0s - loss: 54.9887 - mae: 55.4548\n",
      "Epoch: 50. Reducing Learning Rate from 0.0006050064694136381 to 0.0005989564233459532\n",
      "9/9 [==============================] - 1s 48ms/step - loss: 55.5688 - mae: 56.0362 - val_loss: 277.8696 - val_mae: 278.3695\n",
      "Epoch 52/100\n",
      "7/9 [======================>.......] - ETA: 0s - loss: 49.7972 - mae: 50.2687\n",
      "Epoch: 51. Reducing Learning Rate from 0.0005989564233459532 to 0.0005929668550379574\n",
      "9/9 [==============================] - 1s 48ms/step - loss: 53.7248 - mae: 54.1915 - val_loss: 271.4291 - val_mae: 271.9286\n",
      "Epoch 53/100\n",
      "8/9 [=========================>....] - ETA: 0s - loss: 53.4364 - mae: 53.9013\n",
      "Epoch: 52. Reducing Learning Rate from 0.0005929668550379574 to 0.0005870371824130416\n",
      "9/9 [==============================] - 1s 55ms/step - loss: 55.0918 - mae: 55.5582 - val_loss: 282.3576 - val_mae: 282.8575\n",
      "Epoch 54/100\n",
      "7/9 [======================>.......] - ETA: 0s - loss: 50.8805 - mae: 51.3464\n",
      "Epoch: 53. Reducing Learning Rate from 0.0005870371824130416 to 0.0005811668233945966\n",
      "9/9 [==============================] - 1s 52ms/step - loss: 54.1075 - mae: 54.5679 - val_loss: 262.2704 - val_mae: 262.7704\n",
      "Epoch 55/100\n"
     ]
    },
    {
     "name": "stdout",
     "output_type": "stream",
     "text": [
      "7/9 [======================>.......] - ETA: 0s - loss: 49.8667 - mae: 50.3168\n",
      "Epoch: 54. Reducing Learning Rate from 0.0005811668233945966 to 0.0005753551376983523\n",
      "9/9 [==============================] - 1s 52ms/step - loss: 54.0665 - mae: 54.5191 - val_loss: 265.0811 - val_mae: 265.5802\n",
      "Epoch 56/100\n",
      "7/9 [======================>.......] - ETA: 0s - loss: 49.4222 - mae: 49.8255\n",
      "Epoch: 55. Reducing Learning Rate from 0.0005753551376983523 to 0.0005696016014553607\n",
      "9/9 [==============================] - 1s 55ms/step - loss: 53.0313 - mae: 53.4375 - val_loss: 267.4843 - val_mae: 267.9835\n",
      "Epoch 57/100\n",
      "7/9 [======================>.......] - ETA: 0s - loss: 48.1492 - mae: 48.5589\n",
      "Epoch: 56. Reducing Learning Rate from 0.0005696016014553607 to 0.0005639055743813515\n",
      "9/9 [==============================] - 1s 49ms/step - loss: 53.1702 - mae: 53.5874 - val_loss: 269.3392 - val_mae: 269.8390\n",
      "Epoch 58/100\n",
      "7/9 [======================>.......] - ETA: 0s - loss: 51.1232 - mae: 51.5479\n",
      "Epoch: 57. Reducing Learning Rate from 0.0005639055743813515 to 0.0005582665326073766\n",
      "9/9 [==============================] - 1s 51ms/step - loss: 53.3774 - mae: 53.8067 - val_loss: 265.0075 - val_mae: 265.5068\n",
      "Epoch 59/100\n",
      "9/9 [==============================] - ETA: 0s - loss: 52.8702 - mae: 53.2658\n",
      "Epoch: 58. Reducing Learning Rate from 0.0005582665326073766 to 0.0005526838940568268\n",
      "9/9 [==============================] - 1s 58ms/step - loss: 52.8702 - mae: 53.2658 - val_loss: 265.0147 - val_mae: 265.5142\n",
      "Epoch 60/100\n",
      "7/9 [======================>.......] - ETA: 0s - loss: 49.9136 - mae: 50.3495\n",
      "Epoch: 59. Reducing Learning Rate from 0.0005526838940568268 to 0.0005471570766530931\n",
      "9/9 [==============================] - 1s 45ms/step - loss: 53.1720 - mae: 53.6055 - val_loss: 268.7302 - val_mae: 269.2296\n",
      "Epoch 61/100\n",
      "7/9 [======================>.......] - ETA: 0s - loss: 48.7081 - mae: 49.1294\n",
      "Epoch: 60. Reducing Learning Rate from 0.0005471570766530931 to 0.0005416854983195662\n",
      "9/9 [==============================] - 1s 47ms/step - loss: 53.2418 - mae: 53.6660 - val_loss: 266.5030 - val_mae: 267.0025\n",
      "Epoch 62/100\n",
      "7/9 [======================>.......] - ETA: 0s - loss: 47.7420 - mae: 48.1386\n",
      "Epoch: 61. Reducing Learning Rate from 0.0005416854983195662 to 0.0005362686351872981\n",
      "9/9 [==============================] - 1s 47ms/step - loss: 53.1423 - mae: 53.5476 - val_loss: 267.4977 - val_mae: 267.9970\n",
      "Epoch 63/100\n",
      "7/9 [======================>.......] - ETA: 0s - loss: 48.5177 - mae: 48.9141\n",
      "Epoch: 62. Reducing Learning Rate from 0.0005362686351872981 to 0.0005309059633873403\n",
      "9/9 [==============================] - 1s 51ms/step - loss: 53.1776 - mae: 53.5819 - val_loss: 267.9368 - val_mae: 268.4360\n",
      "Epoch 64/100\n",
      "8/9 [=========================>....] - ETA: 0s - loss: 51.3254 - mae: 51.7429\n",
      "Epoch: 63. Reducing Learning Rate from 0.0005309059633873403 to 0.0005255969008430839\n",
      "9/9 [==============================] - 1s 52ms/step - loss: 53.2282 - mae: 53.6441 - val_loss: 266.2443 - val_mae: 266.7436\n",
      "Epoch 65/100\n",
      "7/9 [======================>.......] - ETA: 0s - loss: 48.6837 - mae: 49.0893\n",
      "Epoch: 64. Reducing Learning Rate from 0.0005255969008430839 to 0.0005203409236855805\n",
      "9/9 [==============================] - 1s 51ms/step - loss: 53.1077 - mae: 53.5187 - val_loss: 267.6005 - val_mae: 268.0997\n",
      "Epoch 66/100\n",
      "9/9 [==============================] - ETA: 0s - loss: 53.0070 - mae: 53.4095\n",
      "Epoch: 65. Reducing Learning Rate from 0.0005203409236855805 to 0.000515137508045882\n",
      "9/9 [==============================] - 1s 59ms/step - loss: 53.0070 - mae: 53.4095 - val_loss: 272.9481 - val_mae: 273.4474\n",
      "Epoch 67/100\n",
      "7/9 [======================>.......] - ETA: 0s - loss: 50.6854 - mae: 51.1309\n",
      "Epoch: 66. Reducing Learning Rate from 0.000515137508045882 to 0.0005099861300550401\n",
      "9/9 [==============================] - 1s 55ms/step - loss: 54.0684 - mae: 54.5214 - val_loss: 272.7502 - val_mae: 273.2494\n",
      "Epoch 68/100\n",
      "9/9 [==============================] - ETA: 0s - loss: 52.8301 - mae: 53.2542\n",
      "Epoch: 67. Reducing Learning Rate from 0.0005099861300550401 to 0.0005048862658441067\n",
      "9/9 [==============================] - 1s 59ms/step - loss: 52.8301 - mae: 53.2542 - val_loss: 263.0340 - val_mae: 263.5256\n",
      "Epoch 69/100\n",
      "9/9 [==============================] - ETA: 0s - loss: 52.4905 - mae: 52.8532\n",
      "Epoch: 68. Reducing Learning Rate from 0.0005048862658441067 to 0.0004998373915441334\n",
      "9/9 [==============================] - 1s 55ms/step - loss: 52.4905 - mae: 52.8532 - val_loss: 264.7209 - val_mae: 265.2201\n",
      "Epoch 70/100\n",
      "8/9 [=========================>....] - ETA: 0s - loss: 52.6589 - mae: 53.0634\n",
      "Epoch: 69. Reducing Learning Rate from 0.0004998373915441334 to 0.0004948390414938331\n",
      "9/9 [==============================] - 1s 51ms/step - loss: 52.9413 - mae: 53.3481 - val_loss: 272.1028 - val_mae: 272.6026\n",
      "Epoch 71/100\n",
      "7/9 [======================>.......] - ETA: 0s - loss: 51.4218 - mae: 51.8784\n",
      "Epoch: 70. Reducing Learning Rate from 0.0004948390414938331 to 0.0004898906336165965\n",
      "9/9 [==============================] - 1s 57ms/step - loss: 53.9694 - mae: 54.4301 - val_loss: 272.0031 - val_mae: 272.5028\n",
      "Epoch 72/100\n",
      "7/9 [======================>.......] - ETA: 0s - loss: 47.2614 - mae: 47.6704\n",
      "Epoch: 71. Reducing Learning Rate from 0.0004898906336165965 to 0.00048499173135496676\n",
      "9/9 [==============================] - 1s 54ms/step - loss: 52.7683 - mae: 53.1806 - val_loss: 264.6324 - val_mae: 265.1323\n",
      "Epoch 73/100\n",
      "8/9 [=========================>....] - ETA: 0s - loss: 50.9989 - mae: 51.3751\n",
      "Epoch: 72. Reducing Learning Rate from 0.00048499173135496676 to 0.00048014181083999574\n",
      "9/9 [==============================] - 1s 59ms/step - loss: 52.6157 - mae: 52.9949 - val_loss: 261.5027 - val_mae: 261.9735\n",
      "Epoch 74/100\n",
      "7/9 [======================>.......] - ETA: 0s - loss: 47.7100 - mae: 48.0650\n",
      "Epoch: 73. Reducing Learning Rate from 0.00048014181083999574 to 0.0004753404064103961\n",
      "9/9 [==============================] - 1s 53ms/step - loss: 52.4841 - mae: 52.8404 - val_loss: 264.0740 - val_mae: 264.5732\n",
      "Epoch 75/100\n",
      "8/9 [=========================>....] - ETA: 0s - loss: 51.9887 - mae: 52.4090\n",
      "Epoch: 74. Reducing Learning Rate from 0.0004753404064103961 to 0.0004705869941972196\n",
      "9/9 [==============================] - 1s 50ms/step - loss: 52.9869 - mae: 53.4077 - val_loss: 269.9801 - val_mae: 270.4800\n",
      "Epoch 76/100\n",
      "7/9 [======================>.......] - ETA: 0s - loss: 48.6783 - mae: 49.1053\n",
      "Epoch: 75. Reducing Learning Rate from 0.0004705869941972196 to 0.0004658811376430094\n",
      "9/9 [==============================] - 1s 54ms/step - loss: 53.1844 - mae: 53.6141 - val_loss: 265.2608 - val_mae: 265.7600\n",
      "Epoch 77/100\n",
      "8/9 [=========================>....] - ETA: 0s - loss: 51.8810 - mae: 52.2709\n",
      "Epoch: 76. Reducing Learning Rate from 0.0004658811376430094 to 0.0004612223419826478\n",
      "9/9 [==============================] - 1s 52ms/step - loss: 52.9186 - mae: 53.3102 - val_loss: 270.1456 - val_mae: 270.6451\n",
      "Epoch 78/100\n",
      "8/9 [=========================>....] - ETA: 0s - loss: 51.8354 - mae: 52.2504\n",
      "Epoch: 77. Reducing Learning Rate from 0.0004612223419826478 to 0.0004566101124510169\n",
      "9/9 [==============================] - 1s 53ms/step - loss: 53.0743 - mae: 53.4891 - val_loss: 267.9152 - val_mae: 268.4143\n",
      "Epoch 79/100\n",
      "7/9 [======================>.......] - ETA: 0s - loss: 51.7703 - mae: 52.1561\n",
      "Epoch: 78. Reducing Learning Rate from 0.0004566101124510169 to 0.00045204401249065995\n",
      "9/9 [==============================] - 1s 51ms/step - loss: 53.0072 - mae: 53.4015 - val_loss: 268.1856 - val_mae: 268.6855\n",
      "Epoch 80/100\n",
      "8/9 [=========================>....] - ETA: 0s - loss: 51.3804 - mae: 51.7848\n",
      "Epoch: 79. Reducing Learning Rate from 0.00045204401249065995 to 0.0004475235764402896\n",
      "9/9 [==============================] - 1s 57ms/step - loss: 53.0119 - mae: 53.4172 - val_loss: 267.5096 - val_mae: 268.0088\n",
      "Epoch 81/100\n",
      "7/9 [======================>.......] - ETA: 0s - loss: 50.4744 - mae: 50.8588\n",
      "Epoch: 80. Reducing Learning Rate from 0.0004475235764402896 to 0.0004430483386386186\n",
      "9/9 [==============================] - 1s 49ms/step - loss: 52.9339 - mae: 53.3262 - val_loss: 269.6392 - val_mae: 270.1386\n",
      "Epoch 82/100\n"
     ]
    },
    {
     "name": "stdout",
     "output_type": "stream",
     "text": [
      "9/9 [==============================] - ETA: 0s - loss: 53.0778 - mae: 53.4988\n",
      "Epoch: 81. Reducing Learning Rate from 0.0004430483386386186 to 0.00043861786252819\n",
      "9/9 [==============================] - 1s 56ms/step - loss: 53.0778 - mae: 53.4988 - val_loss: 266.9262 - val_mae: 267.4259\n",
      "Epoch 83/100\n",
      "8/9 [=========================>....] - ETA: 0s - loss: 52.3596 - mae: 52.7566\n",
      "Epoch: 82. Reducing Learning Rate from 0.00043861786252819 to 0.0004342316824477166\n",
      "9/9 [==============================] - 1s 55ms/step - loss: 52.9920 - mae: 53.3891 - val_loss: 267.8330 - val_mae: 268.3325\n",
      "Epoch 84/100\n",
      "7/9 [======================>.......] - ETA: 0s - loss: 48.8508 - mae: 49.2519\n",
      "Epoch: 83. Reducing Learning Rate from 0.0004342316824477166 to 0.00042988936183974147\n",
      "9/9 [==============================] - 1s 49ms/step - loss: 52.8614 - mae: 53.2589 - val_loss: 263.9026 - val_mae: 264.4017\n",
      "Epoch 85/100\n",
      "7/9 [======================>.......] - ETA: 0s - loss: 47.8291 - mae: 48.1924\n",
      "Epoch: 84. Reducing Learning Rate from 0.00042988936183974147 to 0.0004255904641468078\n",
      "9/9 [==============================] - 1s 53ms/step - loss: 52.4316 - mae: 52.7977 - val_loss: 261.9869 - val_mae: 262.4428\n",
      "Epoch 86/100\n",
      "7/9 [======================>.......] - ETA: 0s - loss: 48.1349 - mae: 48.4776\n",
      "Epoch: 85. Reducing Learning Rate from 0.0004255904641468078 to 0.0004213345528114587\n",
      "9/9 [==============================] - 1s 49ms/step - loss: 52.3981 - mae: 52.7437 - val_loss: 261.9841 - val_mae: 262.4319\n",
      "Epoch 87/100\n",
      "8/9 [=========================>....] - ETA: 0s - loss: 51.7519 - mae: 52.0942\n",
      "Epoch: 86. Reducing Learning Rate from 0.0004213345528114587 to 0.0004171212203800678\n",
      "9/9 [==============================] - 1s 53ms/step - loss: 52.3934 - mae: 52.7373 - val_loss: 262.3611 - val_mae: 262.8163\n",
      "Epoch 88/100\n",
      "7/9 [======================>.......] - ETA: 0s - loss: 50.0784 - mae: 50.4383\n",
      "Epoch: 87. Reducing Learning Rate from 0.0004171212203800678 to 0.00041295000119134784\n",
      "9/9 [==============================] - 1s 51ms/step - loss: 52.5011 - mae: 52.8704 - val_loss: 264.4511 - val_mae: 264.9502\n",
      "Epoch 89/100\n",
      "8/9 [=========================>....] - ETA: 0s - loss: 51.9826 - mae: 52.4129\n",
      "Epoch: 88. Reducing Learning Rate from 0.00041295000119134784 to 0.0004088205168955028\n",
      "9/9 [==============================] - 1s 58ms/step - loss: 53.0248 - mae: 53.4518 - val_loss: 264.5511 - val_mae: 265.0507\n",
      "Epoch 90/100\n",
      "7/9 [======================>.......] - ETA: 0s - loss: 48.0567 - mae: 48.4423\n",
      "Epoch: 89. Reducing Learning Rate from 0.0004088205168955028 to 0.0004047323018312454\n",
      "9/9 [==============================] - 1s 48ms/step - loss: 52.6918 - mae: 53.0848 - val_loss: 263.6737 - val_mae: 264.1720\n",
      "Epoch 91/100\n",
      "8/9 [=========================>....] - ETA: 0s - loss: 51.5730 - mae: 51.9418\n",
      "Epoch: 90. Reducing Learning Rate from 0.0004047323018312454 to 0.00040068497764877975\n",
      "9/9 [==============================] - 1s 55ms/step - loss: 52.5261 - mae: 52.8955 - val_loss: 263.2397 - val_mae: 263.7344\n",
      "Epoch 92/100\n",
      "7/9 [======================>.......] - ETA: 0s - loss: 49.6691 - mae: 50.0088\n",
      "Epoch: 91. Reducing Learning Rate from 0.00040068497764877975 to 0.0003966781368944794\n",
      "9/9 [==============================] - 1s 51ms/step - loss: 52.4373 - mae: 52.7834 - val_loss: 261.8399 - val_mae: 262.3005\n",
      "Epoch 93/100\n",
      "8/9 [=========================>....] - ETA: 0s - loss: 50.8538 - mae: 51.2320\n",
      "Epoch: 92. Reducing Learning Rate from 0.0003966781368944794 to 0.00039271137211471796\n",
      "9/9 [==============================] - 1s 53ms/step - loss: 52.6078 - mae: 52.9881 - val_loss: 262.2791 - val_mae: 262.7753\n",
      "Epoch 94/100\n",
      "8/9 [=========================>....] - ETA: 0s - loss: 50.9039 - mae: 51.2166\n",
      "Epoch: 93. Reducing Learning Rate from 0.00039271137211471796 to 0.00038878427585586905\n",
      "9/9 [==============================] - 1s 53ms/step - loss: 52.3793 - mae: 52.6949 - val_loss: 262.4722 - val_mae: 262.9639\n",
      "Epoch 95/100\n",
      "8/9 [=========================>....] - ETA: 0s - loss: 50.2928 - mae: 50.6750\n",
      "Epoch: 94. Reducing Learning Rate from 0.00038878427585586905 to 0.0003848964406643063\n",
      "9/9 [==============================] - 1s 62ms/step - loss: 52.5991 - mae: 52.9828 - val_loss: 261.2564 - val_mae: 261.6974\n",
      "Epoch 96/100\n",
      "7/9 [======================>.......] - ETA: 0s - loss: 47.4047 - mae: 47.7144\n",
      "Epoch: 95. Reducing Learning Rate from 0.0003848964406643063 to 0.0003810474881902337\n",
      "9/9 [==============================] - 1s 50ms/step - loss: 52.3722 - mae: 52.6822 - val_loss: 261.8878 - val_mae: 262.3241\n",
      "Epoch 97/100\n",
      "8/9 [=========================>....] - ETA: 0s - loss: 51.2401 - mae: 51.5583\n",
      "Epoch: 96. Reducing Learning Rate from 0.0003810474881902337 to 0.00037723701098002493\n",
      "9/9 [==============================] - 1s 51ms/step - loss: 52.3760 - mae: 52.6964 - val_loss: 261.8124 - val_mae: 262.2773\n",
      "Epoch 98/100\n",
      "7/9 [======================>.......] - ETA: 0s - loss: 48.8595 - mae: 49.1966\n",
      "Epoch: 97. Reducing Learning Rate from 0.00037723701098002493 to 0.000373464630683884\n",
      "9/9 [==============================] - 1s 52ms/step - loss: 52.4487 - mae: 52.7977 - val_loss: 261.5351 - val_mae: 261.9759\n",
      "Epoch 99/100\n",
      "7/9 [======================>.......] - ETA: 0s - loss: 49.5664 - mae: 49.9065\n",
      "Epoch: 98. Reducing Learning Rate from 0.000373464630683884 to 0.0003697299980558455\n",
      "9/9 [==============================] - 1s 48ms/step - loss: 52.4210 - mae: 52.7651 - val_loss: 262.4718 - val_mae: 262.9710\n",
      "Epoch 100/100\n",
      "8/9 [=========================>....] - ETA: 0s - loss: 51.4527 - mae: 51.8348\n",
      "Epoch: 99. Reducing Learning Rate from 0.0003697299980558455 to 0.00036603270564228296\n",
      "9/9 [==============================] - 1s 51ms/step - loss: 52.6869 - mae: 53.0716 - val_loss: 261.9182 - val_mae: 262.3992\n"
     ]
    }
   ],
   "source": [
    "tf.keras.backend.clear_session()\n",
    "tf.random.set_seed(51)\n",
    "np.random.seed(51)\n",
    "window_size = 64\n",
    "batch_size = 256\n",
    "train_set = windowed_dataset(x_train, window_size, batch_size, shuffle_buffer_size)\n",
    "test_set=windowed_dataset(x_valid, window_size, batch_size, shuffle_buffer_size)\n",
    "print(train_set)\n",
    "print(x_train.shape)\n",
    "\n",
    "model_15 = tf.keras.models.Sequential([\n",
    "  tf.keras.layers.Conv1D(filters=64, kernel_size=5,\n",
    "                      strides=1, padding=\"causal\",\n",
    "                      activation=\"relu\"),\n",
    "  tf.keras.layers.Dense(1),\n",
    "],name='model_15')\n",
    "#lr_schedule = tf.keras.callbacks.LearningRateScheduler(\n",
    "#    lambda epoch: 1e-8 * 10**(epoch / 20))\n",
    "optimizer = tf.keras.optimizers.Adam()\n",
    "model_15.compile(loss=tf.keras.losses.Huber(),\n",
    "              optimizer=optimizer,\n",
    "              metrics=[\"mae\"])\n",
    "history = model_15.fit(train_set, epochs=100,validation_data=test_set,\n",
    "            callbacks=[create_checkpoint_callback(model_name=model_15.name),LearningRateReducerCb()])"
   ]
  },
  {
   "cell_type": "code",
   "execution_count": 379,
   "id": "37c0f13f",
   "metadata": {
    "scrolled": true
   },
   "outputs": [
    {
     "data": {
      "text/plain": [
       "<tf.Tensor: shape=(558,), dtype=float32, numpy=\n",
       "array([ 9353.096 ,  9243.637 ,  8810.743 ,  8814.434 ,  9098.08  ,\n",
       "        8727.773 ,  8777.219 ,  8765.826 ,  8673.111 ,  8516.509 ,\n",
       "        8485.07  ,  8553.27  ,  8221.149 ,  8133.6772,  8089.9546,\n",
       "        7627.033 ,  7275.782 ,  7317.1504,  7055.0137,  7225.4443,\n",
       "        7154.527 ,  7537.6147,  7404.1064,  7743.765 ,  7556.4033,\n",
       "        7395.8467,  7347.231 ,  7329.134 ,  7227.3193,  7412.701 ,\n",
       "        7525.994 ,  7546.2734,  7564.422 ,  7346.8936,  7253.3945,\n",
       "        7211.625 ,  7203.8164,  7252.505 ,  7100.386 ,  7126.1387,\n",
       "        6896.4976,  6596.5   ,  7437.974 ,  7161.037 ,  7153.3887,\n",
       "        7300.0493,  7250.6133,  7179.6743,  7249.251 ,  7226.394 ,\n",
       "        7197.2393,  7240.904 ,  7325.3193,  7399.355 ,  7264.9297,\n",
       "        7193.4844,  7188.2607,  6968.616 ,  7304.943 ,  7351.4424,\n",
       "        7361.2563,  7728.332 ,  8054.652 ,  8082.704 ,  7823.3403,\n",
       "        8102.587 ,  8094.112 ,  8164.5566,  8132.1465,  8751.423 ,\n",
       "        8860.148 ,  8727.876 ,  8941.916 ,  8956.507 ,  8654.29  ,\n",
       "        8668.817 ,  8725.02  ,  8651.178 ,  8399.746 ,  8467.01  ,\n",
       "        8363.161 ,  8578.282 ,  8898.502 ,  9148.098 ,  9338.297 ,\n",
       "        9562.793 ,  9406.319 ,  9380.586 ,  9402.693 ,  9286.934 ,\n",
       "        9194.959 ,  9643.314 ,  9699.333 ,  9813.502 ,  9946.172 ,\n",
       "       10151.462 ,  9857.136 , 10255.574 , 10384.094 , 10237.006 ,\n",
       "       10386.699 ,  9944.743 ,  9894.537 ,  9654.5   , 10208.854 ,\n",
       "        9719.028 ,  9649.354 ,  9688.796 ,  9707.057 ,  9937.93  ,\n",
       "        9658.354 ,  9410.314 ,  8804.353 ,  8801.363 ,  8794.827 ,\n",
       "        8655.703 ,  8564.899 ,  8939.657 ,  8807.492 ,  8773.279 ,\n",
       "        9095.467 ,  9143.609 ,  8941.831 ,  8181.587 ,  7890.51  ,\n",
       "        7974.135 ,  7970.206 ,  5811.2915,  5683.538 ,  5314.3545,\n",
       "        5365.4824,  4954.2695,  5476.0723,  5374.133 ,  6313.033 ,\n",
       "        6197.0444,  6198.8213,  5895.572 ,  6467.6973,  6797.1436,\n",
       "        6719.6733,  6734.21  ,  6695.426 ,  6241.331 ,  5933.789 ,\n",
       "        6496.032 ,  6458.6484,  6549.7246,  6863.502 ,  6789.181 ,\n",
       "        6868.8853,  6818.225 ,  7291.9443,  7189.186 ,  7381.1514,\n",
       "        7335.5933,  6879.3687,  6886.8325,  7056.7236,  6902.8765,\n",
       "        6900.5625,  6731.5093,  7180.0854,  7078.4053,  7290.839 ,\n",
       "        7199.4067,  6869.099 ,  6917.514 ,  7131.8057,  7576.2354,\n",
       "        7511.951 ,  7556.471 ,  7639.168 ,  7791.09  ,  7776.3154,\n",
       "        8789.454 ,  8784.01  ,  8870.265 ,  8979.741 ,  8921.295 ,\n",
       "        8904.056 ,  8994.994 ,  9389.092 ,  9919.023 ,  9935.621 ,\n",
       "        9635.361 ,  8803.027 ,  8624.18  ,  8831.654 ,  9348.322 ,\n",
       "        9775.387 ,  9380.027 ,  9436.41  ,  9702.664 ,  9741.711 ,\n",
       "        9737.504 ,  9558.594 ,  9158.149 ,  9209.936 ,  9237.216 ,\n",
       "        9065.551 ,  8922.363 ,  8852.187 ,  9129.929 ,  9525.172 ,\n",
       "        9442.785 ,  9706.293 ,  9445.177 , 10287.578 ,  9533.799 ,\n",
       "        9684.991 ,  9829.554 ,  9677.579 ,  9694.999 ,  9755.515 ,\n",
       "        9810.08  ,  9804.283 ,  9893.266 ,  9278.044 ,  9481.801 ,\n",
       "        9476.222 ,  9369.326 ,  9459.301 ,  9528.314 ,  9475.187 ,\n",
       "        9416.098 ,  9297.006 ,  9370.453 ,  9306.366 ,  9698.903 ,\n",
       "        9627.51  ,  9328.4375,  9269.831 ,  9188.785 ,  9038.942 ,\n",
       "        9118.779 ,  9205.144 ,  9165.457 ,  9253.484 ,  9114.721 ,\n",
       "        9111.24  ,  9141.623 ,  9072.3125,  9296.049 ,  9261.599 ,\n",
       "        9489.344 ,  9253.311 ,  9260.3545,  9247.016 ,  9303.994 ,\n",
       "        9256.166 ,  9277.682 ,  9228.15  ,  9150.764 ,  9177.443 ,\n",
       "        9193.748 ,  9207.358 ,  9189.643 ,  9412.515 ,  9548.48  ,\n",
       "        9635.221 ,  9586.731 ,  9726.953 ,  9957.363 , 11208.404 ,\n",
       "       10959.854 , 11305.254 , 11139.42  , 11394.27  , 11788.396 ,\n",
       "       11159.636 , 11282.5625, 11248.721 , 11674.855 , 11818.52  ,\n",
       "       11661.36  , 11766.522 , 11694.605 , 11853.992 , 11361.477 ,\n",
       "       11570.811 , 11773.793 , 11804.962 , 11917.504 , 11918.827 ,\n",
       "       12421.881 , 12093.929 , 11771.448 , 11855.666 , 11604.463 ,\n",
       "       11696.109 , 11687.882 , 11765.621 , 11399.6875, 11479.926 ,\n",
       "       11322.947 , 11503.371 , 11536.247 , 11678.459 , 11699.866 ,\n",
       "       11986.208 , 11448.751 , 10732.703 , 10583.416 , 10061.451 ,\n",
       "       10226.494 , 10400.973 , 10061.793 , 10287.457 , 10360.141 ,\n",
       "       10399.734 , 10455.658 , 10332.143 , 10700.023 , 10849.494 ,\n",
       "       11053.734 , 10957.291 , 10954.105 , 11069.257 , 10872.941 ,\n",
       "       10545.655 , 10550.626 , 10279.015 , 10692.67  , 10748.881 ,\n",
       "       10761.311 , 10772.199 , 10883.115 , 10784.158 , 10761.412 ,\n",
       "       10646.23  , 10586.855 , 10574.531 , 10680.302 , 10776.264 ,\n",
       "       10609.19  , 10665.419 , 10917.705 , 11072.779 , 11381.783 ,\n",
       "       11354.91  , 11687.684 , 11464.81  , 11416.539 , 11525.734 ,\n",
       "       11376.08  , 11379.633 , 11492.128 , 11798.26  , 11958.3125,\n",
       "       13126.949 , 13164.751 , 12957.539 , 13105.651 , 13032.303 ,\n",
       "       13057.417 , 13746.394 , 13306.594 , 13492.393 , 13598.561 ,\n",
       "       13916.629 , 13755.323 , 13658.654 , 13858.247 , 14189.871 ,\n",
       "       15452.654 , 15568.929 , 14810.973 , 15528.596 , 15311.658 ,\n",
       "       15402.082 , 15849.323 , 16282.905 , 16376.806 , 16020.966 ,\n",
       "       15947.081 , 16782.48  , 17625.455 , 17867.033 , 17987.467 ,\n",
       "       18646.646 , 18625.594 , 18663.799 , 18502.72  , 19080.275 ,\n",
       "       18780.945 , 17218.654 , 17054.92  , 17847.143 , 18147.307 ,\n",
       "       19417.498 , 19015.402 , 19219.686 , 19499.814 , 18847.252 ,\n",
       "       19079.559 , 19148.594 , 19142.248 , 18716.354 , 18576.658 ,\n",
       "       18392.803 , 18170.252 , 18916.51  , 19094.844 , 19286.13  ,\n",
       "       19478.72  , 21349.209 , 22937.334 , 23050.334 , 23933.943 ,\n",
       "       23579.865 , 23219.129 , 23476.291 , 23266.396 , 23666.533 ,\n",
       "       24625.35  , 26428.828 , 26436.836 , 26766.156 , 27024.314 ,\n",
       "       28820.596 , 29163.889 , 29386.365 , 32211.924 , 33061.793 ,\n",
       "       31488.086 , 34495.402 , 36340.816 , 39784.652 , 40592.02  ,\n",
       "       40331.035 , 38779.133 , 34471.39  , 34276.02  , 37083.38  ,\n",
       "       38504.746 , 36817.484 , 36081.38  , 36441.047 , 36411.793 ,\n",
       "       36643.11  , 35067.336 , 30661.197 , 33428.273 , 32127.703 ,\n",
       "       32343.715 , 32558.625 , 32382.611 , 30589.889 , 33468.2   ,\n",
       "       34905.08  , 34684.504 , 33146.78  , 33673.66  , 35696.816 ,\n",
       "       37464.47  , 37323.043 , 37919.445 , 40374.99  , 38530.605 ,\n",
       "       44796.688 , 46758.324 , 45318.402 , 47585.832 , 47969.8   ,\n",
       "       47089.25  , 49239.027 , 48212.04  , 48927.723 , 52258.496 ,\n",
       "       51820.934 , 55818.695 , 54899.516 , 57230.633 , 54278.684 ,\n",
       "       48259.004 , 48832.574 , 48377.746 , 45833.953 , 46726.023 ,\n",
       "       45173.477 , 49336.95  , 47986.426 , 50902.656 , 48345.77  ,\n",
       "       49237.59  , 48966.527 , 50685.113 , 51595.285 , 54555.293 ,\n",
       "       57016.78  , 57739.64  , 57408.47  , 60851.43  , 60305.324 ,\n",
       "       56400.855 , 56740.902 , 58671.82  , 58086.594 , 58556.06  ,\n",
       "       58698.18  , 57899.637 , 54426.387 , 54892.15  , 52882.043 ,\n",
       "       52267.08  , 54580.35  , 56334.758 , 55442.75  , 57730.55  ,\n",
       "       58839.31  , 58829.477 , 59089.887 , 58926.613 , 57620.473 ,\n",
       "       58281.246 , 58948.582 , 58143.793 , 56609.832 , 57984.223 ,\n",
       "       58275.746 , 59401.773 , 59929.66  , 59960.008 , 63336.668 ,\n",
       "       63038.816 , 63459.785 , 62076.336 , 60682.535 , 56952.332 ,\n",
       "       56324.49  , 56709.836 , 54241.13  , 52057.902 , 50759.69  ,\n",
       "       50824.43  , 48629.73  , 53654.37  , 55222.297 , 54689.01  ,\n",
       "       53355.434 , 57404.94  , 57780.934 , 56527.79  , 57357.52  ,\n",
       "       53754.684 , 57354.91  , 56684.87  , 57209.074 , 58893.137 ,\n",
       "       58205.902 , 55815.035 , 56674.56  , 52240.99  , 49853.074 ,\n",
       "       50122.113 , 47971.242 , 45686.195 ], dtype=float32)>"
      ]
     },
     "execution_count": 379,
     "metadata": {},
     "output_type": "execute_result"
    }
   ],
   "source": [
    "arr=bitcoin_prices_block.values\n",
    "rnn_forecast = model_forecast(model_15, arr[...,np.newaxis], window_size)\n",
    "rnn_forecast = rnn_forecast[split_time - window_size:-1, -1, 0]"
   ]
  },
  {
   "cell_type": "code",
   "execution_count": 378,
   "id": "1964eade",
   "metadata": {},
   "outputs": [
    {
     "data": {
      "text/plain": [
       "(558, 1)"
      ]
     },
     "execution_count": 378,
     "metadata": {},
     "output_type": "execute_result"
    }
   ],
   "source": [
    "rnn_forecast.shape"
   ]
  },
  {
   "cell_type": "code",
   "execution_count": 380,
   "id": "36536962",
   "metadata": {},
   "outputs": [
    {
     "data": {
      "text/html": [
       "<div>\n",
       "<style scoped>\n",
       "    .dataframe tbody tr th:only-of-type {\n",
       "        vertical-align: middle;\n",
       "    }\n",
       "\n",
       "    .dataframe tbody tr th {\n",
       "        vertical-align: top;\n",
       "    }\n",
       "\n",
       "    .dataframe thead th {\n",
       "        text-align: right;\n",
       "    }\n",
       "</style>\n",
       "<table border=\"1\" class=\"dataframe\">\n",
       "  <thead>\n",
       "    <tr style=\"text-align: right;\">\n",
       "      <th></th>\n",
       "      <th>0</th>\n",
       "      <th>1</th>\n",
       "      <th>predict_prices</th>\n",
       "    </tr>\n",
       "  </thead>\n",
       "  <tbody>\n",
       "    <tr>\n",
       "      <th>0</th>\n",
       "      <td>9226.485821</td>\n",
       "      <td>12.50</td>\n",
       "      <td>9353.095703</td>\n",
       "    </tr>\n",
       "    <tr>\n",
       "      <th>1</th>\n",
       "      <td>8794.358645</td>\n",
       "      <td>12.50</td>\n",
       "      <td>9243.636719</td>\n",
       "    </tr>\n",
       "    <tr>\n",
       "      <th>2</th>\n",
       "      <td>8798.042055</td>\n",
       "      <td>12.50</td>\n",
       "      <td>8810.743164</td>\n",
       "    </tr>\n",
       "    <tr>\n",
       "      <th>3</th>\n",
       "      <td>9081.186878</td>\n",
       "      <td>12.50</td>\n",
       "      <td>8814.433594</td>\n",
       "    </tr>\n",
       "    <tr>\n",
       "      <th>4</th>\n",
       "      <td>8711.534339</td>\n",
       "      <td>12.50</td>\n",
       "      <td>9098.080078</td>\n",
       "    </tr>\n",
       "    <tr>\n",
       "      <th>...</th>\n",
       "      <td>...</td>\n",
       "      <td>...</td>\n",
       "      <td>...</td>\n",
       "    </tr>\n",
       "    <tr>\n",
       "      <th>553</th>\n",
       "      <td>49764.132082</td>\n",
       "      <td>6.25</td>\n",
       "      <td>52240.988281</td>\n",
       "    </tr>\n",
       "    <tr>\n",
       "      <th>554</th>\n",
       "      <td>50032.693137</td>\n",
       "      <td>6.25</td>\n",
       "      <td>49853.074219</td>\n",
       "    </tr>\n",
       "    <tr>\n",
       "      <th>555</th>\n",
       "      <td>47885.625255</td>\n",
       "      <td>6.25</td>\n",
       "      <td>50122.113281</td>\n",
       "    </tr>\n",
       "    <tr>\n",
       "      <th>556</th>\n",
       "      <td>45604.615754</td>\n",
       "      <td>6.25</td>\n",
       "      <td>47971.242188</td>\n",
       "    </tr>\n",
       "    <tr>\n",
       "      <th>557</th>\n",
       "      <td>43144.471291</td>\n",
       "      <td>6.25</td>\n",
       "      <td>45686.195312</td>\n",
       "    </tr>\n",
       "  </tbody>\n",
       "</table>\n",
       "<p>558 rows × 3 columns</p>\n",
       "</div>"
      ],
      "text/plain": [
       "                0      1  predict_prices\n",
       "0     9226.485821  12.50     9353.095703\n",
       "1     8794.358645  12.50     9243.636719\n",
       "2     8798.042055  12.50     8810.743164\n",
       "3     9081.186878  12.50     8814.433594\n",
       "4     8711.534339  12.50     9098.080078\n",
       "..            ...    ...             ...\n",
       "553  49764.132082   6.25    52240.988281\n",
       "554  50032.693137   6.25    49853.074219\n",
       "555  47885.625255   6.25    50122.113281\n",
       "556  45604.615754   6.25    47971.242188\n",
       "557  43144.471291   6.25    45686.195312\n",
       "\n",
       "[558 rows x 3 columns]"
      ]
     },
     "execution_count": 380,
     "metadata": {},
     "output_type": "execute_result"
    }
   ],
   "source": [
    "testprep=pd.DataFrame(x_valid)\n",
    "testprep['predict_prices']=tf.squeeze(rnn_forecast)\n",
    "testprep"
   ]
  },
  {
   "cell_type": "code",
   "execution_count": 387,
   "id": "93789350",
   "metadata": {},
   "outputs": [
    {
     "data": {
      "text/html": [
       "<div>\n",
       "<style scoped>\n",
       "    .dataframe tbody tr th:only-of-type {\n",
       "        vertical-align: middle;\n",
       "    }\n",
       "\n",
       "    .dataframe tbody tr th {\n",
       "        vertical-align: top;\n",
       "    }\n",
       "\n",
       "    .dataframe thead th {\n",
       "        text-align: right;\n",
       "    }\n",
       "</style>\n",
       "<table border=\"1\" class=\"dataframe\">\n",
       "  <thead>\n",
       "    <tr style=\"text-align: right;\">\n",
       "      <th></th>\n",
       "      <th>0</th>\n",
       "      <th>1</th>\n",
       "      <th>predict_prices</th>\n",
       "      <th>predict_block</th>\n",
       "    </tr>\n",
       "  </thead>\n",
       "  <tbody>\n",
       "    <tr>\n",
       "      <th>0</th>\n",
       "      <td>9226.485821</td>\n",
       "      <td>12.50</td>\n",
       "      <td>9353.095703</td>\n",
       "      <td>13.158683</td>\n",
       "    </tr>\n",
       "    <tr>\n",
       "      <th>1</th>\n",
       "      <td>8794.358645</td>\n",
       "      <td>12.50</td>\n",
       "      <td>9243.636719</td>\n",
       "      <td>13.148200</td>\n",
       "    </tr>\n",
       "    <tr>\n",
       "      <th>2</th>\n",
       "      <td>8798.042055</td>\n",
       "      <td>12.50</td>\n",
       "      <td>8810.743164</td>\n",
       "      <td>13.106910</td>\n",
       "    </tr>\n",
       "    <tr>\n",
       "      <th>3</th>\n",
       "      <td>9081.186878</td>\n",
       "      <td>12.50</td>\n",
       "      <td>8814.433594</td>\n",
       "      <td>13.107306</td>\n",
       "    </tr>\n",
       "    <tr>\n",
       "      <th>4</th>\n",
       "      <td>8711.534339</td>\n",
       "      <td>12.50</td>\n",
       "      <td>9098.080078</td>\n",
       "      <td>13.134376</td>\n",
       "    </tr>\n",
       "    <tr>\n",
       "      <th>...</th>\n",
       "      <td>...</td>\n",
       "      <td>...</td>\n",
       "      <td>...</td>\n",
       "      <td>...</td>\n",
       "    </tr>\n",
       "    <tr>\n",
       "      <th>553</th>\n",
       "      <td>49764.132082</td>\n",
       "      <td>6.25</td>\n",
       "      <td>52240.988281</td>\n",
       "      <td>11.616767</td>\n",
       "    </tr>\n",
       "    <tr>\n",
       "      <th>554</th>\n",
       "      <td>50032.693137</td>\n",
       "      <td>6.25</td>\n",
       "      <td>49853.074219</td>\n",
       "      <td>11.389594</td>\n",
       "    </tr>\n",
       "    <tr>\n",
       "      <th>555</th>\n",
       "      <td>47885.625255</td>\n",
       "      <td>6.25</td>\n",
       "      <td>50122.113281</td>\n",
       "      <td>11.415107</td>\n",
       "    </tr>\n",
       "    <tr>\n",
       "      <th>556</th>\n",
       "      <td>45604.615754</td>\n",
       "      <td>6.25</td>\n",
       "      <td>47971.242188</td>\n",
       "      <td>11.209907</td>\n",
       "    </tr>\n",
       "    <tr>\n",
       "      <th>557</th>\n",
       "      <td>43144.471291</td>\n",
       "      <td>6.25</td>\n",
       "      <td>45686.195312</td>\n",
       "      <td>10.991401</td>\n",
       "    </tr>\n",
       "  </tbody>\n",
       "</table>\n",
       "<p>558 rows × 4 columns</p>\n",
       "</div>"
      ],
      "text/plain": [
       "                0      1  predict_prices  predict_block\n",
       "0     9226.485821  12.50     9353.095703      13.158683\n",
       "1     8794.358645  12.50     9243.636719      13.148200\n",
       "2     8798.042055  12.50     8810.743164      13.106910\n",
       "3     9081.186878  12.50     8814.433594      13.107306\n",
       "4     8711.534339  12.50     9098.080078      13.134376\n",
       "..            ...    ...             ...            ...\n",
       "553  49764.132082   6.25    52240.988281      11.616767\n",
       "554  50032.693137   6.25    49853.074219      11.389594\n",
       "555  47885.625255   6.25    50122.113281      11.415107\n",
       "556  45604.615754   6.25    47971.242188      11.209907\n",
       "557  43144.471291   6.25    45686.195312      10.991401\n",
       "\n",
       "[558 rows x 4 columns]"
      ]
     },
     "execution_count": 387,
     "metadata": {},
     "output_type": "execute_result"
    }
   ],
   "source": [
    "arr=bitcoin_prices_block.values\n",
    "rnn_forecast = model_forecast(model_15, arr[...,np.newaxis], window_size)\n",
    "rnn_forecast = rnn_forecast[split_time - window_size:-1, -1,1]\n",
    "testprep['predict_block']=tf.squeeze(rnn_forecast)\n",
    "testprep"
   ]
  },
  {
   "cell_type": "code",
   "execution_count": 397,
   "id": "bbf961e8",
   "metadata": {},
   "outputs": [
    {
     "data": {
      "text/plain": [
       "<matplotlib.collections.PathCollection at 0x1c994c1d370>"
      ]
     },
     "execution_count": 397,
     "metadata": {},
     "output_type": "execute_result"
    },
    {
     "data": {
      "image/png": "[encoded data removed]",
      "text/plain": [
       "<Figure size 720x432 with 1 Axes>"
      ]
     },
     "metadata": {
      "needs_background": "light"
     },
     "output_type": "display_data"
    }
   ],
   "source": [
    "plt.figure(figsize=(10, 6))\n",
    "plt.scatter([i for i in range(558)],testprep[0],s=1)\n",
    "plt.scatter([i for i in range(558)],testprep['predict_prices'],s=1)"
   ]
  }
 ],
 "metadata": {
  "kernelspec": {
   "display_name": "Python 3 (ipykernel)",
   "language": "python",
   "name": "python3"
  },
  "language_info": {
   "codemirror_mode": {
    "name": "ipython",
    "version": 3
   },
   "file_extension": ".py",
   "mimetype": "text/x-python",
   "name": "python",
   "nbconvert_exporter": "python",
   "pygments_lexer": "ipython3",
   "version": "3.9.7"
  }
 },
 "nbformat": 4,
 "nbformat_minor": 5
}
