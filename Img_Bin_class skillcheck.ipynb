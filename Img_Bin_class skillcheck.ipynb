{
 "cells": [
  {
   "cell_type": "code",
   "execution_count": 1,
   "id": "29192c87",
   "metadata": {},
   "outputs": [],
   "source": [
    "import tensorflow as tf\n",
    "from sklearn.model_selection import train_test_split\n",
    "from tensorflow.keras import layers,Sequential\n",
    "from tensorflow.keras.layers import Dense, Flatten, Conv2D, MaxPool2D,Dropout\n",
    "from tensorflow.keras.callbacks import EarlyStopping\n",
    "import pandas as pd\n",
    "import matplotlib.pyplot as plt\n",
    "from sklearn.preprocessing import LabelEncoder,MinMaxScaler\n",
    "import numpy as np\n",
    "from sklearn.metrics import accuracy_score\n",
    "import pathlib\n",
    "from tensorflow.keras.preprocessing.image import ImageDataGenerator\n",
    "from tensorflow.keras.optimizers import RMSprop"
   ]
  },
  {
   "cell_type": "code",
   "execution_count": 5,
   "id": "73fbab3d",
   "metadata": {},
   "outputs": [],
   "source": [
    "class LearningRateReducerCb(tf.keras.callbacks.Callback):\n",
    "\n",
    "  def on_epoch_end(self, epoch, logs={}):\n",
    "    old_lr = self.model.optimizer.lr.read_value()\n",
    "    new_lr = old_lr * 0.99\n",
    "    print(\"\\nEpoch: {}. Reducing Learning Rate from {} to {}\".format(epoch, old_lr, new_lr))\n",
    "    self.model.optimizer.lr.assign(new_lr)\n",
    "    \n",
    "def create_checkpoint_callback(model_name):\n",
    "  return tf.keras.callbacks.ModelCheckpoint(filepath=f\"{model_name}/checkpoint.ckpt\",\n",
    "                                                          #  monitor=\"val_accuracy\",\n",
    "                                                           save_best_only=True,\n",
    "                                                           save_weights_only=True,\n",
    "                                                           save_freq=\"epoch\")\n",
    "\n",
    "es_cb = EarlyStopping(monitor='val_loss', patience=10)"
   ]
  },
  {
   "cell_type": "code",
   "execution_count": 3,
   "id": "bb2782fb",
   "metadata": {},
   "outputs": [],
   "source": [
    "train_dir = \"data/train\"\n",
    "test_dir = \"data/validation\""
   ]
  },
  {
   "cell_type": "code",
   "execution_count": 4,
   "id": "ef48bf71",
   "metadata": {},
   "outputs": [
    {
     "name": "stdout",
     "output_type": "stream",
     "text": [
      "['cats', 'dogs']\n"
     ]
    }
   ],
   "source": [
    "data_dir = pathlib.Path(train_dir)\n",
    "class_names = sorted([item.name for item in data_dir.glob(\"*\")])\n",
    "print(class_names)"
   ]
  },
  {
   "cell_type": "code",
   "execution_count": 11,
   "id": "8437700b",
   "metadata": {},
   "outputs": [
    {
     "name": "stdout",
     "output_type": "stream",
     "text": [
      "Training image:\n",
      "Found 2000 files belonging to 2 classes.\n",
      "Testing image:\n",
      "Found 802 files belonging to 2 classes.\n"
     ]
    }
   ],
   "source": [
    "IMG_SIZE=(224,224)\n",
    "IMG_SIZE+(3,)\n",
    "BATCH_SIZE = 32\n",
    "EPOCHS = 200\n",
    "print(\"Training image:\")\n",
    "train_data = tf.keras.preprocessing.image_dataset_from_directory(train_dir,\n",
    "                                              image_size=IMG_SIZE,\n",
    "                                              batch_size=BATCH_SIZE,\n",
    "                                              label_mode=\"binary\")\n",
    "print(\"Testing image:\")\n",
    "test_data = tf.keras.preprocessing.image_dataset_from_directory(test_dir,\n",
    "                                            image_size=IMG_SIZE,\n",
    "                                            batch_size=BATCH_SIZE,\n",
    "                                            label_mode=\"binary\")"
   ]
  },
  {
   "cell_type": "code",
   "execution_count": 19,
   "id": "ceb83076",
   "metadata": {},
   "outputs": [
    {
     "name": "stdout",
     "output_type": "stream",
     "text": [
      "Epoch 1/10\n",
      "63/63 [==============================] - 47s 743ms/step - loss: 0.6812 - accuracy: 0.5460 - val_loss: 0.6598 - val_accuracy: 0.5998\n",
      "Epoch 2/10\n",
      "63/63 [==============================] - 46s 733ms/step - loss: 0.6499 - accuracy: 0.5950 - val_loss: 0.6424 - val_accuracy: 0.6072\n",
      "Epoch 3/10\n",
      "63/63 [==============================] - 51s 813ms/step - loss: 0.6183 - accuracy: 0.6385 - val_loss: 0.6500 - val_accuracy: 0.6122\n",
      "Epoch 4/10\n",
      "63/63 [==============================] - 51s 795ms/step - loss: 0.5847 - accuracy: 0.6865 - val_loss: 0.6699 - val_accuracy: 0.6222\n",
      "Epoch 5/10\n",
      "63/63 [==============================] - 55s 881ms/step - loss: 0.5216 - accuracy: 0.7415 - val_loss: 0.7034 - val_accuracy: 0.6185\n",
      "Epoch 6/10\n",
      "63/63 [==============================] - 50s 783ms/step - loss: 0.4352 - accuracy: 0.8015 - val_loss: 0.7948 - val_accuracy: 0.6297\n",
      "Epoch 7/10\n",
      "63/63 [==============================] - 58s 921ms/step - loss: 0.3639 - accuracy: 0.8395 - val_loss: 0.8676 - val_accuracy: 0.6359\n",
      "Epoch 8/10\n",
      "63/63 [==============================] - 52s 830ms/step - loss: 0.2764 - accuracy: 0.8870 - val_loss: 1.1810 - val_accuracy: 0.6185\n",
      "Epoch 9/10\n",
      "63/63 [==============================] - 52s 833ms/step - loss: 0.2200 - accuracy: 0.9080 - val_loss: 1.2292 - val_accuracy: 0.6209\n",
      "Epoch 10/10\n",
      "63/63 [==============================] - 51s 807ms/step - loss: 0.1330 - accuracy: 0.9520 - val_loss: 1.3298 - val_accuracy: 0.6197\n"
     ]
    }
   ],
   "source": [
    "# Create a CNN model (same as Tiny VGG but for binary classification - https://poloclub.github.io/cnn-explainer/ )\n",
    "model_8 = tf.keras.Sequential([\n",
    "  layers.experimental.preprocessing.Rescaling(1./255),\n",
    "  layers.Conv2D(10, 3, activation='relu', input_shape=(224, 224, 3)), # same input shape as our images\n",
    "  layers.Conv2D(10, 3, activation='relu'),\n",
    "  layers.MaxPool2D(),\n",
    "  layers.Conv2D(10, 3, activation='relu'),\n",
    "  layers.Conv2D(10, 3, activation='relu'),\n",
    "  layers.MaxPool2D(),\n",
    "  layers.Flatten(),\n",
    "  layers.Dense(1, activation='sigmoid')\n",
    "])\n",
    "\n",
    "# Compile the model\n",
    "model_8.compile(loss=\"binary_crossentropy\",\n",
    "                optimizer=tf.keras.optimizers.Adam(),\n",
    "                metrics=[\"accuracy\"])\n",
    "\n",
    "# Fit the model\n",
    "history_8 = model_8.fit(train_data,\n",
    "                        epochs=10,\n",
    "                        steps_per_epoch=len(train_data),\n",
    "                        validation_data=test_data,\n",
    "                        callbacks=[create_checkpoint_callback(model_4.name),es_cb])"
   ]
  },
  {
   "cell_type": "code",
   "execution_count": 5,
   "id": "7cdbe15a",
   "metadata": {},
   "outputs": [
    {
     "name": "stdout",
     "output_type": "stream",
     "text": [
      "Found 2000 images belonging to 2 classes.\n",
      "Found 802 images belonging to 2 classes.\n"
     ]
    }
   ],
   "source": [
    "train_datagen = ImageDataGenerator(\n",
    "      rescale=1./255,\n",
    "      rotation_range=40,\n",
    "      width_shift_range=0.2,\n",
    "      height_shift_range=0.2,\n",
    "      shear_range=0.2,\n",
    "      zoom_range=0.2,\n",
    "      horizontal_flip=True,\n",
    "      fill_mode='nearest')\n",
    "\n",
    "test_datagen = ImageDataGenerator(rescale=1./255)\n",
    "\n",
    "# Flow training images in batches of 20 using train_datagen generator\n",
    "train_generator = train_datagen.flow_from_directory(\n",
    "        train_dir,  # This is the source directory for training images\n",
    "        target_size=(150, 150),  # All images will be resized to 150x150\n",
    "        batch_size=20,\n",
    "        # Since we use binary_crossentropy loss, we need binary labels\n",
    "        class_mode='binary')\n",
    "\n",
    "# Flow validation images in batches of 20 using test_datagen generator\n",
    "validation_generator = test_datagen.flow_from_directory(\n",
    "        test_dir,\n",
    "        target_size=(150, 150),\n",
    "        batch_size=20,\n",
    "        class_mode='binary')"
   ]
  },
  {
   "cell_type": "code",
   "execution_count": 8,
   "id": "14c862ea",
   "metadata": {},
   "outputs": [
    {
     "name": "stdout",
     "output_type": "stream",
     "text": [
      "Epoch 1/10\n",
      "100/100 [==============================] - 27s 265ms/step - loss: 0.6934 - accuracy: 0.5005 - val_loss: 0.6894 - val_accuracy: 0.5000\n",
      "Epoch 2/10\n",
      "100/100 [==============================] - 29s 287ms/step - loss: 0.6903 - accuracy: 0.5525 - val_loss: 0.6813 - val_accuracy: 0.5200\n",
      "Epoch 3/10\n",
      "100/100 [==============================] - 28s 280ms/step - loss: 0.6903 - accuracy: 0.5305 - val_loss: 0.6866 - val_accuracy: 0.5249\n",
      "Epoch 4/10\n",
      "100/100 [==============================] - 27s 274ms/step - loss: 0.6879 - accuracy: 0.5435 - val_loss: 0.6653 - val_accuracy: 0.5686\n",
      "Epoch 5/10\n",
      "100/100 [==============================] - 28s 282ms/step - loss: 0.6740 - accuracy: 0.5790 - val_loss: 0.6578 - val_accuracy: 0.5673\n",
      "Epoch 6/10\n",
      "100/100 [==============================] - 29s 288ms/step - loss: 0.6731 - accuracy: 0.5720 - val_loss: 0.6555 - val_accuracy: 0.5985\n",
      "Epoch 7/10\n",
      "100/100 [==============================] - 31s 309ms/step - loss: 0.6513 - accuracy: 0.6160 - val_loss: 0.6430 - val_accuracy: 0.6322\n",
      "Epoch 8/10\n",
      "100/100 [==============================] - 30s 300ms/step - loss: 0.6486 - accuracy: 0.6150 - val_loss: 0.6431 - val_accuracy: 0.6334\n",
      "Epoch 9/10\n",
      "100/100 [==============================] - 30s 298ms/step - loss: 0.6377 - accuracy: 0.6275 - val_loss: 0.6342 - val_accuracy: 0.6272\n",
      "Epoch 10/10\n",
      "100/100 [==============================] - 33s 328ms/step - loss: 0.6335 - accuracy: 0.6325 - val_loss: 0.6083 - val_accuracy: 0.6758\n"
     ]
    }
   ],
   "source": [
    "# Create a CNN model (same as Tiny VGG but for binary classification - https://poloclub.github.io/cnn-explainer/ )\n",
    "model_8 = Sequential([\n",
    "  Conv2D(10, 3, activation='relu', input_shape=(150, 150, 3)), # same input shape as our images\n",
    "  Conv2D(10, 3, activation='relu'),\n",
    "  MaxPool2D(),\n",
    "  Conv2D(10, 3, activation='relu'),\n",
    "  Conv2D(10, 3, activation='relu'),\n",
    "  MaxPool2D(),\n",
    "  Flatten(),\n",
    "  Dense(1, activation='sigmoid')\n",
    "],name='img_multiclass_aug')\n",
    "\n",
    "# Compile the model\n",
    "model_8.compile(loss=\"binary_crossentropy\",\n",
    "                optimizer=tf.keras.optimizers.Adam(),\n",
    "                metrics=[\"accuracy\"])\n",
    "\n",
    "# Fit the model\n",
    "history_8 = model_8.fit(train_generator,\n",
    "                        epochs=10,\n",
    "                        validation_data=validation_generator,\n",
    "                        callbacks=[create_checkpoint_callback(model_8.name),es_cb])"
   ]
  },
  {
   "cell_type": "code",
   "execution_count": 9,
   "id": "d51ca28c",
   "metadata": {},
   "outputs": [
    {
     "name": "stdout",
     "output_type": "stream",
     "text": [
      "Model: \"img_multiclass_aug\"\n",
      "_________________________________________________________________\n",
      " Layer (type)                Output Shape              Param #   \n",
      "=================================================================\n",
      " conv2d_8 (Conv2D)           (None, 148, 148, 10)      280       \n",
      "                                                                 \n",
      " conv2d_9 (Conv2D)           (None, 146, 146, 10)      910       \n",
      "                                                                 \n",
      " max_pooling2d_4 (MaxPooling  (None, 73, 73, 10)       0         \n",
      " 2D)                                                             \n",
      "                                                                 \n",
      " conv2d_10 (Conv2D)          (None, 71, 71, 10)        910       \n",
      "                                                                 \n",
      " conv2d_11 (Conv2D)          (None, 69, 69, 10)        910       \n",
      "                                                                 \n",
      " max_pooling2d_5 (MaxPooling  (None, 34, 34, 10)       0         \n",
      " 2D)                                                             \n",
      "                                                                 \n",
      " flatten_2 (Flatten)         (None, 11560)             0         \n",
      "                                                                 \n",
      " dense_2 (Dense)             (None, 1)                 11561     \n",
      "                                                                 \n",
      "=================================================================\n",
      "Total params: 14,571\n",
      "Trainable params: 14,571\n",
      "Non-trainable params: 0\n",
      "_________________________________________________________________\n"
     ]
    }
   ],
   "source": [
    "model_8.summary()"
   ]
  },
  {
   "cell_type": "code",
   "execution_count": 12,
   "id": "d1c70a7a",
   "metadata": {},
   "outputs": [
    {
     "name": "stdout",
     "output_type": "stream",
     "text": [
      "Epoch 1/100\n",
      "100/100 [==============================] - 39s 388ms/step - loss: 0.6905 - accuracy: 0.5250 - val_loss: 0.6819 - val_accuracy: 0.5786\n",
      "Epoch 2/100\n",
      "100/100 [==============================] - 40s 399ms/step - loss: 0.6830 - accuracy: 0.5610 - val_loss: 0.6938 - val_accuracy: 0.5062\n",
      "Epoch 3/100\n",
      "100/100 [==============================] - 43s 433ms/step - loss: 0.6770 - accuracy: 0.5720 - val_loss: 0.6575 - val_accuracy: 0.6047\n",
      "Epoch 4/100\n",
      "100/100 [==============================] - 42s 422ms/step - loss: 0.6660 - accuracy: 0.5905 - val_loss: 0.6353 - val_accuracy: 0.6372\n",
      "Epoch 5/100\n",
      "100/100 [==============================] - 46s 465ms/step - loss: 0.6508 - accuracy: 0.6130 - val_loss: 0.6254 - val_accuracy: 0.6708\n",
      "Epoch 6/100\n",
      "100/100 [==============================] - 44s 438ms/step - loss: 0.6383 - accuracy: 0.6300 - val_loss: 0.6598 - val_accuracy: 0.6072\n",
      "Epoch 7/100\n",
      "100/100 [==============================] - 40s 401ms/step - loss: 0.6231 - accuracy: 0.6450 - val_loss: 0.6035 - val_accuracy: 0.6459\n",
      "Epoch 8/100\n",
      "100/100 [==============================] - 40s 401ms/step - loss: 0.6066 - accuracy: 0.6700 - val_loss: 0.6721 - val_accuracy: 0.6197\n",
      "Epoch 9/100\n",
      "100/100 [==============================] - 48s 479ms/step - loss: 0.6002 - accuracy: 0.6805 - val_loss: 0.5910 - val_accuracy: 0.6671\n",
      "Epoch 10/100\n",
      "100/100 [==============================] - 64s 642ms/step - loss: 0.6009 - accuracy: 0.6725 - val_loss: 0.5670 - val_accuracy: 0.6945\n",
      "Epoch 11/100\n",
      "100/100 [==============================] - 55s 548ms/step - loss: 0.5827 - accuracy: 0.6785 - val_loss: 0.5867 - val_accuracy: 0.6758\n",
      "Epoch 12/100\n",
      "100/100 [==============================] - 60s 604ms/step - loss: 0.5747 - accuracy: 0.7025 - val_loss: 0.6135 - val_accuracy: 0.6708\n",
      "Epoch 13/100\n",
      "100/100 [==============================] - 61s 609ms/step - loss: 0.5770 - accuracy: 0.6855 - val_loss: 0.5637 - val_accuracy: 0.6995\n",
      "Epoch 14/100\n",
      "100/100 [==============================] - 65s 654ms/step - loss: 0.5736 - accuracy: 0.6920 - val_loss: 0.5559 - val_accuracy: 0.7007\n",
      "Epoch 15/100\n",
      "100/100 [==============================] - 66s 658ms/step - loss: 0.5768 - accuracy: 0.6885 - val_loss: 0.5375 - val_accuracy: 0.7232\n",
      "Epoch 16/100\n",
      "100/100 [==============================] - 55s 546ms/step - loss: 0.5560 - accuracy: 0.7025 - val_loss: 0.5544 - val_accuracy: 0.7282\n",
      "Epoch 17/100\n",
      "100/100 [==============================] - 55s 552ms/step - loss: 0.5522 - accuracy: 0.7120 - val_loss: 0.5366 - val_accuracy: 0.7257\n",
      "Epoch 18/100\n",
      "100/100 [==============================] - 55s 551ms/step - loss: 0.5470 - accuracy: 0.7070 - val_loss: 0.6094 - val_accuracy: 0.6820\n",
      "Epoch 19/100\n",
      "100/100 [==============================] - 57s 569ms/step - loss: 0.5345 - accuracy: 0.7275 - val_loss: 0.5450 - val_accuracy: 0.7107\n",
      "Epoch 20/100\n",
      "100/100 [==============================] - 57s 566ms/step - loss: 0.5365 - accuracy: 0.7280 - val_loss: 0.5605 - val_accuracy: 0.7120\n",
      "Epoch 21/100\n",
      "100/100 [==============================] - 62s 624ms/step - loss: 0.5324 - accuracy: 0.7290 - val_loss: 0.6230 - val_accuracy: 0.6933\n",
      "Epoch 22/100\n",
      "100/100 [==============================] - 58s 582ms/step - loss: 0.5221 - accuracy: 0.7320 - val_loss: 0.5462 - val_accuracy: 0.7257\n",
      "Epoch 23/100\n",
      "100/100 [==============================] - 55s 548ms/step - loss: 0.5238 - accuracy: 0.7435 - val_loss: 0.5269 - val_accuracy: 0.7431\n",
      "Epoch 24/100\n",
      "100/100 [==============================] - 51s 510ms/step - loss: 0.5185 - accuracy: 0.7415 - val_loss: 0.5353 - val_accuracy: 0.7357\n",
      "Epoch 25/100\n",
      "100/100 [==============================] - 50s 498ms/step - loss: 0.5289 - accuracy: 0.7320 - val_loss: 0.5388 - val_accuracy: 0.7170\n",
      "Epoch 26/100\n",
      " 74/100 [=====================>........] - ETA: 12s - loss: 0.5096 - accuracy: 0.7547"
     ]
    },
    {
     "ename": "KeyboardInterrupt",
     "evalue": "",
     "output_type": "error",
     "traceback": [
      "\u001b[1;31m---------------------------------------------------------------------------\u001b[0m",
      "\u001b[1;31mKeyboardInterrupt\u001b[0m                         Traceback (most recent call last)",
      "\u001b[1;32m~\\AppData\\Local\\Temp/ipykernel_9308/437222759.py\u001b[0m in \u001b[0;36m<module>\u001b[1;34m\u001b[0m\n\u001b[0;32m     16\u001b[0m               \u001b[0moptimizer\u001b[0m\u001b[1;33m=\u001b[0m\u001b[0mtf\u001b[0m\u001b[1;33m.\u001b[0m\u001b[0mkeras\u001b[0m\u001b[1;33m.\u001b[0m\u001b[0moptimizers\u001b[0m\u001b[1;33m.\u001b[0m\u001b[0mRMSprop\u001b[0m\u001b[1;33m(\u001b[0m\u001b[0mlr\u001b[0m\u001b[1;33m=\u001b[0m\u001b[1;36m1e-4\u001b[0m\u001b[1;33m)\u001b[0m\u001b[1;33m,\u001b[0m\u001b[1;33m\u001b[0m\u001b[1;33m\u001b[0m\u001b[0m\n\u001b[0;32m     17\u001b[0m               metrics=['accuracy'])\n\u001b[1;32m---> 18\u001b[1;33m history = model.fit(\n\u001b[0m\u001b[0;32m     19\u001b[0m       \u001b[0mtrain_generator\u001b[0m\u001b[1;33m,\u001b[0m  \u001b[1;31m# 2000 images = batch_size * steps\u001b[0m\u001b[1;33m\u001b[0m\u001b[1;33m\u001b[0m\u001b[0m\n\u001b[0;32m     20\u001b[0m       \u001b[0mepochs\u001b[0m\u001b[1;33m=\u001b[0m\u001b[1;36m100\u001b[0m\u001b[1;33m,\u001b[0m\u001b[1;33m\u001b[0m\u001b[1;33m\u001b[0m\u001b[0m\n",
      "\u001b[1;32mC:\\ProgramData\\Anaconda3\\lib\\site-packages\\keras\\utils\\traceback_utils.py\u001b[0m in \u001b[0;36merror_handler\u001b[1;34m(*args, **kwargs)\u001b[0m\n\u001b[0;32m     62\u001b[0m     \u001b[0mfiltered_tb\u001b[0m \u001b[1;33m=\u001b[0m \u001b[1;32mNone\u001b[0m\u001b[1;33m\u001b[0m\u001b[1;33m\u001b[0m\u001b[0m\n\u001b[0;32m     63\u001b[0m     \u001b[1;32mtry\u001b[0m\u001b[1;33m:\u001b[0m\u001b[1;33m\u001b[0m\u001b[1;33m\u001b[0m\u001b[0m\n\u001b[1;32m---> 64\u001b[1;33m       \u001b[1;32mreturn\u001b[0m \u001b[0mfn\u001b[0m\u001b[1;33m(\u001b[0m\u001b[1;33m*\u001b[0m\u001b[0margs\u001b[0m\u001b[1;33m,\u001b[0m \u001b[1;33m**\u001b[0m\u001b[0mkwargs\u001b[0m\u001b[1;33m)\u001b[0m\u001b[1;33m\u001b[0m\u001b[1;33m\u001b[0m\u001b[0m\n\u001b[0m\u001b[0;32m     65\u001b[0m     \u001b[1;32mexcept\u001b[0m \u001b[0mException\u001b[0m \u001b[1;32mas\u001b[0m \u001b[0me\u001b[0m\u001b[1;33m:\u001b[0m  \u001b[1;31m# pylint: disable=broad-except\u001b[0m\u001b[1;33m\u001b[0m\u001b[1;33m\u001b[0m\u001b[0m\n\u001b[0;32m     66\u001b[0m       \u001b[0mfiltered_tb\u001b[0m \u001b[1;33m=\u001b[0m \u001b[0m_process_traceback_frames\u001b[0m\u001b[1;33m(\u001b[0m\u001b[0me\u001b[0m\u001b[1;33m.\u001b[0m\u001b[0m__traceback__\u001b[0m\u001b[1;33m)\u001b[0m\u001b[1;33m\u001b[0m\u001b[1;33m\u001b[0m\u001b[0m\n",
      "\u001b[1;32mC:\\ProgramData\\Anaconda3\\lib\\site-packages\\keras\\engine\\training.py\u001b[0m in \u001b[0;36mfit\u001b[1;34m(self, x, y, batch_size, epochs, verbose, callbacks, validation_split, validation_data, shuffle, class_weight, sample_weight, initial_epoch, steps_per_epoch, validation_steps, validation_batch_size, validation_freq, max_queue_size, workers, use_multiprocessing)\u001b[0m\n\u001b[0;32m   1382\u001b[0m                 _r=1):\n\u001b[0;32m   1383\u001b[0m               \u001b[0mcallbacks\u001b[0m\u001b[1;33m.\u001b[0m\u001b[0mon_train_batch_begin\u001b[0m\u001b[1;33m(\u001b[0m\u001b[0mstep\u001b[0m\u001b[1;33m)\u001b[0m\u001b[1;33m\u001b[0m\u001b[1;33m\u001b[0m\u001b[0m\n\u001b[1;32m-> 1384\u001b[1;33m               \u001b[0mtmp_logs\u001b[0m \u001b[1;33m=\u001b[0m \u001b[0mself\u001b[0m\u001b[1;33m.\u001b[0m\u001b[0mtrain_function\u001b[0m\u001b[1;33m(\u001b[0m\u001b[0miterator\u001b[0m\u001b[1;33m)\u001b[0m\u001b[1;33m\u001b[0m\u001b[1;33m\u001b[0m\u001b[0m\n\u001b[0m\u001b[0;32m   1385\u001b[0m               \u001b[1;32mif\u001b[0m \u001b[0mdata_handler\u001b[0m\u001b[1;33m.\u001b[0m\u001b[0mshould_sync\u001b[0m\u001b[1;33m:\u001b[0m\u001b[1;33m\u001b[0m\u001b[1;33m\u001b[0m\u001b[0m\n\u001b[0;32m   1386\u001b[0m                 \u001b[0mcontext\u001b[0m\u001b[1;33m.\u001b[0m\u001b[0masync_wait\u001b[0m\u001b[1;33m(\u001b[0m\u001b[1;33m)\u001b[0m\u001b[1;33m\u001b[0m\u001b[1;33m\u001b[0m\u001b[0m\n",
      "\u001b[1;32mC:\\ProgramData\\Anaconda3\\lib\\site-packages\\tensorflow\\python\\util\\traceback_utils.py\u001b[0m in \u001b[0;36merror_handler\u001b[1;34m(*args, **kwargs)\u001b[0m\n\u001b[0;32m    148\u001b[0m     \u001b[0mfiltered_tb\u001b[0m \u001b[1;33m=\u001b[0m \u001b[1;32mNone\u001b[0m\u001b[1;33m\u001b[0m\u001b[1;33m\u001b[0m\u001b[0m\n\u001b[0;32m    149\u001b[0m     \u001b[1;32mtry\u001b[0m\u001b[1;33m:\u001b[0m\u001b[1;33m\u001b[0m\u001b[1;33m\u001b[0m\u001b[0m\n\u001b[1;32m--> 150\u001b[1;33m       \u001b[1;32mreturn\u001b[0m \u001b[0mfn\u001b[0m\u001b[1;33m(\u001b[0m\u001b[1;33m*\u001b[0m\u001b[0margs\u001b[0m\u001b[1;33m,\u001b[0m \u001b[1;33m**\u001b[0m\u001b[0mkwargs\u001b[0m\u001b[1;33m)\u001b[0m\u001b[1;33m\u001b[0m\u001b[1;33m\u001b[0m\u001b[0m\n\u001b[0m\u001b[0;32m    151\u001b[0m     \u001b[1;32mexcept\u001b[0m \u001b[0mException\u001b[0m \u001b[1;32mas\u001b[0m \u001b[0me\u001b[0m\u001b[1;33m:\u001b[0m\u001b[1;33m\u001b[0m\u001b[1;33m\u001b[0m\u001b[0m\n\u001b[0;32m    152\u001b[0m       \u001b[0mfiltered_tb\u001b[0m \u001b[1;33m=\u001b[0m \u001b[0m_process_traceback_frames\u001b[0m\u001b[1;33m(\u001b[0m\u001b[0me\u001b[0m\u001b[1;33m.\u001b[0m\u001b[0m__traceback__\u001b[0m\u001b[1;33m)\u001b[0m\u001b[1;33m\u001b[0m\u001b[1;33m\u001b[0m\u001b[0m\n",
      "\u001b[1;32mC:\\ProgramData\\Anaconda3\\lib\\site-packages\\tensorflow\\python\\eager\\def_function.py\u001b[0m in \u001b[0;36m__call__\u001b[1;34m(self, *args, **kwds)\u001b[0m\n\u001b[0;32m    913\u001b[0m \u001b[1;33m\u001b[0m\u001b[0m\n\u001b[0;32m    914\u001b[0m       \u001b[1;32mwith\u001b[0m \u001b[0mOptionalXlaContext\u001b[0m\u001b[1;33m(\u001b[0m\u001b[0mself\u001b[0m\u001b[1;33m.\u001b[0m\u001b[0m_jit_compile\u001b[0m\u001b[1;33m)\u001b[0m\u001b[1;33m:\u001b[0m\u001b[1;33m\u001b[0m\u001b[1;33m\u001b[0m\u001b[0m\n\u001b[1;32m--> 915\u001b[1;33m         \u001b[0mresult\u001b[0m \u001b[1;33m=\u001b[0m \u001b[0mself\u001b[0m\u001b[1;33m.\u001b[0m\u001b[0m_call\u001b[0m\u001b[1;33m(\u001b[0m\u001b[1;33m*\u001b[0m\u001b[0margs\u001b[0m\u001b[1;33m,\u001b[0m \u001b[1;33m**\u001b[0m\u001b[0mkwds\u001b[0m\u001b[1;33m)\u001b[0m\u001b[1;33m\u001b[0m\u001b[1;33m\u001b[0m\u001b[0m\n\u001b[0m\u001b[0;32m    916\u001b[0m \u001b[1;33m\u001b[0m\u001b[0m\n\u001b[0;32m    917\u001b[0m       \u001b[0mnew_tracing_count\u001b[0m \u001b[1;33m=\u001b[0m \u001b[0mself\u001b[0m\u001b[1;33m.\u001b[0m\u001b[0mexperimental_get_tracing_count\u001b[0m\u001b[1;33m(\u001b[0m\u001b[1;33m)\u001b[0m\u001b[1;33m\u001b[0m\u001b[1;33m\u001b[0m\u001b[0m\n",
      "\u001b[1;32mC:\\ProgramData\\Anaconda3\\lib\\site-packages\\tensorflow\\python\\eager\\def_function.py\u001b[0m in \u001b[0;36m_call\u001b[1;34m(self, *args, **kwds)\u001b[0m\n\u001b[0;32m    945\u001b[0m       \u001b[1;31m# In this case we have created variables on the first call, so we run the\u001b[0m\u001b[1;33m\u001b[0m\u001b[1;33m\u001b[0m\u001b[0m\n\u001b[0;32m    946\u001b[0m       \u001b[1;31m# defunned version which is guaranteed to never create variables.\u001b[0m\u001b[1;33m\u001b[0m\u001b[1;33m\u001b[0m\u001b[0m\n\u001b[1;32m--> 947\u001b[1;33m       \u001b[1;32mreturn\u001b[0m \u001b[0mself\u001b[0m\u001b[1;33m.\u001b[0m\u001b[0m_stateless_fn\u001b[0m\u001b[1;33m(\u001b[0m\u001b[1;33m*\u001b[0m\u001b[0margs\u001b[0m\u001b[1;33m,\u001b[0m \u001b[1;33m**\u001b[0m\u001b[0mkwds\u001b[0m\u001b[1;33m)\u001b[0m  \u001b[1;31m# pylint: disable=not-callable\u001b[0m\u001b[1;33m\u001b[0m\u001b[1;33m\u001b[0m\u001b[0m\n\u001b[0m\u001b[0;32m    948\u001b[0m     \u001b[1;32melif\u001b[0m \u001b[0mself\u001b[0m\u001b[1;33m.\u001b[0m\u001b[0m_stateful_fn\u001b[0m \u001b[1;32mis\u001b[0m \u001b[1;32mnot\u001b[0m \u001b[1;32mNone\u001b[0m\u001b[1;33m:\u001b[0m\u001b[1;33m\u001b[0m\u001b[1;33m\u001b[0m\u001b[0m\n\u001b[0;32m    949\u001b[0m       \u001b[1;31m# Release the lock early so that multiple threads can perform the call\u001b[0m\u001b[1;33m\u001b[0m\u001b[1;33m\u001b[0m\u001b[0m\n",
      "\u001b[1;32mC:\\ProgramData\\Anaconda3\\lib\\site-packages\\tensorflow\\python\\eager\\function.py\u001b[0m in \u001b[0;36m__call__\u001b[1;34m(self, *args, **kwargs)\u001b[0m\n\u001b[0;32m   2954\u001b[0m       (graph_function,\n\u001b[0;32m   2955\u001b[0m        filtered_flat_args) = self._maybe_define_function(args, kwargs)\n\u001b[1;32m-> 2956\u001b[1;33m     return graph_function._call_flat(\n\u001b[0m\u001b[0;32m   2957\u001b[0m         filtered_flat_args, captured_inputs=graph_function.captured_inputs)  # pylint: disable=protected-access\n\u001b[0;32m   2958\u001b[0m \u001b[1;33m\u001b[0m\u001b[0m\n",
      "\u001b[1;32mC:\\ProgramData\\Anaconda3\\lib\\site-packages\\tensorflow\\python\\eager\\function.py\u001b[0m in \u001b[0;36m_call_flat\u001b[1;34m(self, args, captured_inputs, cancellation_manager)\u001b[0m\n\u001b[0;32m   1851\u001b[0m         and executing_eagerly):\n\u001b[0;32m   1852\u001b[0m       \u001b[1;31m# No tape is watching; skip to running the function.\u001b[0m\u001b[1;33m\u001b[0m\u001b[1;33m\u001b[0m\u001b[0m\n\u001b[1;32m-> 1853\u001b[1;33m       return self._build_call_outputs(self._inference_function.call(\n\u001b[0m\u001b[0;32m   1854\u001b[0m           ctx, args, cancellation_manager=cancellation_manager))\n\u001b[0;32m   1855\u001b[0m     forward_backward = self._select_forward_and_backward_functions(\n",
      "\u001b[1;32mC:\\ProgramData\\Anaconda3\\lib\\site-packages\\tensorflow\\python\\eager\\function.py\u001b[0m in \u001b[0;36mcall\u001b[1;34m(self, ctx, args, cancellation_manager)\u001b[0m\n\u001b[0;32m    497\u001b[0m       \u001b[1;32mwith\u001b[0m \u001b[0m_InterpolateFunctionError\u001b[0m\u001b[1;33m(\u001b[0m\u001b[0mself\u001b[0m\u001b[1;33m)\u001b[0m\u001b[1;33m:\u001b[0m\u001b[1;33m\u001b[0m\u001b[1;33m\u001b[0m\u001b[0m\n\u001b[0;32m    498\u001b[0m         \u001b[1;32mif\u001b[0m \u001b[0mcancellation_manager\u001b[0m \u001b[1;32mis\u001b[0m \u001b[1;32mNone\u001b[0m\u001b[1;33m:\u001b[0m\u001b[1;33m\u001b[0m\u001b[1;33m\u001b[0m\u001b[0m\n\u001b[1;32m--> 499\u001b[1;33m           outputs = execute.execute(\n\u001b[0m\u001b[0;32m    500\u001b[0m               \u001b[0mstr\u001b[0m\u001b[1;33m(\u001b[0m\u001b[0mself\u001b[0m\u001b[1;33m.\u001b[0m\u001b[0msignature\u001b[0m\u001b[1;33m.\u001b[0m\u001b[0mname\u001b[0m\u001b[1;33m)\u001b[0m\u001b[1;33m,\u001b[0m\u001b[1;33m\u001b[0m\u001b[1;33m\u001b[0m\u001b[0m\n\u001b[0;32m    501\u001b[0m               \u001b[0mnum_outputs\u001b[0m\u001b[1;33m=\u001b[0m\u001b[0mself\u001b[0m\u001b[1;33m.\u001b[0m\u001b[0m_num_outputs\u001b[0m\u001b[1;33m,\u001b[0m\u001b[1;33m\u001b[0m\u001b[1;33m\u001b[0m\u001b[0m\n",
      "\u001b[1;32mC:\\ProgramData\\Anaconda3\\lib\\site-packages\\tensorflow\\python\\eager\\execute.py\u001b[0m in \u001b[0;36mquick_execute\u001b[1;34m(op_name, num_outputs, inputs, attrs, ctx, name)\u001b[0m\n\u001b[0;32m     52\u001b[0m   \u001b[1;32mtry\u001b[0m\u001b[1;33m:\u001b[0m\u001b[1;33m\u001b[0m\u001b[1;33m\u001b[0m\u001b[0m\n\u001b[0;32m     53\u001b[0m     \u001b[0mctx\u001b[0m\u001b[1;33m.\u001b[0m\u001b[0mensure_initialized\u001b[0m\u001b[1;33m(\u001b[0m\u001b[1;33m)\u001b[0m\u001b[1;33m\u001b[0m\u001b[1;33m\u001b[0m\u001b[0m\n\u001b[1;32m---> 54\u001b[1;33m     tensors = pywrap_tfe.TFE_Py_Execute(ctx._handle, device_name, op_name,\n\u001b[0m\u001b[0;32m     55\u001b[0m                                         inputs, attrs, num_outputs)\n\u001b[0;32m     56\u001b[0m   \u001b[1;32mexcept\u001b[0m \u001b[0mcore\u001b[0m\u001b[1;33m.\u001b[0m\u001b[0m_NotOkStatusException\u001b[0m \u001b[1;32mas\u001b[0m \u001b[0me\u001b[0m\u001b[1;33m:\u001b[0m\u001b[1;33m\u001b[0m\u001b[1;33m\u001b[0m\u001b[0m\n",
      "\u001b[1;31mKeyboardInterrupt\u001b[0m: "
     ]
    }
   ],
   "source": [
    "model = tf.keras.models.Sequential([\n",
    "    tf.keras.layers.Conv2D(32, (3,3), activation='relu', input_shape=(150, 150, 3)),\n",
    "    tf.keras.layers.MaxPooling2D(2, 2),\n",
    "    tf.keras.layers.Conv2D(64, (3,3), activation='relu'),\n",
    "    tf.keras.layers.MaxPooling2D(2,2),\n",
    "    tf.keras.layers.Conv2D(128, (3,3), activation='relu'),\n",
    "    tf.keras.layers.MaxPooling2D(2,2),\n",
    "    tf.keras.layers.Conv2D(128, (3,3), activation='relu'),\n",
    "    tf.keras.layers.MaxPooling2D(2,2),\n",
    "    tf.keras.layers.Flatten(),\n",
    "    tf.keras.layers.Dense(512, activation='relu'),\n",
    "    tf.keras.layers.Dense(1, activation='sigmoid')\n",
    "])\n",
    "\n",
    "model.compile(loss='binary_crossentropy',\n",
    "              optimizer=tf.keras.optimizers.RMSprop(lr=1e-4),\n",
    "              metrics=['accuracy'])\n",
    "history = model.fit(\n",
    "      train_generator,  # 2000 images = batch_size * steps\n",
    "      epochs=100,\n",
    "      validation_data=validation_generator,\n",
    "      callbacks=[create_checkpoint_callback(model.name),es_cb])"
   ]
  },
  {
   "cell_type": "code",
   "execution_count": null,
   "id": "1e91053b",
   "metadata": {},
   "outputs": [],
   "source": [
    "acc = history.history['accuracy']\n",
    "val_acc = history.history['val_accuracy']\n",
    "loss = history.history['loss']\n",
    "val_loss = history.history['val_loss']\n",
    "\n",
    "epochs = range(len(acc))\n",
    "\n",
    "plt.plot(epochs, acc, 'bo', label='Training accuracy')\n",
    "plt.plot(epochs, val_acc, 'b', label='Validation accuracy')\n",
    "plt.title('Training and validation accuracy')\n",
    "\n",
    "plt.figure()\n",
    "\n",
    "plt.plot(epochs, loss, 'bo', label='Training Loss')\n",
    "plt.plot(epochs, val_loss, 'b', label='Validation Loss')\n",
    "plt.title('Training and validation loss')\n",
    "plt.legend()\n",
    "\n",
    "plt.show()"
   ]
  },
  {
   "cell_type": "code",
   "execution_count": 13,
   "id": "45600e4f",
   "metadata": {},
   "outputs": [],
   "source": [
    "from tensorflow.keras.applications.inception_v3 import InceptionV3\n",
    "pre_trained_model = InceptionV3(input_shape = (150, 150, 3), \n",
    "                                include_top = False, # Remove dense layer before CONV layers\n",
    "                                weights = None)"
   ]
  },
  {
   "cell_type": "code",
   "execution_count": 14,
   "id": "0cc63974",
   "metadata": {},
   "outputs": [
    {
     "name": "stdout",
     "output_type": "stream",
     "text": [
      "last layer output shape:  (None, 7, 7, 768)\n"
     ]
    }
   ],
   "source": [
    "pre_trained_model.trainable=False\n",
    "pre_trained_model.load_weights('inception_v3_weights_tf_dim_ordering_tf_kernels_notop.h5')\n",
    "# Choose which layer from the full inception network will be your last layer.\n",
    "# Here we're choosing mixed7, which outputs a bunch of 7 x 7 convolutions.\n",
    "last_layer = pre_trained_model.get_layer('mixed7')\n",
    "print('last layer output shape: ', last_layer.output_shape)\n",
    "last_output = last_layer.output"
   ]
  },
  {
   "cell_type": "code",
   "execution_count": 16,
   "id": "ae0b16dc",
   "metadata": {},
   "outputs": [],
   "source": [
    "\n",
    "# Flatten the output layer to 1 dimension\n",
    "x = layers.Flatten()(last_output)\n",
    "# Add a fully connected layer with 1,024 hidden units and ReLU activation\n",
    "x = layers.Dense(1024, activation='relu')(x)\n",
    "# Add a dropout rate of 0.2\n",
    "x = layers.Dropout(0.2)(x) # Provide fraction of neurons to drop.                 \n",
    "# Add a final sigmoid layer for classification\n",
    "x = layers.Dense  (1, activation='sigmoid')(x)           \n",
    "\n",
    "model = tf.keras.Model( pre_trained_model.input, x) \n",
    "\n",
    "model.compile(optimizer = tf.keras.optimizers.RMSprop(lr=0.0001), \n",
    "              loss = 'binary_crossentropy', \n",
    "              metrics = ['accuracy'])"
   ]
  },
  {
   "cell_type": "code",
   "execution_count": 17,
   "id": "23aa5b06",
   "metadata": {},
   "outputs": [
    {
     "name": "stdout",
     "output_type": "stream",
     "text": [
      "Epoch 1/20\n",
      "100/100 [==============================] - 73s 708ms/step - loss: 0.3225 - accuracy: 0.8745 - val_loss: 0.1229 - val_accuracy: 0.9501\n",
      "Epoch 2/20\n",
      "100/100 [==============================] - 70s 701ms/step - loss: 0.2137 - accuracy: 0.9195 - val_loss: 0.1224 - val_accuracy: 0.9464\n",
      "Epoch 3/20\n",
      "100/100 [==============================] - 68s 678ms/step - loss: 0.2096 - accuracy: 0.9180 - val_loss: 0.1077 - val_accuracy: 0.9651\n",
      "Epoch 4/20\n",
      "100/100 [==============================] - 68s 680ms/step - loss: 0.1966 - accuracy: 0.9305 - val_loss: 0.1754 - val_accuracy: 0.9526\n",
      "Epoch 5/20\n",
      "100/100 [==============================] - 66s 664ms/step - loss: 0.1721 - accuracy: 0.9410 - val_loss: 0.1182 - val_accuracy: 0.9601\n",
      "Epoch 6/20\n",
      "100/100 [==============================] - 67s 672ms/step - loss: 0.1774 - accuracy: 0.9360 - val_loss: 0.1108 - val_accuracy: 0.9638\n",
      "Epoch 7/20\n",
      "100/100 [==============================] - 66s 658ms/step - loss: 0.1821 - accuracy: 0.9335 - val_loss: 0.1100 - val_accuracy: 0.9626\n",
      "Epoch 8/20\n",
      "100/100 [==============================] - 67s 670ms/step - loss: 0.1645 - accuracy: 0.9380 - val_loss: 0.1317 - val_accuracy: 0.9564\n",
      "Epoch 9/20\n",
      "100/100 [==============================] - 68s 682ms/step - loss: 0.1841 - accuracy: 0.9375 - val_loss: 0.1183 - val_accuracy: 0.9651\n",
      "Epoch 10/20\n",
      "100/100 [==============================] - 69s 686ms/step - loss: 0.1538 - accuracy: 0.9445 - val_loss: 0.1123 - val_accuracy: 0.9613\n",
      "Epoch 11/20\n",
      "100/100 [==============================] - 68s 675ms/step - loss: 0.1641 - accuracy: 0.9460 - val_loss: 0.1077 - val_accuracy: 0.9688\n",
      "Epoch 12/20\n",
      "100/100 [==============================] - 67s 668ms/step - loss: 0.1546 - accuracy: 0.9510 - val_loss: 0.1437 - val_accuracy: 0.9626\n",
      "Epoch 13/20\n",
      "100/100 [==============================] - 67s 673ms/step - loss: 0.1278 - accuracy: 0.9520 - val_loss: 0.1696 - val_accuracy: 0.9601\n",
      "Epoch 14/20\n",
      "100/100 [==============================] - 68s 677ms/step - loss: 0.1211 - accuracy: 0.9630 - val_loss: 0.1530 - val_accuracy: 0.9676\n",
      "Epoch 15/20\n",
      "100/100 [==============================] - 68s 676ms/step - loss: 0.1492 - accuracy: 0.9560 - val_loss: 0.1770 - val_accuracy: 0.9576\n",
      "Epoch 16/20\n",
      "100/100 [==============================] - 67s 673ms/step - loss: 0.1506 - accuracy: 0.9475 - val_loss: 0.1286 - val_accuracy: 0.9638\n",
      "Epoch 17/20\n",
      "100/100 [==============================] - 68s 678ms/step - loss: 0.1203 - accuracy: 0.9565 - val_loss: 0.1195 - val_accuracy: 0.9663\n",
      "Epoch 18/20\n",
      "100/100 [==============================] - 68s 683ms/step - loss: 0.1201 - accuracy: 0.9545 - val_loss: 0.1637 - val_accuracy: 0.9638\n",
      "Epoch 19/20\n",
      "100/100 [==============================] - 68s 679ms/step - loss: 0.1216 - accuracy: 0.9615 - val_loss: 0.1307 - val_accuracy: 0.9626\n",
      "Epoch 20/20\n",
      "100/100 [==============================] - 67s 670ms/step - loss: 0.1263 - accuracy: 0.9570 - val_loss: 0.1680 - val_accuracy: 0.9514\n"
     ]
    }
   ],
   "source": [
    "history = model.fit(\n",
    "            train_generator,\n",
    "            validation_data = validation_generator,\n",
    "            epochs = 20,\n",
    "            callbacks=[create_checkpoint_callback(model.name),es_cb]\n",
    ")"
   ]
  },
  {
   "cell_type": "markdown",
   "id": "2d2a0583",
   "metadata": {},
   "source": [
    "# EXAM"
   ]
  },
  {
   "cell_type": "code",
   "execution_count": 11,
   "id": "60949ce2",
   "metadata": {},
   "outputs": [],
   "source": [
    "fashion_mnist = tf.keras.datasets.fashion_mnist"
   ]
  },
  {
   "cell_type": "code",
   "execution_count": 21,
   "id": "1e200229",
   "metadata": {},
   "outputs": [],
   "source": [
    "(train_data, train_labels), (test_data, test_labels) = fashion_mnist.load_data()"
   ]
  },
  {
   "cell_type": "code",
   "execution_count": 13,
   "id": "610860a5",
   "metadata": {},
   "outputs": [
    {
     "data": {
      "text/plain": [
       "((60000, 28, 28), (60000,), (10000, 28, 28), (10000,))"
      ]
     },
     "execution_count": 13,
     "metadata": {},
     "output_type": "execute_result"
    }
   ],
   "source": [
    "train_data.shape, train_labels.shape, test_data.shape, test_labels.shape"
   ]
  },
  {
   "cell_type": "code",
   "execution_count": 14,
   "id": "b2b8d7fd",
   "metadata": {},
   "outputs": [
    {
     "data": {
      "text/plain": [
       "((28, 28), ())"
      ]
     },
     "execution_count": 14,
     "metadata": {},
     "output_type": "execute_result"
    }
   ],
   "source": [
    "train_data[0].shape, train_labels[0].shape"
   ]
  },
  {
   "cell_type": "code",
   "execution_count": 24,
   "id": "134d2024",
   "metadata": {},
   "outputs": [
    {
     "name": "stdout",
     "output_type": "stream",
     "text": [
      "Epoch 1/20\n",
      "1875/1875 [==============================] - 3s 1ms/step - loss: 0.5605 - accuracy: 0.8054 - val_loss: 0.4533 - val_accuracy: 0.8377\n",
      "Epoch 2/20\n",
      "1875/1875 [==============================] - 3s 2ms/step - loss: 0.4079 - accuracy: 0.8550 - val_loss: 0.4748 - val_accuracy: 0.8415\n",
      "Epoch 3/20\n",
      "1875/1875 [==============================] - 3s 2ms/step - loss: 0.3789 - accuracy: 0.8641 - val_loss: 0.3972 - val_accuracy: 0.8572\n",
      "Epoch 4/20\n",
      "1875/1875 [==============================] - 3s 2ms/step - loss: 0.3553 - accuracy: 0.8728 - val_loss: 0.3936 - val_accuracy: 0.8615\n",
      "Epoch 5/20\n",
      "1875/1875 [==============================] - 4s 2ms/step - loss: 0.3411 - accuracy: 0.8778 - val_loss: 0.4118 - val_accuracy: 0.8510\n",
      "Epoch 6/20\n",
      "1875/1875 [==============================] - 4s 2ms/step - loss: 0.3278 - accuracy: 0.8814 - val_loss: 0.3960 - val_accuracy: 0.8558\n",
      "Epoch 7/20\n",
      "1875/1875 [==============================] - 3s 2ms/step - loss: 0.3196 - accuracy: 0.8852 - val_loss: 0.4047 - val_accuracy: 0.8542\n",
      "Epoch 8/20\n",
      "1875/1875 [==============================] - 3s 2ms/step - loss: 0.3089 - accuracy: 0.8883 - val_loss: 0.3727 - val_accuracy: 0.8685\n",
      "Epoch 9/20\n",
      "1875/1875 [==============================] - 3s 2ms/step - loss: 0.3018 - accuracy: 0.8888 - val_loss: 0.3591 - val_accuracy: 0.8730\n",
      "Epoch 10/20\n",
      "1875/1875 [==============================] - 3s 2ms/step - loss: 0.2949 - accuracy: 0.8921 - val_loss: 0.3593 - val_accuracy: 0.8726\n",
      "Epoch 11/20\n",
      "1875/1875 [==============================] - 3s 2ms/step - loss: 0.2888 - accuracy: 0.8936 - val_loss: 0.3576 - val_accuracy: 0.8709\n",
      "Epoch 12/20\n",
      "1875/1875 [==============================] - 3s 2ms/step - loss: 0.2833 - accuracy: 0.8967 - val_loss: 0.3567 - val_accuracy: 0.8729\n",
      "Epoch 13/20\n",
      "1875/1875 [==============================] - 3s 2ms/step - loss: 0.2790 - accuracy: 0.8973 - val_loss: 0.3558 - val_accuracy: 0.8741\n",
      "Epoch 14/20\n",
      "1875/1875 [==============================] - 3s 2ms/step - loss: 0.2733 - accuracy: 0.9002 - val_loss: 0.3558 - val_accuracy: 0.8726\n",
      "Epoch 15/20\n",
      "1875/1875 [==============================] - 3s 2ms/step - loss: 0.2702 - accuracy: 0.9003 - val_loss: 0.3592 - val_accuracy: 0.8733\n",
      "Epoch 16/20\n",
      "1875/1875 [==============================] - 3s 2ms/step - loss: 0.2654 - accuracy: 0.9026 - val_loss: 0.3735 - val_accuracy: 0.8710\n",
      "Epoch 17/20\n",
      "1875/1875 [==============================] - 3s 2ms/step - loss: 0.2615 - accuracy: 0.9041 - val_loss: 0.3559 - val_accuracy: 0.8761\n",
      "Epoch 18/20\n",
      "1875/1875 [==============================] - 3s 2ms/step - loss: 0.2593 - accuracy: 0.9039 - val_loss: 0.3539 - val_accuracy: 0.8784\n",
      "Epoch 19/20\n",
      "1875/1875 [==============================] - 3s 2ms/step - loss: 0.2560 - accuracy: 0.9053 - val_loss: 0.3685 - val_accuracy: 0.8682\n",
      "Epoch 20/20\n",
      "1875/1875 [==============================] - 3s 1ms/step - loss: 0.2514 - accuracy: 0.9083 - val_loss: 0.3669 - val_accuracy: 0.8711\n"
     ]
    }
   ],
   "source": [
    "# Set random seed\n",
    "tf.random.set_seed(42)\n",
    "(train_data, train_labels), (test_data, test_labels) = fashion_mnist.load_data()\n",
    "train_data = train_data / 255.0\n",
    "test_data = test_data / 255.0\n",
    "# Create the model\n",
    "model_14 = tf.keras.Sequential([\n",
    "  tf.keras.layers.Flatten(input_shape=(28, 28)), # input layer (we had to reshape 28x28 to 784)\n",
    "  tf.keras.layers.Dense(32, activation=\"relu\"),\n",
    "  tf.keras.layers.Dense(16, activation=\"relu\"),\n",
    "  tf.keras.layers.Dense(10, activation=\"softmax\") # output shape is 10, activation is softmax\n",
    "])\n",
    "\n",
    "# Compile the model\n",
    "model_14.compile(loss=tf.keras.losses.SparseCategoricalCrossentropy(),\n",
    "                 optimizer=tf.keras.optimizers.Adam(lr=0.001), # ideal learning rate (same as default)\n",
    "                 metrics=[\"accuracy\"])\n",
    "\n",
    "# Fit the model\n",
    "history = model_14.fit(train_data,\n",
    "                       train_labels,\n",
    "                       epochs=20,\n",
    "                       validation_data=(test_data, test_labels),\n",
    "                       callbacks=[es_cb,create_checkpoint_callback(model_1.name)]\n",
    "                      )"
   ]
  },
  {
   "cell_type": "code",
   "execution_count": null,
   "id": "319e8851",
   "metadata": {},
   "outputs": [],
   "source": []
  },
  {
   "cell_type": "code",
   "execution_count": null,
   "id": "1415a0ed",
   "metadata": {},
   "outputs": [],
   "source": []
  }
 ],
 "metadata": {
  "kernelspec": {
   "display_name": "Python 3 (ipykernel)",
   "language": "python",
   "name": "python3"
  },
  "language_info": {
   "codemirror_mode": {
    "name": "ipython",
    "version": 3
   },
   "file_extension": ".py",
   "mimetype": "text/x-python",
   "name": "python",
   "nbconvert_exporter": "python",
   "pygments_lexer": "ipython3",
   "version": "3.9.7"
  }
 },
 "nbformat": 4,
 "nbformat_minor": 5
}
