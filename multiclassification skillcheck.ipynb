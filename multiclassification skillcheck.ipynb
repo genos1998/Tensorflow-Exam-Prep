{
 "cells": [
  {
   "cell_type": "code",
   "execution_count": 31,
   "id": "27c89dc5",
   "metadata": {},
   "outputs": [],
   "source": [
    "from sklearn.datasets import load_iris\n",
    "import tensorflow as tf\n",
    "from sklearn.model_selection import train_test_split\n",
    "from tensorflow.keras import layers\n",
    "from tensorflow.keras.callbacks import EarlyStopping\n",
    "import pandas as pd\n",
    "import matplotlib.pyplot as plt\n",
    "from sklearn.preprocessing import LabelEncoder,MinMaxScaler\n",
    "import numpy as np\n",
    "from sklearn.metrics import accuracy_score"
   ]
  },
  {
   "cell_type": "code",
   "execution_count": 8,
   "id": "07f4cec2",
   "metadata": {},
   "outputs": [],
   "source": [
    "class LearningRateReducerCb(tf.keras.callbacks.Callback):\n",
    "\n",
    "  def on_epoch_end(self, epoch, logs={}):\n",
    "    old_lr = self.model.optimizer.lr.read_value()\n",
    "    new_lr = old_lr * 0.99\n",
    "    print(\"\\nEpoch: {}. Reducing Learning Rate from {} to {}\".format(epoch, old_lr, new_lr))\n",
    "    self.model.optimizer.lr.assign(new_lr)\n",
    "    \n",
    "def create_checkpoint_callback(model_name):\n",
    "  return tf.keras.callbacks.ModelCheckpoint(filepath=f\"{model_name}/checkpoint.ckpt\",\n",
    "                                                          #  monitor=\"val_accuracy\",\n",
    "                                                           save_best_only=True,\n",
    "                                                           save_weights_only=True,\n",
    "                                                           save_freq=\"epoch\")\n",
    "\n",
    "es_cb = EarlyStopping(monitor='val_loss', patience=10)"
   ]
  },
  {
   "cell_type": "code",
   "execution_count": 5,
   "id": "ef3107e6",
   "metadata": {},
   "outputs": [
    {
     "data": {
      "text/html": [
       "<div>\n",
       "<style scoped>\n",
       "    .dataframe tbody tr th:only-of-type {\n",
       "        vertical-align: middle;\n",
       "    }\n",
       "\n",
       "    .dataframe tbody tr th {\n",
       "        vertical-align: top;\n",
       "    }\n",
       "\n",
       "    .dataframe thead th {\n",
       "        text-align: right;\n",
       "    }\n",
       "</style>\n",
       "<table border=\"1\" class=\"dataframe\">\n",
       "  <thead>\n",
       "    <tr style=\"text-align: right;\">\n",
       "      <th></th>\n",
       "      <th>sepalLength</th>\n",
       "      <th>sepalWidth</th>\n",
       "      <th>petalLength</th>\n",
       "      <th>petalWidth</th>\n",
       "      <th>species</th>\n",
       "    </tr>\n",
       "  </thead>\n",
       "  <tbody>\n",
       "    <tr>\n",
       "      <th>0</th>\n",
       "      <td>5.1</td>\n",
       "      <td>3.5</td>\n",
       "      <td>1.4</td>\n",
       "      <td>0.2</td>\n",
       "      <td>setosa</td>\n",
       "    </tr>\n",
       "    <tr>\n",
       "      <th>1</th>\n",
       "      <td>4.9</td>\n",
       "      <td>3.0</td>\n",
       "      <td>1.4</td>\n",
       "      <td>0.2</td>\n",
       "      <td>setosa</td>\n",
       "    </tr>\n",
       "    <tr>\n",
       "      <th>2</th>\n",
       "      <td>4.7</td>\n",
       "      <td>3.2</td>\n",
       "      <td>1.3</td>\n",
       "      <td>0.2</td>\n",
       "      <td>setosa</td>\n",
       "    </tr>\n",
       "    <tr>\n",
       "      <th>3</th>\n",
       "      <td>4.6</td>\n",
       "      <td>3.1</td>\n",
       "      <td>1.5</td>\n",
       "      <td>0.2</td>\n",
       "      <td>setosa</td>\n",
       "    </tr>\n",
       "    <tr>\n",
       "      <th>4</th>\n",
       "      <td>5.0</td>\n",
       "      <td>3.6</td>\n",
       "      <td>1.4</td>\n",
       "      <td>0.2</td>\n",
       "      <td>setosa</td>\n",
       "    </tr>\n",
       "    <tr>\n",
       "      <th>...</th>\n",
       "      <td>...</td>\n",
       "      <td>...</td>\n",
       "      <td>...</td>\n",
       "      <td>...</td>\n",
       "      <td>...</td>\n",
       "    </tr>\n",
       "    <tr>\n",
       "      <th>145</th>\n",
       "      <td>6.7</td>\n",
       "      <td>3.0</td>\n",
       "      <td>5.2</td>\n",
       "      <td>2.3</td>\n",
       "      <td>virginica</td>\n",
       "    </tr>\n",
       "    <tr>\n",
       "      <th>146</th>\n",
       "      <td>6.3</td>\n",
       "      <td>2.5</td>\n",
       "      <td>5.0</td>\n",
       "      <td>1.9</td>\n",
       "      <td>virginica</td>\n",
       "    </tr>\n",
       "    <tr>\n",
       "      <th>147</th>\n",
       "      <td>6.5</td>\n",
       "      <td>3.0</td>\n",
       "      <td>5.2</td>\n",
       "      <td>2.0</td>\n",
       "      <td>virginica</td>\n",
       "    </tr>\n",
       "    <tr>\n",
       "      <th>148</th>\n",
       "      <td>6.2</td>\n",
       "      <td>3.4</td>\n",
       "      <td>5.4</td>\n",
       "      <td>2.3</td>\n",
       "      <td>virginica</td>\n",
       "    </tr>\n",
       "    <tr>\n",
       "      <th>149</th>\n",
       "      <td>5.9</td>\n",
       "      <td>3.0</td>\n",
       "      <td>5.1</td>\n",
       "      <td>1.8</td>\n",
       "      <td>virginica</td>\n",
       "    </tr>\n",
       "  </tbody>\n",
       "</table>\n",
       "<p>150 rows × 5 columns</p>\n",
       "</div>"
      ],
      "text/plain": [
       "     sepalLength  sepalWidth  petalLength  petalWidth    species\n",
       "0            5.1         3.5          1.4         0.2     setosa\n",
       "1            4.9         3.0          1.4         0.2     setosa\n",
       "2            4.7         3.2          1.3         0.2     setosa\n",
       "3            4.6         3.1          1.5         0.2     setosa\n",
       "4            5.0         3.6          1.4         0.2     setosa\n",
       "..           ...         ...          ...         ...        ...\n",
       "145          6.7         3.0          5.2         2.3  virginica\n",
       "146          6.3         2.5          5.0         1.9  virginica\n",
       "147          6.5         3.0          5.2         2.0  virginica\n",
       "148          6.2         3.4          5.4         2.3  virginica\n",
       "149          5.9         3.0          5.1         1.8  virginica\n",
       "\n",
       "[150 rows x 5 columns]"
      ]
     },
     "execution_count": 5,
     "metadata": {},
     "output_type": "execute_result"
    }
   ],
   "source": [
    "data = pd.read_json(\"iris.json\")\n",
    "data"
   ]
  },
  {
   "cell_type": "code",
   "execution_count": 6,
   "id": "c1cf58f3",
   "metadata": {},
   "outputs": [],
   "source": [
    "x=data.drop(['species'],axis=1)\n",
    "y=data['species']"
   ]
  },
  {
   "cell_type": "code",
   "execution_count": 9,
   "id": "185fccb0",
   "metadata": {},
   "outputs": [],
   "source": [
    "minmax=MinMaxScaler()\n",
    "minmax.fit(x)\n",
    "x=minmax.transform(x)"
   ]
  },
  {
   "cell_type": "code",
   "execution_count": 11,
   "id": "9a3772c5",
   "metadata": {},
   "outputs": [],
   "source": [
    "le=LabelEncoder()\n",
    "le.fit(y)\n",
    "y=le.transform(y)"
   ]
  },
  {
   "cell_type": "code",
   "execution_count": 15,
   "id": "550f91c5",
   "metadata": {},
   "outputs": [],
   "source": [
    "X_train, X_test, y_train, y_test=train_test_split(x,y,test_size=20,shuffle=True,random_state=42)"
   ]
  },
  {
   "cell_type": "code",
   "execution_count": 18,
   "id": "24b39a13",
   "metadata": {},
   "outputs": [
    {
     "name": "stdout",
     "output_type": "stream",
     "text": [
      "Epoch 1/200\n",
      "5/5 [==============================] - 0s 31ms/step - loss: 2.3086 - accuracy: 0.3385 - val_loss: 2.2424 - val_accuracy: 0.3000\n",
      "Epoch 2/200\n",
      "5/5 [==============================] - 0s 13ms/step - loss: 2.2192 - accuracy: 0.3385 - val_loss: 2.1619 - val_accuracy: 0.3000\n",
      "Epoch 3/200\n",
      "5/5 [==============================] - 0s 13ms/step - loss: 2.1370 - accuracy: 0.3385 - val_loss: 2.0871 - val_accuracy: 0.3000\n",
      "Epoch 4/200\n",
      "5/5 [==============================] - 0s 14ms/step - loss: 2.0580 - accuracy: 0.3385 - val_loss: 2.0120 - val_accuracy: 0.3000\n",
      "Epoch 5/200\n",
      "5/5 [==============================] - 0s 13ms/step - loss: 1.9797 - accuracy: 0.3385 - val_loss: 1.9346 - val_accuracy: 0.3000\n",
      "Epoch 6/200\n",
      "5/5 [==============================] - 0s 13ms/step - loss: 1.9013 - accuracy: 0.3385 - val_loss: 1.8563 - val_accuracy: 0.3000\n",
      "Epoch 7/200\n",
      "5/5 [==============================] - 0s 12ms/step - loss: 1.8205 - accuracy: 0.3692 - val_loss: 1.7751 - val_accuracy: 0.4000\n",
      "Epoch 8/200\n",
      "5/5 [==============================] - 0s 13ms/step - loss: 1.7396 - accuracy: 0.4462 - val_loss: 1.6933 - val_accuracy: 0.4500\n",
      "Epoch 9/200\n",
      "5/5 [==============================] - 0s 14ms/step - loss: 1.6600 - accuracy: 0.5846 - val_loss: 1.6131 - val_accuracy: 0.5000\n",
      "Epoch 10/200\n",
      "5/5 [==============================] - 0s 13ms/step - loss: 1.5808 - accuracy: 0.6846 - val_loss: 1.5370 - val_accuracy: 0.5500\n",
      "Epoch 11/200\n",
      "5/5 [==============================] - 0s 13ms/step - loss: 1.5041 - accuracy: 0.6846 - val_loss: 1.4629 - val_accuracy: 0.5500\n",
      "Epoch 12/200\n",
      "5/5 [==============================] - 0s 14ms/step - loss: 1.4286 - accuracy: 0.6923 - val_loss: 1.3899 - val_accuracy: 0.5500\n",
      "Epoch 13/200\n",
      "5/5 [==============================] - 0s 16ms/step - loss: 1.3571 - accuracy: 0.6923 - val_loss: 1.3221 - val_accuracy: 0.5500\n",
      "Epoch 14/200\n",
      "5/5 [==============================] - 0s 12ms/step - loss: 1.2897 - accuracy: 0.6846 - val_loss: 1.2585 - val_accuracy: 0.5500\n",
      "Epoch 15/200\n",
      "5/5 [==============================] - 0s 15ms/step - loss: 1.2282 - accuracy: 0.6846 - val_loss: 1.2004 - val_accuracy: 0.5500\n",
      "Epoch 16/200\n",
      "5/5 [==============================] - 0s 13ms/step - loss: 1.1708 - accuracy: 0.6846 - val_loss: 1.1538 - val_accuracy: 0.5500\n",
      "Epoch 17/200\n",
      "5/5 [==============================] - 0s 13ms/step - loss: 1.1190 - accuracy: 0.6846 - val_loss: 1.1124 - val_accuracy: 0.5500\n",
      "Epoch 18/200\n",
      "5/5 [==============================] - 0s 13ms/step - loss: 1.0705 - accuracy: 0.6846 - val_loss: 1.0709 - val_accuracy: 0.5500\n",
      "Epoch 19/200\n",
      "5/5 [==============================] - 0s 12ms/step - loss: 1.0280 - accuracy: 0.6846 - val_loss: 1.0348 - val_accuracy: 0.5500\n",
      "Epoch 20/200\n",
      "5/5 [==============================] - 0s 11ms/step - loss: 0.9894 - accuracy: 0.6846 - val_loss: 1.0064 - val_accuracy: 0.5500\n",
      "Epoch 21/200\n",
      "5/5 [==============================] - 0s 12ms/step - loss: 0.9553 - accuracy: 0.6846 - val_loss: 0.9791 - val_accuracy: 0.5500\n",
      "Epoch 22/200\n",
      "5/5 [==============================] - 0s 12ms/step - loss: 0.9230 - accuracy: 0.6846 - val_loss: 0.9578 - val_accuracy: 0.5500\n",
      "Epoch 23/200\n",
      "5/5 [==============================] - 0s 13ms/step - loss: 0.8956 - accuracy: 0.6846 - val_loss: 0.9352 - val_accuracy: 0.5500\n",
      "Epoch 24/200\n",
      "5/5 [==============================] - 0s 12ms/step - loss: 0.8684 - accuracy: 0.6846 - val_loss: 0.9156 - val_accuracy: 0.5500\n",
      "Epoch 25/200\n",
      "5/5 [==============================] - 0s 13ms/step - loss: 0.8437 - accuracy: 0.6846 - val_loss: 0.8913 - val_accuracy: 0.5500\n",
      "Epoch 26/200\n",
      "5/5 [==============================] - 0s 13ms/step - loss: 0.8196 - accuracy: 0.6846 - val_loss: 0.8700 - val_accuracy: 0.5500\n",
      "Epoch 27/200\n",
      "5/5 [==============================] - 0s 13ms/step - loss: 0.7965 - accuracy: 0.6846 - val_loss: 0.8461 - val_accuracy: 0.5500\n",
      "Epoch 28/200\n",
      "5/5 [==============================] - 0s 13ms/step - loss: 0.7750 - accuracy: 0.6846 - val_loss: 0.8278 - val_accuracy: 0.5500\n",
      "Epoch 29/200\n",
      "5/5 [==============================] - 0s 13ms/step - loss: 0.7561 - accuracy: 0.6846 - val_loss: 0.8184 - val_accuracy: 0.5500\n",
      "Epoch 30/200\n",
      "5/5 [==============================] - 0s 13ms/step - loss: 0.7389 - accuracy: 0.6846 - val_loss: 0.8070 - val_accuracy: 0.5500\n",
      "Epoch 31/200\n",
      "5/5 [==============================] - 0s 14ms/step - loss: 0.7211 - accuracy: 0.6846 - val_loss: 0.7893 - val_accuracy: 0.5500\n",
      "Epoch 32/200\n",
      "5/5 [==============================] - 0s 16ms/step - loss: 0.7038 - accuracy: 0.6846 - val_loss: 0.7693 - val_accuracy: 0.5500\n",
      "Epoch 33/200\n",
      "5/5 [==============================] - 0s 17ms/step - loss: 0.6847 - accuracy: 0.6846 - val_loss: 0.7383 - val_accuracy: 0.5500\n",
      "Epoch 34/200\n",
      "5/5 [==============================] - 0s 15ms/step - loss: 0.6678 - accuracy: 0.6846 - val_loss: 0.7160 - val_accuracy: 0.5500\n",
      "Epoch 35/200\n",
      "5/5 [==============================] - 0s 13ms/step - loss: 0.6528 - accuracy: 0.6846 - val_loss: 0.6972 - val_accuracy: 0.5500\n",
      "Epoch 36/200\n",
      "5/5 [==============================] - 0s 12ms/step - loss: 0.6379 - accuracy: 0.6846 - val_loss: 0.6847 - val_accuracy: 0.5500\n",
      "Epoch 37/200\n",
      "5/5 [==============================] - 0s 12ms/step - loss: 0.6247 - accuracy: 0.6846 - val_loss: 0.6726 - val_accuracy: 0.5500\n",
      "Epoch 38/200\n",
      "5/5 [==============================] - 0s 14ms/step - loss: 0.6120 - accuracy: 0.6846 - val_loss: 0.6631 - val_accuracy: 0.5500\n",
      "Epoch 39/200\n",
      "5/5 [==============================] - 0s 14ms/step - loss: 0.6006 - accuracy: 0.6846 - val_loss: 0.6592 - val_accuracy: 0.5500\n",
      "Epoch 40/200\n",
      "5/5 [==============================] - 0s 13ms/step - loss: 0.5903 - accuracy: 0.6846 - val_loss: 0.6531 - val_accuracy: 0.5500\n",
      "Epoch 41/200\n",
      "5/5 [==============================] - 0s 13ms/step - loss: 0.5798 - accuracy: 0.6846 - val_loss: 0.6488 - val_accuracy: 0.5500\n",
      "Epoch 42/200\n",
      "5/5 [==============================] - 0s 14ms/step - loss: 0.5700 - accuracy: 0.6846 - val_loss: 0.6325 - val_accuracy: 0.5500\n",
      "Epoch 43/200\n",
      "5/5 [==============================] - 0s 14ms/step - loss: 0.5587 - accuracy: 0.6923 - val_loss: 0.6091 - val_accuracy: 0.5500\n",
      "Epoch 44/200\n",
      "5/5 [==============================] - 0s 14ms/step - loss: 0.5483 - accuracy: 0.7308 - val_loss: 0.5905 - val_accuracy: 0.7000\n",
      "Epoch 45/200\n",
      "5/5 [==============================] - 0s 13ms/step - loss: 0.5412 - accuracy: 0.7769 - val_loss: 0.5751 - val_accuracy: 0.7500\n",
      "Epoch 46/200\n",
      "5/5 [==============================] - 0s 14ms/step - loss: 0.5332 - accuracy: 0.8538 - val_loss: 0.5652 - val_accuracy: 0.8000\n",
      "Epoch 47/200\n",
      "5/5 [==============================] - 0s 13ms/step - loss: 0.5256 - accuracy: 0.8692 - val_loss: 0.5599 - val_accuracy: 0.7500\n",
      "Epoch 48/200\n",
      "5/5 [==============================] - 0s 7ms/step - loss: 0.5180 - accuracy: 0.7923 - val_loss: 0.5665 - val_accuracy: 0.6000\n",
      "Epoch 49/200\n",
      "5/5 [==============================] - 0s 7ms/step - loss: 0.5117 - accuracy: 0.7308 - val_loss: 0.5719 - val_accuracy: 0.5500\n",
      "Epoch 50/200\n",
      "5/5 [==============================] - 0s 8ms/step - loss: 0.5054 - accuracy: 0.7231 - val_loss: 0.5628 - val_accuracy: 0.5500\n",
      "Epoch 51/200\n",
      "5/5 [==============================] - 0s 15ms/step - loss: 0.4981 - accuracy: 0.7308 - val_loss: 0.5512 - val_accuracy: 0.5500\n",
      "Epoch 52/200\n",
      "5/5 [==============================] - 0s 13ms/step - loss: 0.4920 - accuracy: 0.7385 - val_loss: 0.5411 - val_accuracy: 0.7000\n",
      "Epoch 53/200\n",
      "5/5 [==============================] - 0s 12ms/step - loss: 0.4852 - accuracy: 0.7538 - val_loss: 0.5361 - val_accuracy: 0.7000\n",
      "Epoch 54/200\n",
      "5/5 [==============================] - 0s 13ms/step - loss: 0.4797 - accuracy: 0.7692 - val_loss: 0.5299 - val_accuracy: 0.7000\n",
      "Epoch 55/200\n",
      "5/5 [==============================] - 0s 7ms/step - loss: 0.4747 - accuracy: 0.7538 - val_loss: 0.5338 - val_accuracy: 0.6000\n",
      "Epoch 56/200\n",
      "5/5 [==============================] - 0s 6ms/step - loss: 0.4699 - accuracy: 0.7308 - val_loss: 0.5393 - val_accuracy: 0.5500\n",
      "Epoch 57/200\n",
      "5/5 [==============================] - 0s 8ms/step - loss: 0.4684 - accuracy: 0.7231 - val_loss: 0.5363 - val_accuracy: 0.5500\n",
      "Epoch 58/200\n",
      "5/5 [==============================] - 0s 13ms/step - loss: 0.4616 - accuracy: 0.7385 - val_loss: 0.5194 - val_accuracy: 0.7000\n",
      "Epoch 59/200\n",
      "5/5 [==============================] - 0s 11ms/step - loss: 0.4549 - accuracy: 0.7538 - val_loss: 0.5103 - val_accuracy: 0.7000\n",
      "Epoch 60/200\n",
      "5/5 [==============================] - 0s 12ms/step - loss: 0.4502 - accuracy: 0.7923 - val_loss: 0.4998 - val_accuracy: 0.7000\n",
      "Epoch 61/200\n",
      "5/5 [==============================] - 0s 11ms/step - loss: 0.4447 - accuracy: 0.8077 - val_loss: 0.4990 - val_accuracy: 0.7000\n",
      "Epoch 62/200\n",
      "5/5 [==============================] - 0s 5ms/step - loss: 0.4413 - accuracy: 0.7769 - val_loss: 0.5091 - val_accuracy: 0.6500\n",
      "Epoch 63/200\n",
      "5/5 [==============================] - 0s 7ms/step - loss: 0.4411 - accuracy: 0.7308 - val_loss: 0.5198 - val_accuracy: 0.5500\n",
      "Epoch 64/200\n",
      "5/5 [==============================] - 0s 7ms/step - loss: 0.4394 - accuracy: 0.7308 - val_loss: 0.5108 - val_accuracy: 0.6000\n",
      "Epoch 65/200\n",
      "5/5 [==============================] - 0s 13ms/step - loss: 0.4330 - accuracy: 0.7385 - val_loss: 0.4989 - val_accuracy: 0.7000\n",
      "Epoch 66/200\n",
      "5/5 [==============================] - 0s 13ms/step - loss: 0.4275 - accuracy: 0.7615 - val_loss: 0.4848 - val_accuracy: 0.7000\n",
      "Epoch 67/200\n",
      "5/5 [==============================] - 0s 13ms/step - loss: 0.4220 - accuracy: 0.8308 - val_loss: 0.4563 - val_accuracy: 0.8500\n",
      "Epoch 68/200\n",
      "5/5 [==============================] - 0s 13ms/step - loss: 0.4154 - accuracy: 0.9538 - val_loss: 0.4409 - val_accuracy: 0.9500\n",
      "Epoch 69/200\n",
      "5/5 [==============================] - 0s 13ms/step - loss: 0.4143 - accuracy: 0.9615 - val_loss: 0.4339 - val_accuracy: 0.9500\n",
      "Epoch 70/200\n",
      "5/5 [==============================] - 0s 7ms/step - loss: 0.4102 - accuracy: 0.9615 - val_loss: 0.4367 - val_accuracy: 0.9500\n",
      "Epoch 71/200\n",
      "5/5 [==============================] - 0s 9ms/step - loss: 0.4044 - accuracy: 0.9538 - val_loss: 0.4464 - val_accuracy: 0.8500\n",
      "Epoch 72/200\n",
      "5/5 [==============================] - 0s 7ms/step - loss: 0.4019 - accuracy: 0.8846 - val_loss: 0.4648 - val_accuracy: 0.7000\n",
      "Epoch 73/200\n",
      "5/5 [==============================] - 0s 8ms/step - loss: 0.4012 - accuracy: 0.8000 - val_loss: 0.4717 - val_accuracy: 0.7000\n",
      "Epoch 74/200\n",
      "5/5 [==============================] - 0s 7ms/step - loss: 0.3993 - accuracy: 0.7769 - val_loss: 0.4588 - val_accuracy: 0.7000\n",
      "Epoch 75/200\n",
      "5/5 [==============================] - 0s 6ms/step - loss: 0.3914 - accuracy: 0.8692 - val_loss: 0.4353 - val_accuracy: 0.8500\n",
      "Epoch 76/200\n",
      "5/5 [==============================] - 0s 13ms/step - loss: 0.3866 - accuracy: 0.9231 - val_loss: 0.4294 - val_accuracy: 0.8500\n",
      "Epoch 77/200\n",
      "5/5 [==============================] - 0s 14ms/step - loss: 0.3830 - accuracy: 0.9308 - val_loss: 0.4208 - val_accuracy: 0.9000\n",
      "Epoch 78/200\n",
      "5/5 [==============================] - 0s 13ms/step - loss: 0.3784 - accuracy: 0.9538 - val_loss: 0.4054 - val_accuracy: 0.9500\n",
      "Epoch 79/200\n",
      "5/5 [==============================] - 0s 11ms/step - loss: 0.3776 - accuracy: 0.9615 - val_loss: 0.3982 - val_accuracy: 0.9500\n",
      "Epoch 80/200\n",
      "5/5 [==============================] - 0s 8ms/step - loss: 0.3743 - accuracy: 0.9615 - val_loss: 0.4006 - val_accuracy: 0.9500\n",
      "Epoch 81/200\n",
      "5/5 [==============================] - 0s 7ms/step - loss: 0.3698 - accuracy: 0.9538 - val_loss: 0.4091 - val_accuracy: 0.9000\n",
      "Epoch 82/200\n",
      "5/5 [==============================] - 0s 8ms/step - loss: 0.3673 - accuracy: 0.9231 - val_loss: 0.4254 - val_accuracy: 0.8000\n",
      "Epoch 83/200\n",
      "5/5 [==============================] - 0s 6ms/step - loss: 0.3680 - accuracy: 0.8615 - val_loss: 0.4318 - val_accuracy: 0.8000\n",
      "Epoch 84/200\n",
      "5/5 [==============================] - 0s 7ms/step - loss: 0.3664 - accuracy: 0.8538 - val_loss: 0.4260 - val_accuracy: 0.8000\n",
      "Epoch 85/200\n",
      "5/5 [==============================] - 0s 8ms/step - loss: 0.3614 - accuracy: 0.8846 - val_loss: 0.4050 - val_accuracy: 0.8500\n",
      "Epoch 86/200\n",
      "5/5 [==============================] - 0s 15ms/step - loss: 0.3531 - accuracy: 0.9462 - val_loss: 0.3845 - val_accuracy: 0.9500\n",
      "Epoch 87/200\n",
      "5/5 [==============================] - 0s 14ms/step - loss: 0.3504 - accuracy: 0.9615 - val_loss: 0.3692 - val_accuracy: 0.9500\n",
      "Epoch 88/200\n",
      "5/5 [==============================] - 0s 13ms/step - loss: 0.3499 - accuracy: 0.9769 - val_loss: 0.3645 - val_accuracy: 0.9500\n",
      "Epoch 89/200\n",
      "5/5 [==============================] - 0s 13ms/step - loss: 0.3476 - accuracy: 0.9692 - val_loss: 0.3585 - val_accuracy: 0.9500\n",
      "Epoch 90/200\n",
      "5/5 [==============================] - 0s 11ms/step - loss: 0.3474 - accuracy: 0.9692 - val_loss: 0.3483 - val_accuracy: 0.9500\n",
      "Epoch 91/200\n",
      "5/5 [==============================] - 0s 15ms/step - loss: 0.3486 - accuracy: 0.9615 - val_loss: 0.3430 - val_accuracy: 0.9500\n",
      "Epoch 92/200\n",
      "5/5 [==============================] - 0s 14ms/step - loss: 0.3466 - accuracy: 0.9462 - val_loss: 0.3416 - val_accuracy: 0.9500\n",
      "Epoch 93/200\n",
      "5/5 [==============================] - 0s 7ms/step - loss: 0.3405 - accuracy: 0.9615 - val_loss: 0.3440 - val_accuracy: 0.9500\n",
      "Epoch 94/200\n",
      "5/5 [==============================] - 0s 8ms/step - loss: 0.3335 - accuracy: 0.9692 - val_loss: 0.3494 - val_accuracy: 0.9500\n",
      "Epoch 95/200\n",
      "5/5 [==============================] - 0s 9ms/step - loss: 0.3314 - accuracy: 0.9692 - val_loss: 0.3590 - val_accuracy: 0.9500\n",
      "Epoch 96/200\n",
      "5/5 [==============================] - 0s 9ms/step - loss: 0.3249 - accuracy: 0.9538 - val_loss: 0.3560 - val_accuracy: 0.9500\n",
      "Epoch 97/200\n",
      "5/5 [==============================] - 0s 8ms/step - loss: 0.3233 - accuracy: 0.9615 - val_loss: 0.3454 - val_accuracy: 0.9500\n",
      "Epoch 98/200\n",
      "5/5 [==============================] - 0s 8ms/step - loss: 0.3198 - accuracy: 0.9692 - val_loss: 0.3530 - val_accuracy: 0.9000\n",
      "Epoch 99/200\n",
      "5/5 [==============================] - 0s 7ms/step - loss: 0.3167 - accuracy: 0.9538 - val_loss: 0.3563 - val_accuracy: 0.9000\n",
      "Epoch 100/200\n",
      "5/5 [==============================] - 0s 7ms/step - loss: 0.3153 - accuracy: 0.9538 - val_loss: 0.3602 - val_accuracy: 0.9000\n",
      "Epoch 101/200\n",
      "5/5 [==============================] - 0s 6ms/step - loss: 0.3132 - accuracy: 0.9462 - val_loss: 0.3542 - val_accuracy: 0.9000\n",
      "Epoch 102/200\n",
      "5/5 [==============================] - 0s 14ms/step - loss: 0.3094 - accuracy: 0.9538 - val_loss: 0.3403 - val_accuracy: 0.9500\n",
      "Epoch 103/200\n",
      "5/5 [==============================] - 0s 14ms/step - loss: 0.3068 - accuracy: 0.9615 - val_loss: 0.3319 - val_accuracy: 0.9500\n",
      "Epoch 104/200\n",
      "5/5 [==============================] - 0s 7ms/step - loss: 0.3040 - accuracy: 0.9615 - val_loss: 0.3325 - val_accuracy: 0.9500\n",
      "Epoch 105/200\n",
      "5/5 [==============================] - 0s 7ms/step - loss: 0.3020 - accuracy: 0.9615 - val_loss: 0.3390 - val_accuracy: 0.9000\n",
      "Epoch 106/200\n",
      "5/5 [==============================] - 0s 8ms/step - loss: 0.2995 - accuracy: 0.9538 - val_loss: 0.3477 - val_accuracy: 0.9000\n",
      "Epoch 107/200\n",
      "5/5 [==============================] - 0s 8ms/step - loss: 0.3003 - accuracy: 0.9462 - val_loss: 0.3607 - val_accuracy: 0.8500\n",
      "Epoch 108/200\n",
      "5/5 [==============================] - 0s 8ms/step - loss: 0.3012 - accuracy: 0.9308 - val_loss: 0.3674 - val_accuracy: 0.8500\n",
      "Epoch 109/200\n",
      "5/5 [==============================] - 0s 7ms/step - loss: 0.3013 - accuracy: 0.9308 - val_loss: 0.3633 - val_accuracy: 0.8500\n",
      "Epoch 110/200\n",
      "5/5 [==============================] - 0s 7ms/step - loss: 0.2980 - accuracy: 0.9308 - val_loss: 0.3532 - val_accuracy: 0.9000\n",
      "Epoch 111/200\n",
      "5/5 [==============================] - 0s 13ms/step - loss: 0.2929 - accuracy: 0.9385 - val_loss: 0.3271 - val_accuracy: 0.9000\n",
      "Epoch 112/200\n",
      "5/5 [==============================] - 0s 13ms/step - loss: 0.2869 - accuracy: 0.9615 - val_loss: 0.3038 - val_accuracy: 0.9500\n",
      "Epoch 113/200\n",
      "5/5 [==============================] - 0s 15ms/step - loss: 0.2846 - accuracy: 0.9692 - val_loss: 0.2982 - val_accuracy: 0.9500\n",
      "Epoch 114/200\n",
      "5/5 [==============================] - 0s 7ms/step - loss: 0.2827 - accuracy: 0.9692 - val_loss: 0.2989 - val_accuracy: 0.9500\n",
      "Epoch 115/200\n",
      "5/5 [==============================] - 0s 14ms/step - loss: 0.2798 - accuracy: 0.9692 - val_loss: 0.2909 - val_accuracy: 0.9500\n",
      "Epoch 116/200\n",
      "5/5 [==============================] - 0s 12ms/step - loss: 0.2790 - accuracy: 0.9692 - val_loss: 0.2846 - val_accuracy: 0.9500\n",
      "Epoch 117/200\n"
     ]
    },
    {
     "name": "stdout",
     "output_type": "stream",
     "text": [
      "5/5 [==============================] - 0s 6ms/step - loss: 0.2774 - accuracy: 0.9692 - val_loss: 0.2882 - val_accuracy: 0.9500\n",
      "Epoch 118/200\n",
      "5/5 [==============================] - 0s 7ms/step - loss: 0.2729 - accuracy: 0.9769 - val_loss: 0.2961 - val_accuracy: 0.9500\n",
      "Epoch 119/200\n",
      "5/5 [==============================] - 0s 7ms/step - loss: 0.2697 - accuracy: 0.9692 - val_loss: 0.3064 - val_accuracy: 0.9500\n",
      "Epoch 120/200\n",
      "5/5 [==============================] - 0s 8ms/step - loss: 0.2690 - accuracy: 0.9538 - val_loss: 0.3036 - val_accuracy: 0.9500\n",
      "Epoch 121/200\n",
      "5/5 [==============================] - 0s 9ms/step - loss: 0.2665 - accuracy: 0.9538 - val_loss: 0.2972 - val_accuracy: 0.9500\n",
      "Epoch 122/200\n",
      "5/5 [==============================] - 0s 8ms/step - loss: 0.2642 - accuracy: 0.9615 - val_loss: 0.2973 - val_accuracy: 0.9500\n",
      "Epoch 123/200\n",
      "5/5 [==============================] - 0s 8ms/step - loss: 0.2624 - accuracy: 0.9615 - val_loss: 0.2936 - val_accuracy: 0.9500\n",
      "Epoch 124/200\n",
      "5/5 [==============================] - 0s 14ms/step - loss: 0.2600 - accuracy: 0.9615 - val_loss: 0.2777 - val_accuracy: 0.9500\n",
      "Epoch 125/200\n",
      "5/5 [==============================] - 0s 12ms/step - loss: 0.2574 - accuracy: 0.9692 - val_loss: 0.2590 - val_accuracy: 0.9500\n",
      "Epoch 126/200\n",
      "5/5 [==============================] - 0s 12ms/step - loss: 0.2658 - accuracy: 0.9615 - val_loss: 0.2484 - val_accuracy: 0.9500\n",
      "Epoch 127/200\n",
      "5/5 [==============================] - 0s 8ms/step - loss: 0.2676 - accuracy: 0.9538 - val_loss: 0.2513 - val_accuracy: 0.9500\n",
      "Epoch 128/200\n",
      "5/5 [==============================] - 0s 8ms/step - loss: 0.2575 - accuracy: 0.9615 - val_loss: 0.2606 - val_accuracy: 0.9500\n",
      "Epoch 129/200\n",
      "5/5 [==============================] - 0s 7ms/step - loss: 0.2499 - accuracy: 0.9692 - val_loss: 0.2715 - val_accuracy: 0.9500\n",
      "Epoch 130/200\n",
      "5/5 [==============================] - 0s 8ms/step - loss: 0.2479 - accuracy: 0.9769 - val_loss: 0.2799 - val_accuracy: 0.9500\n",
      "Epoch 131/200\n",
      "5/5 [==============================] - 0s 8ms/step - loss: 0.2470 - accuracy: 0.9615 - val_loss: 0.2794 - val_accuracy: 0.9500\n",
      "Epoch 132/200\n",
      "5/5 [==============================] - 0s 8ms/step - loss: 0.2447 - accuracy: 0.9615 - val_loss: 0.2693 - val_accuracy: 0.9500\n",
      "Epoch 133/200\n",
      "5/5 [==============================] - 0s 8ms/step - loss: 0.2423 - accuracy: 0.9769 - val_loss: 0.2685 - val_accuracy: 0.9500\n",
      "Epoch 134/200\n",
      "5/5 [==============================] - 0s 10ms/step - loss: 0.2410 - accuracy: 0.9692 - val_loss: 0.2769 - val_accuracy: 0.9500\n",
      "Epoch 135/200\n",
      "5/5 [==============================] - 0s 10ms/step - loss: 0.2402 - accuracy: 0.9615 - val_loss: 0.2719 - val_accuracy: 0.9500\n",
      "Epoch 136/200\n",
      "5/5 [==============================] - 0s 8ms/step - loss: 0.2362 - accuracy: 0.9615 - val_loss: 0.2488 - val_accuracy: 0.9500\n"
     ]
    }
   ],
   "source": [
    "model_0 = tf.keras.Sequential([\n",
    "  layers.Dense(100, activation=\"relu\"),\n",
    "  layers.Dense(10, activation=\"softmax\")\n",
    "],name='multiclassification')\n",
    "# Compile the model\n",
    "model_0.compile(\n",
    "    loss=tf.keras.losses.SparseCategoricalCrossentropy(),\n",
    "    optimizer=tf.keras.optimizers.Adam(),\n",
    "    metrics=[\"accuracy\"]\n",
    ")\n",
    "# Fit the model\n",
    "model_0_history = model_0.fit(x=X_train, \n",
    "                              y=y_train,\n",
    "                              validation_data=(X_test, y_test),\n",
    "                              epochs=200,\n",
    "                             callbacks=[create_checkpoint_callback(model_0.name),es_cb])"
   ]
  },
  {
   "cell_type": "code",
   "execution_count": 19,
   "id": "ece3223d",
   "metadata": {},
   "outputs": [
    {
     "name": "stdout",
     "output_type": "stream",
     "text": [
      "Model: \"multiclassification\"\n",
      "_________________________________________________________________\n",
      " Layer (type)                Output Shape              Param #   \n",
      "=================================================================\n",
      " dense_2 (Dense)             (None, 100)               500       \n",
      "                                                                 \n",
      " dense_3 (Dense)             (None, 10)                1010      \n",
      "                                                                 \n",
      "=================================================================\n",
      "Total params: 1,510\n",
      "Trainable params: 1,510\n",
      "Non-trainable params: 0\n",
      "_________________________________________________________________\n"
     ]
    }
   ],
   "source": [
    "model_0.summary()"
   ]
  },
  {
   "cell_type": "code",
   "execution_count": 20,
   "id": "014157ef",
   "metadata": {},
   "outputs": [
    {
     "name": "stdout",
     "output_type": "stream",
     "text": [
      "1/1 [==============================] - 0s 17ms/step - loss: 0.2484 - accuracy: 0.9500\n"
     ]
    },
    {
     "data": {
      "text/plain": [
       "[0.24844102561473846, 0.949999988079071]"
      ]
     },
     "execution_count": 20,
     "metadata": {},
     "output_type": "execute_result"
    }
   ],
   "source": [
    "# Load best model and evaluate on test data\n",
    "model_0.load_weights(\"multiclassification/checkpoint.ckpt\")\n",
    "model_0.evaluate(X_test, y_test)"
   ]
  },
  {
   "cell_type": "code",
   "execution_count": 21,
   "id": "45ba0c6c",
   "metadata": {},
   "outputs": [
    {
     "data": {
      "image/png": "[encoded data removed]",
      "text/plain": [
       "<Figure size 432x288 with 1 Axes>"
      ]
     },
     "metadata": {
      "needs_background": "light"
     },
     "output_type": "display_data"
    }
   ],
   "source": [
    "pd.DataFrame(model_0_history.history).plot()\n",
    "plt.ylabel(\"loss\")\n",
    "plt.xlabel(\"epochs\");"
   ]
  },
  {
   "cell_type": "code",
   "execution_count": 22,
   "id": "100bef13",
   "metadata": {},
   "outputs": [
    {
     "name": "stdout",
     "output_type": "stream",
     "text": [
      "INFO:tensorflow:Assets written to: multiclassification/Model_0.pb\\assets\n"
     ]
    }
   ],
   "source": [
    "model_0.save(\"multiclassification/Model_0.h5\")\n",
    "model_0.save(\"multiclassification/Model_0.pb\")"
   ]
  },
  {
   "cell_type": "code",
   "execution_count": 32,
   "id": "c5c94005",
   "metadata": {},
   "outputs": [
    {
     "data": {
      "text/plain": [
       "0.95"
      ]
     },
     "execution_count": 32,
     "metadata": {},
     "output_type": "execute_result"
    }
   ],
   "source": [
    "model_0_pred_prob = model_0.predict(X_test)\n",
    "model_0_pred=tf.argmax(model_0_pred_prob, axis=1)\n",
    "model_0_accuracy = accuracy_score(y_true=y_test, y_pred=model_0_pred)\n",
    "model_0_accuracy"
   ]
  },
  {
   "cell_type": "code",
   "execution_count": 33,
   "id": "78a3d392",
   "metadata": {},
   "outputs": [
    {
     "data": {
      "text/plain": [
       "(0.9583333333333334, 0.95, 0.9508021390374332)"
      ]
     },
     "execution_count": 33,
     "metadata": {},
     "output_type": "execute_result"
    }
   ],
   "source": [
    "from sklearn.metrics import precision_recall_fscore_support\n",
    "\n",
    "model_0_precision, model_0_recall, model_0_f1, _ = precision_recall_fscore_support(y_true=y_test,\n",
    "                                                                                y_pred=model_0_pred,\n",
    "                                                                                average=\"weighted\")\n",
    "model_0_precision, model_0_recall, model_0_f1"
   ]
  },
  {
   "cell_type": "code",
   "execution_count": 34,
   "id": "caf66a2f",
   "metadata": {},
   "outputs": [
    {
     "data": {
      "text/plain": [
       "{'accuracy': 0.95,\n",
       " 'precision': 0.9583333333333334,\n",
       " 'recall': 0.95,\n",
       " 'f1': 0.9508021390374332}"
      ]
     },
     "execution_count": 34,
     "metadata": {},
     "output_type": "execute_result"
    }
   ],
   "source": [
    "model_0_results = {\n",
    "    \"accuracy\": model_0_accuracy,\n",
    "    \"precision\": model_0_precision,\n",
    "    \"recall\": model_0_recall,\n",
    "    \"f1\": model_0_f1\n",
    "}\n",
    "\n",
    "model_0_results"
   ]
  },
  {
   "cell_type": "code",
   "execution_count": 37,
   "id": "e05c346d",
   "metadata": {},
   "outputs": [
    {
     "data": {
      "text/plain": [
       "array([1, 0, 2, 1, 1, 0, 1, 2, 1, 1, 2, 0, 0, 0, 0, 1, 2, 1, 1, 2])"
      ]
     },
     "execution_count": 37,
     "metadata": {},
     "output_type": "execute_result"
    }
   ],
   "source": [
    "y_test"
   ]
  },
  {
   "cell_type": "code",
   "execution_count": 39,
   "id": "51400398",
   "metadata": {},
   "outputs": [
    {
     "data": {
      "text/plain": [
       "array([1, 0, 2, 1, 1, 0, 1, 2, 2, 1, 2, 0, 0, 0, 0, 1, 2, 1, 1, 2],\n",
       "      dtype=int64)"
      ]
     },
     "execution_count": 39,
     "metadata": {},
     "output_type": "execute_result"
    }
   ],
   "source": [
    "model_0_preds = model_0.predict(X_test)\n",
    "model_0_preds=tf.argmax(model_0_preds, axis=1)\n",
    "model_0_preds.numpy()"
   ]
  },
  {
   "cell_type": "code",
   "execution_count": 40,
   "id": "6f517b86",
   "metadata": {},
   "outputs": [
    {
     "data": {
      "text/plain": [
       "array(['versicolor', 'setosa', 'virginica', 'versicolor', 'versicolor',\n",
       "       'setosa', 'versicolor', 'virginica', 'virginica', 'versicolor',\n",
       "       'virginica', 'setosa', 'setosa', 'setosa', 'setosa', 'versicolor',\n",
       "       'virginica', 'versicolor', 'versicolor', 'virginica'], dtype=object)"
      ]
     },
     "execution_count": 40,
     "metadata": {},
     "output_type": "execute_result"
    }
   ],
   "source": [
    "le.inverse_transform(model_0_preds)"
   ]
  }
 ],
 "metadata": {
  "kernelspec": {
   "display_name": "Python 3 (ipykernel)",
   "language": "python",
   "name": "python3"
  },
  "language_info": {
   "codemirror_mode": {
    "name": "ipython",
    "version": 3
   },
   "file_extension": ".py",
   "mimetype": "text/x-python",
   "name": "python",
   "nbconvert_exporter": "python",
   "pygments_lexer": "ipython3",
   "version": "3.9.7"
  }
 },
 "nbformat": 4,
 "nbformat_minor": 5
}
